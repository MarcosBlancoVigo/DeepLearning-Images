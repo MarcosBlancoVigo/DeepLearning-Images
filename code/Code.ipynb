{
 "cells": [
  {
   "cell_type": "code",
   "execution_count": 4,
   "id": "e1862075-8add-4685-8688-4dd011706a96",
   "metadata": {},
   "outputs": [],
   "source": [
    "### LIBRERÍAS\n",
    "\n",
    "import os\n",
    "import glob\n",
    "import numpy as np\n",
    "from tqdm import tqdm\n",
    "from PIL import Image\n",
    "from skimage.feature import hog\n",
    "from sklearn.model_selection import train_test_split\n",
    "from sklearn.svm import SVC\n",
    "from sklearn.metrics import classification_report, confusion_matrix\n",
    "import matplotlib.pyplot as plt\n",
    "import seaborn as sns"
   ]
  },
  {
   "cell_type": "code",
   "execution_count": 8,
   "id": "694645d1-02b8-4668-b83d-d2ba0da936bf",
   "metadata": {},
   "outputs": [],
   "source": [
    "# Paths\n",
    "\n",
    "BASE_DIR = os.path.abspath(os.path.join(os.getcwd(), '..'))\n",
    "IMG_TRAIN_DIR = os.path.join(BASE_DIR, 'data', 'MASATI', 'output', 'train', 'images')\n",
    "IMG_TEST_DIR = os.path.join(BASE_DIR, 'data', 'MASATI', 'output', 'test', 'images')\n",
    "IMG_VAL_DIR = os.path.join(BASE_DIR, 'data', 'MASATI', 'output', 'val', 'images')\n",
    "LBL_TRAIN_DIR = os.path.join(BASE_DIR, 'data', 'MASATI', 'output', 'train', 'labels')\n",
    "LBL_TEST_DIR = os.path.join(BASE_DIR, 'data', 'MASATI', 'output', 'test', 'labels')\n",
    "LBL_VAL_DIR = os.path.join(BASE_DIR, 'data', 'MASATI', 'output', 'val', 'labels')"
   ]
  },
  {
   "cell_type": "markdown",
   "id": "7b3d4ec3",
   "metadata": {},
   "source": [
    "# Análisis Exploratorio de Datos"
   ]
  },
  {
   "cell_type": "code",
   "execution_count": 30,
   "id": "f7c9df55",
   "metadata": {},
   "outputs": [
    {
     "name": "stdout",
     "output_type": "stream",
     "text": [
      "Train images: 3617\n",
      "Validation images: 452\n",
      "Test images: 453\n"
     ]
    }
   ],
   "source": [
    "# \n",
    "print(\"Train images:\", len(glob.glob(os.path.join(IMG_TRAIN_DIR, '*.png'))))\n",
    "print(\"Validation images:\", len(glob.glob(os.path.join(IMG_VAL_DIR, '*.png'))))\n",
    "print(\"Test images:\", len(glob.glob(os.path.join(IMG_TEST_DIR, '*.png'))))"
   ]
  },
  {
   "cell_type": "code",
   "execution_count": 28,
   "id": "a66926af",
   "metadata": {},
   "outputs": [
    {
     "name": "stdout",
     "output_type": "stream",
     "text": [
      "\n",
      "TRAINING\n"
     ]
    },
    {
     "name": "stderr",
     "output_type": "stream",
     "text": [
      "Loading labels:   0%|          | 0/3617 [00:00<?, ?it/s]"
     ]
    },
    {
     "name": "stderr",
     "output_type": "stream",
     "text": [
      "Loading labels: 100%|██████████| 3617/3617 [00:00<00:00, 6904.93it/s]\n"
     ]
    },
    {
     "name": "stdout",
     "output_type": "stream",
     "text": [
      "There are 1888 images with boats\n",
      "The mean number of boats in those images is  1.7309322033898304\n",
      "\n",
      "VALIDATION\n"
     ]
    },
    {
     "name": "stderr",
     "output_type": "stream",
     "text": [
      "Loading labels: 100%|██████████| 452/452 [00:00<00:00, 6405.18it/s]\n"
     ]
    },
    {
     "name": "stdout",
     "output_type": "stream",
     "text": [
      "There are 237 images with boats\n",
      "The mean number of boats in those images is  1.6160337552742616\n",
      "\n",
      "TESTING\n"
     ]
    },
    {
     "name": "stderr",
     "output_type": "stream",
     "text": [
      "Loading labels: 100%|██████████| 453/453 [00:00<00:00, 7105.75it/s]"
     ]
    },
    {
     "name": "stdout",
     "output_type": "stream",
     "text": [
      "There are 243 images with boats\n",
      "The mean number of boats in those images is  1.6584362139917694\n"
     ]
    },
    {
     "name": "stderr",
     "output_type": "stream",
     "text": [
      "\n"
     ]
    }
   ],
   "source": [
    "# las labels se encuentran dentro de archivos .txt, por lo que se debe leer cada archivo y extraer la información de las etiquetas\n",
    "# el nombre del archivo de la imagen y el archivo de la etiqueta son iguales\n",
    "# puede haber más de una etiqueta por imagen, por lo que se debe leer cada línea del archivo de etiquetas\n",
    "\n",
    "def load_labels(label_dir):\n",
    "    labels = []\n",
    "    for label_file in tqdm(glob.glob(os.path.join(label_dir, '*.txt')), desc=\"Loading labels\"):\n",
    "        with open(label_file, 'r') as f:\n",
    "            labels_img = [line.strip() for line in f if line.strip() != '']\n",
    "            \n",
    "        if labels_img:\n",
    "            labels.append(labels_img)\n",
    "    return labels\n",
    "\n",
    "print(\"\\nTRAINING\")\n",
    "labels_train = load_labels(LBL_TRAIN_DIR)\n",
    "print(\"There are\", len(labels_train), \"images with boats\")\n",
    "print(\"The mean number of boats in those images is \", np.mean([len(l) for l in labels_train]))\n",
    "\n",
    "print(\"\\nVALIDATION\")\n",
    "labels_val = load_labels(LBL_VAL_DIR)\n",
    "print(\"There are\", len(labels_val), \"images with boats\")\n",
    "print(\"The mean number of boats in those images is \", np.mean([len(l) for l in labels_val]))\n",
    "\n",
    "print(\"\\nTESTING\")\n",
    "labels_test = load_labels(LBL_TEST_DIR)\n",
    "print(\"There are\", len(labels_test), \"images with boats\")\n",
    "print(\"The mean number of boats in those images is \", np.mean([len(l) for l in labels_test]))"
   ]
  },
  {
   "cell_type": "markdown",
   "id": "5c4c1347",
   "metadata": {},
   "source": [
    "La mitad de las imágenes no poseen barcos, pero las imágenes que sí tienen, pueden contener más de uno."
   ]
  },
  {
   "cell_type": "code",
   "execution_count": 53,
   "id": "cc114710",
   "metadata": {},
   "outputs": [
    {
     "name": "stderr",
     "output_type": "stream",
     "text": [
      "C:\\Users\\gonza\\AppData\\Local\\Temp\\ipykernel_6408\\1436544970.py:8: FutureWarning: \n",
      "\n",
      "Passing `palette` without assigning `hue` is deprecated and will be removed in v0.14.0. Assign the `x` variable to `hue` and set `legend=False` for the same effect.\n",
      "\n",
      "  sns.countplot(x=num_barcos, palette='Set2')    # Una barra por cada valor distinto, con 20 colores distintos\n"
     ]
    },
    {
     "data": {
      "image/png": "[encoded data removed]",
      "text/plain": [
       "<Figure size 1000x600 with 1 Axes>"
      ]
     },
     "metadata": {},
     "output_type": "display_data"
    }
   ],
   "source": [
    "\n",
    "num_barcos = [len(l) for l in labels_train]\n",
    "#añado las imagenes con 0 barcos\n",
    "for i in range(len(labels_train), 3617):\n",
    "    num_barcos.append(0)\n",
    "\n",
    "# distribución del numero de barcos por imagen en train\n",
    "plt.figure(figsize=(10, 6))\n",
    "sns.countplot(x=num_barcos, palette='Set2')    # Una barra por cada valor distinto, con 20 colores distintos\n",
    "\n",
    "plt.xlabel('Número de barcos por imagen')\n",
    "plt.ylabel('Frecuencia')\n",
    "plt.title('Distribución del número de barcos por imagen')\n",
    "plt.show()\n"
   ]
  },
  {
   "cell_type": "markdown",
   "id": "2cd3d263",
   "metadata": {},
   "source": [
    "Existen imágenes con incluso 82 barcos, aunque vemos que la gran mayoría tienen uno o ninguno."
   ]
  },
  {
   "cell_type": "code",
   "execution_count": 29,
   "id": "1c89f2c6",
   "metadata": {},
   "outputs": [
    {
     "data": {
      "text/plain": [
       "['0']"
      ]
     },
     "execution_count": 29,
     "metadata": {},
     "output_type": "execute_result"
    }
   ],
   "source": [
    "#leer clases de las etiquetas\n",
    "def get_classes(labels):\n",
    "    classes = set()\n",
    "    for label in labels:\n",
    "        for l in label:\n",
    "            classes.add(l.split()[0])\n",
    "    return list(classes)\n",
    "\n",
    "classes_train = get_classes(labels_train)\n",
    "classes_train\n"
   ]
  },
  {
   "cell_type": "markdown",
   "id": "abb07923",
   "metadata": {},
   "source": [
    "Solo hay una clase en el conjunto de datos, que corresponde a la detección de un barco."
   ]
  },
  {
   "cell_type": "markdown",
   "id": "b4881c87",
   "metadata": {},
   "source": [
    "Dimensiones de las imágenes en general: 512x512 píxeles.\n",
    "\n",
    "(momstrar grafica con dimensiones pa comprobar)"
   ]
  },
  {
   "cell_type": "markdown",
   "id": "2a2f35aa-0c2b-4658-89c9-369f611a815e",
   "metadata": {},
   "source": [
    "# MACHINE LEARNING (CLASIFICACIÓN)"
   ]
  },
  {
   "cell_type": "code",
   "execution_count": 3,
   "id": "acfba4b3-11e3-4961-9020-e8bb3ab28863",
   "metadata": {},
   "outputs": [],
   "source": [
    "# Función para saber si hay barco\n",
    "def has_boat(label_path):\n",
    "    return os.path.exists(label_path) and os.path.getsize(label_path) > 0\n",
    "\n",
    "# Extraer características HOG usando Pillow\n",
    "def extract_features(image_path):\n",
    "    image = Image.open(image_path).convert(\"L\")  # Convertir a escala de grises\n",
    "    image = image.resize((128, 128))  # Redimensionar\n",
    "    image_np = np.array(image)\n",
    "\n",
    "    features, _ = hog(image_np,\n",
    "                      pixels_per_cell=(8, 8),\n",
    "                      cells_per_block=(2, 2),\n",
    "                      visualize=True)\n",
    "    return features"
   ]
  },
  {
   "cell_type": "code",
   "execution_count": 4,
   "id": "d8ff9b4a-0da9-4d02-a80b-d6d3346c6f6d",
   "metadata": {},
   "outputs": [
    {
     "name": "stderr",
     "output_type": "stream",
     "text": [
      "Extrayendo características de entrenamiento: 100%|█████████████████████████████████| 3617/3617 [06:48<00:00,  8.85it/s]\n",
      "Extrayendo características de test: 100%|████████████████████████████████████████████| 453/453 [00:48<00:00,  9.31it/s]\n"
     ]
    }
   ],
   "source": [
    "# Cargar imágenes de entrenamiento\n",
    "X_train, y_train = [], []\n",
    "train_image_paths = glob.glob(os.path.join(IMG_TRAIN_DIR, '*.png'))\n",
    "\n",
    "for img_path in tqdm(train_image_paths, desc=\"Extrayendo características de entrenamiento\"):\n",
    "    filename = os.path.splitext(os.path.basename(img_path))[0] + '.txt'\n",
    "    label_path = os.path.join(LBL_TRAIN_DIR, filename)  # Ruta de etiquetas de entrenamiento\n",
    "\n",
    "    label = int(has_boat(label_path))\n",
    "    features = extract_features(img_path)\n",
    "\n",
    "    X_train.append(features)\n",
    "    y_train.append(label)\n",
    "\n",
    "X_train = np.array(X_train)\n",
    "y_train = np.array(y_train)\n",
    "\n",
    "# Cargar imágenes de prueba\n",
    "X_test, y_test = [], []\n",
    "test_image_paths = glob.glob(os.path.join(IMG_TEST_DIR, '*.png'))\n",
    "\n",
    "for img_path in tqdm(test_image_paths, desc=\"Extrayendo características de test\"):\n",
    "    filename = os.path.splitext(os.path.basename(img_path))[0] + '.txt'\n",
    "    label_path = os.path.join(LBL_TEST_DIR, filename)  # Ruta de etiquetas de prueba\n",
    "\n",
    "    label = int(has_boat(label_path))  # Si tienes etiquetas para test (puedes omitir esto si no las tienes)\n",
    "    features = extract_features(img_path)\n",
    "\n",
    "    X_test.append(features)\n",
    "    y_test.append(label)\n",
    "\n",
    "X_test = np.array(X_test)\n",
    "y_test = np.array(y_test)"
   ]
  },
  {
   "cell_type": "code",
   "execution_count": 5,
   "id": "6c3e5d40-d002-4376-be16-c26205028ece",
   "metadata": {},
   "outputs": [
    {
     "name": "stdout",
     "output_type": "stream",
     "text": [
      "\n",
      "Reporte de clasificación:\n",
      "              precision    recall  f1-score   support\n",
      "\n",
      "    No barco       0.58      0.57      0.57       210\n",
      "       Barco       0.63      0.64      0.64       243\n",
      "\n",
      "    accuracy                           0.61       453\n",
      "   macro avg       0.60      0.60      0.60       453\n",
      "weighted avg       0.61      0.61      0.61       453\n",
      "\n"
     ]
    }
   ],
   "source": [
    "# Modelo\n",
    "model = SVC(kernel='linear', probability=True)\n",
    "model.fit(X_train, y_train)\n",
    "\n",
    "# Evaluación en conjunto de prueba\n",
    "y_pred = model.predict(X_test)\n",
    "\n",
    "print(\"\\nReporte de clasificación:\")\n",
    "print(classification_report(y_test, y_pred, target_names=[\"No barco\", \"Barco\"]))"
   ]
  },
  {
   "cell_type": "code",
   "execution_count": 6,
   "id": "4cd0b7c6-471d-4efe-bf2f-903fe292a3ef",
   "metadata": {},
   "outputs": [
    {
     "data": {
      "image/png": "[encoded data removed]",
      "text/plain": [
       "<Figure size 640x480 with 2 Axes>"
      ]
     },
     "metadata": {},
     "output_type": "display_data"
    }
   ],
   "source": [
    "# Matriz de confusión\n",
    "cm = confusion_matrix(y_test, y_pred)\n",
    "sns.heatmap(cm, annot=True, fmt=\"d\", cmap=\"Blues\", xticklabels=[\"No barco\", \"Barco\"], yticklabels=[\"No barco\", \"Barco\"])\n",
    "plt.xlabel(\"Predicción\")\n",
    "plt.ylabel(\"Real\")\n",
    "plt.title(\"Matriz de Confusión\")\n",
    "plt.show()"
   ]
  },
  {
   "cell_type": "markdown",
   "id": "8cca9407",
   "metadata": {},
   "source": [
    "# DEEP LEARNING: YOLO"
   ]
  },
  {
   "cell_type": "markdown",
   "id": "c70434dd",
   "metadata": {},
   "source": [
    "You Only Look Once (YOLO) es un algoritmo de detección de objetos en imágenes. A diferencia de otros métodos que analizan la imagen en varias etapas, YOLO trata la detección como un problema de regresión único, lo que lo hace más rápido y eficiente.\n",
    "\n",
    "Existen múltiples versiones de YOLO, cada una mejorando la precisión y velocidad del modelo. Se usará YOLO v8."
   ]
  },
  {
   "cell_type": "code",
   "execution_count": 1,
   "id": "93418b5b",
   "metadata": {},
   "outputs": [],
   "source": [
    "from ultralytics import YOLO\n",
    "import torch\n",
    "import cv2"
   ]
  },
  {
   "cell_type": "code",
   "execution_count": 2,
   "id": "98232ca6",
   "metadata": {},
   "outputs": [
    {
     "name": "stdout",
     "output_type": "stream",
     "text": [
      "Usando dispositivo: cuda\n"
     ]
    }
   ],
   "source": [
    "# gpu o cpu\n",
    "device = 'cuda' if torch.cuda.is_available() else 'cpu'\n",
    "print(f\"Usando dispositivo: {device}\")"
   ]
  },
  {
   "cell_type": "markdown",
   "id": "4614a7a3",
   "metadata": {},
   "source": [
    "Carga del modelo YOLO v8 preentrenado. Este modelo ha sido entrenado en el conjunto de datos COCO, que contiene 80 clases de objetos. Se realizará un ajuste fino (fine-tuning) del modelo para adaptarlo a nuestro conjunto de datos específico, que solo tiene una clase: barco."
   ]
  },
  {
   "cell_type": "code",
   "execution_count": null,
   "id": "d7163b38",
   "metadata": {},
   "outputs": [
    {
     "name": "stdout",
     "output_type": "stream",
     "text": [
      "Downloading https://github.com/ultralytics/assets/releases/download/v8.3.0/yolov8n.pt to 'yolov8n.pt'...\n"
     ]
    },
    {
     "name": "stderr",
     "output_type": "stream",
     "text": [
      "100%|██████████| 6.25M/6.25M [00:00<00:00, 37.9MB/s]\n"
     ]
    }
   ],
   "source": [
    "model = YOLO('yolov8n.pt') # modelo mas pequeño"
   ]
  },
  {
   "cell_type": "markdown",
   "id": "295158e5",
   "metadata": {},
   "source": [
    "## Entrenamiento"
   ]
  },
  {
   "cell_type": "code",
   "execution_count": 7,
   "id": "b449c381",
   "metadata": {},
   "outputs": [
    {
     "name": "stdout",
     "output_type": "stream",
     "text": [
      "New https://pypi.org/project/ultralytics/8.3.127 available  Update with 'pip install -U ultralytics'\n",
      "Ultralytics 8.3.126  Python-3.12.10 torch-2.7.0+cu128 CUDA:0 (NVIDIA GeForce RTX 4060 Laptop GPU, 8188MiB)\n",
      "\u001b[34m\u001b[1mengine\\trainer: \u001b[0magnostic_nms=False, amp=True, augment=False, auto_augment=randaugment, batch=16, bgr=0.0, box=7.5, cache=False, cfg=None, classes=None, close_mosaic=10, cls=0.5, conf=None, copy_paste=0.0, copy_paste_mode=flip, cos_lr=False, cutmix=0.0, data=c:\\Users\\gonza\\Desktop\\ImagenADNE\\DeepLearning-Images\\data\\data.yaml, degrees=0.0, deterministic=True, device=cuda:0, dfl=1.5, dnn=False, dropout=0.0, dynamic=False, embed=None, epochs=50, erasing=0.4, exist_ok=False, fliplr=0.5, flipud=0.0, format=torchscript, fraction=1.0, freeze=None, half=False, hsv_h=0.015, hsv_s=0.7, hsv_v=0.4, imgsz=512, int8=False, iou=0.7, keras=False, kobj=1.0, line_width=None, lr0=0.01, lrf=0.01, mask_ratio=4, max_det=300, mixup=0.0, mode=train, model=yolov8n.pt, momentum=0.937, mosaic=1.0, multi_scale=False, name=first-boat-detection-nano, nbs=64, nms=False, opset=None, optimize=False, optimizer=auto, overlap_mask=True, patience=100, perspective=0.0, plots=True, pose=12.0, pretrained=True, profile=False, project=None, rect=False, resume=False, retina_masks=False, save=True, save_conf=False, save_crop=False, save_dir=runs\\detect\\first-boat-detection-nano, save_frames=False, save_json=False, save_period=-1, save_txt=False, scale=0.5, seed=0, shear=0.0, show=False, show_boxes=True, show_conf=True, show_labels=True, simplify=True, single_cls=False, source=None, split=val, stream_buffer=False, task=detect, time=None, tracker=botsort.yaml, translate=0.1, val=True, verbose=True, vid_stride=1, visualize=False, warmup_bias_lr=0.1, warmup_epochs=3.0, warmup_momentum=0.8, weight_decay=0.0005, workers=8, workspace=None\n",
      "Downloading https://ultralytics.com/assets/Arial.ttf to 'C:\\Users\\gonza\\AppData\\Roaming\\Ultralytics\\Arial.ttf'...\n"
     ]
    },
    {
     "name": "stderr",
     "output_type": "stream",
     "text": [
      "100%|██████████| 755k/755k [00:00<00:00, 8.10MB/s]"
     ]
    },
    {
     "name": "stdout",
     "output_type": "stream",
     "text": [
      "Overriding model.yaml nc=80 with nc=1\n",
      "\n",
      "                   from  n    params  module                                       arguments                     \n",
      "  0                  -1  1       464  ultralytics.nn.modules.conv.Conv             [3, 16, 3, 2]                 \n",
      "  1                  -1  1      4672  ultralytics.nn.modules.conv.Conv             [16, 32, 3, 2]                \n",
      "  2                  -1  1      7360  ultralytics.nn.modules.block.C2f             [32, 32, 1, True]             \n",
      "  3                  -1  1     18560  ultralytics.nn.modules.conv.Conv             [32, 64, 3, 2]                \n",
      "  4                  -1  2     49664  ultralytics.nn.modules.block.C2f             [64, 64, 2, True]             \n",
      "  5                  -1  1     73984  ultralytics.nn.modules.conv.Conv             [64, 128, 3, 2]               \n",
      "  6                  -1  2    197632  ultralytics.nn.modules.block.C2f             [128, 128, 2, True]           \n",
      "  7                  -1  1    295424  ultralytics.nn.modules.conv.Conv             [128, 256, 3, 2]              \n",
      "  8                  -1  1    460288  ultralytics.nn.modules.block.C2f             [256, 256, 1, True]           \n",
      "  9                  -1  1    164608  ultralytics.nn.modules.block.SPPF            [256, 256, 5]                 \n",
      " 10                  -1  1         0  torch.nn.modules.upsampling.Upsample         [None, 2, 'nearest']          \n",
      " 11             [-1, 6]  1         0  ultralytics.nn.modules.conv.Concat           [1]                           \n",
      " 12                  -1  1    148224  ultralytics.nn.modules.block.C2f             [384, 128, 1]                 \n",
      " 13                  -1  1         0  torch.nn.modules.upsampling.Upsample         [None, 2, 'nearest']          \n",
      " 14             [-1, 4]  1         0  ultralytics.nn.modules.conv.Concat           [1]                           \n",
      " 15                  -1  1     37248  ultralytics.nn.modules.block.C2f             [192, 64, 1]                  \n",
      " 16                  -1  1     36992  ultralytics.nn.modules.conv.Conv             [64, 64, 3, 2]                \n",
      " 17            [-1, 12]  1         0  ultralytics.nn.modules.conv.Concat           [1]                           \n",
      " 18                  -1  1    123648  ultralytics.nn.modules.block.C2f             [192, 128, 1]                 \n"
     ]
    },
    {
     "name": "stderr",
     "output_type": "stream",
     "text": [
      "\n"
     ]
    },
    {
     "name": "stdout",
     "output_type": "stream",
     "text": [
      " 19                  -1  1    147712  ultralytics.nn.modules.conv.Conv             [128, 128, 3, 2]              \n",
      " 20             [-1, 9]  1         0  ultralytics.nn.modules.conv.Concat           [1]                           \n",
      " 21                  -1  1    493056  ultralytics.nn.modules.block.C2f             [384, 256, 1]                 \n",
      " 22        [15, 18, 21]  1    751507  ultralytics.nn.modules.head.Detect           [1, [64, 128, 256]]           \n",
      "Model summary: 129 layers, 3,011,043 parameters, 3,011,027 gradients, 8.2 GFLOPs\n",
      "\n",
      "Transferred 319/355 items from pretrained weights\n",
      "Freezing layer 'model.22.dfl.conv.weight'\n",
      "\u001b[34m\u001b[1mAMP: \u001b[0mrunning Automatic Mixed Precision (AMP) checks...\n",
      "Downloading https://github.com/ultralytics/assets/releases/download/v8.3.0/yolo11n.pt to 'yolo11n.pt'...\n"
     ]
    },
    {
     "name": "stderr",
     "output_type": "stream",
     "text": [
      "100%|██████████| 5.35M/5.35M [00:00<00:00, 21.2MB/s]\n"
     ]
    },
    {
     "name": "stdout",
     "output_type": "stream",
     "text": [
      "\u001b[34m\u001b[1mAMP: \u001b[0mchecks passed \n",
      "\u001b[34m\u001b[1mtrain: \u001b[0mFast image access  (ping: 0.40.0 ms, read: 18.413.5 MB/s, size: 282.7 KB)\n"
     ]
    },
    {
     "name": "stderr",
     "output_type": "stream",
     "text": [
      "\u001b[34m\u001b[1mtrain: \u001b[0mScanning C:\\Users\\gonza\\Desktop\\ImagenADNE\\DeepLearning-Images\\data\\MASATI\\output\\train\\labels... 3617 images, 1729 backgrounds, 0 corrupt: 100%|██████████| 3617/3617 [00:08<00:00, 419.85it/s]\n"
     ]
    },
    {
     "name": "stdout",
     "output_type": "stream",
     "text": [
      "\u001b[34m\u001b[1mtrain: \u001b[0mNew cache created: C:\\Users\\gonza\\Desktop\\ImagenADNE\\DeepLearning-Images\\data\\MASATI\\output\\train\\labels.cache\n",
      "\u001b[34m\u001b[1mval: \u001b[0mFast image access  (ping: 0.50.3 ms, read: 16.610.1 MB/s, size: 333.8 KB)\n"
     ]
    },
    {
     "name": "stderr",
     "output_type": "stream",
     "text": [
      "\u001b[34m\u001b[1mval: \u001b[0mScanning C:\\Users\\gonza\\Desktop\\ImagenADNE\\DeepLearning-Images\\data\\MASATI\\output\\val\\labels... 452 images, 215 backgrounds, 0 corrupt: 100%|██████████| 452/452 [00:01<00:00, 384.83it/s]"
     ]
    },
    {
     "name": "stdout",
     "output_type": "stream",
     "text": [
      "\u001b[34m\u001b[1mval: \u001b[0mNew cache created: C:\\Users\\gonza\\Desktop\\ImagenADNE\\DeepLearning-Images\\data\\MASATI\\output\\val\\labels.cache\n"
     ]
    },
    {
     "name": "stderr",
     "output_type": "stream",
     "text": [
      "\n"
     ]
    },
    {
     "name": "stdout",
     "output_type": "stream",
     "text": [
      "Plotting labels to runs\\detect\\first-boat-detection-nano\\labels.jpg... \n",
      "\u001b[34m\u001b[1moptimizer:\u001b[0m 'optimizer=auto' found, ignoring 'lr0=0.01' and 'momentum=0.937' and determining best 'optimizer', 'lr0' and 'momentum' automatically... \n",
      "\u001b[34m\u001b[1moptimizer:\u001b[0m AdamW(lr=0.002, momentum=0.9) with parameter groups 57 weight(decay=0.0), 64 weight(decay=0.0005), 63 bias(decay=0.0)\n",
      "Image sizes 512 train, 512 val\n",
      "Using 8 dataloader workers\n",
      "Logging results to \u001b[1mruns\\detect\\first-boat-detection-nano\u001b[0m\n",
      "Starting training for 50 epochs...\n",
      "\n",
      "      Epoch    GPU_mem   box_loss   cls_loss   dfl_loss  Instances       Size\n"
     ]
    },
    {
     "name": "stderr",
     "output_type": "stream",
     "text": [
      "       1/50      1.57G      2.177       5.15      1.053          1        512: 100%|██████████| 227/227 [00:39<00:00,  5.81it/s]\n",
      "                 Class     Images  Instances      Box(P          R      mAP50  mAP50-95): 100%|██████████| 15/15 [00:03<00:00,  4.63it/s]"
     ]
    },
    {
     "name": "stdout",
     "output_type": "stream",
     "text": [
      "                   all        452        383      0.685      0.514      0.539      0.185\n"
     ]
    },
    {
     "name": "stderr",
     "output_type": "stream",
     "text": [
      "\n"
     ]
    },
    {
     "name": "stdout",
     "output_type": "stream",
     "text": [
      "\n",
      "      Epoch    GPU_mem   box_loss   cls_loss   dfl_loss  Instances       Size\n"
     ]
    },
    {
     "name": "stderr",
     "output_type": "stream",
     "text": [
      "       2/50       1.6G      2.202      2.571      1.095          0        512: 100%|██████████| 227/227 [00:33<00:00,  6.77it/s]\n",
      "                 Class     Images  Instances      Box(P          R      mAP50  mAP50-95): 100%|██████████| 15/15 [00:02<00:00,  5.29it/s]"
     ]
    },
    {
     "name": "stdout",
     "output_type": "stream",
     "text": [
      "                   all        452        383      0.661      0.538      0.577      0.224\n"
     ]
    },
    {
     "name": "stderr",
     "output_type": "stream",
     "text": [
      "\n"
     ]
    },
    {
     "name": "stdout",
     "output_type": "stream",
     "text": [
      "\n",
      "      Epoch    GPU_mem   box_loss   cls_loss   dfl_loss  Instances       Size\n"
     ]
    },
    {
     "name": "stderr",
     "output_type": "stream",
     "text": [
      "       3/50       1.6G      2.218      1.796      1.108          0        512: 100%|██████████| 227/227 [00:32<00:00,  7.04it/s]\n",
      "                 Class     Images  Instances      Box(P          R      mAP50  mAP50-95): 100%|██████████| 15/15 [00:02<00:00,  5.34it/s]"
     ]
    },
    {
     "name": "stdout",
     "output_type": "stream",
     "text": [
      "                   all        452        383      0.664      0.579      0.584      0.215\n"
     ]
    },
    {
     "name": "stderr",
     "output_type": "stream",
     "text": [
      "\n"
     ]
    },
    {
     "name": "stdout",
     "output_type": "stream",
     "text": [
      "\n",
      "      Epoch    GPU_mem   box_loss   cls_loss   dfl_loss  Instances       Size\n"
     ]
    },
    {
     "name": "stderr",
     "output_type": "stream",
     "text": [
      "       4/50      1.74G      2.157      1.596       1.09          1        512: 100%|██████████| 227/227 [00:31<00:00,  7.10it/s]\n",
      "                 Class     Images  Instances      Box(P          R      mAP50  mAP50-95): 100%|██████████| 15/15 [00:02<00:00,  5.55it/s]"
     ]
    },
    {
     "name": "stdout",
     "output_type": "stream",
     "text": [
      "                   all        452        383      0.734      0.633      0.677      0.245\n"
     ]
    },
    {
     "name": "stderr",
     "output_type": "stream",
     "text": [
      "\n"
     ]
    },
    {
     "name": "stdout",
     "output_type": "stream",
     "text": [
      "\n",
      "      Epoch    GPU_mem   box_loss   cls_loss   dfl_loss  Instances       Size\n"
     ]
    },
    {
     "name": "stderr",
     "output_type": "stream",
     "text": [
      "       5/50      1.76G      2.121      1.489      1.073          0        512: 100%|██████████| 227/227 [00:32<00:00,  7.06it/s]\n",
      "                 Class     Images  Instances      Box(P          R      mAP50  mAP50-95): 100%|██████████| 15/15 [00:02<00:00,  5.31it/s]"
     ]
    },
    {
     "name": "stdout",
     "output_type": "stream",
     "text": [
      "                   all        452        383       0.73      0.634      0.673       0.24\n"
     ]
    },
    {
     "name": "stderr",
     "output_type": "stream",
     "text": [
      "\n"
     ]
    },
    {
     "name": "stdout",
     "output_type": "stream",
     "text": [
      "\n",
      "      Epoch    GPU_mem   box_loss   cls_loss   dfl_loss  Instances       Size\n"
     ]
    },
    {
     "name": "stderr",
     "output_type": "stream",
     "text": [
      "       6/50      1.77G      2.091      1.419      1.082          0        512: 100%|██████████| 227/227 [00:31<00:00,  7.11it/s]\n",
      "                 Class     Images  Instances      Box(P          R      mAP50  mAP50-95): 100%|██████████| 15/15 [00:02<00:00,  5.50it/s]"
     ]
    },
    {
     "name": "stdout",
     "output_type": "stream",
     "text": [
      "                   all        452        383      0.604      0.572      0.561      0.203\n"
     ]
    },
    {
     "name": "stderr",
     "output_type": "stream",
     "text": [
      "\n"
     ]
    },
    {
     "name": "stdout",
     "output_type": "stream",
     "text": [
      "\n",
      "      Epoch    GPU_mem   box_loss   cls_loss   dfl_loss  Instances       Size\n"
     ]
    },
    {
     "name": "stderr",
     "output_type": "stream",
     "text": [
      "       7/50      1.78G      2.086      1.456      1.076          1        512: 100%|██████████| 227/227 [00:32<00:00,  7.06it/s]\n",
      "                 Class     Images  Instances      Box(P          R      mAP50  mAP50-95): 100%|██████████| 15/15 [00:02<00:00,  5.48it/s]"
     ]
    },
    {
     "name": "stdout",
     "output_type": "stream",
     "text": [
      "                   all        452        383      0.651      0.595      0.625      0.226\n"
     ]
    },
    {
     "name": "stderr",
     "output_type": "stream",
     "text": [
      "\n"
     ]
    },
    {
     "name": "stdout",
     "output_type": "stream",
     "text": [
      "\n",
      "      Epoch    GPU_mem   box_loss   cls_loss   dfl_loss  Instances       Size\n"
     ]
    },
    {
     "name": "stderr",
     "output_type": "stream",
     "text": [
      "       8/50      1.92G      2.053      1.419      1.068          0        512: 100%|██████████| 227/227 [00:32<00:00,  7.03it/s]\n",
      "                 Class     Images  Instances      Box(P          R      mAP50  mAP50-95): 100%|██████████| 15/15 [00:02<00:00,  5.58it/s]"
     ]
    },
    {
     "name": "stdout",
     "output_type": "stream",
     "text": [
      "                   all        452        383      0.758      0.597      0.661      0.284\n"
     ]
    },
    {
     "name": "stderr",
     "output_type": "stream",
     "text": [
      "\n"
     ]
    },
    {
     "name": "stdout",
     "output_type": "stream",
     "text": [
      "\n",
      "      Epoch    GPU_mem   box_loss   cls_loss   dfl_loss  Instances       Size\n"
     ]
    },
    {
     "name": "stderr",
     "output_type": "stream",
     "text": [
      "       9/50      1.93G       2.01      1.347      1.051          0        512: 100%|██████████| 227/227 [00:32<00:00,  7.06it/s]\n",
      "                 Class     Images  Instances      Box(P          R      mAP50  mAP50-95): 100%|██████████| 15/15 [00:02<00:00,  5.57it/s]"
     ]
    },
    {
     "name": "stdout",
     "output_type": "stream",
     "text": [
      "                   all        452        383       0.72      0.587      0.652      0.257\n"
     ]
    },
    {
     "name": "stderr",
     "output_type": "stream",
     "text": [
      "\n"
     ]
    },
    {
     "name": "stdout",
     "output_type": "stream",
     "text": [
      "\n",
      "      Epoch    GPU_mem   box_loss   cls_loss   dfl_loss  Instances       Size\n"
     ]
    },
    {
     "name": "stderr",
     "output_type": "stream",
     "text": [
      "      10/50      1.95G      2.032      1.357       1.06          1        512: 100%|██████████| 227/227 [00:31<00:00,  7.13it/s]\n",
      "                 Class     Images  Instances      Box(P          R      mAP50  mAP50-95): 100%|██████████| 15/15 [00:02<00:00,  5.84it/s]"
     ]
    },
    {
     "name": "stdout",
     "output_type": "stream",
     "text": [
      "                   all        452        383      0.678      0.533       0.59      0.234\n"
     ]
    },
    {
     "name": "stderr",
     "output_type": "stream",
     "text": [
      "\n"
     ]
    },
    {
     "name": "stdout",
     "output_type": "stream",
     "text": [
      "\n",
      "      Epoch    GPU_mem   box_loss   cls_loss   dfl_loss  Instances       Size\n"
     ]
    },
    {
     "name": "stderr",
     "output_type": "stream",
     "text": [
      "      11/50      1.96G       1.98      1.275      1.047          1        512: 100%|██████████| 227/227 [00:32<00:00,  7.05it/s]\n",
      "                 Class     Images  Instances      Box(P          R      mAP50  mAP50-95): 100%|██████████| 15/15 [00:02<00:00,  5.63it/s]"
     ]
    },
    {
     "name": "stdout",
     "output_type": "stream",
     "text": [
      "                   all        452        383       0.79      0.585      0.688      0.269\n"
     ]
    },
    {
     "name": "stderr",
     "output_type": "stream",
     "text": [
      "\n"
     ]
    },
    {
     "name": "stdout",
     "output_type": "stream",
     "text": [
      "\n",
      "      Epoch    GPU_mem   box_loss   cls_loss   dfl_loss  Instances       Size\n"
     ]
    },
    {
     "name": "stderr",
     "output_type": "stream",
     "text": [
      "      12/50      1.98G      2.013      1.273      1.053          1        512: 100%|██████████| 227/227 [00:32<00:00,  7.05it/s]\n",
      "                 Class     Images  Instances      Box(P          R      mAP50  mAP50-95): 100%|██████████| 15/15 [00:02<00:00,  5.17it/s]"
     ]
    },
    {
     "name": "stdout",
     "output_type": "stream",
     "text": [
      "                   all        452        383      0.779      0.663      0.717       0.28\n"
     ]
    },
    {
     "name": "stderr",
     "output_type": "stream",
     "text": [
      "\n"
     ]
    },
    {
     "name": "stdout",
     "output_type": "stream",
     "text": [
      "\n",
      "      Epoch    GPU_mem   box_loss   cls_loss   dfl_loss  Instances       Size\n"
     ]
    },
    {
     "name": "stderr",
     "output_type": "stream",
     "text": [
      "      13/50         2G      1.955      1.222      1.018          0        512: 100%|██████████| 227/227 [00:30<00:00,  7.44it/s]\n",
      "                 Class     Images  Instances      Box(P          R      mAP50  mAP50-95): 100%|██████████| 15/15 [00:02<00:00,  6.14it/s]"
     ]
    },
    {
     "name": "stdout",
     "output_type": "stream",
     "text": [
      "                   all        452        383      0.719      0.658      0.695      0.274\n"
     ]
    },
    {
     "name": "stderr",
     "output_type": "stream",
     "text": [
      "\n"
     ]
    },
    {
     "name": "stdout",
     "output_type": "stream",
     "text": [
      "\n",
      "      Epoch    GPU_mem   box_loss   cls_loss   dfl_loss  Instances       Size\n"
     ]
    },
    {
     "name": "stderr",
     "output_type": "stream",
     "text": [
      "      14/50      2.02G      1.948      1.224      1.047          1        512: 100%|██████████| 227/227 [00:29<00:00,  7.58it/s]\n",
      "                 Class     Images  Instances      Box(P          R      mAP50  mAP50-95): 100%|██████████| 15/15 [00:02<00:00,  6.30it/s]"
     ]
    },
    {
     "name": "stdout",
     "output_type": "stream",
     "text": [
      "                   all        452        383      0.815      0.608      0.702      0.288\n"
     ]
    },
    {
     "name": "stderr",
     "output_type": "stream",
     "text": [
      "\n"
     ]
    },
    {
     "name": "stdout",
     "output_type": "stream",
     "text": [
      "\n",
      "      Epoch    GPU_mem   box_loss   cls_loss   dfl_loss  Instances       Size\n"
     ]
    },
    {
     "name": "stderr",
     "output_type": "stream",
     "text": [
      "      15/50      2.03G      1.921      1.196      1.018          1        512: 100%|██████████| 227/227 [00:29<00:00,  7.75it/s]\n",
      "                 Class     Images  Instances      Box(P          R      mAP50  mAP50-95): 100%|██████████| 15/15 [00:02<00:00,  5.92it/s]"
     ]
    },
    {
     "name": "stdout",
     "output_type": "stream",
     "text": [
      "                   all        452        383      0.777      0.679      0.749      0.301\n"
     ]
    },
    {
     "name": "stderr",
     "output_type": "stream",
     "text": [
      "\n"
     ]
    },
    {
     "name": "stdout",
     "output_type": "stream",
     "text": [
      "\n",
      "      Epoch    GPU_mem   box_loss   cls_loss   dfl_loss  Instances       Size\n"
     ]
    },
    {
     "name": "stderr",
     "output_type": "stream",
     "text": [
      "      16/50      2.05G      1.928      1.204       1.02          0        512: 100%|██████████| 227/227 [00:33<00:00,  6.69it/s]\n",
      "                 Class     Images  Instances      Box(P          R      mAP50  mAP50-95): 100%|██████████| 15/15 [00:03<00:00,  4.72it/s]"
     ]
    },
    {
     "name": "stdout",
     "output_type": "stream",
     "text": [
      "                   all        452        383      0.766       0.71      0.752      0.311\n"
     ]
    },
    {
     "name": "stderr",
     "output_type": "stream",
     "text": [
      "\n"
     ]
    },
    {
     "name": "stdout",
     "output_type": "stream",
     "text": [
      "\n",
      "      Epoch    GPU_mem   box_loss   cls_loss   dfl_loss  Instances       Size\n"
     ]
    },
    {
     "name": "stderr",
     "output_type": "stream",
     "text": [
      "      17/50      2.07G      1.909      1.196      1.006          0        512: 100%|██████████| 227/227 [00:32<00:00,  7.07it/s]\n",
      "                 Class     Images  Instances      Box(P          R      mAP50  mAP50-95): 100%|██████████| 15/15 [00:02<00:00,  5.81it/s]"
     ]
    },
    {
     "name": "stdout",
     "output_type": "stream",
     "text": [
      "                   all        452        383      0.831      0.658      0.744      0.295\n"
     ]
    },
    {
     "name": "stderr",
     "output_type": "stream",
     "text": [
      "\n"
     ]
    },
    {
     "name": "stdout",
     "output_type": "stream",
     "text": [
      "\n",
      "      Epoch    GPU_mem   box_loss   cls_loss   dfl_loss  Instances       Size\n"
     ]
    },
    {
     "name": "stderr",
     "output_type": "stream",
     "text": [
      "      18/50      2.09G      1.891      1.172      1.016          0        512: 100%|██████████| 227/227 [00:31<00:00,  7.24it/s]\n",
      "                 Class     Images  Instances      Box(P          R      mAP50  mAP50-95): 100%|██████████| 15/15 [00:02<00:00,  5.42it/s]"
     ]
    },
    {
     "name": "stdout",
     "output_type": "stream",
     "text": [
      "                   all        452        383      0.775      0.621       0.69      0.256\n"
     ]
    },
    {
     "name": "stderr",
     "output_type": "stream",
     "text": [
      "\n"
     ]
    },
    {
     "name": "stdout",
     "output_type": "stream",
     "text": [
      "\n",
      "      Epoch    GPU_mem   box_loss   cls_loss   dfl_loss  Instances       Size\n"
     ]
    },
    {
     "name": "stderr",
     "output_type": "stream",
     "text": [
      "      19/50      2.09G      1.893       1.18       1.02          1        512: 100%|██████████| 227/227 [00:32<00:00,  6.94it/s]\n",
      "                 Class     Images  Instances      Box(P          R      mAP50  mAP50-95): 100%|██████████| 15/15 [00:02<00:00,  5.16it/s]"
     ]
    },
    {
     "name": "stdout",
     "output_type": "stream",
     "text": [
      "                   all        452        383      0.615      0.616      0.622      0.239\n"
     ]
    },
    {
     "name": "stderr",
     "output_type": "stream",
     "text": [
      "\n"
     ]
    },
    {
     "name": "stdout",
     "output_type": "stream",
     "text": [
      "\n",
      "      Epoch    GPU_mem   box_loss   cls_loss   dfl_loss  Instances       Size\n"
     ]
    },
    {
     "name": "stderr",
     "output_type": "stream",
     "text": [
      "      20/50      2.12G      1.916      1.127       1.02          0        512: 100%|██████████| 227/227 [00:32<00:00,  7.08it/s]\n",
      "                 Class     Images  Instances      Box(P          R      mAP50  mAP50-95): 100%|██████████| 15/15 [00:02<00:00,  5.42it/s]"
     ]
    },
    {
     "name": "stdout",
     "output_type": "stream",
     "text": [
      "                   all        452        383      0.846      0.621      0.748      0.305\n"
     ]
    },
    {
     "name": "stderr",
     "output_type": "stream",
     "text": [
      "\n"
     ]
    },
    {
     "name": "stdout",
     "output_type": "stream",
     "text": [
      "\n",
      "      Epoch    GPU_mem   box_loss   cls_loss   dfl_loss  Instances       Size\n"
     ]
    },
    {
     "name": "stderr",
     "output_type": "stream",
     "text": [
      "      21/50      2.14G      1.863      1.113     0.9999          0        512: 100%|██████████| 227/227 [00:32<00:00,  7.06it/s]\n",
      "                 Class     Images  Instances      Box(P          R      mAP50  mAP50-95): 100%|██████████| 15/15 [00:02<00:00,  5.62it/s]"
     ]
    },
    {
     "name": "stdout",
     "output_type": "stream",
     "text": [
      "                   all        452        383      0.783        0.7      0.749      0.295\n"
     ]
    },
    {
     "name": "stderr",
     "output_type": "stream",
     "text": [
      "\n"
     ]
    },
    {
     "name": "stdout",
     "output_type": "stream",
     "text": [
      "\n",
      "      Epoch    GPU_mem   box_loss   cls_loss   dfl_loss  Instances       Size\n"
     ]
    },
    {
     "name": "stderr",
     "output_type": "stream",
     "text": [
      "      22/50      2.15G      1.849      1.113     0.9865          1        512: 100%|██████████| 227/227 [00:31<00:00,  7.20it/s]\n",
      "                 Class     Images  Instances      Box(P          R      mAP50  mAP50-95): 100%|██████████| 15/15 [00:02<00:00,  5.55it/s]"
     ]
    },
    {
     "name": "stdout",
     "output_type": "stream",
     "text": [
      "                   all        452        383      0.765      0.687      0.732      0.292\n"
     ]
    },
    {
     "name": "stderr",
     "output_type": "stream",
     "text": [
      "\n"
     ]
    },
    {
     "name": "stdout",
     "output_type": "stream",
     "text": [
      "\n",
      "      Epoch    GPU_mem   box_loss   cls_loss   dfl_loss  Instances       Size\n"
     ]
    },
    {
     "name": "stderr",
     "output_type": "stream",
     "text": [
      "      23/50      2.16G      1.856      1.098      1.001          3        512: 100%|██████████| 227/227 [00:32<00:00,  7.01it/s]\n",
      "                 Class     Images  Instances      Box(P          R      mAP50  mAP50-95): 100%|██████████| 15/15 [00:02<00:00,  5.59it/s]"
     ]
    },
    {
     "name": "stdout",
     "output_type": "stream",
     "text": [
      "                   all        452        383      0.764      0.627      0.719       0.28\n"
     ]
    },
    {
     "name": "stderr",
     "output_type": "stream",
     "text": [
      "\n"
     ]
    },
    {
     "name": "stdout",
     "output_type": "stream",
     "text": [
      "\n",
      "      Epoch    GPU_mem   box_loss   cls_loss   dfl_loss  Instances       Size\n"
     ]
    },
    {
     "name": "stderr",
     "output_type": "stream",
     "text": [
      "      24/50      2.19G      1.881       1.08     0.9939          2        512: 100%|██████████| 227/227 [00:32<00:00,  6.92it/s]\n",
      "                 Class     Images  Instances      Box(P          R      mAP50  mAP50-95): 100%|██████████| 15/15 [00:02<00:00,  5.69it/s]"
     ]
    },
    {
     "name": "stdout",
     "output_type": "stream",
     "text": [
      "                   all        452        383       0.85      0.682       0.78      0.325\n"
     ]
    },
    {
     "name": "stderr",
     "output_type": "stream",
     "text": [
      "\n"
     ]
    },
    {
     "name": "stdout",
     "output_type": "stream",
     "text": [
      "\n",
      "      Epoch    GPU_mem   box_loss   cls_loss   dfl_loss  Instances       Size\n"
     ]
    },
    {
     "name": "stderr",
     "output_type": "stream",
     "text": [
      "      25/50      2.21G      1.826      1.058     0.9991          0        512: 100%|██████████| 227/227 [00:31<00:00,  7.10it/s]\n",
      "                 Class     Images  Instances      Box(P          R      mAP50  mAP50-95): 100%|██████████| 15/15 [00:02<00:00,  5.64it/s]"
     ]
    },
    {
     "name": "stdout",
     "output_type": "stream",
     "text": [
      "                   all        452        383      0.853      0.712      0.777      0.339\n"
     ]
    },
    {
     "name": "stderr",
     "output_type": "stream",
     "text": [
      "\n"
     ]
    },
    {
     "name": "stdout",
     "output_type": "stream",
     "text": [
      "\n",
      "      Epoch    GPU_mem   box_loss   cls_loss   dfl_loss  Instances       Size\n"
     ]
    },
    {
     "name": "stderr",
     "output_type": "stream",
     "text": [
      "      26/50      2.22G      1.825      1.046     0.9952          1        512: 100%|██████████| 227/227 [00:32<00:00,  7.04it/s]\n",
      "                 Class     Images  Instances      Box(P          R      mAP50  mAP50-95): 100%|██████████| 15/15 [00:02<00:00,  5.71it/s]"
     ]
    },
    {
     "name": "stdout",
     "output_type": "stream",
     "text": [
      "                   all        452        383      0.855      0.681      0.753      0.323\n"
     ]
    },
    {
     "name": "stderr",
     "output_type": "stream",
     "text": [
      "\n"
     ]
    },
    {
     "name": "stdout",
     "output_type": "stream",
     "text": [
      "\n",
      "      Epoch    GPU_mem   box_loss   cls_loss   dfl_loss  Instances       Size\n"
     ]
    },
    {
     "name": "stderr",
     "output_type": "stream",
     "text": [
      "      27/50      2.23G      1.816      1.061      0.995          0        512: 100%|██████████| 227/227 [00:32<00:00,  6.99it/s]\n",
      "                 Class     Images  Instances      Box(P          R      mAP50  mAP50-95): 100%|██████████| 15/15 [00:02<00:00,  5.51it/s]"
     ]
    },
    {
     "name": "stdout",
     "output_type": "stream",
     "text": [
      "                   all        452        383       0.81        0.7      0.753      0.319\n"
     ]
    },
    {
     "name": "stderr",
     "output_type": "stream",
     "text": [
      "\n"
     ]
    },
    {
     "name": "stdout",
     "output_type": "stream",
     "text": [
      "\n",
      "      Epoch    GPU_mem   box_loss   cls_loss   dfl_loss  Instances       Size\n"
     ]
    },
    {
     "name": "stderr",
     "output_type": "stream",
     "text": [
      "      28/50      2.26G      1.823      1.032     0.9975          0        512: 100%|██████████| 227/227 [00:32<00:00,  7.03it/s]\n",
      "                 Class     Images  Instances      Box(P          R      mAP50  mAP50-95): 100%|██████████| 15/15 [00:02<00:00,  5.60it/s]"
     ]
    },
    {
     "name": "stdout",
     "output_type": "stream",
     "text": [
      "                   all        452        383      0.842      0.705      0.786      0.336\n"
     ]
    },
    {
     "name": "stderr",
     "output_type": "stream",
     "text": [
      "\n"
     ]
    },
    {
     "name": "stdout",
     "output_type": "stream",
     "text": [
      "\n",
      "      Epoch    GPU_mem   box_loss   cls_loss   dfl_loss  Instances       Size\n"
     ]
    },
    {
     "name": "stderr",
     "output_type": "stream",
     "text": [
      "      29/50      2.27G      1.756      1.044     0.9828          0        512: 100%|██████████| 227/227 [00:32<00:00,  7.06it/s]\n",
      "                 Class     Images  Instances      Box(P          R      mAP50  mAP50-95): 100%|██████████| 15/15 [00:02<00:00,  5.21it/s]"
     ]
    },
    {
     "name": "stdout",
     "output_type": "stream",
     "text": [
      "                   all        452        383      0.813      0.668      0.756      0.315\n"
     ]
    },
    {
     "name": "stderr",
     "output_type": "stream",
     "text": [
      "\n"
     ]
    },
    {
     "name": "stdout",
     "output_type": "stream",
     "text": [
      "\n",
      "      Epoch    GPU_mem   box_loss   cls_loss   dfl_loss  Instances       Size\n"
     ]
    },
    {
     "name": "stderr",
     "output_type": "stream",
     "text": [
      "      30/50      2.29G      1.833       1.02     0.9963          1        512: 100%|██████████| 227/227 [00:32<00:00,  6.93it/s]\n",
      "                 Class     Images  Instances      Box(P          R      mAP50  mAP50-95): 100%|██████████| 15/15 [00:02<00:00,  5.69it/s]"
     ]
    },
    {
     "name": "stdout",
     "output_type": "stream",
     "text": [
      "                   all        452        383      0.813      0.681      0.771       0.32\n"
     ]
    },
    {
     "name": "stderr",
     "output_type": "stream",
     "text": [
      "\n"
     ]
    },
    {
     "name": "stdout",
     "output_type": "stream",
     "text": [
      "\n",
      "      Epoch    GPU_mem   box_loss   cls_loss   dfl_loss  Instances       Size\n"
     ]
    },
    {
     "name": "stderr",
     "output_type": "stream",
     "text": [
      "      31/50       2.3G      1.785      1.014     0.9888          0        512: 100%|██████████| 227/227 [00:33<00:00,  6.70it/s]\n",
      "                 Class     Images  Instances      Box(P          R      mAP50  mAP50-95): 100%|██████████| 15/15 [00:02<00:00,  5.75it/s]"
     ]
    },
    {
     "name": "stdout",
     "output_type": "stream",
     "text": [
      "                   all        452        383      0.885      0.661      0.783      0.337\n"
     ]
    },
    {
     "name": "stderr",
     "output_type": "stream",
     "text": [
      "\n"
     ]
    },
    {
     "name": "stdout",
     "output_type": "stream",
     "text": [
      "\n",
      "      Epoch    GPU_mem   box_loss   cls_loss   dfl_loss  Instances       Size\n"
     ]
    },
    {
     "name": "stderr",
     "output_type": "stream",
     "text": [
      "      32/50      2.33G      1.813       1.02     0.9852          0        512: 100%|██████████| 227/227 [00:33<00:00,  6.87it/s]\n",
      "                 Class     Images  Instances      Box(P          R      mAP50  mAP50-95): 100%|██████████| 15/15 [00:02<00:00,  5.35it/s]"
     ]
    },
    {
     "name": "stdout",
     "output_type": "stream",
     "text": [
      "                   all        452        383      0.882      0.686      0.786      0.324\n"
     ]
    },
    {
     "name": "stderr",
     "output_type": "stream",
     "text": [
      "\n"
     ]
    },
    {
     "name": "stdout",
     "output_type": "stream",
     "text": [
      "\n",
      "      Epoch    GPU_mem   box_loss   cls_loss   dfl_loss  Instances       Size\n"
     ]
    },
    {
     "name": "stderr",
     "output_type": "stream",
     "text": [
      "      33/50      2.34G      1.806      1.012     0.9932         10        512: 100%|██████████| 227/227 [00:33<00:00,  6.83it/s]\n",
      "                 Class     Images  Instances      Box(P          R      mAP50  mAP50-95): 100%|██████████| 15/15 [00:02<00:00,  5.16it/s]"
     ]
    },
    {
     "name": "stdout",
     "output_type": "stream",
     "text": [
      "                   all        452        383       0.83      0.697      0.787      0.324\n"
     ]
    },
    {
     "name": "stderr",
     "output_type": "stream",
     "text": [
      "\n"
     ]
    },
    {
     "name": "stdout",
     "output_type": "stream",
     "text": [
      "\n",
      "      Epoch    GPU_mem   box_loss   cls_loss   dfl_loss  Instances       Size\n"
     ]
    },
    {
     "name": "stderr",
     "output_type": "stream",
     "text": [
      "      34/50      2.36G      1.772     0.9743     0.9895          0        512: 100%|██████████| 227/227 [00:34<00:00,  6.64it/s]\n",
      "                 Class     Images  Instances      Box(P          R      mAP50  mAP50-95): 100%|██████████| 15/15 [00:02<00:00,  5.38it/s]"
     ]
    },
    {
     "name": "stdout",
     "output_type": "stream",
     "text": [
      "                   all        452        383       0.82       0.69      0.764      0.332\n"
     ]
    },
    {
     "name": "stderr",
     "output_type": "stream",
     "text": [
      "\n"
     ]
    },
    {
     "name": "stdout",
     "output_type": "stream",
     "text": [
      "\n",
      "      Epoch    GPU_mem   box_loss   cls_loss   dfl_loss  Instances       Size\n"
     ]
    },
    {
     "name": "stderr",
     "output_type": "stream",
     "text": [
      "      35/50      2.57G      1.763     0.9789     0.9746          0        512: 100%|██████████| 227/227 [00:33<00:00,  6.78it/s]\n",
      "                 Class     Images  Instances      Box(P          R      mAP50  mAP50-95): 100%|██████████| 15/15 [00:02<00:00,  5.37it/s]"
     ]
    },
    {
     "name": "stdout",
     "output_type": "stream",
     "text": [
      "                   all        452        383      0.812      0.699      0.771      0.347\n"
     ]
    },
    {
     "name": "stderr",
     "output_type": "stream",
     "text": [
      "\n"
     ]
    },
    {
     "name": "stdout",
     "output_type": "stream",
     "text": [
      "\n",
      "      Epoch    GPU_mem   box_loss   cls_loss   dfl_loss  Instances       Size\n"
     ]
    },
    {
     "name": "stderr",
     "output_type": "stream",
     "text": [
      "      36/50       2.6G      1.751     0.9638     0.9831          1        512: 100%|██████████| 227/227 [00:34<00:00,  6.57it/s]\n",
      "                 Class     Images  Instances      Box(P          R      mAP50  mAP50-95): 100%|██████████| 15/15 [00:03<00:00,  4.97it/s]"
     ]
    },
    {
     "name": "stdout",
     "output_type": "stream",
     "text": [
      "                   all        452        383      0.826      0.743      0.805      0.342\n"
     ]
    },
    {
     "name": "stderr",
     "output_type": "stream",
     "text": [
      "\n"
     ]
    },
    {
     "name": "stdout",
     "output_type": "stream",
     "text": [
      "\n",
      "      Epoch    GPU_mem   box_loss   cls_loss   dfl_loss  Instances       Size\n"
     ]
    },
    {
     "name": "stderr",
     "output_type": "stream",
     "text": [
      "      37/50      2.62G      1.749     0.9596     0.9732          0        512: 100%|██████████| 227/227 [00:33<00:00,  6.75it/s]\n",
      "                 Class     Images  Instances      Box(P          R      mAP50  mAP50-95): 100%|██████████| 15/15 [00:02<00:00,  5.53it/s]"
     ]
    },
    {
     "name": "stdout",
     "output_type": "stream",
     "text": [
      "                   all        452        383      0.862      0.717      0.806      0.349\n"
     ]
    },
    {
     "name": "stderr",
     "output_type": "stream",
     "text": [
      "\n"
     ]
    },
    {
     "name": "stdout",
     "output_type": "stream",
     "text": [
      "\n",
      "      Epoch    GPU_mem   box_loss   cls_loss   dfl_loss  Instances       Size\n"
     ]
    },
    {
     "name": "stderr",
     "output_type": "stream",
     "text": [
      "      38/50      2.63G      1.744      0.954     0.9787          0        512: 100%|██████████| 227/227 [00:32<00:00,  7.01it/s]\n",
      "                 Class     Images  Instances      Box(P          R      mAP50  mAP50-95): 100%|██████████| 15/15 [00:02<00:00,  5.68it/s]"
     ]
    },
    {
     "name": "stdout",
     "output_type": "stream",
     "text": [
      "                   all        452        383      0.835      0.736      0.814      0.358\n"
     ]
    },
    {
     "name": "stderr",
     "output_type": "stream",
     "text": [
      "\n"
     ]
    },
    {
     "name": "stdout",
     "output_type": "stream",
     "text": [
      "\n",
      "      Epoch    GPU_mem   box_loss   cls_loss   dfl_loss  Instances       Size\n"
     ]
    },
    {
     "name": "stderr",
     "output_type": "stream",
     "text": [
      "      39/50      2.64G      1.734     0.9252     0.9715          0        512: 100%|██████████| 227/227 [00:32<00:00,  7.08it/s]\n",
      "                 Class     Images  Instances      Box(P          R      mAP50  mAP50-95): 100%|██████████| 15/15 [00:02<00:00,  5.57it/s]"
     ]
    },
    {
     "name": "stdout",
     "output_type": "stream",
     "text": [
      "                   all        452        383      0.915      0.675      0.809      0.343\n"
     ]
    },
    {
     "name": "stderr",
     "output_type": "stream",
     "text": [
      "\n"
     ]
    },
    {
     "name": "stdout",
     "output_type": "stream",
     "text": [
      "\n",
      "      Epoch    GPU_mem   box_loss   cls_loss   dfl_loss  Instances       Size\n"
     ]
    },
    {
     "name": "stderr",
     "output_type": "stream",
     "text": [
      "      40/50      2.67G      1.742     0.9359     0.9713          0        512: 100%|██████████| 227/227 [00:32<00:00,  6.95it/s]\n",
      "                 Class     Images  Instances      Box(P          R      mAP50  mAP50-95): 100%|██████████| 15/15 [00:02<00:00,  5.16it/s]"
     ]
    },
    {
     "name": "stdout",
     "output_type": "stream",
     "text": [
      "                   all        452        383       0.84      0.724      0.813      0.354\n"
     ]
    },
    {
     "name": "stderr",
     "output_type": "stream",
     "text": [
      "\n"
     ]
    },
    {
     "name": "stdout",
     "output_type": "stream",
     "text": [
      "Closing dataloader mosaic\n",
      "\n",
      "      Epoch    GPU_mem   box_loss   cls_loss   dfl_loss  Instances       Size\n"
     ]
    },
    {
     "name": "stderr",
     "output_type": "stream",
     "text": [
      "      41/50      2.69G      1.703     0.9363     0.9823          0        512: 100%|██████████| 227/227 [00:32<00:00,  6.89it/s]\n",
      "                 Class     Images  Instances      Box(P          R      mAP50  mAP50-95): 100%|██████████| 15/15 [00:03<00:00,  4.54it/s]"
     ]
    },
    {
     "name": "stdout",
     "output_type": "stream",
     "text": [
      "                   all        452        383      0.879      0.697        0.8      0.345\n"
     ]
    },
    {
     "name": "stderr",
     "output_type": "stream",
     "text": [
      "\n"
     ]
    },
    {
     "name": "stdout",
     "output_type": "stream",
     "text": [
      "\n",
      "      Epoch    GPU_mem   box_loss   cls_loss   dfl_loss  Instances       Size\n"
     ]
    },
    {
     "name": "stderr",
     "output_type": "stream",
     "text": [
      "      42/50       2.7G      1.704     0.9214     0.9824          1        512: 100%|██████████| 227/227 [00:33<00:00,  6.78it/s]\n",
      "                 Class     Images  Instances      Box(P          R      mAP50  mAP50-95): 100%|██████████| 15/15 [00:02<00:00,  5.61it/s]"
     ]
    },
    {
     "name": "stdout",
     "output_type": "stream",
     "text": [
      "                   all        452        383      0.892      0.711      0.818      0.357\n"
     ]
    },
    {
     "name": "stderr",
     "output_type": "stream",
     "text": [
      "\n"
     ]
    },
    {
     "name": "stdout",
     "output_type": "stream",
     "text": [
      "\n",
      "      Epoch    GPU_mem   box_loss   cls_loss   dfl_loss  Instances       Size\n"
     ]
    },
    {
     "name": "stderr",
     "output_type": "stream",
     "text": [
      "      43/50      2.71G      1.681     0.8846      0.985          0        512: 100%|██████████| 227/227 [00:33<00:00,  6.73it/s]\n",
      "                 Class     Images  Instances      Box(P          R      mAP50  mAP50-95): 100%|██████████| 15/15 [00:02<00:00,  5.14it/s]"
     ]
    },
    {
     "name": "stdout",
     "output_type": "stream",
     "text": [
      "                   all        452        383      0.852      0.749      0.815      0.367\n"
     ]
    },
    {
     "name": "stderr",
     "output_type": "stream",
     "text": [
      "\n"
     ]
    },
    {
     "name": "stdout",
     "output_type": "stream",
     "text": [
      "\n",
      "      Epoch    GPU_mem   box_loss   cls_loss   dfl_loss  Instances       Size\n"
     ]
    },
    {
     "name": "stderr",
     "output_type": "stream",
     "text": [
      "      44/50      2.74G       1.68     0.8963     0.9782          1        512: 100%|██████████| 227/227 [00:32<00:00,  6.95it/s]\n",
      "                 Class     Images  Instances      Box(P          R      mAP50  mAP50-95): 100%|██████████| 15/15 [00:02<00:00,  5.38it/s]"
     ]
    },
    {
     "name": "stdout",
     "output_type": "stream",
     "text": [
      "                   all        452        383      0.855      0.744      0.815      0.334\n"
     ]
    },
    {
     "name": "stderr",
     "output_type": "stream",
     "text": [
      "\n"
     ]
    },
    {
     "name": "stdout",
     "output_type": "stream",
     "text": [
      "\n",
      "      Epoch    GPU_mem   box_loss   cls_loss   dfl_loss  Instances       Size\n"
     ]
    },
    {
     "name": "stderr",
     "output_type": "stream",
     "text": [
      "      45/50      2.75G      1.668     0.8663     0.9895          1        512: 100%|██████████| 227/227 [00:32<00:00,  7.09it/s]\n",
      "                 Class     Images  Instances      Box(P          R      mAP50  mAP50-95): 100%|██████████| 15/15 [00:02<00:00,  5.87it/s]"
     ]
    },
    {
     "name": "stdout",
     "output_type": "stream",
     "text": [
      "                   all        452        383      0.882       0.76      0.838      0.365\n"
     ]
    },
    {
     "name": "stderr",
     "output_type": "stream",
     "text": [
      "\n"
     ]
    },
    {
     "name": "stdout",
     "output_type": "stream",
     "text": [
      "\n",
      "      Epoch    GPU_mem   box_loss   cls_loss   dfl_loss  Instances       Size\n"
     ]
    },
    {
     "name": "stderr",
     "output_type": "stream",
     "text": [
      "      46/50      2.77G       1.65     0.8557     0.9794          1        512: 100%|██████████| 227/227 [00:31<00:00,  7.10it/s]\n",
      "                 Class     Images  Instances      Box(P          R      mAP50  mAP50-95): 100%|██████████| 15/15 [00:02<00:00,  5.62it/s]"
     ]
    },
    {
     "name": "stdout",
     "output_type": "stream",
     "text": [
      "                   all        452        383      0.856      0.734      0.819      0.364\n"
     ]
    },
    {
     "name": "stderr",
     "output_type": "stream",
     "text": [
      "\n"
     ]
    },
    {
     "name": "stdout",
     "output_type": "stream",
     "text": [
      "\n",
      "      Epoch    GPU_mem   box_loss   cls_loss   dfl_loss  Instances       Size\n"
     ]
    },
    {
     "name": "stderr",
     "output_type": "stream",
     "text": [
      "      47/50      2.78G      1.646     0.8693     0.9876          1        512: 100%|██████████| 227/227 [00:31<00:00,  7.17it/s]\n",
      "                 Class     Images  Instances      Box(P          R      mAP50  mAP50-95): 100%|██████████| 15/15 [00:02<00:00,  5.80it/s]"
     ]
    },
    {
     "name": "stdout",
     "output_type": "stream",
     "text": [
      "                   all        452        383      0.871      0.747      0.818      0.361\n"
     ]
    },
    {
     "name": "stderr",
     "output_type": "stream",
     "text": [
      "\n"
     ]
    },
    {
     "name": "stdout",
     "output_type": "stream",
     "text": [
      "\n",
      "      Epoch    GPU_mem   box_loss   cls_loss   dfl_loss  Instances       Size\n"
     ]
    },
    {
     "name": "stderr",
     "output_type": "stream",
     "text": [
      "      48/50       2.8G      1.619     0.8483     0.9653          4        512: 100%|██████████| 227/227 [00:31<00:00,  7.10it/s]\n",
      "                 Class     Images  Instances      Box(P          R      mAP50  mAP50-95): 100%|██████████| 15/15 [00:02<00:00,  5.70it/s]"
     ]
    },
    {
     "name": "stdout",
     "output_type": "stream",
     "text": [
      "                   all        452        383      0.845      0.755      0.803      0.357\n"
     ]
    },
    {
     "name": "stderr",
     "output_type": "stream",
     "text": [
      "\n"
     ]
    },
    {
     "name": "stdout",
     "output_type": "stream",
     "text": [
      "\n",
      "      Epoch    GPU_mem   box_loss   cls_loss   dfl_loss  Instances       Size\n"
     ]
    },
    {
     "name": "stderr",
     "output_type": "stream",
     "text": [
      "      49/50      2.82G      1.596     0.8385      0.949          0        512: 100%|██████████| 227/227 [00:31<00:00,  7.17it/s]\n",
      "                 Class     Images  Instances      Box(P          R      mAP50  mAP50-95): 100%|██████████| 15/15 [00:02<00:00,  5.83it/s]"
     ]
    },
    {
     "name": "stdout",
     "output_type": "stream",
     "text": [
      "                   all        452        383      0.821      0.766      0.808      0.353\n"
     ]
    },
    {
     "name": "stderr",
     "output_type": "stream",
     "text": [
      "\n"
     ]
    },
    {
     "name": "stdout",
     "output_type": "stream",
     "text": [
      "\n",
      "      Epoch    GPU_mem   box_loss   cls_loss   dfl_loss  Instances       Size\n"
     ]
    },
    {
     "name": "stderr",
     "output_type": "stream",
     "text": [
      "      50/50      2.84G      1.604     0.8178     0.9739          0        512: 100%|██████████| 227/227 [00:32<00:00,  7.04it/s]\n",
      "                 Class     Images  Instances      Box(P          R      mAP50  mAP50-95): 100%|██████████| 15/15 [00:02<00:00,  5.69it/s]"
     ]
    },
    {
     "name": "stdout",
     "output_type": "stream",
     "text": [
      "                   all        452        383      0.838       0.77      0.811      0.359\n"
     ]
    },
    {
     "name": "stderr",
     "output_type": "stream",
     "text": [
      "\n"
     ]
    },
    {
     "name": "stdout",
     "output_type": "stream",
     "text": [
      "\n",
      "50 epochs completed in 0.509 hours.\n",
      "Optimizer stripped from runs\\detect\\first-boat-detection-nano\\weights\\last.pt, 6.2MB\n",
      "Optimizer stripped from runs\\detect\\first-boat-detection-nano\\weights\\best.pt, 6.2MB\n",
      "\n",
      "Validating runs\\detect\\first-boat-detection-nano\\weights\\best.pt...\n",
      "Ultralytics 8.3.126  Python-3.12.10 torch-2.7.0+cu128 CUDA:0 (NVIDIA GeForce RTX 4060 Laptop GPU, 8188MiB)\n",
      "Model summary (fused): 72 layers, 3,005,843 parameters, 0 gradients, 8.1 GFLOPs\n"
     ]
    },
    {
     "name": "stderr",
     "output_type": "stream",
     "text": [
      "                 Class     Images  Instances      Box(P          R      mAP50  mAP50-95): 100%|██████████| 15/15 [00:03<00:00,  4.87it/s]\n"
     ]
    },
    {
     "name": "stdout",
     "output_type": "stream",
     "text": [
      "                   all        452        383      0.893       0.76      0.838      0.365\n",
      "Speed: 0.2ms preprocess, 1.5ms inference, 0.0ms loss, 1.9ms postprocess per image\n",
      "Results saved to \u001b[1mruns\\detect\\first-boat-detection-nano\u001b[0m\n"
     ]
    },
    {
     "data": {
      "text/plain": [
       "ultralytics.utils.metrics.DetMetrics object with attributes:\n",
       "\n",
       "ap_class_index: array([0])\n",
       "box: ultralytics.utils.metrics.Metric object\n",
       "confusion_matrix: <ultralytics.utils.metrics.ConfusionMatrix object at 0x00000234F1E4D4C0>\n",
       "curves: ['Precision-Recall(B)', 'F1-Confidence(B)', 'Precision-Confidence(B)', 'Recall-Confidence(B)']\n",
       "curves_results: [[array([          0,    0.001001,    0.002002,    0.003003,    0.004004,    0.005005,    0.006006,    0.007007,    0.008008,    0.009009,     0.01001,    0.011011,    0.012012,    0.013013,    0.014014,    0.015015,    0.016016,    0.017017,    0.018018,    0.019019,     0.02002,    0.021021,    0.022022,    0.023023,\n",
       "          0.024024,    0.025025,    0.026026,    0.027027,    0.028028,    0.029029,     0.03003,    0.031031,    0.032032,    0.033033,    0.034034,    0.035035,    0.036036,    0.037037,    0.038038,    0.039039,     0.04004,    0.041041,    0.042042,    0.043043,    0.044044,    0.045045,    0.046046,    0.047047,\n",
       "          0.048048,    0.049049,     0.05005,    0.051051,    0.052052,    0.053053,    0.054054,    0.055055,    0.056056,    0.057057,    0.058058,    0.059059,     0.06006,    0.061061,    0.062062,    0.063063,    0.064064,    0.065065,    0.066066,    0.067067,    0.068068,    0.069069,     0.07007,    0.071071,\n",
       "          0.072072,    0.073073,    0.074074,    0.075075,    0.076076,    0.077077,    0.078078,    0.079079,     0.08008,    0.081081,    0.082082,    0.083083,    0.084084,    0.085085,    0.086086,    0.087087,    0.088088,    0.089089,     0.09009,    0.091091,    0.092092,    0.093093,    0.094094,    0.095095,\n",
       "          0.096096,    0.097097,    0.098098,    0.099099,      0.1001,      0.1011,      0.1021,      0.1031,      0.1041,     0.10511,     0.10611,     0.10711,     0.10811,     0.10911,     0.11011,     0.11111,     0.11211,     0.11311,     0.11411,     0.11512,     0.11612,     0.11712,     0.11812,     0.11912,\n",
       "           0.12012,     0.12112,     0.12212,     0.12312,     0.12412,     0.12513,     0.12613,     0.12713,     0.12813,     0.12913,     0.13013,     0.13113,     0.13213,     0.13313,     0.13413,     0.13514,     0.13614,     0.13714,     0.13814,     0.13914,     0.14014,     0.14114,     0.14214,     0.14314,\n",
       "           0.14414,     0.14515,     0.14615,     0.14715,     0.14815,     0.14915,     0.15015,     0.15115,     0.15215,     0.15315,     0.15415,     0.15516,     0.15616,     0.15716,     0.15816,     0.15916,     0.16016,     0.16116,     0.16216,     0.16316,     0.16416,     0.16517,     0.16617,     0.16717,\n",
       "           0.16817,     0.16917,     0.17017,     0.17117,     0.17217,     0.17317,     0.17417,     0.17518,     0.17618,     0.17718,     0.17818,     0.17918,     0.18018,     0.18118,     0.18218,     0.18318,     0.18418,     0.18519,     0.18619,     0.18719,     0.18819,     0.18919,     0.19019,     0.19119,\n",
       "           0.19219,     0.19319,     0.19419,      0.1952,      0.1962,      0.1972,      0.1982,      0.1992,      0.2002,      0.2012,      0.2022,      0.2032,      0.2042,     0.20521,     0.20621,     0.20721,     0.20821,     0.20921,     0.21021,     0.21121,     0.21221,     0.21321,     0.21421,     0.21522,\n",
       "           0.21622,     0.21722,     0.21822,     0.21922,     0.22022,     0.22122,     0.22222,     0.22322,     0.22422,     0.22523,     0.22623,     0.22723,     0.22823,     0.22923,     0.23023,     0.23123,     0.23223,     0.23323,     0.23423,     0.23524,     0.23624,     0.23724,     0.23824,     0.23924,\n",
       "           0.24024,     0.24124,     0.24224,     0.24324,     0.24424,     0.24525,     0.24625,     0.24725,     0.24825,     0.24925,     0.25025,     0.25125,     0.25225,     0.25325,     0.25425,     0.25526,     0.25626,     0.25726,     0.25826,     0.25926,     0.26026,     0.26126,     0.26226,     0.26326,\n",
       "           0.26426,     0.26527,     0.26627,     0.26727,     0.26827,     0.26927,     0.27027,     0.27127,     0.27227,     0.27327,     0.27427,     0.27528,     0.27628,     0.27728,     0.27828,     0.27928,     0.28028,     0.28128,     0.28228,     0.28328,     0.28428,     0.28529,     0.28629,     0.28729,\n",
       "           0.28829,     0.28929,     0.29029,     0.29129,     0.29229,     0.29329,     0.29429,      0.2953,      0.2963,      0.2973,      0.2983,      0.2993,      0.3003,      0.3013,      0.3023,      0.3033,      0.3043,     0.30531,     0.30631,     0.30731,     0.30831,     0.30931,     0.31031,     0.31131,\n",
       "           0.31231,     0.31331,     0.31431,     0.31532,     0.31632,     0.31732,     0.31832,     0.31932,     0.32032,     0.32132,     0.32232,     0.32332,     0.32432,     0.32533,     0.32633,     0.32733,     0.32833,     0.32933,     0.33033,     0.33133,     0.33233,     0.33333,     0.33433,     0.33534,\n",
       "           0.33634,     0.33734,     0.33834,     0.33934,     0.34034,     0.34134,     0.34234,     0.34334,     0.34434,     0.34535,     0.34635,     0.34735,     0.34835,     0.34935,     0.35035,     0.35135,     0.35235,     0.35335,     0.35435,     0.35536,     0.35636,     0.35736,     0.35836,     0.35936,\n",
       "           0.36036,     0.36136,     0.36236,     0.36336,     0.36436,     0.36537,     0.36637,     0.36737,     0.36837,     0.36937,     0.37037,     0.37137,     0.37237,     0.37337,     0.37437,     0.37538,     0.37638,     0.37738,     0.37838,     0.37938,     0.38038,     0.38138,     0.38238,     0.38338,\n",
       "           0.38438,     0.38539,     0.38639,     0.38739,     0.38839,     0.38939,     0.39039,     0.39139,     0.39239,     0.39339,     0.39439,      0.3954,      0.3964,      0.3974,      0.3984,      0.3994,      0.4004,      0.4014,      0.4024,      0.4034,      0.4044,     0.40541,     0.40641,     0.40741,\n",
       "           0.40841,     0.40941,     0.41041,     0.41141,     0.41241,     0.41341,     0.41441,     0.41542,     0.41642,     0.41742,     0.41842,     0.41942,     0.42042,     0.42142,     0.42242,     0.42342,     0.42442,     0.42543,     0.42643,     0.42743,     0.42843,     0.42943,     0.43043,     0.43143,\n",
       "           0.43243,     0.43343,     0.43443,     0.43544,     0.43644,     0.43744,     0.43844,     0.43944,     0.44044,     0.44144,     0.44244,     0.44344,     0.44444,     0.44545,     0.44645,     0.44745,     0.44845,     0.44945,     0.45045,     0.45145,     0.45245,     0.45345,     0.45445,     0.45546,\n",
       "           0.45646,     0.45746,     0.45846,     0.45946,     0.46046,     0.46146,     0.46246,     0.46346,     0.46446,     0.46547,     0.46647,     0.46747,     0.46847,     0.46947,     0.47047,     0.47147,     0.47247,     0.47347,     0.47447,     0.47548,     0.47648,     0.47748,     0.47848,     0.47948,\n",
       "           0.48048,     0.48148,     0.48248,     0.48348,     0.48448,     0.48549,     0.48649,     0.48749,     0.48849,     0.48949,     0.49049,     0.49149,     0.49249,     0.49349,     0.49449,      0.4955,      0.4965,      0.4975,      0.4985,      0.4995,      0.5005,      0.5015,      0.5025,      0.5035,\n",
       "            0.5045,     0.50551,     0.50651,     0.50751,     0.50851,     0.50951,     0.51051,     0.51151,     0.51251,     0.51351,     0.51451,     0.51552,     0.51652,     0.51752,     0.51852,     0.51952,     0.52052,     0.52152,     0.52252,     0.52352,     0.52452,     0.52553,     0.52653,     0.52753,\n",
       "           0.52853,     0.52953,     0.53053,     0.53153,     0.53253,     0.53353,     0.53453,     0.53554,     0.53654,     0.53754,     0.53854,     0.53954,     0.54054,     0.54154,     0.54254,     0.54354,     0.54454,     0.54555,     0.54655,     0.54755,     0.54855,     0.54955,     0.55055,     0.55155,\n",
       "           0.55255,     0.55355,     0.55455,     0.55556,     0.55656,     0.55756,     0.55856,     0.55956,     0.56056,     0.56156,     0.56256,     0.56356,     0.56456,     0.56557,     0.56657,     0.56757,     0.56857,     0.56957,     0.57057,     0.57157,     0.57257,     0.57357,     0.57457,     0.57558,\n",
       "           0.57658,     0.57758,     0.57858,     0.57958,     0.58058,     0.58158,     0.58258,     0.58358,     0.58458,     0.58559,     0.58659,     0.58759,     0.58859,     0.58959,     0.59059,     0.59159,     0.59259,     0.59359,     0.59459,      0.5956,      0.5966,      0.5976,      0.5986,      0.5996,\n",
       "            0.6006,      0.6016,      0.6026,      0.6036,      0.6046,     0.60561,     0.60661,     0.60761,     0.60861,     0.60961,     0.61061,     0.61161,     0.61261,     0.61361,     0.61461,     0.61562,     0.61662,     0.61762,     0.61862,     0.61962,     0.62062,     0.62162,     0.62262,     0.62362,\n",
       "           0.62462,     0.62563,     0.62663,     0.62763,     0.62863,     0.62963,     0.63063,     0.63163,     0.63263,     0.63363,     0.63463,     0.63564,     0.63664,     0.63764,     0.63864,     0.63964,     0.64064,     0.64164,     0.64264,     0.64364,     0.64464,     0.64565,     0.64665,     0.64765,\n",
       "           0.64865,     0.64965,     0.65065,     0.65165,     0.65265,     0.65365,     0.65465,     0.65566,     0.65666,     0.65766,     0.65866,     0.65966,     0.66066,     0.66166,     0.66266,     0.66366,     0.66466,     0.66567,     0.66667,     0.66767,     0.66867,     0.66967,     0.67067,     0.67167,\n",
       "           0.67267,     0.67367,     0.67467,     0.67568,     0.67668,     0.67768,     0.67868,     0.67968,     0.68068,     0.68168,     0.68268,     0.68368,     0.68468,     0.68569,     0.68669,     0.68769,     0.68869,     0.68969,     0.69069,     0.69169,     0.69269,     0.69369,     0.69469,      0.6957,\n",
       "            0.6967,      0.6977,      0.6987,      0.6997,      0.7007,      0.7017,      0.7027,      0.7037,      0.7047,     0.70571,     0.70671,     0.70771,     0.70871,     0.70971,     0.71071,     0.71171,     0.71271,     0.71371,     0.71471,     0.71572,     0.71672,     0.71772,     0.71872,     0.71972,\n",
       "           0.72072,     0.72172,     0.72272,     0.72372,     0.72472,     0.72573,     0.72673,     0.72773,     0.72873,     0.72973,     0.73073,     0.73173,     0.73273,     0.73373,     0.73473,     0.73574,     0.73674,     0.73774,     0.73874,     0.73974,     0.74074,     0.74174,     0.74274,     0.74374,\n",
       "           0.74474,     0.74575,     0.74675,     0.74775,     0.74875,     0.74975,     0.75075,     0.75175,     0.75275,     0.75375,     0.75475,     0.75576,     0.75676,     0.75776,     0.75876,     0.75976,     0.76076,     0.76176,     0.76276,     0.76376,     0.76476,     0.76577,     0.76677,     0.76777,\n",
       "           0.76877,     0.76977,     0.77077,     0.77177,     0.77277,     0.77377,     0.77477,     0.77578,     0.77678,     0.77778,     0.77878,     0.77978,     0.78078,     0.78178,     0.78278,     0.78378,     0.78478,     0.78579,     0.78679,     0.78779,     0.78879,     0.78979,     0.79079,     0.79179,\n",
       "           0.79279,     0.79379,     0.79479,      0.7958,      0.7968,      0.7978,      0.7988,      0.7998,      0.8008,      0.8018,      0.8028,      0.8038,      0.8048,     0.80581,     0.80681,     0.80781,     0.80881,     0.80981,     0.81081,     0.81181,     0.81281,     0.81381,     0.81481,     0.81582,\n",
       "           0.81682,     0.81782,     0.81882,     0.81982,     0.82082,     0.82182,     0.82282,     0.82382,     0.82482,     0.82583,     0.82683,     0.82783,     0.82883,     0.82983,     0.83083,     0.83183,     0.83283,     0.83383,     0.83483,     0.83584,     0.83684,     0.83784,     0.83884,     0.83984,\n",
       "           0.84084,     0.84184,     0.84284,     0.84384,     0.84484,     0.84585,     0.84685,     0.84785,     0.84885,     0.84985,     0.85085,     0.85185,     0.85285,     0.85385,     0.85485,     0.85586,     0.85686,     0.85786,     0.85886,     0.85986,     0.86086,     0.86186,     0.86286,     0.86386,\n",
       "           0.86486,     0.86587,     0.86687,     0.86787,     0.86887,     0.86987,     0.87087,     0.87187,     0.87287,     0.87387,     0.87487,     0.87588,     0.87688,     0.87788,     0.87888,     0.87988,     0.88088,     0.88188,     0.88288,     0.88388,     0.88488,     0.88589,     0.88689,     0.88789,\n",
       "           0.88889,     0.88989,     0.89089,     0.89189,     0.89289,     0.89389,     0.89489,      0.8959,      0.8969,      0.8979,      0.8989,      0.8999,      0.9009,      0.9019,      0.9029,      0.9039,      0.9049,     0.90591,     0.90691,     0.90791,     0.90891,     0.90991,     0.91091,     0.91191,\n",
       "           0.91291,     0.91391,     0.91491,     0.91592,     0.91692,     0.91792,     0.91892,     0.91992,     0.92092,     0.92192,     0.92292,     0.92392,     0.92492,     0.92593,     0.92693,     0.92793,     0.92893,     0.92993,     0.93093,     0.93193,     0.93293,     0.93393,     0.93493,     0.93594,\n",
       "           0.93694,     0.93794,     0.93894,     0.93994,     0.94094,     0.94194,     0.94294,     0.94394,     0.94494,     0.94595,     0.94695,     0.94795,     0.94895,     0.94995,     0.95095,     0.95195,     0.95295,     0.95395,     0.95495,     0.95596,     0.95696,     0.95796,     0.95896,     0.95996,\n",
       "           0.96096,     0.96196,     0.96296,     0.96396,     0.96496,     0.96597,     0.96697,     0.96797,     0.96897,     0.96997,     0.97097,     0.97197,     0.97297,     0.97397,     0.97497,     0.97598,     0.97698,     0.97798,     0.97898,     0.97998,     0.98098,     0.98198,     0.98298,     0.98398,\n",
       "           0.98498,     0.98599,     0.98699,     0.98799,     0.98899,     0.98999,     0.99099,     0.99199,     0.99299,     0.99399,     0.99499,       0.996,       0.997,       0.998,       0.999,           1]), array([[          1,           1,           1,           1,           1,           1,           1,           1,           1,           1,           1,           1,           1,           1,           1,           1,           1,           1,           1,           1,           1,           1,           1,\n",
       "                  1,           1,           1,           1,           1,           1,           1,           1,           1,           1,           1,           1,           1,           1,           1,           1,           1,           1,           1,           1,           1,           1,           1,\n",
       "                  1,           1,           1,           1,           1,           1,           1,           1,           1,           1,           1,           1,           1,           1,           1,           1,           1,           1,           1,           1,           1,           1,           1,\n",
       "                  1,           1,           1,           1,           1,           1,           1,           1,           1,           1,           1,           1,           1,           1,           1,           1,           1,           1,           1,           1,           1,           1,           1,\n",
       "                  1,           1,           1,           1,           1,           1,           1,           1,           1,           1,           1,           1,           1,           1,           1,           1,           1,           1,           1,           1,           1,           1,           1,\n",
       "                  1,           1,           1,           1,           1,           1,           1,           1,           1,           1,           1,           1,           1,           1,           1,           1,           1,           1,           1,           1,           1,           1,           1,\n",
       "                  1,           1,           1,           1,           1,           1,           1,           1,           1,           1,           1,     0.98684,     0.98684,     0.98684,     0.98684,     0.98684,     0.98684,     0.98684,     0.98684,     0.98684,     0.98684,     0.98684,     0.98684,\n",
       "            0.98684,     0.98684,     0.98684,     0.98684,     0.98684,     0.98684,     0.98684,     0.98684,     0.98684,     0.98684,     0.98684,     0.98684,     0.98684,     0.98684,     0.98684,     0.98684,     0.98684,     0.98684,     0.98684,     0.98684,     0.98684,     0.98684,     0.98684,\n",
       "            0.98684,     0.98684,     0.98684,     0.98684,     0.98684,     0.98684,     0.98684,     0.98684,     0.98684,     0.98684,     0.98684,     0.98684,     0.98438,     0.98438,     0.98438,     0.98438,     0.98438,     0.98438,     0.98438,     0.98438,     0.98438,     0.98438,     0.98438,\n",
       "            0.98438,     0.98438,     0.98438,     0.98438,     0.98438,     0.98438,     0.98438,     0.98438,     0.98438,     0.98438,     0.98438,     0.98438,     0.98438,     0.98438,     0.98438,     0.98438,     0.98438,     0.98438,     0.98438,     0.98438,     0.98438,     0.98438,     0.98438,\n",
       "            0.98438,     0.98438,     0.98438,     0.98438,     0.98438,     0.98438,     0.98438,     0.98438,     0.98438,     0.98438,     0.98438,     0.98438,     0.98438,     0.98438,     0.98438,     0.98438,     0.98438,     0.98438,     0.98438,     0.98438,     0.98438,     0.98438,     0.98438,\n",
       "            0.98438,     0.98438,     0.98438,     0.98438,     0.98438,     0.98438,     0.98438,     0.98438,     0.98438,     0.98438,     0.98438,     0.98438,     0.98438,     0.98438,     0.98438,     0.98438,     0.98438,     0.98438,     0.98438,     0.98438,     0.98438,     0.98438,     0.98438,\n",
       "            0.98438,     0.98438,     0.98438,     0.98438,     0.98438,     0.98438,     0.98438,     0.98438,     0.98438,     0.98438,     0.98438,     0.98438,     0.98438,     0.98438,     0.98438,     0.98438,     0.98438,     0.98438,     0.98438,     0.98438,     0.98438,     0.98438,     0.98438,\n",
       "            0.98438,     0.98438,     0.98438,     0.98438,     0.98438,     0.98438,     0.98438,     0.98438,     0.98438,     0.98438,     0.98438,     0.98438,     0.98438,     0.98438,     0.98438,     0.98438,     0.98438,     0.98438,     0.98438,     0.98438,     0.98438,     0.98438,     0.98438,\n",
       "            0.98438,     0.98438,     0.98438,     0.98438,     0.98438,     0.98438,     0.98438,     0.98235,     0.98235,     0.98235,     0.98235,     0.98235,     0.98235,     0.98235,     0.98235,     0.98235,     0.98235,     0.98235,     0.98235,     0.98235,     0.98235,     0.98235,     0.98235,\n",
       "            0.98235,     0.98235,     0.98235,     0.98235,     0.98235,     0.98235,     0.98235,     0.98235,     0.98235,     0.98235,     0.98235,     0.98235,     0.98235,     0.98235,     0.98235,     0.98235,     0.98235,     0.98235,     0.98235,     0.98235,     0.98235,     0.98235,     0.98235,\n",
       "            0.98235,     0.98235,     0.98235,     0.98235,     0.98235,     0.98235,     0.98235,     0.98235,     0.98235,     0.98235,     0.98235,     0.98235,     0.98235,     0.98235,     0.98235,     0.98235,     0.98235,     0.98235,     0.98235,     0.98235,     0.98235,     0.98235,     0.98235,\n",
       "            0.98235,     0.98235,     0.98235,     0.98235,     0.98235,     0.98235,     0.98235,     0.98235,     0.98235,     0.98235,     0.98235,     0.98235,     0.98235,     0.98235,     0.98235,     0.98235,     0.98235,     0.98235,     0.98235,     0.98235,     0.98235,     0.98235,     0.98235,\n",
       "            0.98235,     0.98235,     0.98235,     0.98235,     0.98235,     0.98235,     0.98235,     0.98235,     0.98235,     0.98235,     0.98235,     0.98235,     0.98235,     0.98235,     0.98235,     0.98235,     0.98235,     0.98235,     0.98235,     0.98235,     0.98235,     0.98235,      0.9779,\n",
       "             0.9779,      0.9779,      0.9779,      0.9779,      0.9779,      0.9779,      0.9779,      0.9779,      0.9779,      0.9779,      0.9779,      0.9779,      0.9779,      0.9779,      0.9779,      0.9779,      0.9779,      0.9779,      0.9779,      0.9779,      0.9779,      0.9779,      0.9779,\n",
       "             0.9779,      0.9779,     0.97326,     0.97326,     0.97326,     0.97326,     0.97326,     0.97326,     0.97326,     0.97326,     0.97326,     0.97326,     0.97326,     0.97326,     0.97326,     0.97156,     0.97156,     0.97156,     0.97156,     0.97156,     0.97156,     0.97156,     0.97156,\n",
       "            0.97156,     0.97156,     0.97156,     0.97156,     0.97156,     0.97156,     0.97156,     0.97156,     0.97156,     0.97156,     0.97156,     0.97156,     0.97156,     0.97156,     0.97156,     0.97156,     0.97156,     0.97156,     0.97156,     0.97156,     0.97156,     0.97156,     0.97156,\n",
       "            0.97156,     0.97156,     0.97156,     0.97156,     0.97156,     0.97156,     0.97156,     0.97156,     0.97156,     0.97156,     0.97156,     0.97156,     0.97156,     0.97156,     0.97156,     0.97156,     0.97156,     0.97156,     0.97156,     0.97156,     0.97156,     0.97156,     0.97156,\n",
       "            0.97156,     0.97156,     0.97156,     0.97156,     0.97156,     0.97156,     0.96996,     0.96996,     0.96996,     0.96996,     0.96996,     0.96996,     0.96996,     0.96996,     0.96996,     0.96996,     0.96996,     0.96996,     0.96996,     0.96996,     0.96996,     0.96996,     0.96996,\n",
       "            0.96996,     0.96996,     0.96996,     0.96996,     0.96996,     0.96996,     0.96996,     0.96996,     0.96996,     0.96996,     0.96996,     0.96996,     0.96996,     0.96996,     0.96996,     0.96996,     0.96996,     0.96996,     0.96996,     0.96996,     0.96996,     0.96996,     0.96996,\n",
       "            0.96996,     0.96996,     0.96996,     0.96996,     0.96996,     0.96996,     0.96996,     0.96996,     0.96996,     0.96996,     0.96996,     0.96996,     0.96996,     0.96996,     0.96996,     0.96624,     0.96624,     0.96624,     0.96624,     0.96624,     0.96624,     0.96624,     0.96624,\n",
       "            0.96356,     0.96356,     0.96356,     0.96356,     0.96356,     0.96356,     0.96356,     0.96356,     0.96356,     0.96356,     0.96356,     0.96356,     0.96356,     0.96356,     0.96356,     0.96356,     0.96356,     0.96356,     0.96356,     0.96356,     0.96356,     0.96356,     0.96356,\n",
       "               0.96,        0.96,        0.96,        0.96,        0.96,        0.96,     0.95652,     0.95652,     0.95652,     0.95652,     0.95652,     0.95331,     0.95331,     0.95331,     0.95331,     0.95331,     0.95331,     0.95331,     0.95331,     0.95038,     0.95038,     0.95038,     0.95038,\n",
       "            0.95038,     0.95038,     0.95038,     0.95038,     0.95038,     0.95038,     0.94757,     0.94757,     0.94757,     0.94757,     0.94757,     0.94757,     0.94757,     0.94757,     0.94757,     0.94757,     0.94444,     0.94444,     0.94444,     0.94444,     0.94444,     0.94444,     0.93502,\n",
       "            0.93502,     0.93502,     0.93502,     0.93502,     0.93502,     0.93502,     0.93502,     0.93502,     0.93502,      0.9319,      0.9319,      0.9319,     0.93031,     0.93031,     0.93031,     0.93031,     0.93031,     0.93031,     0.93031,     0.93031,     0.93031,     0.93031,     0.93031,\n",
       "            0.93031,     0.93031,     0.93031,     0.93031,     0.93031,     0.93031,     0.93031,     0.92734,     0.92734,     0.92734,     0.92517,     0.92517,     0.92517,     0.92517,     0.92517,     0.92517,     0.92517,     0.92517,     0.92517,     0.92517,     0.91694,     0.91694,     0.91694,\n",
       "            0.91694,     0.91694,     0.91694,     0.91694,     0.91694,     0.91694,     0.91694,     0.91148,     0.91148,     0.91148,     0.91148,     0.91148,     0.91148,     0.90879,     0.90879,     0.90415,     0.90415,     0.90415,     0.90415,     0.90415,     0.90415,     0.90415,     0.90415,\n",
       "            0.90415,     0.90415,     0.90415,     0.90159,     0.90159,     0.89905,     0.89905,     0.89905,     0.89264,     0.89264,     0.89264,     0.89264,     0.89264,     0.89264,     0.89264,     0.89264,     0.89264,     0.89264,     0.89264,     0.89264,     0.89264,     0.89264,     0.89264,\n",
       "            0.89264,     0.88218,     0.88218,     0.85423,     0.85423,     0.85423,     0.84971,     0.84971,      0.8477,      0.8477,      0.8477,     0.84419,     0.84419,     0.84419,     0.84419,     0.84419,     0.84419,     0.84419,     0.84419,     0.83565,     0.83565,     0.83565,     0.83565,\n",
       "            0.83565,     0.81793,     0.81793,     0.81793,     0.81622,     0.81622,     0.81283,     0.81283,     0.81283,     0.81283,     0.81283,     0.81167,     0.81167,     0.81167,     0.81167,     0.81167,     0.81167,      0.7974,      0.7974,     0.79434,     0.79434,     0.79434,     0.79434,\n",
       "            0.79434,     0.77114,     0.77114,     0.77114,     0.76601,     0.76601,     0.76601,     0.74463,     0.74463,     0.73995,     0.73995,     0.73995,     0.73193,     0.73193,     0.73193,     0.70946,     0.70946,     0.69757,     0.69757,     0.69757,      0.6967,      0.6967,     0.68534,\n",
       "            0.68534,     0.68534,     0.67722,     0.67722,     0.67722,     0.67722,     0.67722,     0.67722,     0.67722,     0.67722,     0.66392,     0.66392,     0.66324,     0.66324,     0.66324,     0.62913,     0.62913,     0.62913,     0.61049,     0.61049,     0.61049,     0.61049,     0.61049,\n",
       "            0.58497,     0.58497,     0.57746,     0.57746,     0.57746,     0.57517,     0.57517,     0.57517,     0.53746,     0.53746,     0.53045,     0.53045,     0.53045,     0.49925,     0.49925,     0.48401,     0.48401,     0.48401,     0.44533,     0.44533,     0.44533,     0.43677,     0.43677,\n",
       "            0.43355,     0.43355,     0.43355,     0.41605,     0.41605,     0.41605,      0.4092,      0.4092,     0.34985,     0.34985,     0.34985,      0.2771,      0.2771,     0.27302,     0.27302,     0.27302,     0.26147,     0.26147,     0.26147,     0.19228,     0.19046,     0.18865,     0.18684,\n",
       "            0.18502,     0.18321,     0.18139,     0.17958,     0.17777,     0.17595,     0.17414,     0.17232,     0.17051,      0.1687,     0.16688,     0.16507,     0.16325,     0.16144,     0.15963,     0.15781,       0.156,     0.15419,     0.15237,     0.15056,     0.14874,     0.14693,     0.14512,\n",
       "             0.1433,     0.14149,     0.13967,     0.13786,     0.13605,     0.13423,     0.13242,      0.1306,     0.12879,     0.12698,     0.12516,     0.12335,     0.12153,     0.11972,     0.11791,     0.11609,     0.11428,     0.11246,     0.11065,     0.10884,     0.10702,     0.10521,     0.10339,\n",
       "            0.10158,    0.099767,    0.097953,    0.096139,    0.094325,    0.092511,    0.090697,    0.088883,    0.087069,    0.085255,    0.083441,    0.081627,    0.079813,    0.077999,    0.076186,    0.074372,    0.072558,    0.070744,     0.06893,    0.067116,    0.065302,    0.063488,    0.061674,\n",
       "            0.05986,    0.058046,    0.056232,    0.054418,    0.052604,     0.05079,    0.048976,    0.047162,    0.045349,    0.043535,    0.041721,    0.039907,    0.038093,    0.036279,    0.034465,    0.032651,    0.030837,    0.029023,    0.027209,    0.025395,    0.023581,    0.021767,    0.019953,\n",
       "           0.018139,    0.016325,    0.014512,    0.012698,    0.010884,   0.0090697,   0.0072558,   0.0054418,   0.0036279,   0.0018139,           0]]), 'Recall', 'Precision'], [array([          0,    0.001001,    0.002002,    0.003003,    0.004004,    0.005005,    0.006006,    0.007007,    0.008008,    0.009009,     0.01001,    0.011011,    0.012012,    0.013013,    0.014014,    0.015015,    0.016016,    0.017017,    0.018018,    0.019019,     0.02002,    0.021021,    0.022022,    0.023023,\n",
       "          0.024024,    0.025025,    0.026026,    0.027027,    0.028028,    0.029029,     0.03003,    0.031031,    0.032032,    0.033033,    0.034034,    0.035035,    0.036036,    0.037037,    0.038038,    0.039039,     0.04004,    0.041041,    0.042042,    0.043043,    0.044044,    0.045045,    0.046046,    0.047047,\n",
       "          0.048048,    0.049049,     0.05005,    0.051051,    0.052052,    0.053053,    0.054054,    0.055055,    0.056056,    0.057057,    0.058058,    0.059059,     0.06006,    0.061061,    0.062062,    0.063063,    0.064064,    0.065065,    0.066066,    0.067067,    0.068068,    0.069069,     0.07007,    0.071071,\n",
       "          0.072072,    0.073073,    0.074074,    0.075075,    0.076076,    0.077077,    0.078078,    0.079079,     0.08008,    0.081081,    0.082082,    0.083083,    0.084084,    0.085085,    0.086086,    0.087087,    0.088088,    0.089089,     0.09009,    0.091091,    0.092092,    0.093093,    0.094094,    0.095095,\n",
       "          0.096096,    0.097097,    0.098098,    0.099099,      0.1001,      0.1011,      0.1021,      0.1031,      0.1041,     0.10511,     0.10611,     0.10711,     0.10811,     0.10911,     0.11011,     0.11111,     0.11211,     0.11311,     0.11411,     0.11512,     0.11612,     0.11712,     0.11812,     0.11912,\n",
       "           0.12012,     0.12112,     0.12212,     0.12312,     0.12412,     0.12513,     0.12613,     0.12713,     0.12813,     0.12913,     0.13013,     0.13113,     0.13213,     0.13313,     0.13413,     0.13514,     0.13614,     0.13714,     0.13814,     0.13914,     0.14014,     0.14114,     0.14214,     0.14314,\n",
       "           0.14414,     0.14515,     0.14615,     0.14715,     0.14815,     0.14915,     0.15015,     0.15115,     0.15215,     0.15315,     0.15415,     0.15516,     0.15616,     0.15716,     0.15816,     0.15916,     0.16016,     0.16116,     0.16216,     0.16316,     0.16416,     0.16517,     0.16617,     0.16717,\n",
       "           0.16817,     0.16917,     0.17017,     0.17117,     0.17217,     0.17317,     0.17417,     0.17518,     0.17618,     0.17718,     0.17818,     0.17918,     0.18018,     0.18118,     0.18218,     0.18318,     0.18418,     0.18519,     0.18619,     0.18719,     0.18819,     0.18919,     0.19019,     0.19119,\n",
       "           0.19219,     0.19319,     0.19419,      0.1952,      0.1962,      0.1972,      0.1982,      0.1992,      0.2002,      0.2012,      0.2022,      0.2032,      0.2042,     0.20521,     0.20621,     0.20721,     0.20821,     0.20921,     0.21021,     0.21121,     0.21221,     0.21321,     0.21421,     0.21522,\n",
       "           0.21622,     0.21722,     0.21822,     0.21922,     0.22022,     0.22122,     0.22222,     0.22322,     0.22422,     0.22523,     0.22623,     0.22723,     0.22823,     0.22923,     0.23023,     0.23123,     0.23223,     0.23323,     0.23423,     0.23524,     0.23624,     0.23724,     0.23824,     0.23924,\n",
       "           0.24024,     0.24124,     0.24224,     0.24324,     0.24424,     0.24525,     0.24625,     0.24725,     0.24825,     0.24925,     0.25025,     0.25125,     0.25225,     0.25325,     0.25425,     0.25526,     0.25626,     0.25726,     0.25826,     0.25926,     0.26026,     0.26126,     0.26226,     0.26326,\n",
       "           0.26426,     0.26527,     0.26627,     0.26727,     0.26827,     0.26927,     0.27027,     0.27127,     0.27227,     0.27327,     0.27427,     0.27528,     0.27628,     0.27728,     0.27828,     0.27928,     0.28028,     0.28128,     0.28228,     0.28328,     0.28428,     0.28529,     0.28629,     0.28729,\n",
       "           0.28829,     0.28929,     0.29029,     0.29129,     0.29229,     0.29329,     0.29429,      0.2953,      0.2963,      0.2973,      0.2983,      0.2993,      0.3003,      0.3013,      0.3023,      0.3033,      0.3043,     0.30531,     0.30631,     0.30731,     0.30831,     0.30931,     0.31031,     0.31131,\n",
       "           0.31231,     0.31331,     0.31431,     0.31532,     0.31632,     0.31732,     0.31832,     0.31932,     0.32032,     0.32132,     0.32232,     0.32332,     0.32432,     0.32533,     0.32633,     0.32733,     0.32833,     0.32933,     0.33033,     0.33133,     0.33233,     0.33333,     0.33433,     0.33534,\n",
       "           0.33634,     0.33734,     0.33834,     0.33934,     0.34034,     0.34134,     0.34234,     0.34334,     0.34434,     0.34535,     0.34635,     0.34735,     0.34835,     0.34935,     0.35035,     0.35135,     0.35235,     0.35335,     0.35435,     0.35536,     0.35636,     0.35736,     0.35836,     0.35936,\n",
       "           0.36036,     0.36136,     0.36236,     0.36336,     0.36436,     0.36537,     0.36637,     0.36737,     0.36837,     0.36937,     0.37037,     0.37137,     0.37237,     0.37337,     0.37437,     0.37538,     0.37638,     0.37738,     0.37838,     0.37938,     0.38038,     0.38138,     0.38238,     0.38338,\n",
       "           0.38438,     0.38539,     0.38639,     0.38739,     0.38839,     0.38939,     0.39039,     0.39139,     0.39239,     0.39339,     0.39439,      0.3954,      0.3964,      0.3974,      0.3984,      0.3994,      0.4004,      0.4014,      0.4024,      0.4034,      0.4044,     0.40541,     0.40641,     0.40741,\n",
       "           0.40841,     0.40941,     0.41041,     0.41141,     0.41241,     0.41341,     0.41441,     0.41542,     0.41642,     0.41742,     0.41842,     0.41942,     0.42042,     0.42142,     0.42242,     0.42342,     0.42442,     0.42543,     0.42643,     0.42743,     0.42843,     0.42943,     0.43043,     0.43143,\n",
       "           0.43243,     0.43343,     0.43443,     0.43544,     0.43644,     0.43744,     0.43844,     0.43944,     0.44044,     0.44144,     0.44244,     0.44344,     0.44444,     0.44545,     0.44645,     0.44745,     0.44845,     0.44945,     0.45045,     0.45145,     0.45245,     0.45345,     0.45445,     0.45546,\n",
       "           0.45646,     0.45746,     0.45846,     0.45946,     0.46046,     0.46146,     0.46246,     0.46346,     0.46446,     0.46547,     0.46647,     0.46747,     0.46847,     0.46947,     0.47047,     0.47147,     0.47247,     0.47347,     0.47447,     0.47548,     0.47648,     0.47748,     0.47848,     0.47948,\n",
       "           0.48048,     0.48148,     0.48248,     0.48348,     0.48448,     0.48549,     0.48649,     0.48749,     0.48849,     0.48949,     0.49049,     0.49149,     0.49249,     0.49349,     0.49449,      0.4955,      0.4965,      0.4975,      0.4985,      0.4995,      0.5005,      0.5015,      0.5025,      0.5035,\n",
       "            0.5045,     0.50551,     0.50651,     0.50751,     0.50851,     0.50951,     0.51051,     0.51151,     0.51251,     0.51351,     0.51451,     0.51552,     0.51652,     0.51752,     0.51852,     0.51952,     0.52052,     0.52152,     0.52252,     0.52352,     0.52452,     0.52553,     0.52653,     0.52753,\n",
       "           0.52853,     0.52953,     0.53053,     0.53153,     0.53253,     0.53353,     0.53453,     0.53554,     0.53654,     0.53754,     0.53854,     0.53954,     0.54054,     0.54154,     0.54254,     0.54354,     0.54454,     0.54555,     0.54655,     0.54755,     0.54855,     0.54955,     0.55055,     0.55155,\n",
       "           0.55255,     0.55355,     0.55455,     0.55556,     0.55656,     0.55756,     0.55856,     0.55956,     0.56056,     0.56156,     0.56256,     0.56356,     0.56456,     0.56557,     0.56657,     0.56757,     0.56857,     0.56957,     0.57057,     0.57157,     0.57257,     0.57357,     0.57457,     0.57558,\n",
       "           0.57658,     0.57758,     0.57858,     0.57958,     0.58058,     0.58158,     0.58258,     0.58358,     0.58458,     0.58559,     0.58659,     0.58759,     0.58859,     0.58959,     0.59059,     0.59159,     0.59259,     0.59359,     0.59459,      0.5956,      0.5966,      0.5976,      0.5986,      0.5996,\n",
       "            0.6006,      0.6016,      0.6026,      0.6036,      0.6046,     0.60561,     0.60661,     0.60761,     0.60861,     0.60961,     0.61061,     0.61161,     0.61261,     0.61361,     0.61461,     0.61562,     0.61662,     0.61762,     0.61862,     0.61962,     0.62062,     0.62162,     0.62262,     0.62362,\n",
       "           0.62462,     0.62563,     0.62663,     0.62763,     0.62863,     0.62963,     0.63063,     0.63163,     0.63263,     0.63363,     0.63463,     0.63564,     0.63664,     0.63764,     0.63864,     0.63964,     0.64064,     0.64164,     0.64264,     0.64364,     0.64464,     0.64565,     0.64665,     0.64765,\n",
       "           0.64865,     0.64965,     0.65065,     0.65165,     0.65265,     0.65365,     0.65465,     0.65566,     0.65666,     0.65766,     0.65866,     0.65966,     0.66066,     0.66166,     0.66266,     0.66366,     0.66466,     0.66567,     0.66667,     0.66767,     0.66867,     0.66967,     0.67067,     0.67167,\n",
       "           0.67267,     0.67367,     0.67467,     0.67568,     0.67668,     0.67768,     0.67868,     0.67968,     0.68068,     0.68168,     0.68268,     0.68368,     0.68468,     0.68569,     0.68669,     0.68769,     0.68869,     0.68969,     0.69069,     0.69169,     0.69269,     0.69369,     0.69469,      0.6957,\n",
       "            0.6967,      0.6977,      0.6987,      0.6997,      0.7007,      0.7017,      0.7027,      0.7037,      0.7047,     0.70571,     0.70671,     0.70771,     0.70871,     0.70971,     0.71071,     0.71171,     0.71271,     0.71371,     0.71471,     0.71572,     0.71672,     0.71772,     0.71872,     0.71972,\n",
       "           0.72072,     0.72172,     0.72272,     0.72372,     0.72472,     0.72573,     0.72673,     0.72773,     0.72873,     0.72973,     0.73073,     0.73173,     0.73273,     0.73373,     0.73473,     0.73574,     0.73674,     0.73774,     0.73874,     0.73974,     0.74074,     0.74174,     0.74274,     0.74374,\n",
       "           0.74474,     0.74575,     0.74675,     0.74775,     0.74875,     0.74975,     0.75075,     0.75175,     0.75275,     0.75375,     0.75475,     0.75576,     0.75676,     0.75776,     0.75876,     0.75976,     0.76076,     0.76176,     0.76276,     0.76376,     0.76476,     0.76577,     0.76677,     0.76777,\n",
       "           0.76877,     0.76977,     0.77077,     0.77177,     0.77277,     0.77377,     0.77477,     0.77578,     0.77678,     0.77778,     0.77878,     0.77978,     0.78078,     0.78178,     0.78278,     0.78378,     0.78478,     0.78579,     0.78679,     0.78779,     0.78879,     0.78979,     0.79079,     0.79179,\n",
       "           0.79279,     0.79379,     0.79479,      0.7958,      0.7968,      0.7978,      0.7988,      0.7998,      0.8008,      0.8018,      0.8028,      0.8038,      0.8048,     0.80581,     0.80681,     0.80781,     0.80881,     0.80981,     0.81081,     0.81181,     0.81281,     0.81381,     0.81481,     0.81582,\n",
       "           0.81682,     0.81782,     0.81882,     0.81982,     0.82082,     0.82182,     0.82282,     0.82382,     0.82482,     0.82583,     0.82683,     0.82783,     0.82883,     0.82983,     0.83083,     0.83183,     0.83283,     0.83383,     0.83483,     0.83584,     0.83684,     0.83784,     0.83884,     0.83984,\n",
       "           0.84084,     0.84184,     0.84284,     0.84384,     0.84484,     0.84585,     0.84685,     0.84785,     0.84885,     0.84985,     0.85085,     0.85185,     0.85285,     0.85385,     0.85485,     0.85586,     0.85686,     0.85786,     0.85886,     0.85986,     0.86086,     0.86186,     0.86286,     0.86386,\n",
       "           0.86486,     0.86587,     0.86687,     0.86787,     0.86887,     0.86987,     0.87087,     0.87187,     0.87287,     0.87387,     0.87487,     0.87588,     0.87688,     0.87788,     0.87888,     0.87988,     0.88088,     0.88188,     0.88288,     0.88388,     0.88488,     0.88589,     0.88689,     0.88789,\n",
       "           0.88889,     0.88989,     0.89089,     0.89189,     0.89289,     0.89389,     0.89489,      0.8959,      0.8969,      0.8979,      0.8989,      0.8999,      0.9009,      0.9019,      0.9029,      0.9039,      0.9049,     0.90591,     0.90691,     0.90791,     0.90891,     0.90991,     0.91091,     0.91191,\n",
       "           0.91291,     0.91391,     0.91491,     0.91592,     0.91692,     0.91792,     0.91892,     0.91992,     0.92092,     0.92192,     0.92292,     0.92392,     0.92492,     0.92593,     0.92693,     0.92793,     0.92893,     0.92993,     0.93093,     0.93193,     0.93293,     0.93393,     0.93493,     0.93594,\n",
       "           0.93694,     0.93794,     0.93894,     0.93994,     0.94094,     0.94194,     0.94294,     0.94394,     0.94494,     0.94595,     0.94695,     0.94795,     0.94895,     0.94995,     0.95095,     0.95195,     0.95295,     0.95395,     0.95495,     0.95596,     0.95696,     0.95796,     0.95896,     0.95996,\n",
       "           0.96096,     0.96196,     0.96296,     0.96396,     0.96496,     0.96597,     0.96697,     0.96797,     0.96897,     0.96997,     0.97097,     0.97197,     0.97297,     0.97397,     0.97497,     0.97598,     0.97698,     0.97798,     0.97898,     0.97998,     0.98098,     0.98198,     0.98298,     0.98398,\n",
       "           0.98498,     0.98599,     0.98699,     0.98799,     0.98899,     0.98999,     0.99099,     0.99199,     0.99299,     0.99399,     0.99499,       0.996,       0.997,       0.998,       0.999,           1]), array([[    0.31873,     0.31873,     0.38253,     0.41973,     0.44612,     0.46714,     0.49061,     0.50295,     0.51586,     0.52644,      0.5328,     0.54173,     0.55366,     0.55836,      0.5664,     0.56973,     0.57483,     0.57826,     0.58168,     0.58651,     0.58938,     0.59322,     0.59644,\n",
       "            0.60162,     0.60628,     0.61139,     0.61613,     0.61885,      0.6241,     0.62732,     0.63186,      0.6327,     0.63627,     0.63878,     0.64092,     0.64361,     0.64576,     0.64868,     0.65189,     0.65477,     0.65628,     0.66008,     0.66379,       0.667,     0.66821,     0.67249,\n",
       "             0.6765,     0.67819,     0.68035,     0.68258,     0.68488,     0.68894,     0.68917,     0.69078,     0.69308,     0.69399,      0.6937,     0.69303,     0.69385,     0.69633,     0.69779,     0.69988,     0.70252,      0.7034,      0.7067,     0.70978,     0.70868,        0.71,     0.71133,\n",
       "            0.71251,     0.71523,     0.71847,     0.72114,     0.72082,     0.72292,     0.72392,      0.7247,     0.72734,     0.72841,     0.72883,     0.72953,     0.73227,     0.73491,     0.73881,      0.7407,     0.74168,      0.7417,     0.74169,     0.74076,     0.74252,     0.74392,     0.74459,\n",
       "            0.74579,     0.74896,     0.74722,     0.74481,     0.74699,     0.74918,     0.74944,     0.75381,     0.75625,     0.75524,     0.75575,     0.75458,     0.75625,     0.75665,       0.757,     0.75741,     0.75789,     0.75844,     0.75904,     0.76046,     0.76132,     0.76034,     0.76101,\n",
       "            0.76164,     0.76318,     0.76394,     0.76554,     0.76755,     0.76905,     0.76991,     0.77315,     0.77254,     0.77194,     0.77285,     0.77487,     0.77566,     0.77612,     0.77656,     0.77543,      0.7769,     0.77721,     0.77694,     0.77873,     0.78215,     0.78359,     0.78413,\n",
       "            0.78467,     0.78521,     0.78585,     0.78709,     0.78827,     0.78771,     0.78819,     0.78861,     0.78934,     0.78931,        0.79,     0.79069,     0.79136,     0.79188,      0.7926,     0.79372,     0.79441,     0.79505,     0.79591,     0.79757,     0.79785,     0.79814,     0.79842,\n",
       "            0.79902,     0.79956,     0.79984,     0.80011,     0.80039,     0.80022,     0.79964,     0.79906,     0.79837,     0.79766,     0.79904,       0.798,     0.79906,     0.79929,     0.79952,     0.79975,     0.79998,     0.80024,      0.8005,     0.80076,     0.80102,     0.80191,     0.80332,\n",
       "            0.80419,     0.80465,     0.80511,      0.8022,      0.8012,     0.80033,     0.80113,     0.80172,     0.80193,     0.80128,     0.80062,     0.80128,      0.8012,     0.80058,     0.80005,     0.80063,     0.80121,      0.8018,     0.80226,     0.80254,     0.80283,     0.80311,     0.80373,\n",
       "            0.80553,     0.80609,     0.80664,      0.8072,     0.80776,     0.80832,     0.80674,     0.80611,     0.80548,     0.80663,     0.80753,     0.80918,     0.80971,     0.80875,     0.80809,     0.80795,     0.80781,     0.80767,     0.80753,     0.80739,     0.80725,     0.80711,     0.80697,\n",
       "            0.80683,     0.80669,     0.80655,     0.80581,     0.80502,      0.8051,     0.80532,     0.80554,     0.80576,     0.80598,     0.80628,     0.80659,      0.8069,     0.80687,     0.80613,     0.80552,     0.80583,     0.80614,     0.80646,     0.80617,     0.80546,     0.80499,     0.80514,\n",
       "            0.80529,     0.80544,     0.80559,     0.80574,     0.80589,     0.80605,     0.80633,     0.80661,     0.80689,     0.80712,     0.80637,     0.80562,     0.80683,     0.80835,     0.81101,     0.81229,     0.81253,     0.81278,     0.81302,     0.81327,     0.81403,     0.81543,     0.81723,\n",
       "            0.81775,     0.81773,     0.81744,     0.81714,     0.81684,     0.81655,      0.8163,     0.81677,     0.81724,     0.81774,     0.81826,     0.81986,      0.8202,     0.82054,     0.82086,     0.81747,      0.8172,     0.81694,     0.81667,     0.81641,     0.81615,     0.81588,     0.81522,\n",
       "            0.81453,     0.81387,     0.81325,     0.81262,     0.81217,     0.81176,     0.81135,     0.81095,     0.81134,      0.8121,     0.81278,     0.81379,      0.8128,     0.81313,     0.81374,     0.81351,     0.81329,     0.81306,     0.81284,     0.81261,     0.81239,     0.81216,     0.81231,\n",
       "            0.81024,     0.80665,     0.80653,     0.80673,     0.80692,     0.80712,     0.80732,     0.80752,     0.80775,     0.80798,     0.80821,     0.80844,     0.80866,     0.80793,     0.80705,     0.80721,     0.80499,     0.80641,     0.80669,     0.80604,     0.80539,      0.8031,     0.80259,\n",
       "            0.80207,     0.80104,     0.80029,     0.80098,     0.80167,     0.80237,     0.80297,     0.80353,      0.8032,     0.80287,     0.80254,     0.80221,     0.80188,     0.80142,      0.8009,     0.80038,     0.79991,      0.7996,     0.79928,     0.79896,     0.79864,     0.79833,     0.79787,\n",
       "            0.79735,     0.79682,     0.79654,     0.79694,     0.79735,      0.7959,     0.79612,     0.79634,     0.79656,     0.79679,     0.79701,     0.79675,     0.79648,     0.79621,     0.79593,     0.79566,     0.79539,     0.79482,     0.79376,     0.79279,     0.79187,     0.79027,     0.78964,\n",
       "            0.78945,     0.78925,     0.78906,     0.78886,     0.78866,     0.78847,     0.78827,     0.78807,     0.78709,      0.7859,      0.7854,      0.7849,     0.78439,     0.78446,     0.78465,     0.78483,     0.78501,     0.78518,     0.78536,     0.78502,       0.784,     0.78272,     0.78177,\n",
       "            0.78026,     0.77812,     0.77822,      0.7789,     0.77931,     0.77971,     0.77843,     0.77747,     0.77782,     0.77841,     0.77777,     0.77712,     0.77628,     0.77457,     0.77393,     0.77328,      0.7727,     0.77231,     0.77192,     0.77153,     0.77114,     0.77107,     0.77151,\n",
       "            0.77196,     0.76996,     0.76963,     0.76931,     0.76898,     0.76865,     0.76833,     0.76662,      0.7655,     0.76452,     0.76459,     0.76477,     0.76494,     0.76512,     0.76529,     0.76547,      0.7656,     0.76525,     0.76491,     0.76456,     0.76422,     0.76387,     0.76275,\n",
       "            0.76012,     0.76073,      0.7589,     0.75861,     0.75833,     0.75804,     0.75775,     0.75747,     0.75718,     0.75754,     0.75815,      0.7581,     0.75785,      0.7576,     0.75735,     0.75709,     0.75684,     0.75659,     0.75634,     0.75438,     0.75554,     0.75453,     0.75147,\n",
       "            0.74943,     0.74552,     0.74484,     0.74415,     0.74138,     0.74035,     0.73931,     0.73827,     0.73609,     0.73447,     0.73394,     0.73342,     0.73289,     0.73307,     0.73354,     0.73301,     0.73249,     0.73196,     0.72909,     0.72802,     0.72518,     0.72465,     0.72412,\n",
       "            0.72358,     0.72269,     0.72161,     0.71902,     0.71875,     0.71848,     0.71821,     0.71794,     0.71767,      0.7174,     0.71713,     0.71661,     0.71607,     0.71553,     0.71498,     0.71389,      0.7128,     0.71171,     0.71062,     0.70953,     0.70397,     0.70206,     0.70151,\n",
       "            0.70095,      0.7004,     0.69938,     0.69497,     0.69273,     0.69088,     0.68975,     0.68956,     0.68999,     0.68943,     0.68886,      0.6883,     0.68743,      0.6863,     0.68516,     0.68402,     0.68288,     0.68173,     0.67981,     0.67872,     0.67814,     0.67757,     0.67699,\n",
       "            0.67641,     0.67584,     0.67526,     0.67468,     0.67324,     0.67186,     0.67069,     0.66725,     0.66608,     0.66261,     0.66143,     0.65817,     0.65738,     0.65658,     0.65476,     0.65318,     0.65198,     0.64638,     0.64557,     0.64477,     0.64267,     0.64124,     0.64002,\n",
       "             0.6388,     0.63758,     0.63853,     0.63783,     0.63701,     0.63377,      0.6312,     0.62761,      0.6272,     0.62691,     0.62566,     0.62482,     0.62419,     0.62356,     0.62294,      0.6209,     0.61935,     0.61809,     0.61682,     0.61555,     0.61069,     0.60436,     0.60287,\n",
       "            0.59518,     0.59255,     0.58992,     0.58797,     0.58664,     0.57487,     0.57352,     0.57271,     0.57221,     0.57172,     0.57123,     0.57074,     0.56701,     0.56467,      0.5633,     0.56147,     0.55602,     0.55325,      0.5466,     0.54081,     0.53797,     0.53235,     0.52103,\n",
       "            0.51812,     0.51529,     0.51383,     0.50899,     0.50492,     0.49903,     0.49603,     0.49288,     0.48957,      0.4887,     0.48783,     0.48331,     0.48024,     0.47716,     0.47163,     0.47007,     0.46344,      0.4601,     0.45694,     0.45065,     0.44432,     0.43792,     0.42477,\n",
       "            0.41689,     0.41459,     0.41292,     0.40466,     0.40296,     0.38493,     0.37804,     0.37453,       0.371,     0.36831,     0.36729,     0.36628,     0.36526,     0.35951,     0.34598,      0.3435,     0.34228,     0.34106,     0.32613,     0.32298,      0.3211,     0.31527,     0.31085,\n",
       "            0.29958,     0.29765,     0.28765,     0.27751,     0.27553,     0.26554,     0.26286,     0.26074,     0.25872,     0.25886,     0.24625,     0.24419,      0.2418,     0.23091,     0.22882,     0.22255,     0.21973,     0.21317,     0.21103,     0.20842,     0.20569,     0.20353,     0.19744,\n",
       "            0.19657,      0.1957,     0.19483,     0.19396,     0.18868,     0.18742,     0.18616,      0.1849,     0.18206,     0.17991,     0.17865,     0.17738,     0.17599,     0.17302,      0.1713,      0.1704,     0.16951,     0.16861,     0.16771,     0.16529,     0.15388,     0.15257,     0.15127,\n",
       "            0.14996,     0.14717,     0.14027,     0.13895,     0.13762,     0.13629,     0.13525,     0.13422,     0.13318,     0.13214,      0.1266,     0.12566,     0.12472,     0.12377,     0.12283,     0.12034,     0.11255,     0.10936,     0.10807,     0.10733,      0.1066,     0.10586,     0.10512,\n",
       "            0.10438,     0.10257,    0.099355,    0.097692,    0.096077,    0.089637,    0.086376,    0.083104,     0.08001,    0.078365,    0.076716,    0.075065,     0.07341,    0.071753,    0.064781,    0.061434,    0.059866,    0.058746,    0.057625,    0.056502,    0.055679,    0.055289,      0.0549,\n",
       "            0.05451,    0.054121,    0.053731,    0.053341,    0.052951,     0.05256,     0.05217,    0.051779,    0.051389,    0.050998,     0.05007,    0.048939,    0.047806,    0.046672,    0.045232,    0.043184,    0.041132,    0.040756,    0.040573,    0.040389,    0.040206,    0.040022,    0.039838,\n",
       "           0.039655,    0.039471,    0.039287,    0.039104,     0.03892,    0.038736,    0.038552,    0.038368,    0.038184,    0.038001,    0.037817,    0.037633,    0.037448,    0.037264,     0.03708,    0.036896,    0.036712,    0.036528,    0.036343,    0.036159,    0.035975,    0.035498,    0.034809,\n",
       "            0.03412,     0.03343,     0.03274,    0.032049,    0.031358,    0.030575,    0.029536,    0.028496,    0.027456,    0.026414,     0.02572,     0.02558,    0.025441,    0.025302,    0.025163,    0.025024,    0.024885,    0.024745,    0.024606,    0.024467,    0.024328,    0.024188,    0.024049,\n",
       "            0.02391,     0.02377,    0.023631,    0.023492,    0.023352,    0.023213,    0.023073,    0.022934,    0.022794,    0.022655,    0.022515,    0.022376,    0.022236,    0.022097,    0.021957,    0.021817,    0.021678,    0.021538,    0.021398,    0.021259,    0.021119,    0.020979,    0.020839,\n",
       "             0.0207,    0.019831,    0.018781,     0.01773,    0.016678,    0.015625,    0.015345,     0.01513,    0.014915,      0.0147,    0.014485,    0.014269,    0.014054,    0.013838,    0.013623,    0.013407,    0.013192,    0.012976,     0.01276,    0.012545,    0.012329,    0.012113,    0.011897,\n",
       "           0.011681,    0.011465,    0.011249,    0.011033,    0.010817,    0.010601,    0.010369,   0.0094053,   0.0084408,   0.0074753,   0.0065089,   0.0055415,           0,           0,           0,           0,           0,           0,           0,           0,           0,           0,           0,\n",
       "                  0,           0,           0,           0,           0,           0,           0,           0,           0,           0,           0,           0,           0,           0,           0,           0,           0,           0,           0,           0,           0,           0,           0,\n",
       "                  0,           0,           0,           0,           0,           0,           0,           0,           0,           0,           0,           0,           0,           0,           0,           0,           0,           0,           0,           0,           0,           0,           0,\n",
       "                  0,           0,           0,           0,           0,           0,           0,           0,           0,           0,           0,           0,           0,           0,           0,           0,           0,           0,           0,           0,           0,           0,           0,\n",
       "                  0,           0,           0,           0,           0,           0,           0,           0,           0,           0,           0,           0,           0,           0,           0,           0,           0,           0,           0,           0,           0,           0,           0,\n",
       "                  0,           0,           0,           0,           0,           0,           0,           0,           0,           0,           0]]), 'Confidence', 'F1'], [array([          0,    0.001001,    0.002002,    0.003003,    0.004004,    0.005005,    0.006006,    0.007007,    0.008008,    0.009009,     0.01001,    0.011011,    0.012012,    0.013013,    0.014014,    0.015015,    0.016016,    0.017017,    0.018018,    0.019019,     0.02002,    0.021021,    0.022022,    0.023023,\n",
       "          0.024024,    0.025025,    0.026026,    0.027027,    0.028028,    0.029029,     0.03003,    0.031031,    0.032032,    0.033033,    0.034034,    0.035035,    0.036036,    0.037037,    0.038038,    0.039039,     0.04004,    0.041041,    0.042042,    0.043043,    0.044044,    0.045045,    0.046046,    0.047047,\n",
       "          0.048048,    0.049049,     0.05005,    0.051051,    0.052052,    0.053053,    0.054054,    0.055055,    0.056056,    0.057057,    0.058058,    0.059059,     0.06006,    0.061061,    0.062062,    0.063063,    0.064064,    0.065065,    0.066066,    0.067067,    0.068068,    0.069069,     0.07007,    0.071071,\n",
       "          0.072072,    0.073073,    0.074074,    0.075075,    0.076076,    0.077077,    0.078078,    0.079079,     0.08008,    0.081081,    0.082082,    0.083083,    0.084084,    0.085085,    0.086086,    0.087087,    0.088088,    0.089089,     0.09009,    0.091091,    0.092092,    0.093093,    0.094094,    0.095095,\n",
       "          0.096096,    0.097097,    0.098098,    0.099099,      0.1001,      0.1011,      0.1021,      0.1031,      0.1041,     0.10511,     0.10611,     0.10711,     0.10811,     0.10911,     0.11011,     0.11111,     0.11211,     0.11311,     0.11411,     0.11512,     0.11612,     0.11712,     0.11812,     0.11912,\n",
       "           0.12012,     0.12112,     0.12212,     0.12312,     0.12412,     0.12513,     0.12613,     0.12713,     0.12813,     0.12913,     0.13013,     0.13113,     0.13213,     0.13313,     0.13413,     0.13514,     0.13614,     0.13714,     0.13814,     0.13914,     0.14014,     0.14114,     0.14214,     0.14314,\n",
       "           0.14414,     0.14515,     0.14615,     0.14715,     0.14815,     0.14915,     0.15015,     0.15115,     0.15215,     0.15315,     0.15415,     0.15516,     0.15616,     0.15716,     0.15816,     0.15916,     0.16016,     0.16116,     0.16216,     0.16316,     0.16416,     0.16517,     0.16617,     0.16717,\n",
       "           0.16817,     0.16917,     0.17017,     0.17117,     0.17217,     0.17317,     0.17417,     0.17518,     0.17618,     0.17718,     0.17818,     0.17918,     0.18018,     0.18118,     0.18218,     0.18318,     0.18418,     0.18519,     0.18619,     0.18719,     0.18819,     0.18919,     0.19019,     0.19119,\n",
       "           0.19219,     0.19319,     0.19419,      0.1952,      0.1962,      0.1972,      0.1982,      0.1992,      0.2002,      0.2012,      0.2022,      0.2032,      0.2042,     0.20521,     0.20621,     0.20721,     0.20821,     0.20921,     0.21021,     0.21121,     0.21221,     0.21321,     0.21421,     0.21522,\n",
       "           0.21622,     0.21722,     0.21822,     0.21922,     0.22022,     0.22122,     0.22222,     0.22322,     0.22422,     0.22523,     0.22623,     0.22723,     0.22823,     0.22923,     0.23023,     0.23123,     0.23223,     0.23323,     0.23423,     0.23524,     0.23624,     0.23724,     0.23824,     0.23924,\n",
       "           0.24024,     0.24124,     0.24224,     0.24324,     0.24424,     0.24525,     0.24625,     0.24725,     0.24825,     0.24925,     0.25025,     0.25125,     0.25225,     0.25325,     0.25425,     0.25526,     0.25626,     0.25726,     0.25826,     0.25926,     0.26026,     0.26126,     0.26226,     0.26326,\n",
       "           0.26426,     0.26527,     0.26627,     0.26727,     0.26827,     0.26927,     0.27027,     0.27127,     0.27227,     0.27327,     0.27427,     0.27528,     0.27628,     0.27728,     0.27828,     0.27928,     0.28028,     0.28128,     0.28228,     0.28328,     0.28428,     0.28529,     0.28629,     0.28729,\n",
       "           0.28829,     0.28929,     0.29029,     0.29129,     0.29229,     0.29329,     0.29429,      0.2953,      0.2963,      0.2973,      0.2983,      0.2993,      0.3003,      0.3013,      0.3023,      0.3033,      0.3043,     0.30531,     0.30631,     0.30731,     0.30831,     0.30931,     0.31031,     0.31131,\n",
       "           0.31231,     0.31331,     0.31431,     0.31532,     0.31632,     0.31732,     0.31832,     0.31932,     0.32032,     0.32132,     0.32232,     0.32332,     0.32432,     0.32533,     0.32633,     0.32733,     0.32833,     0.32933,     0.33033,     0.33133,     0.33233,     0.33333,     0.33433,     0.33534,\n",
       "           0.33634,     0.33734,     0.33834,     0.33934,     0.34034,     0.34134,     0.34234,     0.34334,     0.34434,     0.34535,     0.34635,     0.34735,     0.34835,     0.34935,     0.35035,     0.35135,     0.35235,     0.35335,     0.35435,     0.35536,     0.35636,     0.35736,     0.35836,     0.35936,\n",
       "           0.36036,     0.36136,     0.36236,     0.36336,     0.36436,     0.36537,     0.36637,     0.36737,     0.36837,     0.36937,     0.37037,     0.37137,     0.37237,     0.37337,     0.37437,     0.37538,     0.37638,     0.37738,     0.37838,     0.37938,     0.38038,     0.38138,     0.38238,     0.38338,\n",
       "           0.38438,     0.38539,     0.38639,     0.38739,     0.38839,     0.38939,     0.39039,     0.39139,     0.39239,     0.39339,     0.39439,      0.3954,      0.3964,      0.3974,      0.3984,      0.3994,      0.4004,      0.4014,      0.4024,      0.4034,      0.4044,     0.40541,     0.40641,     0.40741,\n",
       "           0.40841,     0.40941,     0.41041,     0.41141,     0.41241,     0.41341,     0.41441,     0.41542,     0.41642,     0.41742,     0.41842,     0.41942,     0.42042,     0.42142,     0.42242,     0.42342,     0.42442,     0.42543,     0.42643,     0.42743,     0.42843,     0.42943,     0.43043,     0.43143,\n",
       "           0.43243,     0.43343,     0.43443,     0.43544,     0.43644,     0.43744,     0.43844,     0.43944,     0.44044,     0.44144,     0.44244,     0.44344,     0.44444,     0.44545,     0.44645,     0.44745,     0.44845,     0.44945,     0.45045,     0.45145,     0.45245,     0.45345,     0.45445,     0.45546,\n",
       "           0.45646,     0.45746,     0.45846,     0.45946,     0.46046,     0.46146,     0.46246,     0.46346,     0.46446,     0.46547,     0.46647,     0.46747,     0.46847,     0.46947,     0.47047,     0.47147,     0.47247,     0.47347,     0.47447,     0.47548,     0.47648,     0.47748,     0.47848,     0.47948,\n",
       "           0.48048,     0.48148,     0.48248,     0.48348,     0.48448,     0.48549,     0.48649,     0.48749,     0.48849,     0.48949,     0.49049,     0.49149,     0.49249,     0.49349,     0.49449,      0.4955,      0.4965,      0.4975,      0.4985,      0.4995,      0.5005,      0.5015,      0.5025,      0.5035,\n",
       "            0.5045,     0.50551,     0.50651,     0.50751,     0.50851,     0.50951,     0.51051,     0.51151,     0.51251,     0.51351,     0.51451,     0.51552,     0.51652,     0.51752,     0.51852,     0.51952,     0.52052,     0.52152,     0.52252,     0.52352,     0.52452,     0.52553,     0.52653,     0.52753,\n",
       "           0.52853,     0.52953,     0.53053,     0.53153,     0.53253,     0.53353,     0.53453,     0.53554,     0.53654,     0.53754,     0.53854,     0.53954,     0.54054,     0.54154,     0.54254,     0.54354,     0.54454,     0.54555,     0.54655,     0.54755,     0.54855,     0.54955,     0.55055,     0.55155,\n",
       "           0.55255,     0.55355,     0.55455,     0.55556,     0.55656,     0.55756,     0.55856,     0.55956,     0.56056,     0.56156,     0.56256,     0.56356,     0.56456,     0.56557,     0.56657,     0.56757,     0.56857,     0.56957,     0.57057,     0.57157,     0.57257,     0.57357,     0.57457,     0.57558,\n",
       "           0.57658,     0.57758,     0.57858,     0.57958,     0.58058,     0.58158,     0.58258,     0.58358,     0.58458,     0.58559,     0.58659,     0.58759,     0.58859,     0.58959,     0.59059,     0.59159,     0.59259,     0.59359,     0.59459,      0.5956,      0.5966,      0.5976,      0.5986,      0.5996,\n",
       "            0.6006,      0.6016,      0.6026,      0.6036,      0.6046,     0.60561,     0.60661,     0.60761,     0.60861,     0.60961,     0.61061,     0.61161,     0.61261,     0.61361,     0.61461,     0.61562,     0.61662,     0.61762,     0.61862,     0.61962,     0.62062,     0.62162,     0.62262,     0.62362,\n",
       "           0.62462,     0.62563,     0.62663,     0.62763,     0.62863,     0.62963,     0.63063,     0.63163,     0.63263,     0.63363,     0.63463,     0.63564,     0.63664,     0.63764,     0.63864,     0.63964,     0.64064,     0.64164,     0.64264,     0.64364,     0.64464,     0.64565,     0.64665,     0.64765,\n",
       "           0.64865,     0.64965,     0.65065,     0.65165,     0.65265,     0.65365,     0.65465,     0.65566,     0.65666,     0.65766,     0.65866,     0.65966,     0.66066,     0.66166,     0.66266,     0.66366,     0.66466,     0.66567,     0.66667,     0.66767,     0.66867,     0.66967,     0.67067,     0.67167,\n",
       "           0.67267,     0.67367,     0.67467,     0.67568,     0.67668,     0.67768,     0.67868,     0.67968,     0.68068,     0.68168,     0.68268,     0.68368,     0.68468,     0.68569,     0.68669,     0.68769,     0.68869,     0.68969,     0.69069,     0.69169,     0.69269,     0.69369,     0.69469,      0.6957,\n",
       "            0.6967,      0.6977,      0.6987,      0.6997,      0.7007,      0.7017,      0.7027,      0.7037,      0.7047,     0.70571,     0.70671,     0.70771,     0.70871,     0.70971,     0.71071,     0.71171,     0.71271,     0.71371,     0.71471,     0.71572,     0.71672,     0.71772,     0.71872,     0.71972,\n",
       "           0.72072,     0.72172,     0.72272,     0.72372,     0.72472,     0.72573,     0.72673,     0.72773,     0.72873,     0.72973,     0.73073,     0.73173,     0.73273,     0.73373,     0.73473,     0.73574,     0.73674,     0.73774,     0.73874,     0.73974,     0.74074,     0.74174,     0.74274,     0.74374,\n",
       "           0.74474,     0.74575,     0.74675,     0.74775,     0.74875,     0.74975,     0.75075,     0.75175,     0.75275,     0.75375,     0.75475,     0.75576,     0.75676,     0.75776,     0.75876,     0.75976,     0.76076,     0.76176,     0.76276,     0.76376,     0.76476,     0.76577,     0.76677,     0.76777,\n",
       "           0.76877,     0.76977,     0.77077,     0.77177,     0.77277,     0.77377,     0.77477,     0.77578,     0.77678,     0.77778,     0.77878,     0.77978,     0.78078,     0.78178,     0.78278,     0.78378,     0.78478,     0.78579,     0.78679,     0.78779,     0.78879,     0.78979,     0.79079,     0.79179,\n",
       "           0.79279,     0.79379,     0.79479,      0.7958,      0.7968,      0.7978,      0.7988,      0.7998,      0.8008,      0.8018,      0.8028,      0.8038,      0.8048,     0.80581,     0.80681,     0.80781,     0.80881,     0.80981,     0.81081,     0.81181,     0.81281,     0.81381,     0.81481,     0.81582,\n",
       "           0.81682,     0.81782,     0.81882,     0.81982,     0.82082,     0.82182,     0.82282,     0.82382,     0.82482,     0.82583,     0.82683,     0.82783,     0.82883,     0.82983,     0.83083,     0.83183,     0.83283,     0.83383,     0.83483,     0.83584,     0.83684,     0.83784,     0.83884,     0.83984,\n",
       "           0.84084,     0.84184,     0.84284,     0.84384,     0.84484,     0.84585,     0.84685,     0.84785,     0.84885,     0.84985,     0.85085,     0.85185,     0.85285,     0.85385,     0.85485,     0.85586,     0.85686,     0.85786,     0.85886,     0.85986,     0.86086,     0.86186,     0.86286,     0.86386,\n",
       "           0.86486,     0.86587,     0.86687,     0.86787,     0.86887,     0.86987,     0.87087,     0.87187,     0.87287,     0.87387,     0.87487,     0.87588,     0.87688,     0.87788,     0.87888,     0.87988,     0.88088,     0.88188,     0.88288,     0.88388,     0.88488,     0.88589,     0.88689,     0.88789,\n",
       "           0.88889,     0.88989,     0.89089,     0.89189,     0.89289,     0.89389,     0.89489,      0.8959,      0.8969,      0.8979,      0.8989,      0.8999,      0.9009,      0.9019,      0.9029,      0.9039,      0.9049,     0.90591,     0.90691,     0.90791,     0.90891,     0.90991,     0.91091,     0.91191,\n",
       "           0.91291,     0.91391,     0.91491,     0.91592,     0.91692,     0.91792,     0.91892,     0.91992,     0.92092,     0.92192,     0.92292,     0.92392,     0.92492,     0.92593,     0.92693,     0.92793,     0.92893,     0.92993,     0.93093,     0.93193,     0.93293,     0.93393,     0.93493,     0.93594,\n",
       "           0.93694,     0.93794,     0.93894,     0.93994,     0.94094,     0.94194,     0.94294,     0.94394,     0.94494,     0.94595,     0.94695,     0.94795,     0.94895,     0.94995,     0.95095,     0.95195,     0.95295,     0.95395,     0.95495,     0.95596,     0.95696,     0.95796,     0.95896,     0.95996,\n",
       "           0.96096,     0.96196,     0.96296,     0.96396,     0.96496,     0.96597,     0.96697,     0.96797,     0.96897,     0.96997,     0.97097,     0.97197,     0.97297,     0.97397,     0.97497,     0.97598,     0.97698,     0.97798,     0.97898,     0.97998,     0.98098,     0.98198,     0.98298,     0.98398,\n",
       "           0.98498,     0.98599,     0.98699,     0.98799,     0.98899,     0.98999,     0.99099,     0.99199,     0.99299,     0.99399,     0.99499,       0.996,       0.997,       0.998,       0.999,           1]), array([[    0.19399,     0.19399,      0.2434,     0.27484,     0.29821,      0.3173,     0.33935,     0.35169,     0.36445,      0.3751,     0.38159,     0.39082,     0.40335,     0.40893,      0.4182,     0.42185,     0.42746,     0.43126,     0.43572,     0.44183,     0.44578,     0.45019,     0.45391,\n",
       "            0.45994,     0.46541,     0.47146,     0.47711,     0.48038,     0.48756,     0.49151,      0.4971,     0.49902,     0.50347,     0.50661,     0.50932,     0.51273,     0.51546,     0.51919,     0.52331,     0.52704,     0.52998,     0.53495,     0.54088,     0.54515,     0.54677,     0.55252,\n",
       "            0.55796,     0.56026,     0.56321,     0.56627,     0.56945,     0.57508,     0.57777,     0.58003,     0.58328,     0.58457,     0.58467,     0.58431,     0.58561,     0.58915,     0.59125,     0.59425,     0.59807,     0.59935,     0.60416,     0.60985,     0.60973,     0.61169,     0.61367,\n",
       "            0.61543,     0.61951,     0.62438,     0.62843,     0.62939,      0.6326,     0.63413,     0.63533,     0.63939,     0.64104,     0.64169,     0.64279,     0.64706,     0.65119,     0.65734,     0.66033,     0.66189,     0.66285,     0.66352,     0.66367,     0.66649,     0.66875,     0.66984,\n",
       "            0.67178,     0.67714,     0.67633,     0.67529,     0.67889,     0.68252,     0.68472,     0.69205,     0.69656,     0.69611,     0.69747,     0.69706,     0.69991,      0.7006,      0.7012,      0.7019,     0.70273,     0.70367,     0.70471,     0.70715,     0.70925,     0.70882,     0.71006,\n",
       "            0.71115,     0.71384,     0.71517,     0.71798,     0.72152,     0.72417,     0.72571,     0.73183,     0.73158,     0.73133,     0.73304,     0.73668,     0.73811,     0.73895,     0.73974,     0.73984,     0.74252,     0.74429,     0.74477,     0.74807,     0.75441,     0.75709,      0.7581,\n",
       "            0.75911,     0.76012,     0.76133,     0.76365,     0.76588,     0.76715,     0.76807,     0.76885,     0.77024,     0.77257,     0.77389,     0.77522,     0.77651,     0.77751,      0.7789,     0.78107,     0.78241,     0.78366,     0.78532,     0.78856,     0.78911,     0.78967,     0.79022,\n",
       "            0.79141,     0.79247,     0.79301,     0.79355,     0.79408,     0.79424,     0.79404,     0.79385,     0.79361,     0.79337,     0.79654,     0.79706,     0.79916,     0.79962,     0.80009,     0.80055,     0.80102,     0.80153,     0.80206,     0.80258,      0.8031,      0.8049,     0.80774,\n",
       "            0.80949,     0.81043,     0.81136,     0.81086,     0.81221,     0.81193,     0.81417,     0.81537,     0.81616,     0.81595,     0.81575,     0.81728,     0.81781,     0.81762,     0.81753,     0.81875,     0.81998,     0.82121,     0.82217,     0.82277,     0.82336,     0.82396,     0.82526,\n",
       "            0.82908,     0.83026,     0.83143,     0.83262,      0.8338,     0.83499,     0.83512,     0.83494,     0.83475,     0.83737,     0.83931,     0.84288,     0.84403,     0.84391,     0.84373,     0.84369,     0.84365,     0.84361,     0.84358,     0.84354,      0.8435,     0.84346,     0.84342,\n",
       "            0.84338,     0.84335,     0.84331,      0.8431,     0.84289,     0.84327,     0.84376,     0.84424,     0.84472,      0.8452,     0.84586,     0.84655,     0.84724,     0.84764,     0.84744,     0.84735,     0.84804,     0.84874,     0.84943,      0.8496,     0.84941,     0.84937,     0.84971,\n",
       "            0.85004,     0.85038,     0.85072,     0.85106,     0.85139,     0.85173,     0.85235,     0.85299,     0.85363,     0.85422,     0.85402,     0.85383,     0.85675,      0.8602,     0.86624,     0.86916,     0.86972,     0.87028,     0.87084,      0.8714,     0.87316,     0.87638,     0.88056,\n",
       "            0.88177,     0.88213,     0.88207,     0.88201,     0.88194,     0.88188,     0.88188,     0.88298,     0.88408,     0.88526,     0.88648,     0.89025,     0.89104,     0.89184,     0.89263,     0.89196,     0.89191,     0.89186,      0.8918,     0.89175,      0.8917,     0.89164,     0.89151,\n",
       "            0.89137,     0.89124,     0.89112,     0.89099,      0.8909,     0.89082,     0.89073,     0.89065,      0.8919,     0.89375,      0.8954,     0.89896,     0.89877,     0.90005,     0.90158,     0.90154,      0.9015,     0.90146,     0.90142,     0.90138,     0.90134,     0.90129,     0.90399,\n",
       "            0.90362,     0.90296,     0.90333,     0.90383,     0.90433,     0.90483,     0.90534,     0.90584,     0.90641,     0.90699,     0.90756,     0.90814,     0.90872,     0.90866,     0.90851,     0.91132,     0.91173,     0.91538,     0.91689,     0.91679,     0.91669,     0.91632,     0.91624,\n",
       "            0.91616,     0.91599,     0.91659,      0.9184,     0.92022,     0.92205,     0.92365,     0.92517,     0.92512,     0.92507,     0.92502,     0.92498,     0.92493,     0.92486,     0.92479,     0.92471,     0.92464,      0.9246,     0.92455,     0.92451,     0.92446,     0.92441,     0.92435,\n",
       "            0.92427,     0.92419,     0.92441,     0.92551,      0.9266,     0.92728,     0.92788,     0.92848,     0.92909,     0.92969,     0.93029,     0.93028,     0.93024,      0.9302,     0.93017,     0.93013,     0.93009,     0.93002,     0.92987,     0.92974,     0.92961,     0.92939,     0.92931,\n",
       "            0.92928,     0.92925,     0.92923,      0.9292,     0.92917,     0.92915,     0.92912,     0.92909,     0.92896,     0.92879,     0.92872,     0.92865,     0.92858,       0.929,      0.9295,     0.93001,     0.93051,     0.93102,     0.93152,     0.93184,     0.93261,     0.93475,     0.93462,\n",
       "            0.93443,     0.93415,     0.93633,     0.93829,     0.93947,     0.94065,     0.94416,     0.94405,     0.94567,     0.94756,     0.94749,     0.94743,     0.94734,     0.94716,     0.94709,     0.94702,     0.94696,     0.94692,     0.94688,     0.94684,     0.94679,     0.94728,     0.94862,\n",
       "            0.94997,     0.95017,     0.95014,      0.9501,     0.95007,     0.95004,     0.95001,     0.94983,     0.94972,     0.94962,     0.95011,     0.95065,     0.95119,     0.95173,     0.95227,     0.95281,      0.9533,     0.95327,     0.95324,     0.95321,     0.95317,     0.95314,     0.95304,\n",
       "            0.95372,     0.95565,     0.95634,     0.95631,     0.95628,     0.95626,     0.95623,     0.95621,     0.95618,     0.95758,     0.95954,     0.95998,     0.95996,     0.95994,     0.95992,      0.9599,     0.95988,     0.95986,     0.95984,     0.95968,     0.96356,     0.96349,     0.96326,\n",
       "             0.9631,      0.9628,     0.96275,      0.9627,     0.96249,      0.9624,     0.96232,     0.96224,     0.96606,     0.96595,     0.96591,     0.96587,     0.96583,     0.96752,     0.96994,     0.96991,     0.96988,     0.96984,     0.96966,     0.96959,     0.96941,     0.96938,     0.96934,\n",
       "            0.96931,     0.96925,     0.96918,     0.96901,       0.969,     0.96898,     0.96896,     0.96894,     0.96893,     0.96891,     0.96889,     0.96886,     0.96882,     0.96879,     0.96875,     0.96868,     0.96861,     0.96853,     0.96846,     0.96839,     0.96801,     0.96788,     0.96785,\n",
       "            0.96781,     0.96777,      0.9677,     0.96739,     0.96724,     0.96711,     0.96703,     0.96888,     0.97155,     0.97151,     0.97148,     0.97145,     0.97139,     0.97132,     0.97125,     0.97118,     0.97111,     0.97104,     0.97092,     0.97085,     0.97081,     0.97078,     0.97074,\n",
       "             0.9707,     0.97067,     0.97063,     0.97059,      0.9705,     0.97041,     0.97034,     0.97011,     0.97004,     0.96981,     0.96973,     0.96951,     0.96946,     0.96941,     0.96928,     0.96918,     0.96909,     0.96871,     0.96865,      0.9686,     0.96845,     0.96835,     0.96827,\n",
       "            0.96818,     0.96809,     0.97295,     0.97322,     0.97317,     0.97297,     0.97281,     0.97259,      0.9757,     0.97786,      0.9778,     0.97776,     0.97773,     0.97769,     0.97766,     0.97756,     0.97748,     0.97741,     0.97735,     0.97728,     0.97703,     0.97669,     0.98231,\n",
       "            0.98199,     0.98187,     0.98176,     0.98168,     0.98162,      0.9811,     0.98104,       0.981,     0.98098,     0.98095,     0.98093,     0.98091,     0.98074,     0.98063,     0.98056,     0.98048,     0.98022,     0.98008,     0.97975,     0.97946,     0.97932,     0.97902,     0.97841,\n",
       "            0.97825,      0.9781,     0.97801,     0.97774,      0.9775,     0.97716,     0.97698,     0.98221,     0.98423,     0.98419,     0.98415,     0.98396,     0.98383,     0.98369,     0.98344,     0.98337,     0.98307,     0.98291,     0.98276,     0.98245,     0.98214,     0.98181,      0.9811,\n",
       "            0.98065,     0.98052,     0.98042,     0.97993,     0.97983,     0.97867,      0.9782,     0.97795,      0.9777,      0.9775,     0.97743,     0.97735,     0.97728,     0.97684,     0.97577,     0.97556,     0.97546,     0.97535,     0.97488,     0.98666,     0.98657,     0.98627,     0.98605,\n",
       "            0.98543,     0.98532,     0.98473,     0.98409,     0.98396,     0.98327,     0.98308,     0.98292,     0.98277,      0.9933,           1,           1,           1,           1,           1,           1,           1,           1,           1,           1,           1,           1,           1,\n",
       "                  1,           1,           1,           1,           1,           1,           1,           1,           1,           1,           1,           1,           1,           1,           1,           1,           1,           1,           1,           1,           1,           1,           1,\n",
       "                  1,           1,           1,           1,           1,           1,           1,           1,           1,           1,           1,           1,           1,           1,           1,           1,           1,           1,           1,           1,           1,           1,           1,\n",
       "                  1,           1,           1,           1,           1,           1,           1,           1,           1,           1,           1,           1,           1,           1,           1,           1,           1,           1,           1,           1,           1,           1,           1,\n",
       "                  1,           1,           1,           1,           1,           1,           1,           1,           1,           1,           1,           1,           1,           1,           1,           1,           1,           1,           1,           1,           1,           1,           1,\n",
       "                  1,           1,           1,           1,           1,           1,           1,           1,           1,           1,           1,           1,           1,           1,           1,           1,           1,           1,           1,           1,           1,           1,           1,\n",
       "                  1,           1,           1,           1,           1,           1,           1,           1,           1,           1,           1,           1,           1,           1,           1,           1,           1,           1,           1,           1,           1,           1,           1,\n",
       "                  1,           1,           1,           1,           1,           1,           1,           1,           1,           1,           1,           1,           1,           1,           1,           1,           1,           1,           1,           1,           1,           1,           1,\n",
       "                  1,           1,           1,           1,           1,           1,           1,           1,           1,           1,           1,           1,           1,           1,           1,           1,           1,           1,           1,           1,           1,           1,           1,\n",
       "                  1,           1,           1,           1,           1,           1,           1,           1,           1,           1,           1,           1,           1,           1,           1,           1,           1,           1,           1,           1,           1,           1,           1,\n",
       "                  1,           1,           1,           1,           1,           1,           1,           1,           1,           1,           1,           1,           1,           1,           1,           1,           1,           1,           1,           1,           1,           1,           1,\n",
       "                  1,           1,           1,           1,           1,           1,           1,           1,           1,           1,           1,           1,           1,           1,           1,           1,           1,           1,           1,           1,           1,           1,           1,\n",
       "                  1,           1,           1,           1,           1,           1,           1,           1,           1,           1,           1,           1,           1,           1,           1,           1,           1,           1,           1,           1,           1,           1,           1,\n",
       "                  1,           1,           1,           1,           1,           1,           1,           1,           1,           1,           1,           1,           1,           1,           1,           1,           1,           1,           1,           1,           1,           1,           1,\n",
       "                  1,           1,           1,           1,           1,           1,           1,           1,           1,           1,           1]]), 'Confidence', 'Precision'], [array([          0,    0.001001,    0.002002,    0.003003,    0.004004,    0.005005,    0.006006,    0.007007,    0.008008,    0.009009,     0.01001,    0.011011,    0.012012,    0.013013,    0.014014,    0.015015,    0.016016,    0.017017,    0.018018,    0.019019,     0.02002,    0.021021,    0.022022,    0.023023,\n",
       "          0.024024,    0.025025,    0.026026,    0.027027,    0.028028,    0.029029,     0.03003,    0.031031,    0.032032,    0.033033,    0.034034,    0.035035,    0.036036,    0.037037,    0.038038,    0.039039,     0.04004,    0.041041,    0.042042,    0.043043,    0.044044,    0.045045,    0.046046,    0.047047,\n",
       "          0.048048,    0.049049,     0.05005,    0.051051,    0.052052,    0.053053,    0.054054,    0.055055,    0.056056,    0.057057,    0.058058,    0.059059,     0.06006,    0.061061,    0.062062,    0.063063,    0.064064,    0.065065,    0.066066,    0.067067,    0.068068,    0.069069,     0.07007,    0.071071,\n",
       "          0.072072,    0.073073,    0.074074,    0.075075,    0.076076,    0.077077,    0.078078,    0.079079,     0.08008,    0.081081,    0.082082,    0.083083,    0.084084,    0.085085,    0.086086,    0.087087,    0.088088,    0.089089,     0.09009,    0.091091,    0.092092,    0.093093,    0.094094,    0.095095,\n",
       "          0.096096,    0.097097,    0.098098,    0.099099,      0.1001,      0.1011,      0.1021,      0.1031,      0.1041,     0.10511,     0.10611,     0.10711,     0.10811,     0.10911,     0.11011,     0.11111,     0.11211,     0.11311,     0.11411,     0.11512,     0.11612,     0.11712,     0.11812,     0.11912,\n",
       "           0.12012,     0.12112,     0.12212,     0.12312,     0.12412,     0.12513,     0.12613,     0.12713,     0.12813,     0.12913,     0.13013,     0.13113,     0.13213,     0.13313,     0.13413,     0.13514,     0.13614,     0.13714,     0.13814,     0.13914,     0.14014,     0.14114,     0.14214,     0.14314,\n",
       "           0.14414,     0.14515,     0.14615,     0.14715,     0.14815,     0.14915,     0.15015,     0.15115,     0.15215,     0.15315,     0.15415,     0.15516,     0.15616,     0.15716,     0.15816,     0.15916,     0.16016,     0.16116,     0.16216,     0.16316,     0.16416,     0.16517,     0.16617,     0.16717,\n",
       "           0.16817,     0.16917,     0.17017,     0.17117,     0.17217,     0.17317,     0.17417,     0.17518,     0.17618,     0.17718,     0.17818,     0.17918,     0.18018,     0.18118,     0.18218,     0.18318,     0.18418,     0.18519,     0.18619,     0.18719,     0.18819,     0.18919,     0.19019,     0.19119,\n",
       "           0.19219,     0.19319,     0.19419,      0.1952,      0.1962,      0.1972,      0.1982,      0.1992,      0.2002,      0.2012,      0.2022,      0.2032,      0.2042,     0.20521,     0.20621,     0.20721,     0.20821,     0.20921,     0.21021,     0.21121,     0.21221,     0.21321,     0.21421,     0.21522,\n",
       "           0.21622,     0.21722,     0.21822,     0.21922,     0.22022,     0.22122,     0.22222,     0.22322,     0.22422,     0.22523,     0.22623,     0.22723,     0.22823,     0.22923,     0.23023,     0.23123,     0.23223,     0.23323,     0.23423,     0.23524,     0.23624,     0.23724,     0.23824,     0.23924,\n",
       "           0.24024,     0.24124,     0.24224,     0.24324,     0.24424,     0.24525,     0.24625,     0.24725,     0.24825,     0.24925,     0.25025,     0.25125,     0.25225,     0.25325,     0.25425,     0.25526,     0.25626,     0.25726,     0.25826,     0.25926,     0.26026,     0.26126,     0.26226,     0.26326,\n",
       "           0.26426,     0.26527,     0.26627,     0.26727,     0.26827,     0.26927,     0.27027,     0.27127,     0.27227,     0.27327,     0.27427,     0.27528,     0.27628,     0.27728,     0.27828,     0.27928,     0.28028,     0.28128,     0.28228,     0.28328,     0.28428,     0.28529,     0.28629,     0.28729,\n",
       "           0.28829,     0.28929,     0.29029,     0.29129,     0.29229,     0.29329,     0.29429,      0.2953,      0.2963,      0.2973,      0.2983,      0.2993,      0.3003,      0.3013,      0.3023,      0.3033,      0.3043,     0.30531,     0.30631,     0.30731,     0.30831,     0.30931,     0.31031,     0.31131,\n",
       "           0.31231,     0.31331,     0.31431,     0.31532,     0.31632,     0.31732,     0.31832,     0.31932,     0.32032,     0.32132,     0.32232,     0.32332,     0.32432,     0.32533,     0.32633,     0.32733,     0.32833,     0.32933,     0.33033,     0.33133,     0.33233,     0.33333,     0.33433,     0.33534,\n",
       "           0.33634,     0.33734,     0.33834,     0.33934,     0.34034,     0.34134,     0.34234,     0.34334,     0.34434,     0.34535,     0.34635,     0.34735,     0.34835,     0.34935,     0.35035,     0.35135,     0.35235,     0.35335,     0.35435,     0.35536,     0.35636,     0.35736,     0.35836,     0.35936,\n",
       "           0.36036,     0.36136,     0.36236,     0.36336,     0.36436,     0.36537,     0.36637,     0.36737,     0.36837,     0.36937,     0.37037,     0.37137,     0.37237,     0.37337,     0.37437,     0.37538,     0.37638,     0.37738,     0.37838,     0.37938,     0.38038,     0.38138,     0.38238,     0.38338,\n",
       "           0.38438,     0.38539,     0.38639,     0.38739,     0.38839,     0.38939,     0.39039,     0.39139,     0.39239,     0.39339,     0.39439,      0.3954,      0.3964,      0.3974,      0.3984,      0.3994,      0.4004,      0.4014,      0.4024,      0.4034,      0.4044,     0.40541,     0.40641,     0.40741,\n",
       "           0.40841,     0.40941,     0.41041,     0.41141,     0.41241,     0.41341,     0.41441,     0.41542,     0.41642,     0.41742,     0.41842,     0.41942,     0.42042,     0.42142,     0.42242,     0.42342,     0.42442,     0.42543,     0.42643,     0.42743,     0.42843,     0.42943,     0.43043,     0.43143,\n",
       "           0.43243,     0.43343,     0.43443,     0.43544,     0.43644,     0.43744,     0.43844,     0.43944,     0.44044,     0.44144,     0.44244,     0.44344,     0.44444,     0.44545,     0.44645,     0.44745,     0.44845,     0.44945,     0.45045,     0.45145,     0.45245,     0.45345,     0.45445,     0.45546,\n",
       "           0.45646,     0.45746,     0.45846,     0.45946,     0.46046,     0.46146,     0.46246,     0.46346,     0.46446,     0.46547,     0.46647,     0.46747,     0.46847,     0.46947,     0.47047,     0.47147,     0.47247,     0.47347,     0.47447,     0.47548,     0.47648,     0.47748,     0.47848,     0.47948,\n",
       "           0.48048,     0.48148,     0.48248,     0.48348,     0.48448,     0.48549,     0.48649,     0.48749,     0.48849,     0.48949,     0.49049,     0.49149,     0.49249,     0.49349,     0.49449,      0.4955,      0.4965,      0.4975,      0.4985,      0.4995,      0.5005,      0.5015,      0.5025,      0.5035,\n",
       "            0.5045,     0.50551,     0.50651,     0.50751,     0.50851,     0.50951,     0.51051,     0.51151,     0.51251,     0.51351,     0.51451,     0.51552,     0.51652,     0.51752,     0.51852,     0.51952,     0.52052,     0.52152,     0.52252,     0.52352,     0.52452,     0.52553,     0.52653,     0.52753,\n",
       "           0.52853,     0.52953,     0.53053,     0.53153,     0.53253,     0.53353,     0.53453,     0.53554,     0.53654,     0.53754,     0.53854,     0.53954,     0.54054,     0.54154,     0.54254,     0.54354,     0.54454,     0.54555,     0.54655,     0.54755,     0.54855,     0.54955,     0.55055,     0.55155,\n",
       "           0.55255,     0.55355,     0.55455,     0.55556,     0.55656,     0.55756,     0.55856,     0.55956,     0.56056,     0.56156,     0.56256,     0.56356,     0.56456,     0.56557,     0.56657,     0.56757,     0.56857,     0.56957,     0.57057,     0.57157,     0.57257,     0.57357,     0.57457,     0.57558,\n",
       "           0.57658,     0.57758,     0.57858,     0.57958,     0.58058,     0.58158,     0.58258,     0.58358,     0.58458,     0.58559,     0.58659,     0.58759,     0.58859,     0.58959,     0.59059,     0.59159,     0.59259,     0.59359,     0.59459,      0.5956,      0.5966,      0.5976,      0.5986,      0.5996,\n",
       "            0.6006,      0.6016,      0.6026,      0.6036,      0.6046,     0.60561,     0.60661,     0.60761,     0.60861,     0.60961,     0.61061,     0.61161,     0.61261,     0.61361,     0.61461,     0.61562,     0.61662,     0.61762,     0.61862,     0.61962,     0.62062,     0.62162,     0.62262,     0.62362,\n",
       "           0.62462,     0.62563,     0.62663,     0.62763,     0.62863,     0.62963,     0.63063,     0.63163,     0.63263,     0.63363,     0.63463,     0.63564,     0.63664,     0.63764,     0.63864,     0.63964,     0.64064,     0.64164,     0.64264,     0.64364,     0.64464,     0.64565,     0.64665,     0.64765,\n",
       "           0.64865,     0.64965,     0.65065,     0.65165,     0.65265,     0.65365,     0.65465,     0.65566,     0.65666,     0.65766,     0.65866,     0.65966,     0.66066,     0.66166,     0.66266,     0.66366,     0.66466,     0.66567,     0.66667,     0.66767,     0.66867,     0.66967,     0.67067,     0.67167,\n",
       "           0.67267,     0.67367,     0.67467,     0.67568,     0.67668,     0.67768,     0.67868,     0.67968,     0.68068,     0.68168,     0.68268,     0.68368,     0.68468,     0.68569,     0.68669,     0.68769,     0.68869,     0.68969,     0.69069,     0.69169,     0.69269,     0.69369,     0.69469,      0.6957,\n",
       "            0.6967,      0.6977,      0.6987,      0.6997,      0.7007,      0.7017,      0.7027,      0.7037,      0.7047,     0.70571,     0.70671,     0.70771,     0.70871,     0.70971,     0.71071,     0.71171,     0.71271,     0.71371,     0.71471,     0.71572,     0.71672,     0.71772,     0.71872,     0.71972,\n",
       "           0.72072,     0.72172,     0.72272,     0.72372,     0.72472,     0.72573,     0.72673,     0.72773,     0.72873,     0.72973,     0.73073,     0.73173,     0.73273,     0.73373,     0.73473,     0.73574,     0.73674,     0.73774,     0.73874,     0.73974,     0.74074,     0.74174,     0.74274,     0.74374,\n",
       "           0.74474,     0.74575,     0.74675,     0.74775,     0.74875,     0.74975,     0.75075,     0.75175,     0.75275,     0.75375,     0.75475,     0.75576,     0.75676,     0.75776,     0.75876,     0.75976,     0.76076,     0.76176,     0.76276,     0.76376,     0.76476,     0.76577,     0.76677,     0.76777,\n",
       "           0.76877,     0.76977,     0.77077,     0.77177,     0.77277,     0.77377,     0.77477,     0.77578,     0.77678,     0.77778,     0.77878,     0.77978,     0.78078,     0.78178,     0.78278,     0.78378,     0.78478,     0.78579,     0.78679,     0.78779,     0.78879,     0.78979,     0.79079,     0.79179,\n",
       "           0.79279,     0.79379,     0.79479,      0.7958,      0.7968,      0.7978,      0.7988,      0.7998,      0.8008,      0.8018,      0.8028,      0.8038,      0.8048,     0.80581,     0.80681,     0.80781,     0.80881,     0.80981,     0.81081,     0.81181,     0.81281,     0.81381,     0.81481,     0.81582,\n",
       "           0.81682,     0.81782,     0.81882,     0.81982,     0.82082,     0.82182,     0.82282,     0.82382,     0.82482,     0.82583,     0.82683,     0.82783,     0.82883,     0.82983,     0.83083,     0.83183,     0.83283,     0.83383,     0.83483,     0.83584,     0.83684,     0.83784,     0.83884,     0.83984,\n",
       "           0.84084,     0.84184,     0.84284,     0.84384,     0.84484,     0.84585,     0.84685,     0.84785,     0.84885,     0.84985,     0.85085,     0.85185,     0.85285,     0.85385,     0.85485,     0.85586,     0.85686,     0.85786,     0.85886,     0.85986,     0.86086,     0.86186,     0.86286,     0.86386,\n",
       "           0.86486,     0.86587,     0.86687,     0.86787,     0.86887,     0.86987,     0.87087,     0.87187,     0.87287,     0.87387,     0.87487,     0.87588,     0.87688,     0.87788,     0.87888,     0.87988,     0.88088,     0.88188,     0.88288,     0.88388,     0.88488,     0.88589,     0.88689,     0.88789,\n",
       "           0.88889,     0.88989,     0.89089,     0.89189,     0.89289,     0.89389,     0.89489,      0.8959,      0.8969,      0.8979,      0.8989,      0.8999,      0.9009,      0.9019,      0.9029,      0.9039,      0.9049,     0.90591,     0.90691,     0.90791,     0.90891,     0.90991,     0.91091,     0.91191,\n",
       "           0.91291,     0.91391,     0.91491,     0.91592,     0.91692,     0.91792,     0.91892,     0.91992,     0.92092,     0.92192,     0.92292,     0.92392,     0.92492,     0.92593,     0.92693,     0.92793,     0.92893,     0.92993,     0.93093,     0.93193,     0.93293,     0.93393,     0.93493,     0.93594,\n",
       "           0.93694,     0.93794,     0.93894,     0.93994,     0.94094,     0.94194,     0.94294,     0.94394,     0.94494,     0.94595,     0.94695,     0.94795,     0.94895,     0.94995,     0.95095,     0.95195,     0.95295,     0.95395,     0.95495,     0.95596,     0.95696,     0.95796,     0.95896,     0.95996,\n",
       "           0.96096,     0.96196,     0.96296,     0.96396,     0.96496,     0.96597,     0.96697,     0.96797,     0.96897,     0.96997,     0.97097,     0.97197,     0.97297,     0.97397,     0.97497,     0.97598,     0.97698,     0.97798,     0.97898,     0.97998,     0.98098,     0.98198,     0.98298,     0.98398,\n",
       "           0.98498,     0.98599,     0.98699,     0.98799,     0.98899,     0.98999,     0.99099,     0.99199,     0.99299,     0.99399,     0.99499,       0.996,       0.997,       0.998,       0.999,           1]), array([[    0.89295,     0.89295,     0.89295,     0.88773,     0.88512,     0.88512,     0.88512,     0.88251,     0.88251,     0.88251,     0.88251,     0.88251,     0.88251,      0.8799,     0.87728,     0.87728,     0.87728,     0.87728,     0.87467,     0.87206,     0.86945,     0.86945,     0.86945,\n",
       "            0.86945,     0.86945,     0.86945,     0.86945,     0.86945,     0.86684,     0.86684,     0.86684,     0.86423,     0.86423,     0.86423,     0.86423,     0.86423,     0.86423,     0.86423,     0.86423,     0.86423,     0.86162,     0.86162,     0.85901,     0.85901,     0.85901,     0.85901,\n",
       "            0.85901,     0.85901,     0.85901,     0.85901,     0.85901,     0.85901,     0.85379,     0.85379,     0.85379,     0.85379,     0.85272,     0.85146,     0.85117,     0.85117,     0.85117,     0.85117,     0.85117,     0.85117,     0.85117,     0.84888,     0.84595,     0.84595,     0.84595,\n",
       "            0.84595,     0.84595,     0.84595,     0.84595,     0.84334,     0.84334,     0.84334,     0.84334,     0.84334,     0.84334,     0.84334,     0.84334,     0.84334,     0.84334,     0.84334,     0.84334,     0.84334,     0.84185,     0.84073,     0.83812,     0.83812,     0.83812,     0.83812,\n",
       "            0.83812,     0.83783,     0.83472,     0.83029,     0.83029,     0.83029,     0.82768,     0.82768,     0.82713,     0.82534,     0.82465,     0.82245,     0.82245,     0.82245,     0.82245,     0.82245,     0.82245,     0.82245,     0.82245,     0.82245,     0.82164,     0.81992,     0.81984,\n",
       "            0.81984,     0.81984,     0.81984,     0.81984,     0.81984,     0.81984,     0.81984,     0.81941,     0.81836,     0.81732,     0.81723,     0.81723,     0.81723,     0.81723,     0.81723,     0.81462,     0.81462,     0.81318,     0.81201,     0.81201,     0.81201,     0.81201,     0.81201,\n",
       "            0.81201,     0.81201,     0.81201,     0.81201,     0.81201,      0.8094,      0.8094,      0.8094,      0.8094,     0.80679,     0.80679,     0.80679,     0.80679,     0.80679,     0.80679,     0.80679,     0.80679,     0.80679,     0.80679,     0.80679,     0.80679,     0.80679,     0.80679,\n",
       "            0.80679,     0.80679,     0.80679,     0.80679,     0.80679,     0.80629,     0.80531,     0.80434,     0.80319,       0.802,     0.80157,     0.79896,     0.79896,     0.79896,     0.79896,     0.79896,     0.79896,     0.79896,     0.79896,     0.79896,     0.79896,     0.79896,     0.79896,\n",
       "            0.79896,     0.79896,     0.79896,     0.79373,     0.79049,     0.78906,     0.78851,     0.78851,     0.78819,     0.78712,     0.78605,      0.7859,     0.78525,     0.78423,     0.78329,     0.78329,     0.78329,     0.78329,     0.78329,     0.78329,     0.78329,     0.78329,     0.78329,\n",
       "            0.78329,     0.78329,     0.78329,     0.78329,     0.78329,     0.78329,     0.78023,     0.77921,     0.77819,     0.77807,     0.77807,     0.77807,     0.77807,      0.7764,     0.77534,     0.77511,     0.77489,     0.77466,     0.77444,     0.77421,     0.77399,     0.77376,     0.77354,\n",
       "            0.77331,     0.77309,     0.77286,     0.77167,     0.77041,     0.77023,     0.77023,     0.77023,     0.77023,     0.77023,     0.77023,     0.77023,     0.77023,     0.76985,     0.76866,     0.76762,     0.76762,     0.76762,     0.76762,     0.76696,     0.76583,     0.76501,     0.76501,\n",
       "            0.76501,     0.76501,     0.76501,     0.76501,     0.76501,     0.76501,     0.76501,     0.76501,     0.76501,     0.76495,     0.76376,     0.76257,      0.7624,      0.7624,      0.7624,      0.7624,      0.7624,      0.7624,      0.7624,      0.7624,      0.7624,      0.7624,      0.7624,\n",
       "             0.7624,     0.76209,     0.76163,     0.76116,      0.7607,     0.76023,     0.75979,     0.75979,     0.75979,     0.75979,     0.75979,     0.75979,     0.75979,     0.75979,     0.75977,     0.75446,     0.75404,     0.75363,     0.75322,     0.75281,      0.7524,     0.75199,     0.75096,\n",
       "            0.74989,     0.74887,     0.74789,     0.74692,     0.74622,      0.7456,     0.74497,     0.74434,     0.74413,     0.74413,     0.74413,     0.74337,     0.74184,     0.74151,     0.74149,     0.74114,      0.7408,     0.74045,     0.74011,     0.73976,     0.73941,     0.73907,     0.73751,\n",
       "            0.73435,      0.7289,     0.72846,     0.72846,     0.72846,     0.72846,     0.72846,     0.72846,     0.72846,     0.72846,     0.72846,     0.72846,     0.72846,     0.72731,     0.72597,     0.72446,     0.72063,     0.72063,     0.72014,     0.71917,      0.7182,     0.71478,     0.71402,\n",
       "            0.71325,     0.71173,     0.71018,     0.71018,     0.71018,     0.71018,     0.71018,     0.71015,     0.70967,     0.70918,      0.7087,     0.70821,     0.70772,     0.70704,     0.70628,     0.70551,     0.70483,     0.70437,      0.7039,     0.70344,     0.70297,      0.7025,     0.70184,\n",
       "            0.70107,     0.70031,     0.69974,     0.69974,     0.69974,     0.69713,     0.69713,     0.69713,     0.69713,     0.69713,     0.69713,     0.69675,     0.69635,     0.69595,     0.69556,     0.69516,     0.69476,     0.69394,     0.69241,     0.69101,     0.68967,     0.68738,     0.68648,\n",
       "            0.68619,     0.68591,     0.68563,     0.68535,     0.68507,     0.68478,      0.6845,     0.68422,     0.68281,     0.68111,     0.68039,     0.67968,     0.67897,     0.67885,     0.67885,     0.67885,     0.67885,     0.67885,     0.67885,     0.67817,     0.67624,     0.67322,     0.67189,\n",
       "            0.66976,     0.66675,      0.6658,      0.6658,      0.6658,      0.6658,     0.66219,     0.66085,     0.66057,      0.6605,     0.65961,     0.65872,     0.65754,     0.65519,      0.6543,     0.65341,     0.65261,     0.65207,     0.65153,       0.651,     0.65046,     0.65013,     0.65013,\n",
       "            0.65013,     0.64721,     0.64676,     0.64632,     0.64587,     0.64543,     0.64498,     0.64266,     0.64114,      0.6398,     0.63969,     0.63969,     0.63969,     0.63969,     0.63969,     0.63969,     0.63965,     0.63918,     0.63872,     0.63825,     0.63779,     0.63732,     0.63581,\n",
       "            0.63185,     0.63185,     0.62903,     0.62865,     0.62827,     0.62789,      0.6275,     0.62712,     0.62674,     0.62663,     0.62663,     0.62638,     0.62604,     0.62571,     0.62537,     0.62504,      0.6247,     0.62437,     0.62403,     0.62144,     0.62139,     0.62006,     0.61603,\n",
       "            0.61335,     0.60826,     0.60737,     0.60647,     0.60289,     0.60155,     0.60021,     0.59887,     0.59455,     0.59249,     0.59182,     0.59115,     0.59048,     0.59008,     0.58979,     0.58912,     0.58845,     0.58779,     0.58415,     0.58282,     0.57925,     0.57858,     0.57791,\n",
       "            0.57724,     0.57613,     0.57479,     0.57156,     0.57123,     0.57089,     0.57056,     0.57022,     0.56989,     0.56955,     0.56922,     0.56858,     0.56791,     0.56724,     0.56656,     0.56522,     0.56389,     0.56255,     0.56121,     0.55987,      0.5531,     0.55079,     0.55012,\n",
       "            0.54945,     0.54878,     0.54755,     0.54226,     0.53959,     0.53738,     0.53605,     0.53525,     0.53496,     0.53429,     0.53362,     0.53295,     0.53193,      0.5306,     0.52926,     0.52792,     0.52658,     0.52524,     0.52301,     0.52173,     0.52106,     0.52039,     0.51972,\n",
       "            0.51905,     0.51838,     0.51771,     0.51704,     0.51538,     0.51379,     0.51245,      0.5085,     0.50716,     0.50321,     0.50187,     0.49818,     0.49729,      0.4964,     0.49435,     0.49257,     0.49123,       0.485,      0.4841,     0.48321,      0.4809,     0.47932,     0.47798,\n",
       "            0.47665,     0.47531,      0.4752,     0.47436,     0.47346,     0.46994,     0.46716,     0.46328,     0.46214,     0.46134,        0.46,      0.4591,     0.45843,     0.45776,     0.45709,     0.45492,     0.45328,     0.45194,      0.4506,     0.44926,     0.44415,     0.43756,     0.43488,\n",
       "            0.42698,     0.42431,     0.42163,     0.41966,     0.41832,     0.40654,      0.4052,      0.4044,     0.40391,     0.40342,     0.40294,     0.40245,     0.39879,     0.39649,     0.39515,     0.39337,     0.38808,      0.3854,     0.37903,     0.37352,     0.37085,     0.36556,     0.35505,\n",
       "            0.35237,     0.34978,     0.34845,     0.34404,     0.34036,     0.33508,      0.3324,     0.32898,     0.32582,     0.32505,     0.32429,     0.32032,     0.31765,     0.31497,     0.31019,     0.30886,     0.30318,     0.30035,     0.29767,     0.29239,      0.2871,     0.28181,     0.27106,\n",
       "            0.26471,     0.26287,     0.26153,     0.25497,     0.25363,     0.23958,     0.23429,     0.23162,     0.22894,      0.2269,     0.22613,     0.22537,     0.22461,     0.22029,     0.21027,     0.20845,     0.20756,     0.20667,     0.19582,     0.19309,     0.19175,     0.18762,     0.18451,\n",
       "            0.17664,      0.1753,     0.16842,     0.16153,     0.16019,      0.1535,     0.15171,      0.1503,     0.14897,     0.14883,     0.14042,     0.13908,     0.13752,     0.13053,     0.12919,     0.12521,     0.12343,      0.1193,     0.11796,     0.11633,     0.11463,     0.11329,     0.10953,\n",
       "              0.109,     0.10846,     0.10793,     0.10739,     0.10416,      0.1034,     0.10264,     0.10187,     0.10014,    0.098849,    0.098085,     0.09732,    0.096488,    0.094704,    0.093672,    0.093137,    0.092602,    0.092066,    0.091531,    0.090091,    0.083351,    0.082587,    0.081822,\n",
       "           0.081057,    0.079429,    0.075425,     0.07466,    0.073896,    0.073131,    0.072531,    0.071936,    0.071341,    0.070747,    0.067575,     0.06704,    0.066505,     0.06597,    0.065434,    0.064024,    0.059629,    0.057845,    0.057123,    0.056711,    0.056299,    0.055887,    0.055476,\n",
       "           0.055064,    0.054058,    0.052274,    0.051355,    0.050463,    0.046922,    0.045137,    0.043353,    0.041672,     0.04078,    0.039888,    0.038996,    0.038104,    0.037212,    0.033475,    0.031691,    0.030857,    0.030262,    0.029667,    0.029072,    0.028636,    0.028431,    0.028225,\n",
       "           0.028019,    0.027813,    0.027607,    0.027401,    0.027195,     0.02699,    0.026784,    0.026578,    0.026372,    0.026166,    0.025678,    0.025083,    0.024488,    0.023894,    0.023139,    0.022069,    0.020998,    0.020802,    0.020706,    0.020611,    0.020515,     0.02042,    0.020324,\n",
       "           0.020228,    0.020133,    0.020037,    0.019942,    0.019846,    0.019751,    0.019655,    0.019559,    0.019464,    0.019368,    0.019273,    0.019177,    0.019082,    0.018986,     0.01889,    0.018795,    0.018699,    0.018604,    0.018508,    0.018412,    0.018317,     0.01807,    0.017713,\n",
       "           0.017356,    0.016999,    0.016642,    0.016285,    0.015929,    0.015525,    0.014989,    0.014454,    0.013919,    0.013384,    0.013027,    0.012956,    0.012885,    0.012813,    0.012742,     0.01267,    0.012599,    0.012528,    0.012456,    0.012385,    0.012314,    0.012242,    0.012171,\n",
       "             0.0121,    0.012028,    0.011957,    0.011885,    0.011814,    0.011743,    0.011671,      0.0116,    0.011529,    0.011457,    0.011386,    0.011314,    0.011243,    0.011172,      0.0111,    0.011029,    0.010958,    0.010886,    0.010815,    0.010744,    0.010672,    0.010601,    0.010529,\n",
       "           0.010458,    0.010015,   0.0094797,   0.0089445,   0.0084092,   0.0078739,    0.007732,   0.0076228,   0.0075136,   0.0074043,   0.0072951,   0.0071859,   0.0070766,   0.0069674,   0.0068581,   0.0067489,   0.0066397,   0.0065304,   0.0064212,    0.006312,   0.0062027,   0.0060935,   0.0059842,\n",
       "           0.005875,   0.0057658,   0.0056565,   0.0055473,   0.0054381,   0.0053288,   0.0052115,   0.0047249,   0.0042383,   0.0037517,   0.0032651,   0.0027785,           0,           0,           0,           0,           0,           0,           0,           0,           0,           0,           0,\n",
       "                  0,           0,           0,           0,           0,           0,           0,           0,           0,           0,           0,           0,           0,           0,           0,           0,           0,           0,           0,           0,           0,           0,           0,\n",
       "                  0,           0,           0,           0,           0,           0,           0,           0,           0,           0,           0,           0,           0,           0,           0,           0,           0,           0,           0,           0,           0,           0,           0,\n",
       "                  0,           0,           0,           0,           0,           0,           0,           0,           0,           0,           0,           0,           0,           0,           0,           0,           0,           0,           0,           0,           0,           0,           0,\n",
       "                  0,           0,           0,           0,           0,           0,           0,           0,           0,           0,           0,           0,           0,           0,           0,           0,           0,           0,           0,           0,           0,           0,           0,\n",
       "                  0,           0,           0,           0,           0,           0,           0,           0,           0,           0,           0]]), 'Confidence', 'Recall']]\n",
       "fitness: np.float64(0.4125205084653296)\n",
       "keys: ['metrics/precision(B)', 'metrics/recall(B)', 'metrics/mAP50(B)', 'metrics/mAP50-95(B)']\n",
       "maps: array([    0.36522])\n",
       "names: {0: 'boat'}\n",
       "plot: True\n",
       "results_dict: {'metrics/precision(B)': np.float64(0.892634840283102), 'metrics/recall(B)': np.float64(0.7597658581122463), 'metrics/mAP50(B)': np.float64(0.8382257280691242), 'metrics/mAP50-95(B)': np.float64(0.3652199285093524), 'fitness': np.float64(0.4125205084653296)}\n",
       "save_dir: WindowsPath('runs/detect/first-boat-detection-nano')\n",
       "speed: {'preprocess': 0.16817477875825976, 'inference': 1.4967590697167392, 'loss': 0.0005331868099757528, 'postprocess': 1.8718672568077404}\n",
       "task: 'detect'"
      ]
     },
     "execution_count": 7,
     "metadata": {},
     "output_type": "execute_result"
    }
   ],
   "source": [
    "YAML_DATA = os.path.join(BASE_DIR, 'data', 'data.yaml')\n",
    "\n",
    "# Ajuste los hiperparámetros y entrenamiento del modelo\n",
    "#    - data: data.yaml\n",
    "#    - epochs: nº de épocas \n",
    "#    - imgsz: tamaño de lado de las imágenes \n",
    "#    - batch: tamaño de lote \n",
    "#    - device: GPU o CPU\n",
    "model.train(\n",
    "    data=YAML_DATA,\n",
    "    epochs=50,\n",
    "    imgsz=512,\n",
    "    batch=32,\n",
    "    device=device,\n",
    "    name='first-boat-detection-nano',\n",
    ")"
   ]
  },
  {
   "cell_type": "markdown",
   "id": "77882e5b",
   "metadata": {},
   "source": [
    "Las gráficas del entrenamiento se encuentran en el directorio runs"
   ]
  },
  {
   "cell_type": "markdown",
   "id": "f7885900",
   "metadata": {},
   "source": [
    "Matriz de confusión:\n",
    "\n",
    "![Matriz de confusión](runs/detect/first-boat-detection-nano/confusion_matrix.png)"
   ]
  },
  {
   "cell_type": "markdown",
   "id": "cc8f6444",
   "metadata": {},
   "source": [
    "Métricas de entrenamiento:\n",
    "![Métricas de entrenamiento](runs/detect/first-boat-detection-nano/results.png)"
   ]
  },
  {
   "cell_type": "markdown",
   "id": "e468c7a2",
   "metadata": {},
   "source": [
    "# Evaluación del modelo\n",
    "Vamos a ver como se comporta con los datos de test."
   ]
  },
  {
   "cell_type": "code",
   "execution_count": 9,
   "id": "e072f185",
   "metadata": {},
   "outputs": [],
   "source": [
    "path_modelo = os.path.join(BASE_DIR, 'code/runs/detect/first-boat-detection-nano/weights/best.pt')"
   ]
  },
  {
   "cell_type": "code",
   "execution_count": 10,
   "id": "c5c47b93",
   "metadata": {},
   "outputs": [],
   "source": [
    "# Evaluación del modelo con imagenes de test\n",
    "model = YOLO(path_modelo)"
   ]
  },
  {
   "cell_type": "code",
   "execution_count": 12,
   "id": "877bdf29",
   "metadata": {},
   "outputs": [
    {
     "name": "stdout",
     "output_type": "stream",
     "text": [
      "\n",
      "image 1/1 c:\\Users\\gonza\\Desktop\\ImagenADNE\\DeepLearning-Images\\data\\MASATI\\output\\test\\images\\x0099.png: 512x512 1 boat, 22.8ms\n",
      "Speed: 2.5ms preprocess, 22.8ms inference, 3.1ms postprocess per image at shape (1, 3, 512, 512)\n"
     ]
    }
   ],
   "source": [
    "#probar con una imagen de test y mostrar imagen\n",
    "img_path = os.path.join(IMG_TEST_DIR, 'x0099.png')\n",
    "results = model.predict(img_path, conf=0.5, iou=0.5, device=device)\n",
    "\n",
    "# Obtener la imagen con los bounding boxes ya dibujados\n",
    "#    La función plot() devuelve un ndarray BGR con las detecciones\n",
    "annotated_img = results[0].plot()\n",
    "\n",
    "# Mostrar imagen con OpenCV\n",
    "window_name = \"Detecciones de barcos\"\n",
    "cv2.namedWindow(window_name, cv2.WINDOW_NORMAL)\n",
    "cv2.imshow(window_name, annotated_img)\n",
    " # espera a que pulses una tecla cualquiera o que cierres la ventana manualmente\n",
    "while True:\n",
    "    key = cv2.waitKey(1) & 0xFF\n",
    "    if key == ord('q') or cv2.getWindowProperty(window_name, cv2.WND_PROP_VISIBLE) < 1:\n",
    "        break\n",
    "# Cierra la ventana y libera los recursos\n",
    "cv2.destroyAllWindows()"
   ]
  },
  {
   "cell_type": "markdown",
   "id": "029fe0be",
   "metadata": {},
   "source": [
    "## Mejora del entrenamiento\n",
    "haciendo image augmentation y otras tecnicas de mejora de la red que aun no he probado y tengo que investigar.\n"
   ]
  },
  {
   "cell_type": "code",
   "execution_count": null,
   "id": "da715bc9",
   "metadata": {},
   "outputs": [],
   "source": [
    "\n",
    "model.train(\n",
    "    task='detect',\n",
    "    mode='train',\n",
    "    model='yolov8n.pt',\n",
    "    data=r'c:\\Users\\gonza\\Desktop\\ImagenADNE\\DeepLearning-Images\\data\\data.yaml',\n",
    "    epochs=50,                # más épocas para converger mejor\n",
    "    batch=16,\n",
    "    imgsz=512,\n",
    "    device=device,\n",
    "    single_cls=True,           # solo una clase (barco)\n",
    "    patience=30,               # early-stop tras 30 epochs sin mejora\n",
    "    save=True,\n",
    "    save_period=1,             # guarda pesos cada epoch\n",
    "    optimizer='SGD',           # SGD suele dar mejor generalización en Nano\n",
    "    lr0=0.005,                  # lr inicial algo más bajo\n",
    "    lrf=0.1,                    # lr final = 0.1 * lr0\n",
    "    momentum=0.9,\n",
    "    weight_decay=0.0005,\n",
    "    warmup_epochs=3.0,\n",
    "    warmup_momentum=0.8,\n",
    "    warmup_bias_lr=0.1,\n",
    "    cos_lr=True,               # Cosine LR schedule\n",
    "    amp=True,                  # Mixed Precision\n",
    "    half=True,                 # FP16\n",
    "    augment=True,\n",
    "    mosaic=1.0,                # siempre mosaic\n",
    "    mixup=0.2,                 # 20% mixup\n",
    "    copy_paste=0.2,            # 20% copy-paste\n",
    "    auto_augment='randaugment',\n",
    "    multi_scale=True,          # escala variable\n",
    "    name='boat-nano-optimized'\n",
    ")"
   ]
  }
 ],
 "metadata": {
  "kernelspec": {
   "display_name": "boat_detection",
   "language": "python",
   "name": "python3"
  },
  "language_info": {
   "codemirror_mode": {
    "name": "ipython",
    "version": 3
   },
   "file_extension": ".py",
   "mimetype": "text/x-python",
   "name": "python",
   "nbconvert_exporter": "python",
   "pygments_lexer": "ipython3",
   "version": "3.12.10"
  }
 },
 "nbformat": 4,
 "nbformat_minor": 5
}
