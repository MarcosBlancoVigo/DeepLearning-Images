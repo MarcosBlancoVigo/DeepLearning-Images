{
 "cells": [
  {
   "cell_type": "code",
   "execution_count": 1,
   "id": "e1862075-8add-4685-8688-4dd011706a96",
   "metadata": {},
   "outputs": [],
   "source": [
    "### LIBRERÍAS\n",
    "\n",
    "import os\n",
    "import glob\n",
    "import numpy as np\n",
    "from tqdm import tqdm\n",
    "from PIL import Image\n",
    "from skimage.feature import hog\n",
    "from sklearn.model_selection import train_test_split\n",
    "from sklearn.svm import SVC\n",
    "from sklearn.metrics import classification_report, confusion_matrix\n",
    "import matplotlib.pyplot as plt\n",
    "import seaborn as sns\n",
    "\n",
    "import torch\n",
    "from torch.utils.data import Dataset, DataLoader\n",
    "import torchvision.transforms as transforms\n",
    "import torch.nn as nn\n",
    "import torch.nn.functional as F"
   ]
  },
  {
   "cell_type": "code",
   "execution_count": 2,
   "id": "694645d1-02b8-4668-b83d-d2ba0da936bf",
   "metadata": {},
   "outputs": [],
   "source": [
    "# Paths\n",
    "\n",
    "BASE_DIR = os.path.abspath(os.path.join(os.getcwd(), '..'))\n",
    "IMG_TRAIN_DIR = os.path.join(BASE_DIR, 'data', 'MASATI', 'output', 'train', 'images')\n",
    "IMG_TEST_DIR = os.path.join(BASE_DIR, 'data', 'MASATI', 'output', 'test', 'images')\n",
    "IMG_VAL_DIR = os.path.join(BASE_DIR, 'data', 'MASATI', 'output', 'val', 'images')\n",
    "LBL_TRAIN_DIR = os.path.join(BASE_DIR, 'data', 'MASATI', 'output', 'train', 'labels')\n",
    "LBL_TEST_DIR = os.path.join(BASE_DIR, 'data', 'MASATI', 'output', 'test', 'labels')\n",
    "LBL_VAL_DIR = os.path.join(BASE_DIR, 'data', 'MASATI', 'output', 'val', 'labels')"
   ]
  },
  {
   "cell_type": "markdown",
   "id": "7b3d4ec3",
   "metadata": {},
   "source": [
    "# Análisis Exploratorio de Datos"
   ]
  },
  {
   "cell_type": "code",
   "execution_count": 3,
   "id": "f7c9df55",
   "metadata": {},
   "outputs": [
    {
     "name": "stdout",
     "output_type": "stream",
     "text": [
      "Train images: 3617\n",
      "Validation images: 452\n",
      "Test images: 453\n"
     ]
    }
   ],
   "source": [
    "print(\"Train images:\", len(glob.glob(os.path.join(IMG_TRAIN_DIR, '*.png'))))\n",
    "print(\"Validation images:\", len(glob.glob(os.path.join(IMG_VAL_DIR, '*.png'))))\n",
    "print(\"Test images:\", len(glob.glob(os.path.join(IMG_TEST_DIR, '*.png'))))"
   ]
  },
  {
   "cell_type": "code",
   "execution_count": 28,
   "id": "a66926af",
   "metadata": {},
   "outputs": [
    {
     "name": "stdout",
     "output_type": "stream",
     "text": [
      "\n",
      "TRAINING\n"
     ]
    },
    {
     "name": "stderr",
     "output_type": "stream",
     "text": [
      "Loading labels:   0%|          | 0/3617 [00:00<?, ?it/s]"
     ]
    },
    {
     "name": "stderr",
     "output_type": "stream",
     "text": [
      "Loading labels: 100%|██████████| 3617/3617 [00:00<00:00, 6904.93it/s]\n"
     ]
    },
    {
     "name": "stdout",
     "output_type": "stream",
     "text": [
      "There are 1888 images with boats\n",
      "The mean number of boats in those images is  1.7309322033898304\n",
      "\n",
      "VALIDATION\n"
     ]
    },
    {
     "name": "stderr",
     "output_type": "stream",
     "text": [
      "Loading labels: 100%|██████████| 452/452 [00:00<00:00, 6405.18it/s]\n"
     ]
    },
    {
     "name": "stdout",
     "output_type": "stream",
     "text": [
      "There are 237 images with boats\n",
      "The mean number of boats in those images is  1.6160337552742616\n",
      "\n",
      "TESTING\n"
     ]
    },
    {
     "name": "stderr",
     "output_type": "stream",
     "text": [
      "Loading labels: 100%|██████████| 453/453 [00:00<00:00, 7105.75it/s]"
     ]
    },
    {
     "name": "stdout",
     "output_type": "stream",
     "text": [
      "There are 243 images with boats\n",
      "The mean number of boats in those images is  1.6584362139917694\n"
     ]
    },
    {
     "name": "stderr",
     "output_type": "stream",
     "text": [
      "\n"
     ]
    }
   ],
   "source": [
    "# las labels se encuentran dentro de archivos .txt, por lo que se debe leer cada archivo y extraer la información de las etiquetas\n",
    "# el nombre del archivo de la imagen y el archivo de la etiqueta son iguales\n",
    "# puede haber más de una etiqueta por imagen, por lo que se debe leer cada línea del archivo de etiquetas\n",
    "\n",
    "def load_labels(label_dir):\n",
    "    labels = []\n",
    "    for label_file in tqdm(glob.glob(os.path.join(label_dir, '*.txt')), desc=\"Loading labels\"):\n",
    "        with open(label_file, 'r') as f:\n",
    "            labels_img = [line.strip() for line in f if line.strip() != '']\n",
    "            \n",
    "        if labels_img:\n",
    "            labels.append(labels_img)\n",
    "    return labels\n",
    "\n",
    "print(\"\\nTRAINING\")\n",
    "labels_train = load_labels(LBL_TRAIN_DIR)\n",
    "print(\"There are\", len(labels_train), \"images with boats\")\n",
    "print(\"The mean number of boats in those images is \", np.mean([len(l) for l in labels_train]))\n",
    "\n",
    "print(\"\\nVALIDATION\")\n",
    "labels_val = load_labels(LBL_VAL_DIR)\n",
    "print(\"There are\", len(labels_val), \"images with boats\")\n",
    "print(\"The mean number of boats in those images is \", np.mean([len(l) for l in labels_val]))\n",
    "\n",
    "print(\"\\nTESTING\")\n",
    "labels_test = load_labels(LBL_TEST_DIR)\n",
    "print(\"There are\", len(labels_test), \"images with boats\")\n",
    "print(\"The mean number of boats in those images is \", np.mean([len(l) for l in labels_test]))"
   ]
  },
  {
   "cell_type": "markdown",
   "id": "5c4c1347",
   "metadata": {},
   "source": [
    "La mitad de las imágenes no poseen barcos, pero las imágenes que sí tienen, pueden contener más de uno."
   ]
  },
  {
   "cell_type": "code",
   "execution_count": 53,
   "id": "cc114710",
   "metadata": {},
   "outputs": [
    {
     "name": "stderr",
     "output_type": "stream",
     "text": [
      "C:\\Users\\gonza\\AppData\\Local\\Temp\\ipykernel_6408\\1436544970.py:8: FutureWarning: \n",
      "\n",
      "Passing `palette` without assigning `hue` is deprecated and will be removed in v0.14.0. Assign the `x` variable to `hue` and set `legend=False` for the same effect.\n",
      "\n",
      "  sns.countplot(x=num_barcos, palette='Set2')    # Una barra por cada valor distinto, con 20 colores distintos\n"
     ]
    },
    {
     "data": {
      "image/png": "[encoded data removed]",
      "text/plain": [
       "<Figure size 1000x600 with 1 Axes>"
      ]
     },
     "metadata": {},
     "output_type": "display_data"
    }
   ],
   "source": [
    "\n",
    "num_barcos = [len(l) for l in labels_train]\n",
    "#añado las imagenes con 0 barcos\n",
    "for i in range(len(labels_train), 3617):\n",
    "    num_barcos.append(0)\n",
    "\n",
    "# distribución del numero de barcos por imagen en train\n",
    "plt.figure(figsize=(10, 6))\n",
    "sns.countplot(x=num_barcos, palette='Set2')    # Una barra por cada valor distinto, con 20 colores distintos\n",
    "\n",
    "plt.xlabel('Número de barcos por imagen')\n",
    "plt.ylabel('Frecuencia')\n",
    "plt.title('Distribución del número de barcos por imagen')\n",
    "plt.show()\n"
   ]
  },
  {
   "cell_type": "markdown",
   "id": "2cd3d263",
   "metadata": {},
   "source": [
    "Existen imágenes con incluso 82 barcos, aunque vemos que la gran mayoría tienen uno o ninguno."
   ]
  },
  {
   "cell_type": "code",
   "execution_count": 29,
   "id": "1c89f2c6",
   "metadata": {},
   "outputs": [
    {
     "data": {
      "text/plain": [
       "['0']"
      ]
     },
     "execution_count": 29,
     "metadata": {},
     "output_type": "execute_result"
    }
   ],
   "source": [
    "#leer clases de las etiquetas\n",
    "def get_classes(labels):\n",
    "    classes = set()\n",
    "    for label in labels:\n",
    "        for l in label:\n",
    "            classes.add(l.split()[0])\n",
    "    return list(classes)\n",
    "\n",
    "classes_train = get_classes(labels_train)\n",
    "classes_train\n"
   ]
  },
  {
   "cell_type": "markdown",
   "id": "abb07923",
   "metadata": {},
   "source": [
    "Solo hay una clase en el conjunto de datos, que corresponde a la detección de un barco."
   ]
  },
  {
   "cell_type": "markdown",
   "id": "b4881c87",
   "metadata": {},
   "source": [
    "Dimensiones de las imágenes en general: 512x512 píxeles.\n",
    "\n",
    "(momstrar grafica con dimensiones pa comprobar)"
   ]
  },
  {
   "cell_type": "markdown",
   "id": "2a2f35aa-0c2b-4658-89c9-369f611a815e",
   "metadata": {},
   "source": [
    "# MACHINE LEARNING (CLASIFICACIÓN)"
   ]
  },
  {
   "cell_type": "markdown",
   "id": "62ca8b5e-ba8c-4553-acba-0f8e6d7cbc37",
   "metadata": {},
   "source": [
    "En primer lugar ajustaremos un modelo de machine learning (SVM) para hacer una clasificación binaria y está basado en la extracción de características HOG. Es decir, el objetivo es determinar si una foto tiene barco o no. En un primer momento, es de suponer que deste no debería ser un muy buen modelo, ya que no se está usando ningún método de deep learning para esta clasificación."
   ]
  },
  {
   "cell_type": "code",
   "execution_count": 3,
   "id": "acfba4b3-11e3-4961-9020-e8bb3ab28863",
   "metadata": {},
   "outputs": [],
   "source": [
    "# Función para saber si hay barco\n",
    "def has_boat(label_path):\n",
    "    return os.path.exists(label_path) and os.path.getsize(label_path) > 0\n",
    "\n",
    "# Extraer características HOG usando Pillow\n",
    "def extract_features(image_path):\n",
    "    image = Image.open(image_path).convert(\"L\")  # Convertir a escala de grises\n",
    "    image = image.resize((128, 128))  # Redimensionar\n",
    "    image_np = np.array(image)\n",
    "\n",
    "    features, _ = hog(image_np,\n",
    "                      pixels_per_cell=(8, 8),\n",
    "                      cells_per_block=(2, 2),\n",
    "                      visualize=True)\n",
    "    return features"
   ]
  },
  {
   "cell_type": "code",
   "execution_count": 4,
   "id": "d8ff9b4a-0da9-4d02-a80b-d6d3346c6f6d",
   "metadata": {},
   "outputs": [
    {
     "name": "stderr",
     "output_type": "stream",
     "text": [
      "Extrayendo características de entrenamiento: 100%|█████████████████████████████████| 3617/3617 [06:48<00:00,  8.85it/s]\n",
      "Extrayendo características de test: 100%|████████████████████████████████████████████| 453/453 [00:48<00:00,  9.31it/s]\n"
     ]
    }
   ],
   "source": [
    "# Cargar imágenes de entrenamiento\n",
    "X_train, y_train = [], []\n",
    "train_image_paths = glob.glob(os.path.join(IMG_TRAIN_DIR, '*.png'))\n",
    "\n",
    "for img_path in tqdm(train_image_paths, desc=\"Extrayendo características de entrenamiento\"):\n",
    "    filename = os.path.splitext(os.path.basename(img_path))[0] + '.txt'\n",
    "    label_path = os.path.join(LBL_TRAIN_DIR, filename)  # Ruta de etiquetas de entrenamiento\n",
    "\n",
    "    label = int(has_boat(label_path))\n",
    "    features = extract_features(img_path)\n",
    "\n",
    "    X_train.append(features)\n",
    "    y_train.append(label)\n",
    "\n",
    "X_train = np.array(X_train)\n",
    "y_train = np.array(y_train)\n",
    "\n",
    "# Cargar imágenes de prueba\n",
    "X_test, y_test = [], []\n",
    "test_image_paths = glob.glob(os.path.join(IMG_TEST_DIR, '*.png'))\n",
    "\n",
    "for img_path in tqdm(test_image_paths, desc=\"Extrayendo características de test\"):\n",
    "    filename = os.path.splitext(os.path.basename(img_path))[0] + '.txt'\n",
    "    label_path = os.path.join(LBL_TEST_DIR, filename)  # Ruta de etiquetas de prueba\n",
    "\n",
    "    label = int(has_boat(label_path))  \n",
    "    features = extract_features(img_path)\n",
    "\n",
    "    X_test.append(features)\n",
    "    y_test.append(label)\n",
    "\n",
    "X_test = np.array(X_test)\n",
    "y_test = np.array(y_test)"
   ]
  },
  {
   "cell_type": "code",
   "execution_count": 5,
   "id": "6c3e5d40-d002-4376-be16-c26205028ece",
   "metadata": {},
   "outputs": [
    {
     "name": "stdout",
     "output_type": "stream",
     "text": [
      "\n",
      "Reporte de clasificación:\n",
      "              precision    recall  f1-score   support\n",
      "\n",
      "    No barco       0.58      0.57      0.57       210\n",
      "       Barco       0.63      0.64      0.64       243\n",
      "\n",
      "    accuracy                           0.61       453\n",
      "   macro avg       0.60      0.60      0.60       453\n",
      "weighted avg       0.61      0.61      0.61       453\n",
      "\n"
     ]
    }
   ],
   "source": [
    "# Modelo\n",
    "model = SVC(kernel='linear', probability=True)\n",
    "model.fit(X_train, y_train)\n",
    "\n",
    "# Evaluación en conjunto de prueba\n",
    "y_pred = model.predict(X_test)\n",
    "\n",
    "print(\"\\nReporte de clasificación:\")\n",
    "print(classification_report(y_test, y_pred, target_names=[\"No barco\", \"Barco\"]))"
   ]
  },
  {
   "cell_type": "markdown",
   "id": "834f67f1-091f-4dd5-84e5-417b7a3b65bd",
   "metadata": {},
   "source": [
    "Obtenemos un accurcay del 61%, un poco más del 50% que sería puro azar, por lo tanto confirmamos nuestras primeras sospechas de que un método de machine learning no es el más adecuado para esta tarea."
   ]
  },
  {
   "cell_type": "code",
   "execution_count": 6,
   "id": "4cd0b7c6-471d-4efe-bf2f-903fe292a3ef",
   "metadata": {},
   "outputs": [
    {
     "data": {
      "image/png": "[encoded data removed]",
      "text/plain": [
       "<Figure size 640x480 with 2 Axes>"
      ]
     },
     "metadata": {},
     "output_type": "display_data"
    }
   ],
   "source": [
    "# Matriz de confusión\n",
    "cm = confusion_matrix(y_test, y_pred)\n",
    "sns.heatmap(cm, annot=True, fmt=\"d\", cmap=\"Blues\", xticklabels=[\"No barco\", \"Barco\"], yticklabels=[\"No barco\", \"Barco\"])\n",
    "plt.xlabel(\"Predicción\")\n",
    "plt.ylabel(\"Real\")\n",
    "plt.title(\"Matriz de Confusión\")\n",
    "plt.show()"
   ]
  },
  {
   "cell_type": "markdown",
   "id": "973b5e7f-932b-4ae7-a3c4-01cd4f0d35a4",
   "metadata": {},
   "source": [
    "# DEEP LEARNING (CLASIFICACIÓN)"
   ]
  },
  {
   "cell_type": "markdown",
   "id": "da22aadd-6c6d-4e4e-a1ca-f1507adfea46",
   "metadata": {},
   "source": [
    "Ahora ajustaremos un modelo de deep learning (una CNN) y veremos si ofrece mejores resultados que el modelo anterior, lo cual es de esperar."
   ]
  },
  {
   "cell_type": "code",
   "execution_count": 3,
   "id": "880d1810-e106-4eba-95cf-c13927077d79",
   "metadata": {},
   "outputs": [],
   "source": [
    "IMG_SIZE = 128\n",
    "BATCH_SIZE = 16\n",
    "EPOCHS = 15\n",
    "DEVICE = torch.device(\"cuda\" if torch.cuda.is_available() else \"cpu\")"
   ]
  },
  {
   "cell_type": "code",
   "execution_count": 4,
   "id": "c2139fc0-9243-46e4-ab84-02d331428aaf",
   "metadata": {},
   "outputs": [],
   "source": [
    "class BoatDataset(Dataset):\n",
    "    def __init__(self, image_dir, label_dir, transform=None):\n",
    "        self.image_paths = sorted(glob.glob(os.path.join(image_dir, '*.png')))\n",
    "        self.label_dir = label_dir\n",
    "        self.transform = transform\n",
    "\n",
    "    def __len__(self):\n",
    "        return len(self.image_paths)\n",
    "\n",
    "    def has_boat(self, label_path):\n",
    "        if not os.path.exists(label_path):\n",
    "            return 0\n",
    "        with open(label_path, 'r') as f:\n",
    "            return int(bool(f.read().strip()))\n",
    "\n",
    "    def __getitem__(self, idx):\n",
    "        img_path = self.image_paths[idx]\n",
    "        filename = os.path.splitext(os.path.basename(img_path))[0] + '.txt'\n",
    "        label_path = os.path.join(self.label_dir, filename)\n",
    "\n",
    "        image = Image.open(img_path).convert('RGB')\n",
    "        label = self.has_boat(label_path)\n",
    "\n",
    "        if self.transform:\n",
    "            image = self.transform(image)\n",
    "\n",
    "        return image, label"
   ]
  },
  {
   "cell_type": "code",
   "execution_count": 5,
   "id": "6bc5df9e-87a4-415d-8b9e-8c816b991e4a",
   "metadata": {},
   "outputs": [],
   "source": [
    "transform = transforms.Compose([\n",
    "    transforms.Resize((IMG_SIZE, IMG_SIZE)),\n",
    "    transforms.ToTensor()\n",
    "])\n",
    "\n",
    "# Cargamos los datasets de train, validation y test\n",
    "train_dataset = BoatDataset(IMG_TRAIN_DIR, LBL_TRAIN_DIR, transform)\n",
    "val_dataset = BoatDataset(IMG_VAL_DIR, LBL_VAL_DIR, transform)\n",
    "test_dataset = BoatDataset(IMG_TEST_DIR, LBL_TEST_DIR, transform)\n",
    "\n",
    "train_loader = DataLoader(train_dataset, batch_size=BATCH_SIZE, shuffle=True)\n",
    "val_loader = DataLoader(val_dataset, batch_size=BATCH_SIZE)\n",
    "test_loader = DataLoader(test_dataset, batch_size=BATCH_SIZE)"
   ]
  },
  {
   "cell_type": "code",
   "execution_count": 14,
   "id": "a94cc4b2-7bd7-44c3-adc2-a968ac13429a",
   "metadata": {},
   "outputs": [],
   "source": [
    "class ImprovedBoatClassifier(nn.Module):\n",
    "    def __init__(self):\n",
    "        super().__init__()\n",
    "        self.net = nn.Sequential(\n",
    "            nn.Conv2d(3, 32, 3, padding=1),\n",
    "            nn.ReLU(),\n",
    "            nn.MaxPool2d(2),\n",
    "            nn.Conv2d(32, 64, 3, padding=1),\n",
    "            nn.ReLU(),\n",
    "            nn.MaxPool2d(2),\n",
    "            nn.Conv2d(64, 128, 3, padding=1),\n",
    "            nn.ReLU(),\n",
    "            nn.MaxPool2d(2),\n",
    "            nn.Flatten(),\n",
    "            nn.Linear(128 * (IMG_SIZE // 8) * (IMG_SIZE // 8), 256),\n",
    "            nn.ReLU(),\n",
    "            nn.Dropout(0.4),\n",
    "            nn.Linear(256, 1),\n",
    "            nn.Sigmoid()\n",
    "        )\n",
    "\n",
    "    def forward(self, x):\n",
    "        return self.net(x).view(-1)\n"
   ]
  },
  {
   "cell_type": "code",
   "execution_count": 15,
   "id": "337b26d4-9912-4032-b9cb-d681c57e9ef2",
   "metadata": {},
   "outputs": [
    {
     "name": "stdout",
     "output_type": "stream",
     "text": [
      "Epoch 1/15, Loss: 0.6610, Accuracy: 0.5964\n",
      "Epoch 2/15, Loss: 0.6304, Accuracy: 0.6417\n",
      "Epoch 3/15, Loss: 0.6196, Accuracy: 0.6563\n",
      "Epoch 4/15, Loss: 0.6060, Accuracy: 0.6605\n",
      "Epoch 5/15, Loss: 0.5928, Accuracy: 0.6718\n",
      "Epoch 6/15, Loss: 0.5771, Accuracy: 0.6879\n",
      "Epoch 7/15, Loss: 0.5542, Accuracy: 0.7000\n",
      "Epoch 8/15, Loss: 0.5265, Accuracy: 0.7230\n",
      "Epoch 9/15, Loss: 0.4789, Accuracy: 0.7597\n",
      "Epoch 10/15, Loss: 0.4339, Accuracy: 0.7935\n",
      "Epoch 11/15, Loss: 0.3763, Accuracy: 0.8233\n",
      "Epoch 12/15, Loss: 0.3314, Accuracy: 0.8537\n",
      "Epoch 13/15, Loss: 0.2756, Accuracy: 0.8808\n",
      "Epoch 14/15, Loss: 0.2422, Accuracy: 0.8974\n",
      "Epoch 15/15, Loss: 0.2001, Accuracy: 0.9165\n"
     ]
    }
   ],
   "source": [
    "# Inicializar listas para guardar métricas\n",
    "train_losses = []\n",
    "train_accuracies = []\n",
    "\n",
    "# Entrenamos la CNN\n",
    "model = ImprovedBoatClassifier().to(DEVICE)\n",
    "criterion = nn.BCELoss()\n",
    "optimizer = torch.optim.Adam(model.parameters(), lr=0.0005)\n",
    "\n",
    "for epoch in range(EPOCHS):\n",
    "    model.train()\n",
    "    total_loss = 0\n",
    "    correct = 0\n",
    "    total = 0\n",
    "\n",
    "    for images, labels in train_loader:\n",
    "        images, labels = images.to(DEVICE), labels.float().to(DEVICE)\n",
    "\n",
    "        optimizer.zero_grad()\n",
    "        outputs = model(images).view(-1)\n",
    "\n",
    "        loss = criterion(outputs, labels)\n",
    "        loss.backward()\n",
    "        optimizer.step()\n",
    "\n",
    "        total_loss += loss.item()\n",
    "\n",
    "        predictions = (outputs > 0.5).float()\n",
    "        correct += (predictions == labels).sum().item()\n",
    "        total += labels.size(0)\n",
    "\n",
    "    epoch_loss = total_loss / len(train_loader)\n",
    "    epoch_accuracy = correct / total\n",
    "\n",
    "    train_losses.append(epoch_loss)\n",
    "    train_accuracies.append(epoch_accuracy)\n",
    "\n",
    "    print(f\"Epoch {epoch+1}/{EPOCHS}, Loss: {epoch_loss:.4f}, Accuracy: {epoch_accuracy:.4f}\")\n"
   ]
  },
  {
   "cell_type": "code",
   "execution_count": 16,
   "id": "fe5900e7-d0aa-4b60-a9e8-ebcb396af973",
   "metadata": {},
   "outputs": [
    {
     "data": {
      "image/png": "[encoded data removed]",
      "text/plain": [
       "<Figure size 1200x500 with 2 Axes>"
      ]
     },
     "metadata": {},
     "output_type": "display_data"
    }
   ],
   "source": [
    "import matplotlib.pyplot as plt\n",
    "\n",
    "# Loss\n",
    "plt.figure(figsize=(12, 5))\n",
    "plt.subplot(1, 2, 1)\n",
    "plt.plot(train_losses, label='Training Loss', color='red')\n",
    "plt.title('Loss durante el entrenamiento')\n",
    "plt.xlabel('Época')\n",
    "plt.ylabel('Loss')\n",
    "plt.legend()\n",
    "\n",
    "# Accuracy\n",
    "plt.subplot(1, 2, 2)\n",
    "plt.plot(train_accuracies, label='Training Accuracy', color='blue')\n",
    "plt.title('Accuracy durante el entrenamiento')\n",
    "plt.xlabel('Época')\n",
    "plt.ylabel('Accuracy')\n",
    "plt.legend()\n",
    "\n",
    "plt.tight_layout()\n",
    "plt.show()\n"
   ]
  },
  {
   "cell_type": "markdown",
   "id": "21433105-29e6-4c1f-b6ef-f1f0d612580e",
   "metadata": {},
   "source": [
    "Vemos como el loss va decayendo a lo largo de las épocas, mientras que el accuracy va en aumento. El entrenamiento concluye con un training accuracy del 91%. Este modelo fue entrenado mediante cross-validation con un grid de hiperparámetros, pero debido al tiempo que requería se optó por poner directamente el mejor resultado."
   ]
  },
  {
   "cell_type": "code",
   "execution_count": 17,
   "id": "631d797c-e3ae-48a4-b24d-c89b00b47fa1",
   "metadata": {},
   "outputs": [
    {
     "name": "stdout",
     "output_type": "stream",
     "text": [
      "              precision    recall  f1-score   support\n",
      "\n",
      "     No Boat       0.75      0.83      0.79       210\n",
      "        Boat       0.84      0.76      0.80       243\n",
      "\n",
      "    accuracy                           0.79       453\n",
      "   macro avg       0.79      0.80      0.79       453\n",
      "weighted avg       0.80      0.79      0.79       453\n",
      "\n"
     ]
    }
   ],
   "source": [
    "model.eval()\n",
    "all_preds, all_labels = [], []\n",
    "\n",
    "with torch.no_grad():\n",
    "    for images, labels in test_loader:\n",
    "        images = images.to(DEVICE)\n",
    "        outputs = model(images)\n",
    "        preds = (outputs > 0.5).int().cpu().numpy()\n",
    "        all_preds.extend(preds)\n",
    "        all_labels.extend(labels.numpy())\n",
    "\n",
    "print(classification_report(all_labels, all_preds, target_names=['No Boat', 'Boat']))\n"
   ]
  },
  {
   "cell_type": "markdown",
   "id": "69f5ba1e-1a89-4f73-bf02-935282e47513",
   "metadata": {},
   "source": [
    "Aquí observamos que tenemos un 79% de accuracy en test, por lo que podríamos argumentar que sí existe un ligero sobreaprendizaje. Así y todo, este fue le mejor modelo que pudimos obtener usando una CNN."
   ]
  },
  {
   "cell_type": "code",
   "execution_count": 18,
   "id": "45fba753-336e-4d09-ac60-093f3bb4dd9d",
   "metadata": {},
   "outputs": [
    {
     "data": {
      "image/png": "[encoded data removed]",
      "text/plain": [
       "<Figure size 500x500 with 2 Axes>"
      ]
     },
     "metadata": {},
     "output_type": "display_data"
    }
   ],
   "source": [
    "from sklearn.metrics import confusion_matrix, ConfusionMatrixDisplay\n",
    "\n",
    "# Matriz de confusión\n",
    "cm = confusion_matrix(all_labels, all_preds)\n",
    "disp = ConfusionMatrixDisplay(confusion_matrix=cm, display_labels=['No Boat', 'Boat'])\n",
    "\n",
    "# Visualización\n",
    "fig, ax = plt.subplots(figsize=(5, 5))\n",
    "disp.plot(ax=ax, cmap='Blues', values_format='d')\n",
    "plt.title(\"Matriz de Confusión\")\n",
    "plt.show()"
   ]
  },
  {
   "cell_type": "markdown",
   "id": "8cca9407",
   "metadata": {},
   "source": [
    "# DEEP LEARNING: YOLO"
   ]
  },
  {
   "cell_type": "markdown",
   "id": "c70434dd",
   "metadata": {},
   "source": [
    "You Only Look Once (YOLO) es un algoritmo de detección de objetos en imágenes. A diferencia de otros métodos que analizan la imagen en varias etapas, YOLO trata la detección como un problema de regresión único, lo que lo hace más rápido y eficiente.\n",
    "\n",
    "Existen múltiples versiones de YOLO, cada una mejorando la precisión y velocidad del modelo. Se usará YOLO v8."
   ]
  },
  {
   "cell_type": "code",
   "execution_count": 4,
   "id": "93418b5b",
   "metadata": {},
   "outputs": [],
   "source": [
    "from ultralytics import YOLO\n",
    "import torch\n",
    "import cv2"
   ]
  },
  {
   "cell_type": "code",
   "execution_count": 5,
   "id": "98232ca6",
   "metadata": {},
   "outputs": [
    {
     "name": "stdout",
     "output_type": "stream",
     "text": [
      "Usando dispositivo: cuda\n"
     ]
    }
   ],
   "source": [
    "# gpu o cpu\n",
    "device = 'cuda' if torch.cuda.is_available() else 'cpu'\n",
    "print(f\"Usando dispositivo: {device}\")"
   ]
  },
  {
   "cell_type": "markdown",
   "id": "4614a7a3",
   "metadata": {},
   "source": [
    "Carga del modelo YOLO v8 preentrenado. Este modelo ha sido entrenado en el conjunto de datos COCO, que contiene 80 clases de objetos. Se realizará un ajuste fino (fine-tuning) del modelo para adaptarlo a nuestro conjunto de datos específico, que solo tiene una clase: barco."
   ]
  },
  {
   "cell_type": "code",
   "execution_count": 7,
   "id": "d7163b38",
   "metadata": {},
   "outputs": [],
   "source": [
    "model = YOLO('yolov8n.pt') # modelo mas pequeño"
   ]
  },
  {
   "cell_type": "markdown",
   "id": "295158e5",
   "metadata": {},
   "source": [
    "## Entrenamiento"
   ]
  },
  {
   "cell_type": "code",
   "execution_count": 7,
   "id": "b449c381",
   "metadata": {},
   "outputs": [
    {
     "name": "stdout",
     "output_type": "stream",
     "text": [
      "New https://pypi.org/project/ultralytics/8.3.127 available  Update with 'pip install -U ultralytics'\n",
      "Ultralytics 8.3.126  Python-3.12.10 torch-2.7.0+cu128 CUDA:0 (NVIDIA GeForce RTX 4060 Laptop GPU, 8188MiB)\n",
      "\u001b[34m\u001b[1mengine\\trainer: \u001b[0magnostic_nms=False, amp=True, augment=False, auto_augment=randaugment, batch=16, bgr=0.0, box=7.5, cache=False, cfg=None, classes=None, close_mosaic=10, cls=0.5, conf=None, copy_paste=0.0, copy_paste_mode=flip, cos_lr=False, cutmix=0.0, data=c:\\Users\\gonza\\Desktop\\ImagenADNE\\DeepLearning-Images\\data\\data.yaml, degrees=0.0, deterministic=True, device=cuda:0, dfl=1.5, dnn=False, dropout=0.0, dynamic=False, embed=None, epochs=50, erasing=0.4, exist_ok=False, fliplr=0.5, flipud=0.0, format=torchscript, fraction=1.0, freeze=None, half=False, hsv_h=0.015, hsv_s=0.7, hsv_v=0.4, imgsz=512, int8=False, iou=0.7, keras=False, kobj=1.0, line_width=None, lr0=0.01, lrf=0.01, mask_ratio=4, max_det=300, mixup=0.0, mode=train, model=yolov8n.pt, momentum=0.937, mosaic=1.0, multi_scale=False, name=first-boat-detection-nano, nbs=64, nms=False, opset=None, optimize=False, optimizer=auto, overlap_mask=True, patience=100, perspective=0.0, plots=True, pose=12.0, pretrained=True, profile=False, project=None, rect=False, resume=False, retina_masks=False, save=True, save_conf=False, save_crop=False, save_dir=runs\\detect\\first-boat-detection-nano, save_frames=False, save_json=False, save_period=-1, save_txt=False, scale=0.5, seed=0, shear=0.0, show=False, show_boxes=True, show_conf=True, show_labels=True, simplify=True, single_cls=False, source=None, split=val, stream_buffer=False, task=detect, time=None, tracker=botsort.yaml, translate=0.1, val=True, verbose=True, vid_stride=1, visualize=False, warmup_bias_lr=0.1, warmup_epochs=3.0, warmup_momentum=0.8, weight_decay=0.0005, workers=8, workspace=None\n",
      "Downloading https://ultralytics.com/assets/Arial.ttf to 'C:\\Users\\gonza\\AppData\\Roaming\\Ultralytics\\Arial.ttf'...\n"
     ]
    },
    {
     "name": "stderr",
     "output_type": "stream",
     "text": [
      "100%|██████████| 755k/755k [00:00<00:00, 8.10MB/s]"
     ]
    },
    {
     "name": "stdout",
     "output_type": "stream",
     "text": [
      "Overriding model.yaml nc=80 with nc=1\n",
      "\n",
      "                   from  n    params  module                                       arguments                     \n",
      "  0                  -1  1       464  ultralytics.nn.modules.conv.Conv             [3, 16, 3, 2]                 \n",
      "  1                  -1  1      4672  ultralytics.nn.modules.conv.Conv             [16, 32, 3, 2]                \n",
      "  2                  -1  1      7360  ultralytics.nn.modules.block.C2f             [32, 32, 1, True]             \n",
      "  3                  -1  1     18560  ultralytics.nn.modules.conv.Conv             [32, 64, 3, 2]                \n",
      "  4                  -1  2     49664  ultralytics.nn.modules.block.C2f             [64, 64, 2, True]             \n",
      "  5                  -1  1     73984  ultralytics.nn.modules.conv.Conv             [64, 128, 3, 2]               \n",
      "  6                  -1  2    197632  ultralytics.nn.modules.block.C2f             [128, 128, 2, True]           \n",
      "  7                  -1  1    295424  ultralytics.nn.modules.conv.Conv             [128, 256, 3, 2]              \n",
      "  8                  -1  1    460288  ultralytics.nn.modules.block.C2f             [256, 256, 1, True]           \n",
      "  9                  -1  1    164608  ultralytics.nn.modules.block.SPPF            [256, 256, 5]                 \n",
      " 10                  -1  1         0  torch.nn.modules.upsampling.Upsample         [None, 2, 'nearest']          \n",
      " 11             [-1, 6]  1         0  ultralytics.nn.modules.conv.Concat           [1]                           \n",
      " 12                  -1  1    148224  ultralytics.nn.modules.block.C2f             [384, 128, 1]                 \n",
      " 13                  -1  1         0  torch.nn.modules.upsampling.Upsample         [None, 2, 'nearest']          \n",
      " 14             [-1, 4]  1         0  ultralytics.nn.modules.conv.Concat           [1]                           \n",
      " 15                  -1  1     37248  ultralytics.nn.modules.block.C2f             [192, 64, 1]                  \n",
      " 16                  -1  1     36992  ultralytics.nn.modules.conv.Conv             [64, 64, 3, 2]                \n",
      " 17            [-1, 12]  1         0  ultralytics.nn.modules.conv.Concat           [1]                           \n",
      " 18                  -1  1    123648  ultralytics.nn.modules.block.C2f             [192, 128, 1]                 \n"
     ]
    },
    {
     "name": "stderr",
     "output_type": "stream",
     "text": [
      "\n"
     ]
    },
    {
     "name": "stdout",
     "output_type": "stream",
     "text": [
      " 19                  -1  1    147712  ultralytics.nn.modules.conv.Conv             [128, 128, 3, 2]              \n",
      " 20             [-1, 9]  1         0  ultralytics.nn.modules.conv.Concat           [1]                           \n",
      " 21                  -1  1    493056  ultralytics.nn.modules.block.C2f             [384, 256, 1]                 \n",
      " 22        [15, 18, 21]  1    751507  ultralytics.nn.modules.head.Detect           [1, [64, 128, 256]]           \n",
      "Model summary: 129 layers, 3,011,043 parameters, 3,011,027 gradients, 8.2 GFLOPs\n",
      "\n",
      "Transferred 319/355 items from pretrained weights\n",
      "Freezing layer 'model.22.dfl.conv.weight'\n",
      "\u001b[34m\u001b[1mAMP: \u001b[0mrunning Automatic Mixed Precision (AMP) checks...\n",
      "Downloading https://github.com/ultralytics/assets/releases/download/v8.3.0/yolo11n.pt to 'yolo11n.pt'...\n"
     ]
    },
    {
     "name": "stderr",
     "output_type": "stream",
     "text": [
      "100%|██████████| 5.35M/5.35M [00:00<00:00, 21.2MB/s]\n"
     ]
    },
    {
     "name": "stdout",
     "output_type": "stream",
     "text": [
      "\u001b[34m\u001b[1mAMP: \u001b[0mchecks passed \n",
      "\u001b[34m\u001b[1mtrain: \u001b[0mFast image access  (ping: 0.40.0 ms, read: 18.413.5 MB/s, size: 282.7 KB)\n"
     ]
    },
    {
     "name": "stderr",
     "output_type": "stream",
     "text": [
      "\u001b[34m\u001b[1mtrain: \u001b[0mScanning C:\\Users\\gonza\\Desktop\\ImagenADNE\\DeepLearning-Images\\data\\MASATI\\output\\train\\labels... 3617 images, 1729 backgrounds, 0 corrupt: 100%|██████████| 3617/3617 [00:08<00:00, 419.85it/s]\n"
     ]
    },
    {
     "name": "stdout",
     "output_type": "stream",
     "text": [
      "\u001b[34m\u001b[1mtrain: \u001b[0mNew cache created: C:\\Users\\gonza\\Desktop\\ImagenADNE\\DeepLearning-Images\\data\\MASATI\\output\\train\\labels.cache\n",
      "\u001b[34m\u001b[1mval: \u001b[0mFast image access  (ping: 0.50.3 ms, read: 16.610.1 MB/s, size: 333.8 KB)\n"
     ]
    },
    {
     "name": "stderr",
     "output_type": "stream",
     "text": [
      "\u001b[34m\u001b[1mval: \u001b[0mScanning C:\\Users\\gonza\\Desktop\\ImagenADNE\\DeepLearning-Images\\data\\MASATI\\output\\val\\labels... 452 images, 215 backgrounds, 0 corrupt: 100%|██████████| 452/452 [00:01<00:00, 384.83it/s]"
     ]
    },
    {
     "name": "stdout",
     "output_type": "stream",
     "text": [
      "\u001b[34m\u001b[1mval: \u001b[0mNew cache created: C:\\Users\\gonza\\Desktop\\ImagenADNE\\DeepLearning-Images\\data\\MASATI\\output\\val\\labels.cache\n"
     ]
    },
    {
     "name": "stderr",
     "output_type": "stream",
     "text": [
      "\n"
     ]
    },
    {
     "name": "stdout",
     "output_type": "stream",
     "text": [
      "Plotting labels to runs\\detect\\first-boat-detection-nano\\labels.jpg... \n",
      "\u001b[34m\u001b[1moptimizer:\u001b[0m 'optimizer=auto' found, ignoring 'lr0=0.01' and 'momentum=0.937' and determining best 'optimizer', 'lr0' and 'momentum' automatically... \n",
      "\u001b[34m\u001b[1moptimizer:\u001b[0m AdamW(lr=0.002, momentum=0.9) with parameter groups 57 weight(decay=0.0), 64 weight(decay=0.0005), 63 bias(decay=0.0)\n",
      "Image sizes 512 train, 512 val\n",
      "Using 8 dataloader workers\n",
      "Logging results to \u001b[1mruns\\detect\\first-boat-detection-nano\u001b[0m\n",
      "Starting training for 50 epochs...\n",
      "\n",
      "      Epoch    GPU_mem   box_loss   cls_loss   dfl_loss  Instances       Size\n"
     ]
    },
    {
     "name": "stderr",
     "output_type": "stream",
     "text": [
      "       1/50      1.57G      2.177       5.15      1.053          1        512: 100%|██████████| 227/227 [00:39<00:00,  5.81it/s]\n",
      "                 Class     Images  Instances      Box(P          R      mAP50  mAP50-95): 100%|██████████| 15/15 [00:03<00:00,  4.63it/s]"
     ]
    },
    {
     "name": "stdout",
     "output_type": "stream",
     "text": [
      "                   all        452        383      0.685      0.514      0.539      0.185\n"
     ]
    },
    {
     "name": "stderr",
     "output_type": "stream",
     "text": [
      "\n"
     ]
    },
    {
     "name": "stdout",
     "output_type": "stream",
     "text": [
      "\n",
      "      Epoch    GPU_mem   box_loss   cls_loss   dfl_loss  Instances       Size\n"
     ]
    },
    {
     "name": "stderr",
     "output_type": "stream",
     "text": [
      "       2/50       1.6G      2.202      2.571      1.095          0        512: 100%|██████████| 227/227 [00:33<00:00,  6.77it/s]\n",
      "                 Class     Images  Instances      Box(P          R      mAP50  mAP50-95): 100%|██████████| 15/15 [00:02<00:00,  5.29it/s]"
     ]
    },
    {
     "name": "stdout",
     "output_type": "stream",
     "text": [
      "                   all        452        383      0.661      0.538      0.577      0.224\n"
     ]
    },
    {
     "name": "stderr",
     "output_type": "stream",
     "text": [
      "\n"
     ]
    },
    {
     "name": "stdout",
     "output_type": "stream",
     "text": [
      "\n",
      "      Epoch    GPU_mem   box_loss   cls_loss   dfl_loss  Instances       Size\n"
     ]
    },
    {
     "name": "stderr",
     "output_type": "stream",
     "text": [
      "       3/50       1.6G      2.218      1.796      1.108          0        512: 100%|██████████| 227/227 [00:32<00:00,  7.04it/s]\n",
      "                 Class     Images  Instances      Box(P          R      mAP50  mAP50-95): 100%|██████████| 15/15 [00:02<00:00,  5.34it/s]"
     ]
    },
    {
     "name": "stdout",
     "output_type": "stream",
     "text": [
      "                   all        452        383      0.664      0.579      0.584      0.215\n"
     ]
    },
    {
     "name": "stderr",
     "output_type": "stream",
     "text": [
      "\n"
     ]
    },
    {
     "name": "stdout",
     "output_type": "stream",
     "text": [
      "\n",
      "      Epoch    GPU_mem   box_loss   cls_loss   dfl_loss  Instances       Size\n"
     ]
    },
    {
     "name": "stderr",
     "output_type": "stream",
     "text": [
      "       4/50      1.74G      2.157      1.596       1.09          1        512: 100%|██████████| 227/227 [00:31<00:00,  7.10it/s]\n",
      "                 Class     Images  Instances      Box(P          R      mAP50  mAP50-95): 100%|██████████| 15/15 [00:02<00:00,  5.55it/s]"
     ]
    },
    {
     "name": "stdout",
     "output_type": "stream",
     "text": [
      "                   all        452        383      0.734      0.633      0.677      0.245\n"
     ]
    },
    {
     "name": "stderr",
     "output_type": "stream",
     "text": [
      "\n"
     ]
    },
    {
     "name": "stdout",
     "output_type": "stream",
     "text": [
      "\n",
      "      Epoch    GPU_mem   box_loss   cls_loss   dfl_loss  Instances       Size\n"
     ]
    },
    {
     "name": "stderr",
     "output_type": "stream",
     "text": [
      "       5/50      1.76G      2.121      1.489      1.073          0        512: 100%|██████████| 227/227 [00:32<00:00,  7.06it/s]\n",
      "                 Class     Images  Instances      Box(P          R      mAP50  mAP50-95): 100%|██████████| 15/15 [00:02<00:00,  5.31it/s]"
     ]
    },
    {
     "name": "stdout",
     "output_type": "stream",
     "text": [
      "                   all        452        383       0.73      0.634      0.673       0.24\n"
     ]
    },
    {
     "name": "stderr",
     "output_type": "stream",
     "text": [
      "\n"
     ]
    },
    {
     "name": "stdout",
     "output_type": "stream",
     "text": [
      "\n",
      "      Epoch    GPU_mem   box_loss   cls_loss   dfl_loss  Instances       Size\n"
     ]
    },
    {
     "name": "stderr",
     "output_type": "stream",
     "text": [
      "       6/50      1.77G      2.091      1.419      1.082          0        512: 100%|██████████| 227/227 [00:31<00:00,  7.11it/s]\n",
      "                 Class     Images  Instances      Box(P          R      mAP50  mAP50-95): 100%|██████████| 15/15 [00:02<00:00,  5.50it/s]"
     ]
    },
    {
     "name": "stdout",
     "output_type": "stream",
     "text": [
      "                   all        452        383      0.604      0.572      0.561      0.203\n"
     ]
    },
    {
     "name": "stderr",
     "output_type": "stream",
     "text": [
      "\n"
     ]
    },
    {
     "name": "stdout",
     "output_type": "stream",
     "text": [
      "\n",
      "      Epoch    GPU_mem   box_loss   cls_loss   dfl_loss  Instances       Size\n"
     ]
    },
    {
     "name": "stderr",
     "output_type": "stream",
     "text": [
      "       7/50      1.78G      2.086      1.456      1.076          1        512: 100%|██████████| 227/227 [00:32<00:00,  7.06it/s]\n",
      "                 Class     Images  Instances      Box(P          R      mAP50  mAP50-95): 100%|██████████| 15/15 [00:02<00:00,  5.48it/s]"
     ]
    },
    {
     "name": "stdout",
     "output_type": "stream",
     "text": [
      "                   all        452        383      0.651      0.595      0.625      0.226\n"
     ]
    },
    {
     "name": "stderr",
     "output_type": "stream",
     "text": [
      "\n"
     ]
    },
    {
     "name": "stdout",
     "output_type": "stream",
     "text": [
      "\n",
      "      Epoch    GPU_mem   box_loss   cls_loss   dfl_loss  Instances       Size\n"
     ]
    },
    {
     "name": "stderr",
     "output_type": "stream",
     "text": [
      "       8/50      1.92G      2.053      1.419      1.068          0        512: 100%|██████████| 227/227 [00:32<00:00,  7.03it/s]\n",
      "                 Class     Images  Instances      Box(P          R      mAP50  mAP50-95): 100%|██████████| 15/15 [00:02<00:00,  5.58it/s]"
     ]
    },
    {
     "name": "stdout",
     "output_type": "stream",
     "text": [
      "                   all        452        383      0.758      0.597      0.661      0.284\n"
     ]
    },
    {
     "name": "stderr",
     "output_type": "stream",
     "text": [
      "\n"
     ]
    },
    {
     "name": "stdout",
     "output_type": "stream",
     "text": [
      "\n",
      "      Epoch    GPU_mem   box_loss   cls_loss   dfl_loss  Instances       Size\n"
     ]
    },
    {
     "name": "stderr",
     "output_type": "stream",
     "text": [
      "       9/50      1.93G       2.01      1.347      1.051          0        512: 100%|██████████| 227/227 [00:32<00:00,  7.06it/s]\n",
      "                 Class     Images  Instances      Box(P          R      mAP50  mAP50-95): 100%|██████████| 15/15 [00:02<00:00,  5.57it/s]"
     ]
    },
    {
     "name": "stdout",
     "output_type": "stream",
     "text": [
      "                   all        452        383       0.72      0.587      0.652      0.257\n"
     ]
    },
    {
     "name": "stderr",
     "output_type": "stream",
     "text": [
      "\n"
     ]
    },
    {
     "name": "stdout",
     "output_type": "stream",
     "text": [
      "\n",
      "      Epoch    GPU_mem   box_loss   cls_loss   dfl_loss  Instances       Size\n"
     ]
    },
    {
     "name": "stderr",
     "output_type": "stream",
     "text": [
      "      10/50      1.95G      2.032      1.357       1.06          1        512: 100%|██████████| 227/227 [00:31<00:00,  7.13it/s]\n",
      "                 Class     Images  Instances      Box(P          R      mAP50  mAP50-95): 100%|██████████| 15/15 [00:02<00:00,  5.84it/s]"
     ]
    },
    {
     "name": "stdout",
     "output_type": "stream",
     "text": [
      "                   all        452        383      0.678      0.533       0.59      0.234\n"
     ]
    },
    {
     "name": "stderr",
     "output_type": "stream",
     "text": [
      "\n"
     ]
    },
    {
     "name": "stdout",
     "output_type": "stream",
     "text": [
      "\n",
      "      Epoch    GPU_mem   box_loss   cls_loss   dfl_loss  Instances       Size\n"
     ]
    },
    {
     "name": "stderr",
     "output_type": "stream",
     "text": [
      "      11/50      1.96G       1.98      1.275      1.047          1        512: 100%|██████████| 227/227 [00:32<00:00,  7.05it/s]\n",
      "                 Class     Images  Instances      Box(P          R      mAP50  mAP50-95): 100%|██████████| 15/15 [00:02<00:00,  5.63it/s]"
     ]
    },
    {
     "name": "stdout",
     "output_type": "stream",
     "text": [
      "                   all        452        383       0.79      0.585      0.688      0.269\n"
     ]
    },
    {
     "name": "stderr",
     "output_type": "stream",
     "text": [
      "\n"
     ]
    },
    {
     "name": "stdout",
     "output_type": "stream",
     "text": [
      "\n",
      "      Epoch    GPU_mem   box_loss   cls_loss   dfl_loss  Instances       Size\n"
     ]
    },
    {
     "name": "stderr",
     "output_type": "stream",
     "text": [
      "      12/50      1.98G      2.013      1.273      1.053          1        512: 100%|██████████| 227/227 [00:32<00:00,  7.05it/s]\n",
      "                 Class     Images  Instances      Box(P          R      mAP50  mAP50-95): 100%|██████████| 15/15 [00:02<00:00,  5.17it/s]"
     ]
    },
    {
     "name": "stdout",
     "output_type": "stream",
     "text": [
      "                   all        452        383      0.779      0.663      0.717       0.28\n"
     ]
    },
    {
     "name": "stderr",
     "output_type": "stream",
     "text": [
      "\n"
     ]
    },
    {
     "name": "stdout",
     "output_type": "stream",
     "text": [
      "\n",
      "      Epoch    GPU_mem   box_loss   cls_loss   dfl_loss  Instances       Size\n"
     ]
    },
    {
     "name": "stderr",
     "output_type": "stream",
     "text": [
      "      13/50         2G      1.955      1.222      1.018          0        512: 100%|██████████| 227/227 [00:30<00:00,  7.44it/s]\n",
      "                 Class     Images  Instances      Box(P          R      mAP50  mAP50-95): 100%|██████████| 15/15 [00:02<00:00,  6.14it/s]"
     ]
    },
    {
     "name": "stdout",
     "output_type": "stream",
     "text": [
      "                   all        452        383      0.719      0.658      0.695      0.274\n"
     ]
    },
    {
     "name": "stderr",
     "output_type": "stream",
     "text": [
      "\n"
     ]
    },
    {
     "name": "stdout",
     "output_type": "stream",
     "text": [
      "\n",
      "      Epoch    GPU_mem   box_loss   cls_loss   dfl_loss  Instances       Size\n"
     ]
    },
    {
     "name": "stderr",
     "output_type": "stream",
     "text": [
      "      14/50      2.02G      1.948      1.224      1.047          1        512: 100%|██████████| 227/227 [00:29<00:00,  7.58it/s]\n",
      "                 Class     Images  Instances      Box(P          R      mAP50  mAP50-95): 100%|██████████| 15/15 [00:02<00:00,  6.30it/s]"
     ]
    },
    {
     "name": "stdout",
     "output_type": "stream",
     "text": [
      "                   all        452        383      0.815      0.608      0.702      0.288\n"
     ]
    },
    {
     "name": "stderr",
     "output_type": "stream",
     "text": [
      "\n"
     ]
    },
    {
     "name": "stdout",
     "output_type": "stream",
     "text": [
      "\n",
      "      Epoch    GPU_mem   box_loss   cls_loss   dfl_loss  Instances       Size\n"
     ]
    },
    {
     "name": "stderr",
     "output_type": "stream",
     "text": [
      "      15/50      2.03G      1.921      1.196      1.018          1        512: 100%|██████████| 227/227 [00:29<00:00,  7.75it/s]\n",
      "                 Class     Images  Instances      Box(P          R      mAP50  mAP50-95): 100%|██████████| 15/15 [00:02<00:00,  5.92it/s]"
     ]
    },
    {
     "name": "stdout",
     "output_type": "stream",
     "text": [
      "                   all        452        383      0.777      0.679      0.749      0.301\n"
     ]
    },
    {
     "name": "stderr",
     "output_type": "stream",
     "text": [
      "\n"
     ]
    },
    {
     "name": "stdout",
     "output_type": "stream",
     "text": [
      "\n",
      "      Epoch    GPU_mem   box_loss   cls_loss   dfl_loss  Instances       Size\n"
     ]
    },
    {
     "name": "stderr",
     "output_type": "stream",
     "text": [
      "      16/50      2.05G      1.928      1.204       1.02          0        512: 100%|██████████| 227/227 [00:33<00:00,  6.69it/s]\n",
      "                 Class     Images  Instances      Box(P          R      mAP50  mAP50-95): 100%|██████████| 15/15 [00:03<00:00,  4.72it/s]"
     ]
    },
    {
     "name": "stdout",
     "output_type": "stream",
     "text": [
      "                   all        452        383      0.766       0.71      0.752      0.311\n"
     ]
    },
    {
     "name": "stderr",
     "output_type": "stream",
     "text": [
      "\n"
     ]
    },
    {
     "name": "stdout",
     "output_type": "stream",
     "text": [
      "\n",
      "      Epoch    GPU_mem   box_loss   cls_loss   dfl_loss  Instances       Size\n"
     ]
    },
    {
     "name": "stderr",
     "output_type": "stream",
     "text": [
      "      17/50      2.07G      1.909      1.196      1.006          0        512: 100%|██████████| 227/227 [00:32<00:00,  7.07it/s]\n",
      "                 Class     Images  Instances      Box(P          R      mAP50  mAP50-95): 100%|██████████| 15/15 [00:02<00:00,  5.81it/s]"
     ]
    },
    {
     "name": "stdout",
     "output_type": "stream",
     "text": [
      "                   all        452        383      0.831      0.658      0.744      0.295\n"
     ]
    },
    {
     "name": "stderr",
     "output_type": "stream",
     "text": [
      "\n"
     ]
    },
    {
     "name": "stdout",
     "output_type": "stream",
     "text": [
      "\n",
      "      Epoch    GPU_mem   box_loss   cls_loss   dfl_loss  Instances       Size\n"
     ]
    },
    {
     "name": "stderr",
     "output_type": "stream",
     "text": [
      "      18/50      2.09G      1.891      1.172      1.016          0        512: 100%|██████████| 227/227 [00:31<00:00,  7.24it/s]\n",
      "                 Class     Images  Instances      Box(P          R      mAP50  mAP50-95): 100%|██████████| 15/15 [00:02<00:00,  5.42it/s]"
     ]
    },
    {
     "name": "stdout",
     "output_type": "stream",
     "text": [
      "                   all        452        383      0.775      0.621       0.69      0.256\n"
     ]
    },
    {
     "name": "stderr",
     "output_type": "stream",
     "text": [
      "\n"
     ]
    },
    {
     "name": "stdout",
     "output_type": "stream",
     "text": [
      "\n",
      "      Epoch    GPU_mem   box_loss   cls_loss   dfl_loss  Instances       Size\n"
     ]
    },
    {
     "name": "stderr",
     "output_type": "stream",
     "text": [
      "      19/50      2.09G      1.893       1.18       1.02          1        512: 100%|██████████| 227/227 [00:32<00:00,  6.94it/s]\n",
      "                 Class     Images  Instances      Box(P          R      mAP50  mAP50-95): 100%|██████████| 15/15 [00:02<00:00,  5.16it/s]"
     ]
    },
    {
     "name": "stdout",
     "output_type": "stream",
     "text": [
      "                   all        452        383      0.615      0.616      0.622      0.239\n"
     ]
    },
    {
     "name": "stderr",
     "output_type": "stream",
     "text": [
      "\n"
     ]
    },
    {
     "name": "stdout",
     "output_type": "stream",
     "text": [
      "\n",
      "      Epoch    GPU_mem   box_loss   cls_loss   dfl_loss  Instances       Size\n"
     ]
    },
    {
     "name": "stderr",
     "output_type": "stream",
     "text": [
      "      20/50      2.12G      1.916      1.127       1.02          0        512: 100%|██████████| 227/227 [00:32<00:00,  7.08it/s]\n",
      "                 Class     Images  Instances      Box(P          R      mAP50  mAP50-95): 100%|██████████| 15/15 [00:02<00:00,  5.42it/s]"
     ]
    },
    {
     "name": "stdout",
     "output_type": "stream",
     "text": [
      "                   all        452        383      0.846      0.621      0.748      0.305\n"
     ]
    },
    {
     "name": "stderr",
     "output_type": "stream",
     "text": [
      "\n"
     ]
    },
    {
     "name": "stdout",
     "output_type": "stream",
     "text": [
      "\n",
      "      Epoch    GPU_mem   box_loss   cls_loss   dfl_loss  Instances       Size\n"
     ]
    },
    {
     "name": "stderr",
     "output_type": "stream",
     "text": [
      "      21/50      2.14G      1.863      1.113     0.9999          0        512: 100%|██████████| 227/227 [00:32<00:00,  7.06it/s]\n",
      "                 Class     Images  Instances      Box(P          R      mAP50  mAP50-95): 100%|██████████| 15/15 [00:02<00:00,  5.62it/s]"
     ]
    },
    {
     "name": "stdout",
     "output_type": "stream",
     "text": [
      "                   all        452        383      0.783        0.7      0.749      0.295\n"
     ]
    },
    {
     "name": "stderr",
     "output_type": "stream",
     "text": [
      "\n"
     ]
    },
    {
     "name": "stdout",
     "output_type": "stream",
     "text": [
      "\n",
      "      Epoch    GPU_mem   box_loss   cls_loss   dfl_loss  Instances       Size\n"
     ]
    },
    {
     "name": "stderr",
     "output_type": "stream",
     "text": [
      "      22/50      2.15G      1.849      1.113     0.9865          1        512: 100%|██████████| 227/227 [00:31<00:00,  7.20it/s]\n",
      "                 Class     Images  Instances      Box(P          R      mAP50  mAP50-95): 100%|██████████| 15/15 [00:02<00:00,  5.55it/s]"
     ]
    },
    {
     "name": "stdout",
     "output_type": "stream",
     "text": [
      "                   all        452        383      0.765      0.687      0.732      0.292\n"
     ]
    },
    {
     "name": "stderr",
     "output_type": "stream",
     "text": [
      "\n"
     ]
    },
    {
     "name": "stdout",
     "output_type": "stream",
     "text": [
      "\n",
      "      Epoch    GPU_mem   box_loss   cls_loss   dfl_loss  Instances       Size\n"
     ]
    },
    {
     "name": "stderr",
     "output_type": "stream",
     "text": [
      "      23/50      2.16G      1.856      1.098      1.001          3        512: 100%|██████████| 227/227 [00:32<00:00,  7.01it/s]\n",
      "                 Class     Images  Instances      Box(P          R      mAP50  mAP50-95): 100%|██████████| 15/15 [00:02<00:00,  5.59it/s]"
     ]
    },
    {
     "name": "stdout",
     "output_type": "stream",
     "text": [
      "                   all        452        383      0.764      0.627      0.719       0.28\n"
     ]
    },
    {
     "name": "stderr",
     "output_type": "stream",
     "text": [
      "\n"
     ]
    },
    {
     "name": "stdout",
     "output_type": "stream",
     "text": [
      "\n",
      "      Epoch    GPU_mem   box_loss   cls_loss   dfl_loss  Instances       Size\n"
     ]
    },
    {
     "name": "stderr",
     "output_type": "stream",
     "text": [
      "      24/50      2.19G      1.881       1.08     0.9939          2        512: 100%|██████████| 227/227 [00:32<00:00,  6.92it/s]\n",
      "                 Class     Images  Instances      Box(P          R      mAP50  mAP50-95): 100%|██████████| 15/15 [00:02<00:00,  5.69it/s]"
     ]
    },
    {
     "name": "stdout",
     "output_type": "stream",
     "text": [
      "                   all        452        383       0.85      0.682       0.78      0.325\n"
     ]
    },
    {
     "name": "stderr",
     "output_type": "stream",
     "text": [
      "\n"
     ]
    },
    {
     "name": "stdout",
     "output_type": "stream",
     "text": [
      "\n",
      "      Epoch    GPU_mem   box_loss   cls_loss   dfl_loss  Instances       Size\n"
     ]
    },
    {
     "name": "stderr",
     "output_type": "stream",
     "text": [
      "      25/50      2.21G      1.826      1.058     0.9991          0        512: 100%|██████████| 227/227 [00:31<00:00,  7.10it/s]\n",
      "                 Class     Images  Instances      Box(P          R      mAP50  mAP50-95): 100%|██████████| 15/15 [00:02<00:00,  5.64it/s]"
     ]
    },
    {
     "name": "stdout",
     "output_type": "stream",
     "text": [
      "                   all        452        383      0.853      0.712      0.777      0.339\n"
     ]
    },
    {
     "name": "stderr",
     "output_type": "stream",
     "text": [
      "\n"
     ]
    },
    {
     "name": "stdout",
     "output_type": "stream",
     "text": [
      "\n",
      "      Epoch    GPU_mem   box_loss   cls_loss   dfl_loss  Instances       Size\n"
     ]
    },
    {
     "name": "stderr",
     "output_type": "stream",
     "text": [
      "      26/50      2.22G      1.825      1.046     0.9952          1        512: 100%|██████████| 227/227 [00:32<00:00,  7.04it/s]\n",
      "                 Class     Images  Instances      Box(P          R      mAP50  mAP50-95): 100%|██████████| 15/15 [00:02<00:00,  5.71it/s]"
     ]
    },
    {
     "name": "stdout",
     "output_type": "stream",
     "text": [
      "                   all        452        383      0.855      0.681      0.753      0.323\n"
     ]
    },
    {
     "name": "stderr",
     "output_type": "stream",
     "text": [
      "\n"
     ]
    },
    {
     "name": "stdout",
     "output_type": "stream",
     "text": [
      "\n",
      "      Epoch    GPU_mem   box_loss   cls_loss   dfl_loss  Instances       Size\n"
     ]
    },
    {
     "name": "stderr",
     "output_type": "stream",
     "text": [
      "      27/50      2.23G      1.816      1.061      0.995          0        512: 100%|██████████| 227/227 [00:32<00:00,  6.99it/s]\n",
      "                 Class     Images  Instances      Box(P          R      mAP50  mAP50-95): 100%|██████████| 15/15 [00:02<00:00,  5.51it/s]"
     ]
    },
    {
     "name": "stdout",
     "output_type": "stream",
     "text": [
      "                   all        452        383       0.81        0.7      0.753      0.319\n"
     ]
    },
    {
     "name": "stderr",
     "output_type": "stream",
     "text": [
      "\n"
     ]
    },
    {
     "name": "stdout",
     "output_type": "stream",
     "text": [
      "\n",
      "      Epoch    GPU_mem   box_loss   cls_loss   dfl_loss  Instances       Size\n"
     ]
    },
    {
     "name": "stderr",
     "output_type": "stream",
     "text": [
      "      28/50      2.26G      1.823      1.032     0.9975          0        512: 100%|██████████| 227/227 [00:32<00:00,  7.03it/s]\n",
      "                 Class     Images  Instances      Box(P          R      mAP50  mAP50-95): 100%|██████████| 15/15 [00:02<00:00,  5.60it/s]"
     ]
    },
    {
     "name": "stdout",
     "output_type": "stream",
     "text": [
      "                   all        452        383      0.842      0.705      0.786      0.336\n"
     ]
    },
    {
     "name": "stderr",
     "output_type": "stream",
     "text": [
      "\n"
     ]
    },
    {
     "name": "stdout",
     "output_type": "stream",
     "text": [
      "\n",
      "      Epoch    GPU_mem   box_loss   cls_loss   dfl_loss  Instances       Size\n"
     ]
    },
    {
     "name": "stderr",
     "output_type": "stream",
     "text": [
      "      29/50      2.27G      1.756      1.044     0.9828          0        512: 100%|██████████| 227/227 [00:32<00:00,  7.06it/s]\n",
      "                 Class     Images  Instances      Box(P          R      mAP50  mAP50-95): 100%|██████████| 15/15 [00:02<00:00,  5.21it/s]"
     ]
    },
    {
     "name": "stdout",
     "output_type": "stream",
     "text": [
      "                   all        452        383      0.813      0.668      0.756      0.315\n"
     ]
    },
    {
     "name": "stderr",
     "output_type": "stream",
     "text": [
      "\n"
     ]
    },
    {
     "name": "stdout",
     "output_type": "stream",
     "text": [
      "\n",
      "      Epoch    GPU_mem   box_loss   cls_loss   dfl_loss  Instances       Size\n"
     ]
    },
    {
     "name": "stderr",
     "output_type": "stream",
     "text": [
      "      30/50      2.29G      1.833       1.02     0.9963          1        512: 100%|██████████| 227/227 [00:32<00:00,  6.93it/s]\n",
      "                 Class     Images  Instances      Box(P          R      mAP50  mAP50-95): 100%|██████████| 15/15 [00:02<00:00,  5.69it/s]"
     ]
    },
    {
     "name": "stdout",
     "output_type": "stream",
     "text": [
      "                   all        452        383      0.813      0.681      0.771       0.32\n"
     ]
    },
    {
     "name": "stderr",
     "output_type": "stream",
     "text": [
      "\n"
     ]
    },
    {
     "name": "stdout",
     "output_type": "stream",
     "text": [
      "\n",
      "      Epoch    GPU_mem   box_loss   cls_loss   dfl_loss  Instances       Size\n"
     ]
    },
    {
     "name": "stderr",
     "output_type": "stream",
     "text": [
      "      31/50       2.3G      1.785      1.014     0.9888          0        512: 100%|██████████| 227/227 [00:33<00:00,  6.70it/s]\n",
      "                 Class     Images  Instances      Box(P          R      mAP50  mAP50-95): 100%|██████████| 15/15 [00:02<00:00,  5.75it/s]"
     ]
    },
    {
     "name": "stdout",
     "output_type": "stream",
     "text": [
      "                   all        452        383      0.885      0.661      0.783      0.337\n"
     ]
    },
    {
     "name": "stderr",
     "output_type": "stream",
     "text": [
      "\n"
     ]
    },
    {
     "name": "stdout",
     "output_type": "stream",
     "text": [
      "\n",
      "      Epoch    GPU_mem   box_loss   cls_loss   dfl_loss  Instances       Size\n"
     ]
    },
    {
     "name": "stderr",
     "output_type": "stream",
     "text": [
      "      32/50      2.33G      1.813       1.02     0.9852          0        512: 100%|██████████| 227/227 [00:33<00:00,  6.87it/s]\n",
      "                 Class     Images  Instances      Box(P          R      mAP50  mAP50-95): 100%|██████████| 15/15 [00:02<00:00,  5.35it/s]"
     ]
    },
    {
     "name": "stdout",
     "output_type": "stream",
     "text": [
      "                   all        452        383      0.882      0.686      0.786      0.324\n"
     ]
    },
    {
     "name": "stderr",
     "output_type": "stream",
     "text": [
      "\n"
     ]
    },
    {
     "name": "stdout",
     "output_type": "stream",
     "text": [
      "\n",
      "      Epoch    GPU_mem   box_loss   cls_loss   dfl_loss  Instances       Size\n"
     ]
    },
    {
     "name": "stderr",
     "output_type": "stream",
     "text": [
      "      33/50      2.34G      1.806      1.012     0.9932         10        512: 100%|██████████| 227/227 [00:33<00:00,  6.83it/s]\n",
      "                 Class     Images  Instances      Box(P          R      mAP50  mAP50-95): 100%|██████████| 15/15 [00:02<00:00,  5.16it/s]"
     ]
    },
    {
     "name": "stdout",
     "output_type": "stream",
     "text": [
      "                   all        452        383       0.83      0.697      0.787      0.324\n"
     ]
    },
    {
     "name": "stderr",
     "output_type": "stream",
     "text": [
      "\n"
     ]
    },
    {
     "name": "stdout",
     "output_type": "stream",
     "text": [
      "\n",
      "      Epoch    GPU_mem   box_loss   cls_loss   dfl_loss  Instances       Size\n"
     ]
    },
    {
     "name": "stderr",
     "output_type": "stream",
     "text": [
      "      34/50      2.36G      1.772     0.9743     0.9895          0        512: 100%|██████████| 227/227 [00:34<00:00,  6.64it/s]\n",
      "                 Class     Images  Instances      Box(P          R      mAP50  mAP50-95): 100%|██████████| 15/15 [00:02<00:00,  5.38it/s]"
     ]
    },
    {
     "name": "stdout",
     "output_type": "stream",
     "text": [
      "                   all        452        383       0.82       0.69      0.764      0.332\n"
     ]
    },
    {
     "name": "stderr",
     "output_type": "stream",
     "text": [
      "\n"
     ]
    },
    {
     "name": "stdout",
     "output_type": "stream",
     "text": [
      "\n",
      "      Epoch    GPU_mem   box_loss   cls_loss   dfl_loss  Instances       Size\n"
     ]
    },
    {
     "name": "stderr",
     "output_type": "stream",
     "text": [
      "      35/50      2.57G      1.763     0.9789     0.9746          0        512: 100%|██████████| 227/227 [00:33<00:00,  6.78it/s]\n",
      "                 Class     Images  Instances      Box(P          R      mAP50  mAP50-95): 100%|██████████| 15/15 [00:02<00:00,  5.37it/s]"
     ]
    },
    {
     "name": "stdout",
     "output_type": "stream",
     "text": [
      "                   all        452        383      0.812      0.699      0.771      0.347\n"
     ]
    },
    {
     "name": "stderr",
     "output_type": "stream",
     "text": [
      "\n"
     ]
    },
    {
     "name": "stdout",
     "output_type": "stream",
     "text": [
      "\n",
      "      Epoch    GPU_mem   box_loss   cls_loss   dfl_loss  Instances       Size\n"
     ]
    },
    {
     "name": "stderr",
     "output_type": "stream",
     "text": [
      "      36/50       2.6G      1.751     0.9638     0.9831          1        512: 100%|██████████| 227/227 [00:34<00:00,  6.57it/s]\n",
      "                 Class     Images  Instances      Box(P          R      mAP50  mAP50-95): 100%|██████████| 15/15 [00:03<00:00,  4.97it/s]"
     ]
    },
    {
     "name": "stdout",
     "output_type": "stream",
     "text": [
      "                   all        452        383      0.826      0.743      0.805      0.342\n"
     ]
    },
    {
     "name": "stderr",
     "output_type": "stream",
     "text": [
      "\n"
     ]
    },
    {
     "name": "stdout",
     "output_type": "stream",
     "text": [
      "\n",
      "      Epoch    GPU_mem   box_loss   cls_loss   dfl_loss  Instances       Size\n"
     ]
    },
    {
     "name": "stderr",
     "output_type": "stream",
     "text": [
      "      37/50      2.62G      1.749     0.9596     0.9732          0        512: 100%|██████████| 227/227 [00:33<00:00,  6.75it/s]\n",
      "                 Class     Images  Instances      Box(P          R      mAP50  mAP50-95): 100%|██████████| 15/15 [00:02<00:00,  5.53it/s]"
     ]
    },
    {
     "name": "stdout",
     "output_type": "stream",
     "text": [
      "                   all        452        383      0.862      0.717      0.806      0.349\n"
     ]
    },
    {
     "name": "stderr",
     "output_type": "stream",
     "text": [
      "\n"
     ]
    },
    {
     "name": "stdout",
     "output_type": "stream",
     "text": [
      "\n",
      "      Epoch    GPU_mem   box_loss   cls_loss   dfl_loss  Instances       Size\n"
     ]
    },
    {
     "name": "stderr",
     "output_type": "stream",
     "text": [
      "      38/50      2.63G      1.744      0.954     0.9787          0        512: 100%|██████████| 227/227 [00:32<00:00,  7.01it/s]\n",
      "                 Class     Images  Instances      Box(P          R      mAP50  mAP50-95): 100%|██████████| 15/15 [00:02<00:00,  5.68it/s]"
     ]
    },
    {
     "name": "stdout",
     "output_type": "stream",
     "text": [
      "                   all        452        383      0.835      0.736      0.814      0.358\n"
     ]
    },
    {
     "name": "stderr",
     "output_type": "stream",
     "text": [
      "\n"
     ]
    },
    {
     "name": "stdout",
     "output_type": "stream",
     "text": [
      "\n",
      "      Epoch    GPU_mem   box_loss   cls_loss   dfl_loss  Instances       Size\n"
     ]
    },
    {
     "name": "stderr",
     "output_type": "stream",
     "text": [
      "      39/50      2.64G      1.734     0.9252     0.9715          0        512: 100%|██████████| 227/227 [00:32<00:00,  7.08it/s]\n",
      "                 Class     Images  Instances      Box(P          R      mAP50  mAP50-95): 100%|██████████| 15/15 [00:02<00:00,  5.57it/s]"
     ]
    },
    {
     "name": "stdout",
     "output_type": "stream",
     "text": [
      "                   all        452        383      0.915      0.675      0.809      0.343\n"
     ]
    },
    {
     "name": "stderr",
     "output_type": "stream",
     "text": [
      "\n"
     ]
    },
    {
     "name": "stdout",
     "output_type": "stream",
     "text": [
      "\n",
      "      Epoch    GPU_mem   box_loss   cls_loss   dfl_loss  Instances       Size\n"
     ]
    },
    {
     "name": "stderr",
     "output_type": "stream",
     "text": [
      "      40/50      2.67G      1.742     0.9359     0.9713          0        512: 100%|██████████| 227/227 [00:32<00:00,  6.95it/s]\n",
      "                 Class     Images  Instances      Box(P          R      mAP50  mAP50-95): 100%|██████████| 15/15 [00:02<00:00,  5.16it/s]"
     ]
    },
    {
     "name": "stdout",
     "output_type": "stream",
     "text": [
      "                   all        452        383       0.84      0.724      0.813      0.354\n"
     ]
    },
    {
     "name": "stderr",
     "output_type": "stream",
     "text": [
      "\n"
     ]
    },
    {
     "name": "stdout",
     "output_type": "stream",
     "text": [
      "Closing dataloader mosaic\n",
      "\n",
      "      Epoch    GPU_mem   box_loss   cls_loss   dfl_loss  Instances       Size\n"
     ]
    },
    {
     "name": "stderr",
     "output_type": "stream",
     "text": [
      "      41/50      2.69G      1.703     0.9363     0.9823          0        512: 100%|██████████| 227/227 [00:32<00:00,  6.89it/s]\n",
      "                 Class     Images  Instances      Box(P          R      mAP50  mAP50-95): 100%|██████████| 15/15 [00:03<00:00,  4.54it/s]"
     ]
    },
    {
     "name": "stdout",
     "output_type": "stream",
     "text": [
      "                   all        452        383      0.879      0.697        0.8      0.345\n"
     ]
    },
    {
     "name": "stderr",
     "output_type": "stream",
     "text": [
      "\n"
     ]
    },
    {
     "name": "stdout",
     "output_type": "stream",
     "text": [
      "\n",
      "      Epoch    GPU_mem   box_loss   cls_loss   dfl_loss  Instances       Size\n"
     ]
    },
    {
     "name": "stderr",
     "output_type": "stream",
     "text": [
      "      42/50       2.7G      1.704     0.9214     0.9824          1        512: 100%|██████████| 227/227 [00:33<00:00,  6.78it/s]\n",
      "                 Class     Images  Instances      Box(P          R      mAP50  mAP50-95): 100%|██████████| 15/15 [00:02<00:00,  5.61it/s]"
     ]
    },
    {
     "name": "stdout",
     "output_type": "stream",
     "text": [
      "                   all        452        383      0.892      0.711      0.818      0.357\n"
     ]
    },
    {
     "name": "stderr",
     "output_type": "stream",
     "text": [
      "\n"
     ]
    },
    {
     "name": "stdout",
     "output_type": "stream",
     "text": [
      "\n",
      "      Epoch    GPU_mem   box_loss   cls_loss   dfl_loss  Instances       Size\n"
     ]
    },
    {
     "name": "stderr",
     "output_type": "stream",
     "text": [
      "      43/50      2.71G      1.681     0.8846      0.985          0        512: 100%|██████████| 227/227 [00:33<00:00,  6.73it/s]\n",
      "                 Class     Images  Instances      Box(P          R      mAP50  mAP50-95): 100%|██████████| 15/15 [00:02<00:00,  5.14it/s]"
     ]
    },
    {
     "name": "stdout",
     "output_type": "stream",
     "text": [
      "                   all        452        383      0.852      0.749      0.815      0.367\n"
     ]
    },
    {
     "name": "stderr",
     "output_type": "stream",
     "text": [
      "\n"
     ]
    },
    {
     "name": "stdout",
     "output_type": "stream",
     "text": [
      "\n",
      "      Epoch    GPU_mem   box_loss   cls_loss   dfl_loss  Instances       Size\n"
     ]
    },
    {
     "name": "stderr",
     "output_type": "stream",
     "text": [
      "      44/50      2.74G       1.68     0.8963     0.9782          1        512: 100%|██████████| 227/227 [00:32<00:00,  6.95it/s]\n",
      "                 Class     Images  Instances      Box(P          R      mAP50  mAP50-95): 100%|██████████| 15/15 [00:02<00:00,  5.38it/s]"
     ]
    },
    {
     "name": "stdout",
     "output_type": "stream",
     "text": [
      "                   all        452        383      0.855      0.744      0.815      0.334\n"
     ]
    },
    {
     "name": "stderr",
     "output_type": "stream",
     "text": [
      "\n"
     ]
    },
    {
     "name": "stdout",
     "output_type": "stream",
     "text": [
      "\n",
      "      Epoch    GPU_mem   box_loss   cls_loss   dfl_loss  Instances       Size\n"
     ]
    },
    {
     "name": "stderr",
     "output_type": "stream",
     "text": [
      "      45/50      2.75G      1.668     0.8663     0.9895          1        512: 100%|██████████| 227/227 [00:32<00:00,  7.09it/s]\n",
      "                 Class     Images  Instances      Box(P          R      mAP50  mAP50-95): 100%|██████████| 15/15 [00:02<00:00,  5.87it/s]"
     ]
    },
    {
     "name": "stdout",
     "output_type": "stream",
     "text": [
      "                   all        452        383      0.882       0.76      0.838      0.365\n"
     ]
    },
    {
     "name": "stderr",
     "output_type": "stream",
     "text": [
      "\n"
     ]
    },
    {
     "name": "stdout",
     "output_type": "stream",
     "text": [
      "\n",
      "      Epoch    GPU_mem   box_loss   cls_loss   dfl_loss  Instances       Size\n"
     ]
    },
    {
     "name": "stderr",
     "output_type": "stream",
     "text": [
      "      46/50      2.77G       1.65     0.8557     0.9794          1        512: 100%|██████████| 227/227 [00:31<00:00,  7.10it/s]\n",
      "                 Class     Images  Instances      Box(P          R      mAP50  mAP50-95): 100%|██████████| 15/15 [00:02<00:00,  5.62it/s]"
     ]
    },
    {
     "name": "stdout",
     "output_type": "stream",
     "text": [
      "                   all        452        383      0.856      0.734      0.819      0.364\n"
     ]
    },
    {
     "name": "stderr",
     "output_type": "stream",
     "text": [
      "\n"
     ]
    },
    {
     "name": "stdout",
     "output_type": "stream",
     "text": [
      "\n",
      "      Epoch    GPU_mem   box_loss   cls_loss   dfl_loss  Instances       Size\n"
     ]
    },
    {
     "name": "stderr",
     "output_type": "stream",
     "text": [
      "      47/50      2.78G      1.646     0.8693     0.9876          1        512: 100%|██████████| 227/227 [00:31<00:00,  7.17it/s]\n",
      "                 Class     Images  Instances      Box(P          R      mAP50  mAP50-95): 100%|██████████| 15/15 [00:02<00:00,  5.80it/s]"
     ]
    },
    {
     "name": "stdout",
     "output_type": "stream",
     "text": [
      "                   all        452        383      0.871      0.747      0.818      0.361\n"
     ]
    },
    {
     "name": "stderr",
     "output_type": "stream",
     "text": [
      "\n"
     ]
    },
    {
     "name": "stdout",
     "output_type": "stream",
     "text": [
      "\n",
      "      Epoch    GPU_mem   box_loss   cls_loss   dfl_loss  Instances       Size\n"
     ]
    },
    {
     "name": "stderr",
     "output_type": "stream",
     "text": [
      "      48/50       2.8G      1.619     0.8483     0.9653          4        512: 100%|██████████| 227/227 [00:31<00:00,  7.10it/s]\n",
      "                 Class     Images  Instances      Box(P          R      mAP50  mAP50-95): 100%|██████████| 15/15 [00:02<00:00,  5.70it/s]"
     ]
    },
    {
     "name": "stdout",
     "output_type": "stream",
     "text": [
      "                   all        452        383      0.845      0.755      0.803      0.357\n"
     ]
    },
    {
     "name": "stderr",
     "output_type": "stream",
     "text": [
      "\n"
     ]
    },
    {
     "name": "stdout",
     "output_type": "stream",
     "text": [
      "\n",
      "      Epoch    GPU_mem   box_loss   cls_loss   dfl_loss  Instances       Size\n"
     ]
    },
    {
     "name": "stderr",
     "output_type": "stream",
     "text": [
      "      49/50      2.82G      1.596     0.8385      0.949          0        512: 100%|██████████| 227/227 [00:31<00:00,  7.17it/s]\n",
      "                 Class     Images  Instances      Box(P          R      mAP50  mAP50-95): 100%|██████████| 15/15 [00:02<00:00,  5.83it/s]"
     ]
    },
    {
     "name": "stdout",
     "output_type": "stream",
     "text": [
      "                   all        452        383      0.821      0.766      0.808      0.353\n"
     ]
    },
    {
     "name": "stderr",
     "output_type": "stream",
     "text": [
      "\n"
     ]
    },
    {
     "name": "stdout",
     "output_type": "stream",
     "text": [
      "\n",
      "      Epoch    GPU_mem   box_loss   cls_loss   dfl_loss  Instances       Size\n"
     ]
    },
    {
     "name": "stderr",
     "output_type": "stream",
     "text": [
      "      50/50      2.84G      1.604     0.8178     0.9739          0        512: 100%|██████████| 227/227 [00:32<00:00,  7.04it/s]\n",
      "                 Class     Images  Instances      Box(P          R      mAP50  mAP50-95): 100%|██████████| 15/15 [00:02<00:00,  5.69it/s]"
     ]
    },
    {
     "name": "stdout",
     "output_type": "stream",
     "text": [
      "                   all        452        383      0.838       0.77      0.811      0.359\n"
     ]
    },
    {
     "name": "stderr",
     "output_type": "stream",
     "text": [
      "\n"
     ]
    },
    {
     "name": "stdout",
     "output_type": "stream",
     "text": [
      "\n",
      "50 epochs completed in 0.509 hours.\n",
      "Optimizer stripped from runs\\detect\\first-boat-detection-nano\\weights\\last.pt, 6.2MB\n",
      "Optimizer stripped from runs\\detect\\first-boat-detection-nano\\weights\\best.pt, 6.2MB\n",
      "\n",
      "Validating runs\\detect\\first-boat-detection-nano\\weights\\best.pt...\n",
      "Ultralytics 8.3.126  Python-3.12.10 torch-2.7.0+cu128 CUDA:0 (NVIDIA GeForce RTX 4060 Laptop GPU, 8188MiB)\n",
      "Model summary (fused): 72 layers, 3,005,843 parameters, 0 gradients, 8.1 GFLOPs\n"
     ]
    },
    {
     "name": "stderr",
     "output_type": "stream",
     "text": [
      "                 Class     Images  Instances      Box(P          R      mAP50  mAP50-95): 100%|██████████| 15/15 [00:03<00:00,  4.87it/s]\n"
     ]
    },
    {
     "name": "stdout",
     "output_type": "stream",
     "text": [
      "                   all        452        383      0.893       0.76      0.838      0.365\n",
      "Speed: 0.2ms preprocess, 1.5ms inference, 0.0ms loss, 1.9ms postprocess per image\n",
      "Results saved to \u001b[1mruns\\detect\\first-boat-detection-nano\u001b[0m\n"
     ]
    },
    {
     "data": {
      "text/plain": [
       "ultralytics.utils.metrics.DetMetrics object with attributes:\n",
       "\n",
       "ap_class_index: array([0])\n",
       "box: ultralytics.utils.metrics.Metric object\n",
       "confusion_matrix: <ultralytics.utils.metrics.ConfusionMatrix object at 0x00000234F1E4D4C0>\n",
       "curves: ['Precision-Recall(B)', 'F1-Confidence(B)', 'Precision-Confidence(B)', 'Recall-Confidence(B)']\n",
       "curves_results: [[array([          0,    0.001001,    0.002002,    0.003003,    0.004004,    0.005005,    0.006006,    0.007007,    0.008008,    0.009009,     0.01001,    0.011011,    0.012012,    0.013013,    0.014014,    0.015015,    0.016016,    0.017017,    0.018018,    0.019019,     0.02002,    0.021021,    0.022022,    0.023023,\n",
       "          0.024024,    0.025025,    0.026026,    0.027027,    0.028028,    0.029029,     0.03003,    0.031031,    0.032032,    0.033033,    0.034034,    0.035035,    0.036036,    0.037037,    0.038038,    0.039039,     0.04004,    0.041041,    0.042042,    0.043043,    0.044044,    0.045045,    0.046046,    0.047047,\n",
       "          0.048048,    0.049049,     0.05005,    0.051051,    0.052052,    0.053053,    0.054054,    0.055055,    0.056056,    0.057057,    0.058058,    0.059059,     0.06006,    0.061061,    0.062062,    0.063063,    0.064064,    0.065065,    0.066066,    0.067067,    0.068068,    0.069069,     0.07007,    0.071071,\n",
       "          0.072072,    0.073073,    0.074074,    0.075075,    0.076076,    0.077077,    0.078078,    0.079079,     0.08008,    0.081081,    0.082082,    0.083083,    0.084084,    0.085085,    0.086086,    0.087087,    0.088088,    0.089089,     0.09009,    0.091091,    0.092092,    0.093093,    0.094094,    0.095095,\n",
       "          0.096096,    0.097097,    0.098098,    0.099099,      0.1001,      0.1011,      0.1021,      0.1031,      0.1041,     0.10511,     0.10611,     0.10711,     0.10811,     0.10911,     0.11011,     0.11111,     0.11211,     0.11311,     0.11411,     0.11512,     0.11612,     0.11712,     0.11812,     0.11912,\n",
       "           0.12012,     0.12112,     0.12212,     0.12312,     0.12412,     0.12513,     0.12613,     0.12713,     0.12813,     0.12913,     0.13013,     0.13113,     0.13213,     0.13313,     0.13413,     0.13514,     0.13614,     0.13714,     0.13814,     0.13914,     0.14014,     0.14114,     0.14214,     0.14314,\n",
       "           0.14414,     0.14515,     0.14615,     0.14715,     0.14815,     0.14915,     0.15015,     0.15115,     0.15215,     0.15315,     0.15415,     0.15516,     0.15616,     0.15716,     0.15816,     0.15916,     0.16016,     0.16116,     0.16216,     0.16316,     0.16416,     0.16517,     0.16617,     0.16717,\n",
       "           0.16817,     0.16917,     0.17017,     0.17117,     0.17217,     0.17317,     0.17417,     0.17518,     0.17618,     0.17718,     0.17818,     0.17918,     0.18018,     0.18118,     0.18218,     0.18318,     0.18418,     0.18519,     0.18619,     0.18719,     0.18819,     0.18919,     0.19019,     0.19119,\n",
       "           0.19219,     0.19319,     0.19419,      0.1952,      0.1962,      0.1972,      0.1982,      0.1992,      0.2002,      0.2012,      0.2022,      0.2032,      0.2042,     0.20521,     0.20621,     0.20721,     0.20821,     0.20921,     0.21021,     0.21121,     0.21221,     0.21321,     0.21421,     0.21522,\n",
       "           0.21622,     0.21722,     0.21822,     0.21922,     0.22022,     0.22122,     0.22222,     0.22322,     0.22422,     0.22523,     0.22623,     0.22723,     0.22823,     0.22923,     0.23023,     0.23123,     0.23223,     0.23323,     0.23423,     0.23524,     0.23624,     0.23724,     0.23824,     0.23924,\n",
       "           0.24024,     0.24124,     0.24224,     0.24324,     0.24424,     0.24525,     0.24625,     0.24725,     0.24825,     0.24925,     0.25025,     0.25125,     0.25225,     0.25325,     0.25425,     0.25526,     0.25626,     0.25726,     0.25826,     0.25926,     0.26026,     0.26126,     0.26226,     0.26326,\n",
       "           0.26426,     0.26527,     0.26627,     0.26727,     0.26827,     0.26927,     0.27027,     0.27127,     0.27227,     0.27327,     0.27427,     0.27528,     0.27628,     0.27728,     0.27828,     0.27928,     0.28028,     0.28128,     0.28228,     0.28328,     0.28428,     0.28529,     0.28629,     0.28729,\n",
       "           0.28829,     0.28929,     0.29029,     0.29129,     0.29229,     0.29329,     0.29429,      0.2953,      0.2963,      0.2973,      0.2983,      0.2993,      0.3003,      0.3013,      0.3023,      0.3033,      0.3043,     0.30531,     0.30631,     0.30731,     0.30831,     0.30931,     0.31031,     0.31131,\n",
       "           0.31231,     0.31331,     0.31431,     0.31532,     0.31632,     0.31732,     0.31832,     0.31932,     0.32032,     0.32132,     0.32232,     0.32332,     0.32432,     0.32533,     0.32633,     0.32733,     0.32833,     0.32933,     0.33033,     0.33133,     0.33233,     0.33333,     0.33433,     0.33534,\n",
       "           0.33634,     0.33734,     0.33834,     0.33934,     0.34034,     0.34134,     0.34234,     0.34334,     0.34434,     0.34535,     0.34635,     0.34735,     0.34835,     0.34935,     0.35035,     0.35135,     0.35235,     0.35335,     0.35435,     0.35536,     0.35636,     0.35736,     0.35836,     0.35936,\n",
       "           0.36036,     0.36136,     0.36236,     0.36336,     0.36436,     0.36537,     0.36637,     0.36737,     0.36837,     0.36937,     0.37037,     0.37137,     0.37237,     0.37337,     0.37437,     0.37538,     0.37638,     0.37738,     0.37838,     0.37938,     0.38038,     0.38138,     0.38238,     0.38338,\n",
       "           0.38438,     0.38539,     0.38639,     0.38739,     0.38839,     0.38939,     0.39039,     0.39139,     0.39239,     0.39339,     0.39439,      0.3954,      0.3964,      0.3974,      0.3984,      0.3994,      0.4004,      0.4014,      0.4024,      0.4034,      0.4044,     0.40541,     0.40641,     0.40741,\n",
       "           0.40841,     0.40941,     0.41041,     0.41141,     0.41241,     0.41341,     0.41441,     0.41542,     0.41642,     0.41742,     0.41842,     0.41942,     0.42042,     0.42142,     0.42242,     0.42342,     0.42442,     0.42543,     0.42643,     0.42743,     0.42843,     0.42943,     0.43043,     0.43143,\n",
       "           0.43243,     0.43343,     0.43443,     0.43544,     0.43644,     0.43744,     0.43844,     0.43944,     0.44044,     0.44144,     0.44244,     0.44344,     0.44444,     0.44545,     0.44645,     0.44745,     0.44845,     0.44945,     0.45045,     0.45145,     0.45245,     0.45345,     0.45445,     0.45546,\n",
       "           0.45646,     0.45746,     0.45846,     0.45946,     0.46046,     0.46146,     0.46246,     0.46346,     0.46446,     0.46547,     0.46647,     0.46747,     0.46847,     0.46947,     0.47047,     0.47147,     0.47247,     0.47347,     0.47447,     0.47548,     0.47648,     0.47748,     0.47848,     0.47948,\n",
       "           0.48048,     0.48148,     0.48248,     0.48348,     0.48448,     0.48549,     0.48649,     0.48749,     0.48849,     0.48949,     0.49049,     0.49149,     0.49249,     0.49349,     0.49449,      0.4955,      0.4965,      0.4975,      0.4985,      0.4995,      0.5005,      0.5015,      0.5025,      0.5035,\n",
       "            0.5045,     0.50551,     0.50651,     0.50751,     0.50851,     0.50951,     0.51051,     0.51151,     0.51251,     0.51351,     0.51451,     0.51552,     0.51652,     0.51752,     0.51852,     0.51952,     0.52052,     0.52152,     0.52252,     0.52352,     0.52452,     0.52553,     0.52653,     0.52753,\n",
       "           0.52853,     0.52953,     0.53053,     0.53153,     0.53253,     0.53353,     0.53453,     0.53554,     0.53654,     0.53754,     0.53854,     0.53954,     0.54054,     0.54154,     0.54254,     0.54354,     0.54454,     0.54555,     0.54655,     0.54755,     0.54855,     0.54955,     0.55055,     0.55155,\n",
       "           0.55255,     0.55355,     0.55455,     0.55556,     0.55656,     0.55756,     0.55856,     0.55956,     0.56056,     0.56156,     0.56256,     0.56356,     0.56456,     0.56557,     0.56657,     0.56757,     0.56857,     0.56957,     0.57057,     0.57157,     0.57257,     0.57357,     0.57457,     0.57558,\n",
       "           0.57658,     0.57758,     0.57858,     0.57958,     0.58058,     0.58158,     0.58258,     0.58358,     0.58458,     0.58559,     0.58659,     0.58759,     0.58859,     0.58959,     0.59059,     0.59159,     0.59259,     0.59359,     0.59459,      0.5956,      0.5966,      0.5976,      0.5986,      0.5996,\n",
       "            0.6006,      0.6016,      0.6026,      0.6036,      0.6046,     0.60561,     0.60661,     0.60761,     0.60861,     0.60961,     0.61061,     0.61161,     0.61261,     0.61361,     0.61461,     0.61562,     0.61662,     0.61762,     0.61862,     0.61962,     0.62062,     0.62162,     0.62262,     0.62362,\n",
       "           0.62462,     0.62563,     0.62663,     0.62763,     0.62863,     0.62963,     0.63063,     0.63163,     0.63263,     0.63363,     0.63463,     0.63564,     0.63664,     0.63764,     0.63864,     0.63964,     0.64064,     0.64164,     0.64264,     0.64364,     0.64464,     0.64565,     0.64665,     0.64765,\n",
       "           0.64865,     0.64965,     0.65065,     0.65165,     0.65265,     0.65365,     0.65465,     0.65566,     0.65666,     0.65766,     0.65866,     0.65966,     0.66066,     0.66166,     0.66266,     0.66366,     0.66466,     0.66567,     0.66667,     0.66767,     0.66867,     0.66967,     0.67067,     0.67167,\n",
       "           0.67267,     0.67367,     0.67467,     0.67568,     0.67668,     0.67768,     0.67868,     0.67968,     0.68068,     0.68168,     0.68268,     0.68368,     0.68468,     0.68569,     0.68669,     0.68769,     0.68869,     0.68969,     0.69069,     0.69169,     0.69269,     0.69369,     0.69469,      0.6957,\n",
       "            0.6967,      0.6977,      0.6987,      0.6997,      0.7007,      0.7017,      0.7027,      0.7037,      0.7047,     0.70571,     0.70671,     0.70771,     0.70871,     0.70971,     0.71071,     0.71171,     0.71271,     0.71371,     0.71471,     0.71572,     0.71672,     0.71772,     0.71872,     0.71972,\n",
       "           0.72072,     0.72172,     0.72272,     0.72372,     0.72472,     0.72573,     0.72673,     0.72773,     0.72873,     0.72973,     0.73073,     0.73173,     0.73273,     0.73373,     0.73473,     0.73574,     0.73674,     0.73774,     0.73874,     0.73974,     0.74074,     0.74174,     0.74274,     0.74374,\n",
       "           0.74474,     0.74575,     0.74675,     0.74775,     0.74875,     0.74975,     0.75075,     0.75175,     0.75275,     0.75375,     0.75475,     0.75576,     0.75676,     0.75776,     0.75876,     0.75976,     0.76076,     0.76176,     0.76276,     0.76376,     0.76476,     0.76577,     0.76677,     0.76777,\n",
       "           0.76877,     0.76977,     0.77077,     0.77177,     0.77277,     0.77377,     0.77477,     0.77578,     0.77678,     0.77778,     0.77878,     0.77978,     0.78078,     0.78178,     0.78278,     0.78378,     0.78478,     0.78579,     0.78679,     0.78779,     0.78879,     0.78979,     0.79079,     0.79179,\n",
       "           0.79279,     0.79379,     0.79479,      0.7958,      0.7968,      0.7978,      0.7988,      0.7998,      0.8008,      0.8018,      0.8028,      0.8038,      0.8048,     0.80581,     0.80681,     0.80781,     0.80881,     0.80981,     0.81081,     0.81181,     0.81281,     0.81381,     0.81481,     0.81582,\n",
       "           0.81682,     0.81782,     0.81882,     0.81982,     0.82082,     0.82182,     0.82282,     0.82382,     0.82482,     0.82583,     0.82683,     0.82783,     0.82883,     0.82983,     0.83083,     0.83183,     0.83283,     0.83383,     0.83483,     0.83584,     0.83684,     0.83784,     0.83884,     0.83984,\n",
       "           0.84084,     0.84184,     0.84284,     0.84384,     0.84484,     0.84585,     0.84685,     0.84785,     0.84885,     0.84985,     0.85085,     0.85185,     0.85285,     0.85385,     0.85485,     0.85586,     0.85686,     0.85786,     0.85886,     0.85986,     0.86086,     0.86186,     0.86286,     0.86386,\n",
       "           0.86486,     0.86587,     0.86687,     0.86787,     0.86887,     0.86987,     0.87087,     0.87187,     0.87287,     0.87387,     0.87487,     0.87588,     0.87688,     0.87788,     0.87888,     0.87988,     0.88088,     0.88188,     0.88288,     0.88388,     0.88488,     0.88589,     0.88689,     0.88789,\n",
       "           0.88889,     0.88989,     0.89089,     0.89189,     0.89289,     0.89389,     0.89489,      0.8959,      0.8969,      0.8979,      0.8989,      0.8999,      0.9009,      0.9019,      0.9029,      0.9039,      0.9049,     0.90591,     0.90691,     0.90791,     0.90891,     0.90991,     0.91091,     0.91191,\n",
       "           0.91291,     0.91391,     0.91491,     0.91592,     0.91692,     0.91792,     0.91892,     0.91992,     0.92092,     0.92192,     0.92292,     0.92392,     0.92492,     0.92593,     0.92693,     0.92793,     0.92893,     0.92993,     0.93093,     0.93193,     0.93293,     0.93393,     0.93493,     0.93594,\n",
       "           0.93694,     0.93794,     0.93894,     0.93994,     0.94094,     0.94194,     0.94294,     0.94394,     0.94494,     0.94595,     0.94695,     0.94795,     0.94895,     0.94995,     0.95095,     0.95195,     0.95295,     0.95395,     0.95495,     0.95596,     0.95696,     0.95796,     0.95896,     0.95996,\n",
       "           0.96096,     0.96196,     0.96296,     0.96396,     0.96496,     0.96597,     0.96697,     0.96797,     0.96897,     0.96997,     0.97097,     0.97197,     0.97297,     0.97397,     0.97497,     0.97598,     0.97698,     0.97798,     0.97898,     0.97998,     0.98098,     0.98198,     0.98298,     0.98398,\n",
       "           0.98498,     0.98599,     0.98699,     0.98799,     0.98899,     0.98999,     0.99099,     0.99199,     0.99299,     0.99399,     0.99499,       0.996,       0.997,       0.998,       0.999,           1]), array([[          1,           1,           1,           1,           1,           1,           1,           1,           1,           1,           1,           1,           1,           1,           1,           1,           1,           1,           1,           1,           1,           1,           1,\n",
       "                  1,           1,           1,           1,           1,           1,           1,           1,           1,           1,           1,           1,           1,           1,           1,           1,           1,           1,           1,           1,           1,           1,           1,\n",
       "                  1,           1,           1,           1,           1,           1,           1,           1,           1,           1,           1,           1,           1,           1,           1,           1,           1,           1,           1,           1,           1,           1,           1,\n",
       "                  1,           1,           1,           1,           1,           1,           1,           1,           1,           1,           1,           1,           1,           1,           1,           1,           1,           1,           1,           1,           1,           1,           1,\n",
       "                  1,           1,           1,           1,           1,           1,           1,           1,           1,           1,           1,           1,           1,           1,           1,           1,           1,           1,           1,           1,           1,           1,           1,\n",
       "                  1,           1,           1,           1,           1,           1,           1,           1,           1,           1,           1,           1,           1,           1,           1,           1,           1,           1,           1,           1,           1,           1,           1,\n",
       "                  1,           1,           1,           1,           1,           1,           1,           1,           1,           1,           1,     0.98684,     0.98684,     0.98684,     0.98684,     0.98684,     0.98684,     0.98684,     0.98684,     0.98684,     0.98684,     0.98684,     0.98684,\n",
       "            0.98684,     0.98684,     0.98684,     0.98684,     0.98684,     0.98684,     0.98684,     0.98684,     0.98684,     0.98684,     0.98684,     0.98684,     0.98684,     0.98684,     0.98684,     0.98684,     0.98684,     0.98684,     0.98684,     0.98684,     0.98684,     0.98684,     0.98684,\n",
       "            0.98684,     0.98684,     0.98684,     0.98684,     0.98684,     0.98684,     0.98684,     0.98684,     0.98684,     0.98684,     0.98684,     0.98684,     0.98438,     0.98438,     0.98438,     0.98438,     0.98438,     0.98438,     0.98438,     0.98438,     0.98438,     0.98438,     0.98438,\n",
       "            0.98438,     0.98438,     0.98438,     0.98438,     0.98438,     0.98438,     0.98438,     0.98438,     0.98438,     0.98438,     0.98438,     0.98438,     0.98438,     0.98438,     0.98438,     0.98438,     0.98438,     0.98438,     0.98438,     0.98438,     0.98438,     0.98438,     0.98438,\n",
       "            0.98438,     0.98438,     0.98438,     0.98438,     0.98438,     0.98438,     0.98438,     0.98438,     0.98438,     0.98438,     0.98438,     0.98438,     0.98438,     0.98438,     0.98438,     0.98438,     0.98438,     0.98438,     0.98438,     0.98438,     0.98438,     0.98438,     0.98438,\n",
       "            0.98438,     0.98438,     0.98438,     0.98438,     0.98438,     0.98438,     0.98438,     0.98438,     0.98438,     0.98438,     0.98438,     0.98438,     0.98438,     0.98438,     0.98438,     0.98438,     0.98438,     0.98438,     0.98438,     0.98438,     0.98438,     0.98438,     0.98438,\n",
       "            0.98438,     0.98438,     0.98438,     0.98438,     0.98438,     0.98438,     0.98438,     0.98438,     0.98438,     0.98438,     0.98438,     0.98438,     0.98438,     0.98438,     0.98438,     0.98438,     0.98438,     0.98438,     0.98438,     0.98438,     0.98438,     0.98438,     0.98438,\n",
       "            0.98438,     0.98438,     0.98438,     0.98438,     0.98438,     0.98438,     0.98438,     0.98438,     0.98438,     0.98438,     0.98438,     0.98438,     0.98438,     0.98438,     0.98438,     0.98438,     0.98438,     0.98438,     0.98438,     0.98438,     0.98438,     0.98438,     0.98438,\n",
       "            0.98438,     0.98438,     0.98438,     0.98438,     0.98438,     0.98438,     0.98438,     0.98235,     0.98235,     0.98235,     0.98235,     0.98235,     0.98235,     0.98235,     0.98235,     0.98235,     0.98235,     0.98235,     0.98235,     0.98235,     0.98235,     0.98235,     0.98235,\n",
       "            0.98235,     0.98235,     0.98235,     0.98235,     0.98235,     0.98235,     0.98235,     0.98235,     0.98235,     0.98235,     0.98235,     0.98235,     0.98235,     0.98235,     0.98235,     0.98235,     0.98235,     0.98235,     0.98235,     0.98235,     0.98235,     0.98235,     0.98235,\n",
       "            0.98235,     0.98235,     0.98235,     0.98235,     0.98235,     0.98235,     0.98235,     0.98235,     0.98235,     0.98235,     0.98235,     0.98235,     0.98235,     0.98235,     0.98235,     0.98235,     0.98235,     0.98235,     0.98235,     0.98235,     0.98235,     0.98235,     0.98235,\n",
       "            0.98235,     0.98235,     0.98235,     0.98235,     0.98235,     0.98235,     0.98235,     0.98235,     0.98235,     0.98235,     0.98235,     0.98235,     0.98235,     0.98235,     0.98235,     0.98235,     0.98235,     0.98235,     0.98235,     0.98235,     0.98235,     0.98235,     0.98235,\n",
       "            0.98235,     0.98235,     0.98235,     0.98235,     0.98235,     0.98235,     0.98235,     0.98235,     0.98235,     0.98235,     0.98235,     0.98235,     0.98235,     0.98235,     0.98235,     0.98235,     0.98235,     0.98235,     0.98235,     0.98235,     0.98235,     0.98235,      0.9779,\n",
       "             0.9779,      0.9779,      0.9779,      0.9779,      0.9779,      0.9779,      0.9779,      0.9779,      0.9779,      0.9779,      0.9779,      0.9779,      0.9779,      0.9779,      0.9779,      0.9779,      0.9779,      0.9779,      0.9779,      0.9779,      0.9779,      0.9779,      0.9779,\n",
       "             0.9779,      0.9779,     0.97326,     0.97326,     0.97326,     0.97326,     0.97326,     0.97326,     0.97326,     0.97326,     0.97326,     0.97326,     0.97326,     0.97326,     0.97326,     0.97156,     0.97156,     0.97156,     0.97156,     0.97156,     0.97156,     0.97156,     0.97156,\n",
       "            0.97156,     0.97156,     0.97156,     0.97156,     0.97156,     0.97156,     0.97156,     0.97156,     0.97156,     0.97156,     0.97156,     0.97156,     0.97156,     0.97156,     0.97156,     0.97156,     0.97156,     0.97156,     0.97156,     0.97156,     0.97156,     0.97156,     0.97156,\n",
       "            0.97156,     0.97156,     0.97156,     0.97156,     0.97156,     0.97156,     0.97156,     0.97156,     0.97156,     0.97156,     0.97156,     0.97156,     0.97156,     0.97156,     0.97156,     0.97156,     0.97156,     0.97156,     0.97156,     0.97156,     0.97156,     0.97156,     0.97156,\n",
       "            0.97156,     0.97156,     0.97156,     0.97156,     0.97156,     0.97156,     0.96996,     0.96996,     0.96996,     0.96996,     0.96996,     0.96996,     0.96996,     0.96996,     0.96996,     0.96996,     0.96996,     0.96996,     0.96996,     0.96996,     0.96996,     0.96996,     0.96996,\n",
       "            0.96996,     0.96996,     0.96996,     0.96996,     0.96996,     0.96996,     0.96996,     0.96996,     0.96996,     0.96996,     0.96996,     0.96996,     0.96996,     0.96996,     0.96996,     0.96996,     0.96996,     0.96996,     0.96996,     0.96996,     0.96996,     0.96996,     0.96996,\n",
       "            0.96996,     0.96996,     0.96996,     0.96996,     0.96996,     0.96996,     0.96996,     0.96996,     0.96996,     0.96996,     0.96996,     0.96996,     0.96996,     0.96996,     0.96996,     0.96624,     0.96624,     0.96624,     0.96624,     0.96624,     0.96624,     0.96624,     0.96624,\n",
       "            0.96356,     0.96356,     0.96356,     0.96356,     0.96356,     0.96356,     0.96356,     0.96356,     0.96356,     0.96356,     0.96356,     0.96356,     0.96356,     0.96356,     0.96356,     0.96356,     0.96356,     0.96356,     0.96356,     0.96356,     0.96356,     0.96356,     0.96356,\n",
       "               0.96,        0.96,        0.96,        0.96,        0.96,        0.96,     0.95652,     0.95652,     0.95652,     0.95652,     0.95652,     0.95331,     0.95331,     0.95331,     0.95331,     0.95331,     0.95331,     0.95331,     0.95331,     0.95038,     0.95038,     0.95038,     0.95038,\n",
       "            0.95038,     0.95038,     0.95038,     0.95038,     0.95038,     0.95038,     0.94757,     0.94757,     0.94757,     0.94757,     0.94757,     0.94757,     0.94757,     0.94757,     0.94757,     0.94757,     0.94444,     0.94444,     0.94444,     0.94444,     0.94444,     0.94444,     0.93502,\n",
       "            0.93502,     0.93502,     0.93502,     0.93502,     0.93502,     0.93502,     0.93502,     0.93502,     0.93502,      0.9319,      0.9319,      0.9319,     0.93031,     0.93031,     0.93031,     0.93031,     0.93031,     0.93031,     0.93031,     0.93031,     0.93031,     0.93031,     0.93031,\n",
       "            0.93031,     0.93031,     0.93031,     0.93031,     0.93031,     0.93031,     0.93031,     0.92734,     0.92734,     0.92734,     0.92517,     0.92517,     0.92517,     0.92517,     0.92517,     0.92517,     0.92517,     0.92517,     0.92517,     0.92517,     0.91694,     0.91694,     0.91694,\n",
       "            0.91694,     0.91694,     0.91694,     0.91694,     0.91694,     0.91694,     0.91694,     0.91148,     0.91148,     0.91148,     0.91148,     0.91148,     0.91148,     0.90879,     0.90879,     0.90415,     0.90415,     0.90415,     0.90415,     0.90415,     0.90415,     0.90415,     0.90415,\n",
       "            0.90415,     0.90415,     0.90415,     0.90159,     0.90159,     0.89905,     0.89905,     0.89905,     0.89264,     0.89264,     0.89264,     0.89264,     0.89264,     0.89264,     0.89264,     0.89264,     0.89264,     0.89264,     0.89264,     0.89264,     0.89264,     0.89264,     0.89264,\n",
       "            0.89264,     0.88218,     0.88218,     0.85423,     0.85423,     0.85423,     0.84971,     0.84971,      0.8477,      0.8477,      0.8477,     0.84419,     0.84419,     0.84419,     0.84419,     0.84419,     0.84419,     0.84419,     0.84419,     0.83565,     0.83565,     0.83565,     0.83565,\n",
       "            0.83565,     0.81793,     0.81793,     0.81793,     0.81622,     0.81622,     0.81283,     0.81283,     0.81283,     0.81283,     0.81283,     0.81167,     0.81167,     0.81167,     0.81167,     0.81167,     0.81167,      0.7974,      0.7974,     0.79434,     0.79434,     0.79434,     0.79434,\n",
       "            0.79434,     0.77114,     0.77114,     0.77114,     0.76601,     0.76601,     0.76601,     0.74463,     0.74463,     0.73995,     0.73995,     0.73995,     0.73193,     0.73193,     0.73193,     0.70946,     0.70946,     0.69757,     0.69757,     0.69757,      0.6967,      0.6967,     0.68534,\n",
       "            0.68534,     0.68534,     0.67722,     0.67722,     0.67722,     0.67722,     0.67722,     0.67722,     0.67722,     0.67722,     0.66392,     0.66392,     0.66324,     0.66324,     0.66324,     0.62913,     0.62913,     0.62913,     0.61049,     0.61049,     0.61049,     0.61049,     0.61049,\n",
       "            0.58497,     0.58497,     0.57746,     0.57746,     0.57746,     0.57517,     0.57517,     0.57517,     0.53746,     0.53746,     0.53045,     0.53045,     0.53045,     0.49925,     0.49925,     0.48401,     0.48401,     0.48401,     0.44533,     0.44533,     0.44533,     0.43677,     0.43677,\n",
       "            0.43355,     0.43355,     0.43355,     0.41605,     0.41605,     0.41605,      0.4092,      0.4092,     0.34985,     0.34985,     0.34985,      0.2771,      0.2771,     0.27302,     0.27302,     0.27302,     0.26147,     0.26147,     0.26147,     0.19228,     0.19046,     0.18865,     0.18684,\n",
       "            0.18502,     0.18321,     0.18139,     0.17958,     0.17777,     0.17595,     0.17414,     0.17232,     0.17051,      0.1687,     0.16688,     0.16507,     0.16325,     0.16144,     0.15963,     0.15781,       0.156,     0.15419,     0.15237,     0.15056,     0.14874,     0.14693,     0.14512,\n",
       "             0.1433,     0.14149,     0.13967,     0.13786,     0.13605,     0.13423,     0.13242,      0.1306,     0.12879,     0.12698,     0.12516,     0.12335,     0.12153,     0.11972,     0.11791,     0.11609,     0.11428,     0.11246,     0.11065,     0.10884,     0.10702,     0.10521,     0.10339,\n",
       "            0.10158,    0.099767,    0.097953,    0.096139,    0.094325,    0.092511,    0.090697,    0.088883,    0.087069,    0.085255,    0.083441,    0.081627,    0.079813,    0.077999,    0.076186,    0.074372,    0.072558,    0.070744,     0.06893,    0.067116,    0.065302,    0.063488,    0.061674,\n",
       "            0.05986,    0.058046,    0.056232,    0.054418,    0.052604,     0.05079,    0.048976,    0.047162,    0.045349,    0.043535,    0.041721,    0.039907,    0.038093,    0.036279,    0.034465,    0.032651,    0.030837,    0.029023,    0.027209,    0.025395,    0.023581,    0.021767,    0.019953,\n",
       "           0.018139,    0.016325,    0.014512,    0.012698,    0.010884,   0.0090697,   0.0072558,   0.0054418,   0.0036279,   0.0018139,           0]]), 'Recall', 'Precision'], [array([          0,    0.001001,    0.002002,    0.003003,    0.004004,    0.005005,    0.006006,    0.007007,    0.008008,    0.009009,     0.01001,    0.011011,    0.012012,    0.013013,    0.014014,    0.015015,    0.016016,    0.017017,    0.018018,    0.019019,     0.02002,    0.021021,    0.022022,    0.023023,\n",
       "          0.024024,    0.025025,    0.026026,    0.027027,    0.028028,    0.029029,     0.03003,    0.031031,    0.032032,    0.033033,    0.034034,    0.035035,    0.036036,    0.037037,    0.038038,    0.039039,     0.04004,    0.041041,    0.042042,    0.043043,    0.044044,    0.045045,    0.046046,    0.047047,\n",
       "          0.048048,    0.049049,     0.05005,    0.051051,    0.052052,    0.053053,    0.054054,    0.055055,    0.056056,    0.057057,    0.058058,    0.059059,     0.06006,    0.061061,    0.062062,    0.063063,    0.064064,    0.065065,    0.066066,    0.067067,    0.068068,    0.069069,     0.07007,    0.071071,\n",
       "          0.072072,    0.073073,    0.074074,    0.075075,    0.076076,    0.077077,    0.078078,    0.079079,     0.08008,    0.081081,    0.082082,    0.083083,    0.084084,    0.085085,    0.086086,    0.087087,    0.088088,    0.089089,     0.09009,    0.091091,    0.092092,    0.093093,    0.094094,    0.095095,\n",
       "          0.096096,    0.097097,    0.098098,    0.099099,      0.1001,      0.1011,      0.1021,      0.1031,      0.1041,     0.10511,     0.10611,     0.10711,     0.10811,     0.10911,     0.11011,     0.11111,     0.11211,     0.11311,     0.11411,     0.11512,     0.11612,     0.11712,     0.11812,     0.11912,\n",
       "           0.12012,     0.12112,     0.12212,     0.12312,     0.12412,     0.12513,     0.12613,     0.12713,     0.12813,     0.12913,     0.13013,     0.13113,     0.13213,     0.13313,     0.13413,     0.13514,     0.13614,     0.13714,     0.13814,     0.13914,     0.14014,     0.14114,     0.14214,     0.14314,\n",
       "           0.14414,     0.14515,     0.14615,     0.14715,     0.14815,     0.14915,     0.15015,     0.15115,     0.15215,     0.15315,     0.15415,     0.15516,     0.15616,     0.15716,     0.15816,     0.15916,     0.16016,     0.16116,     0.16216,     0.16316,     0.16416,     0.16517,     0.16617,     0.16717,\n",
       "           0.16817,     0.16917,     0.17017,     0.17117,     0.17217,     0.17317,     0.17417,     0.17518,     0.17618,     0.17718,     0.17818,     0.17918,     0.18018,     0.18118,     0.18218,     0.18318,     0.18418,     0.18519,     0.18619,     0.18719,     0.18819,     0.18919,     0.19019,     0.19119,\n",
       "           0.19219,     0.19319,     0.19419,      0.1952,      0.1962,      0.1972,      0.1982,      0.1992,      0.2002,      0.2012,      0.2022,      0.2032,      0.2042,     0.20521,     0.20621,     0.20721,     0.20821,     0.20921,     0.21021,     0.21121,     0.21221,     0.21321,     0.21421,     0.21522,\n",
       "           0.21622,     0.21722,     0.21822,     0.21922,     0.22022,     0.22122,     0.22222,     0.22322,     0.22422,     0.22523,     0.22623,     0.22723,     0.22823,     0.22923,     0.23023,     0.23123,     0.23223,     0.23323,     0.23423,     0.23524,     0.23624,     0.23724,     0.23824,     0.23924,\n",
       "           0.24024,     0.24124,     0.24224,     0.24324,     0.24424,     0.24525,     0.24625,     0.24725,     0.24825,     0.24925,     0.25025,     0.25125,     0.25225,     0.25325,     0.25425,     0.25526,     0.25626,     0.25726,     0.25826,     0.25926,     0.26026,     0.26126,     0.26226,     0.26326,\n",
       "           0.26426,     0.26527,     0.26627,     0.26727,     0.26827,     0.26927,     0.27027,     0.27127,     0.27227,     0.27327,     0.27427,     0.27528,     0.27628,     0.27728,     0.27828,     0.27928,     0.28028,     0.28128,     0.28228,     0.28328,     0.28428,     0.28529,     0.28629,     0.28729,\n",
       "           0.28829,     0.28929,     0.29029,     0.29129,     0.29229,     0.29329,     0.29429,      0.2953,      0.2963,      0.2973,      0.2983,      0.2993,      0.3003,      0.3013,      0.3023,      0.3033,      0.3043,     0.30531,     0.30631,     0.30731,     0.30831,     0.30931,     0.31031,     0.31131,\n",
       "           0.31231,     0.31331,     0.31431,     0.31532,     0.31632,     0.31732,     0.31832,     0.31932,     0.32032,     0.32132,     0.32232,     0.32332,     0.32432,     0.32533,     0.32633,     0.32733,     0.32833,     0.32933,     0.33033,     0.33133,     0.33233,     0.33333,     0.33433,     0.33534,\n",
       "           0.33634,     0.33734,     0.33834,     0.33934,     0.34034,     0.34134,     0.34234,     0.34334,     0.34434,     0.34535,     0.34635,     0.34735,     0.34835,     0.34935,     0.35035,     0.35135,     0.35235,     0.35335,     0.35435,     0.35536,     0.35636,     0.35736,     0.35836,     0.35936,\n",
       "           0.36036,     0.36136,     0.36236,     0.36336,     0.36436,     0.36537,     0.36637,     0.36737,     0.36837,     0.36937,     0.37037,     0.37137,     0.37237,     0.37337,     0.37437,     0.37538,     0.37638,     0.37738,     0.37838,     0.37938,     0.38038,     0.38138,     0.38238,     0.38338,\n",
       "           0.38438,     0.38539,     0.38639,     0.38739,     0.38839,     0.38939,     0.39039,     0.39139,     0.39239,     0.39339,     0.39439,      0.3954,      0.3964,      0.3974,      0.3984,      0.3994,      0.4004,      0.4014,      0.4024,      0.4034,      0.4044,     0.40541,     0.40641,     0.40741,\n",
       "           0.40841,     0.40941,     0.41041,     0.41141,     0.41241,     0.41341,     0.41441,     0.41542,     0.41642,     0.41742,     0.41842,     0.41942,     0.42042,     0.42142,     0.42242,     0.42342,     0.42442,     0.42543,     0.42643,     0.42743,     0.42843,     0.42943,     0.43043,     0.43143,\n",
       "           0.43243,     0.43343,     0.43443,     0.43544,     0.43644,     0.43744,     0.43844,     0.43944,     0.44044,     0.44144,     0.44244,     0.44344,     0.44444,     0.44545,     0.44645,     0.44745,     0.44845,     0.44945,     0.45045,     0.45145,     0.45245,     0.45345,     0.45445,     0.45546,\n",
       "           0.45646,     0.45746,     0.45846,     0.45946,     0.46046,     0.46146,     0.46246,     0.46346,     0.46446,     0.46547,     0.46647,     0.46747,     0.46847,     0.46947,     0.47047,     0.47147,     0.47247,     0.47347,     0.47447,     0.47548,     0.47648,     0.47748,     0.47848,     0.47948,\n",
       "           0.48048,     0.48148,     0.48248,     0.48348,     0.48448,     0.48549,     0.48649,     0.48749,     0.48849,     0.48949,     0.49049,     0.49149,     0.49249,     0.49349,     0.49449,      0.4955,      0.4965,      0.4975,      0.4985,      0.4995,      0.5005,      0.5015,      0.5025,      0.5035,\n",
       "            0.5045,     0.50551,     0.50651,     0.50751,     0.50851,     0.50951,     0.51051,     0.51151,     0.51251,     0.51351,     0.51451,     0.51552,     0.51652,     0.51752,     0.51852,     0.51952,     0.52052,     0.52152,     0.52252,     0.52352,     0.52452,     0.52553,     0.52653,     0.52753,\n",
       "           0.52853,     0.52953,     0.53053,     0.53153,     0.53253,     0.53353,     0.53453,     0.53554,     0.53654,     0.53754,     0.53854,     0.53954,     0.54054,     0.54154,     0.54254,     0.54354,     0.54454,     0.54555,     0.54655,     0.54755,     0.54855,     0.54955,     0.55055,     0.55155,\n",
       "           0.55255,     0.55355,     0.55455,     0.55556,     0.55656,     0.55756,     0.55856,     0.55956,     0.56056,     0.56156,     0.56256,     0.56356,     0.56456,     0.56557,     0.56657,     0.56757,     0.56857,     0.56957,     0.57057,     0.57157,     0.57257,     0.57357,     0.57457,     0.57558,\n",
       "           0.57658,     0.57758,     0.57858,     0.57958,     0.58058,     0.58158,     0.58258,     0.58358,     0.58458,     0.58559,     0.58659,     0.58759,     0.58859,     0.58959,     0.59059,     0.59159,     0.59259,     0.59359,     0.59459,      0.5956,      0.5966,      0.5976,      0.5986,      0.5996,\n",
       "            0.6006,      0.6016,      0.6026,      0.6036,      0.6046,     0.60561,     0.60661,     0.60761,     0.60861,     0.60961,     0.61061,     0.61161,     0.61261,     0.61361,     0.61461,     0.61562,     0.61662,     0.61762,     0.61862,     0.61962,     0.62062,     0.62162,     0.62262,     0.62362,\n",
       "           0.62462,     0.62563,     0.62663,     0.62763,     0.62863,     0.62963,     0.63063,     0.63163,     0.63263,     0.63363,     0.63463,     0.63564,     0.63664,     0.63764,     0.63864,     0.63964,     0.64064,     0.64164,     0.64264,     0.64364,     0.64464,     0.64565,     0.64665,     0.64765,\n",
       "           0.64865,     0.64965,     0.65065,     0.65165,     0.65265,     0.65365,     0.65465,     0.65566,     0.65666,     0.65766,     0.65866,     0.65966,     0.66066,     0.66166,     0.66266,     0.66366,     0.66466,     0.66567,     0.66667,     0.66767,     0.66867,     0.66967,     0.67067,     0.67167,\n",
       "           0.67267,     0.67367,     0.67467,     0.67568,     0.67668,     0.67768,     0.67868,     0.67968,     0.68068,     0.68168,     0.68268,     0.68368,     0.68468,     0.68569,     0.68669,     0.68769,     0.68869,     0.68969,     0.69069,     0.69169,     0.69269,     0.69369,     0.69469,      0.6957,\n",
       "            0.6967,      0.6977,      0.6987,      0.6997,      0.7007,      0.7017,      0.7027,      0.7037,      0.7047,     0.70571,     0.70671,     0.70771,     0.70871,     0.70971,     0.71071,     0.71171,     0.71271,     0.71371,     0.71471,     0.71572,     0.71672,     0.71772,     0.71872,     0.71972,\n",
       "           0.72072,     0.72172,     0.72272,     0.72372,     0.72472,     0.72573,     0.72673,     0.72773,     0.72873,     0.72973,     0.73073,     0.73173,     0.73273,     0.73373,     0.73473,     0.73574,     0.73674,     0.73774,     0.73874,     0.73974,     0.74074,     0.74174,     0.74274,     0.74374,\n",
       "           0.74474,     0.74575,     0.74675,     0.74775,     0.74875,     0.74975,     0.75075,     0.75175,     0.75275,     0.75375,     0.75475,     0.75576,     0.75676,     0.75776,     0.75876,     0.75976,     0.76076,     0.76176,     0.76276,     0.76376,     0.76476,     0.76577,     0.76677,     0.76777,\n",
       "           0.76877,     0.76977,     0.77077,     0.77177,     0.77277,     0.77377,     0.77477,     0.77578,     0.77678,     0.77778,     0.77878,     0.77978,     0.78078,     0.78178,     0.78278,     0.78378,     0.78478,     0.78579,     0.78679,     0.78779,     0.78879,     0.78979,     0.79079,     0.79179,\n",
       "           0.79279,     0.79379,     0.79479,      0.7958,      0.7968,      0.7978,      0.7988,      0.7998,      0.8008,      0.8018,      0.8028,      0.8038,      0.8048,     0.80581,     0.80681,     0.80781,     0.80881,     0.80981,     0.81081,     0.81181,     0.81281,     0.81381,     0.81481,     0.81582,\n",
       "           0.81682,     0.81782,     0.81882,     0.81982,     0.82082,     0.82182,     0.82282,     0.82382,     0.82482,     0.82583,     0.82683,     0.82783,     0.82883,     0.82983,     0.83083,     0.83183,     0.83283,     0.83383,     0.83483,     0.83584,     0.83684,     0.83784,     0.83884,     0.83984,\n",
       "           0.84084,     0.84184,     0.84284,     0.84384,     0.84484,     0.84585,     0.84685,     0.84785,     0.84885,     0.84985,     0.85085,     0.85185,     0.85285,     0.85385,     0.85485,     0.85586,     0.85686,     0.85786,     0.85886,     0.85986,     0.86086,     0.86186,     0.86286,     0.86386,\n",
       "           0.86486,     0.86587,     0.86687,     0.86787,     0.86887,     0.86987,     0.87087,     0.87187,     0.87287,     0.87387,     0.87487,     0.87588,     0.87688,     0.87788,     0.87888,     0.87988,     0.88088,     0.88188,     0.88288,     0.88388,     0.88488,     0.88589,     0.88689,     0.88789,\n",
       "           0.88889,     0.88989,     0.89089,     0.89189,     0.89289,     0.89389,     0.89489,      0.8959,      0.8969,      0.8979,      0.8989,      0.8999,      0.9009,      0.9019,      0.9029,      0.9039,      0.9049,     0.90591,     0.90691,     0.90791,     0.90891,     0.90991,     0.91091,     0.91191,\n",
       "           0.91291,     0.91391,     0.91491,     0.91592,     0.91692,     0.91792,     0.91892,     0.91992,     0.92092,     0.92192,     0.92292,     0.92392,     0.92492,     0.92593,     0.92693,     0.92793,     0.92893,     0.92993,     0.93093,     0.93193,     0.93293,     0.93393,     0.93493,     0.93594,\n",
       "           0.93694,     0.93794,     0.93894,     0.93994,     0.94094,     0.94194,     0.94294,     0.94394,     0.94494,     0.94595,     0.94695,     0.94795,     0.94895,     0.94995,     0.95095,     0.95195,     0.95295,     0.95395,     0.95495,     0.95596,     0.95696,     0.95796,     0.95896,     0.95996,\n",
       "           0.96096,     0.96196,     0.96296,     0.96396,     0.96496,     0.96597,     0.96697,     0.96797,     0.96897,     0.96997,     0.97097,     0.97197,     0.97297,     0.97397,     0.97497,     0.97598,     0.97698,     0.97798,     0.97898,     0.97998,     0.98098,     0.98198,     0.98298,     0.98398,\n",
       "           0.98498,     0.98599,     0.98699,     0.98799,     0.98899,     0.98999,     0.99099,     0.99199,     0.99299,     0.99399,     0.99499,       0.996,       0.997,       0.998,       0.999,           1]), array([[    0.31873,     0.31873,     0.38253,     0.41973,     0.44612,     0.46714,     0.49061,     0.50295,     0.51586,     0.52644,      0.5328,     0.54173,     0.55366,     0.55836,      0.5664,     0.56973,     0.57483,     0.57826,     0.58168,     0.58651,     0.58938,     0.59322,     0.59644,\n",
       "            0.60162,     0.60628,     0.61139,     0.61613,     0.61885,      0.6241,     0.62732,     0.63186,      0.6327,     0.63627,     0.63878,     0.64092,     0.64361,     0.64576,     0.64868,     0.65189,     0.65477,     0.65628,     0.66008,     0.66379,       0.667,     0.66821,     0.67249,\n",
       "             0.6765,     0.67819,     0.68035,     0.68258,     0.68488,     0.68894,     0.68917,     0.69078,     0.69308,     0.69399,      0.6937,     0.69303,     0.69385,     0.69633,     0.69779,     0.69988,     0.70252,      0.7034,      0.7067,     0.70978,     0.70868,        0.71,     0.71133,\n",
       "            0.71251,     0.71523,     0.71847,     0.72114,     0.72082,     0.72292,     0.72392,      0.7247,     0.72734,     0.72841,     0.72883,     0.72953,     0.73227,     0.73491,     0.73881,      0.7407,     0.74168,      0.7417,     0.74169,     0.74076,     0.74252,     0.74392,     0.74459,\n",
       "            0.74579,     0.74896,     0.74722,     0.74481,     0.74699,     0.74918,     0.74944,     0.75381,     0.75625,     0.75524,     0.75575,     0.75458,     0.75625,     0.75665,       0.757,     0.75741,     0.75789,     0.75844,     0.75904,     0.76046,     0.76132,     0.76034,     0.76101,\n",
       "            0.76164,     0.76318,     0.76394,     0.76554,     0.76755,     0.76905,     0.76991,     0.77315,     0.77254,     0.77194,     0.77285,     0.77487,     0.77566,     0.77612,     0.77656,     0.77543,      0.7769,     0.77721,     0.77694,     0.77873,     0.78215,     0.78359,     0.78413,\n",
       "            0.78467,     0.78521,     0.78585,     0.78709,     0.78827,     0.78771,     0.78819,     0.78861,     0.78934,     0.78931,        0.79,     0.79069,     0.79136,     0.79188,      0.7926,     0.79372,     0.79441,     0.79505,     0.79591,     0.79757,     0.79785,     0.79814,     0.79842,\n",
       "            0.79902,     0.79956,     0.79984,     0.80011,     0.80039,     0.80022,     0.79964,     0.79906,     0.79837,     0.79766,     0.79904,       0.798,     0.79906,     0.79929,     0.79952,     0.79975,     0.79998,     0.80024,      0.8005,     0.80076,     0.80102,     0.80191,     0.80332,\n",
       "            0.80419,     0.80465,     0.80511,      0.8022,      0.8012,     0.80033,     0.80113,     0.80172,     0.80193,     0.80128,     0.80062,     0.80128,      0.8012,     0.80058,     0.80005,     0.80063,     0.80121,      0.8018,     0.80226,     0.80254,     0.80283,     0.80311,     0.80373,\n",
       "            0.80553,     0.80609,     0.80664,      0.8072,     0.80776,     0.80832,     0.80674,     0.80611,     0.80548,     0.80663,     0.80753,     0.80918,     0.80971,     0.80875,     0.80809,     0.80795,     0.80781,     0.80767,     0.80753,     0.80739,     0.80725,     0.80711,     0.80697,\n",
       "            0.80683,     0.80669,     0.80655,     0.80581,     0.80502,      0.8051,     0.80532,     0.80554,     0.80576,     0.80598,     0.80628,     0.80659,      0.8069,     0.80687,     0.80613,     0.80552,     0.80583,     0.80614,     0.80646,     0.80617,     0.80546,     0.80499,     0.80514,\n",
       "            0.80529,     0.80544,     0.80559,     0.80574,     0.80589,     0.80605,     0.80633,     0.80661,     0.80689,     0.80712,     0.80637,     0.80562,     0.80683,     0.80835,     0.81101,     0.81229,     0.81253,     0.81278,     0.81302,     0.81327,     0.81403,     0.81543,     0.81723,\n",
       "            0.81775,     0.81773,     0.81744,     0.81714,     0.81684,     0.81655,      0.8163,     0.81677,     0.81724,     0.81774,     0.81826,     0.81986,      0.8202,     0.82054,     0.82086,     0.81747,      0.8172,     0.81694,     0.81667,     0.81641,     0.81615,     0.81588,     0.81522,\n",
       "            0.81453,     0.81387,     0.81325,     0.81262,     0.81217,     0.81176,     0.81135,     0.81095,     0.81134,      0.8121,     0.81278,     0.81379,      0.8128,     0.81313,     0.81374,     0.81351,     0.81329,     0.81306,     0.81284,     0.81261,     0.81239,     0.81216,     0.81231,\n",
       "            0.81024,     0.80665,     0.80653,     0.80673,     0.80692,     0.80712,     0.80732,     0.80752,     0.80775,     0.80798,     0.80821,     0.80844,     0.80866,     0.80793,     0.80705,     0.80721,     0.80499,     0.80641,     0.80669,     0.80604,     0.80539,      0.8031,     0.80259,\n",
       "            0.80207,     0.80104,     0.80029,     0.80098,     0.80167,     0.80237,     0.80297,     0.80353,      0.8032,     0.80287,     0.80254,     0.80221,     0.80188,     0.80142,      0.8009,     0.80038,     0.79991,      0.7996,     0.79928,     0.79896,     0.79864,     0.79833,     0.79787,\n",
       "            0.79735,     0.79682,     0.79654,     0.79694,     0.79735,      0.7959,     0.79612,     0.79634,     0.79656,     0.79679,     0.79701,     0.79675,     0.79648,     0.79621,     0.79593,     0.79566,     0.79539,     0.79482,     0.79376,     0.79279,     0.79187,     0.79027,     0.78964,\n",
       "            0.78945,     0.78925,     0.78906,     0.78886,     0.78866,     0.78847,     0.78827,     0.78807,     0.78709,      0.7859,      0.7854,      0.7849,     0.78439,     0.78446,     0.78465,     0.78483,     0.78501,     0.78518,     0.78536,     0.78502,       0.784,     0.78272,     0.78177,\n",
       "            0.78026,     0.77812,     0.77822,      0.7789,     0.77931,     0.77971,     0.77843,     0.77747,     0.77782,     0.77841,     0.77777,     0.77712,     0.77628,     0.77457,     0.77393,     0.77328,      0.7727,     0.77231,     0.77192,     0.77153,     0.77114,     0.77107,     0.77151,\n",
       "            0.77196,     0.76996,     0.76963,     0.76931,     0.76898,     0.76865,     0.76833,     0.76662,      0.7655,     0.76452,     0.76459,     0.76477,     0.76494,     0.76512,     0.76529,     0.76547,      0.7656,     0.76525,     0.76491,     0.76456,     0.76422,     0.76387,     0.76275,\n",
       "            0.76012,     0.76073,      0.7589,     0.75861,     0.75833,     0.75804,     0.75775,     0.75747,     0.75718,     0.75754,     0.75815,      0.7581,     0.75785,      0.7576,     0.75735,     0.75709,     0.75684,     0.75659,     0.75634,     0.75438,     0.75554,     0.75453,     0.75147,\n",
       "            0.74943,     0.74552,     0.74484,     0.74415,     0.74138,     0.74035,     0.73931,     0.73827,     0.73609,     0.73447,     0.73394,     0.73342,     0.73289,     0.73307,     0.73354,     0.73301,     0.73249,     0.73196,     0.72909,     0.72802,     0.72518,     0.72465,     0.72412,\n",
       "            0.72358,     0.72269,     0.72161,     0.71902,     0.71875,     0.71848,     0.71821,     0.71794,     0.71767,      0.7174,     0.71713,     0.71661,     0.71607,     0.71553,     0.71498,     0.71389,      0.7128,     0.71171,     0.71062,     0.70953,     0.70397,     0.70206,     0.70151,\n",
       "            0.70095,      0.7004,     0.69938,     0.69497,     0.69273,     0.69088,     0.68975,     0.68956,     0.68999,     0.68943,     0.68886,      0.6883,     0.68743,      0.6863,     0.68516,     0.68402,     0.68288,     0.68173,     0.67981,     0.67872,     0.67814,     0.67757,     0.67699,\n",
       "            0.67641,     0.67584,     0.67526,     0.67468,     0.67324,     0.67186,     0.67069,     0.66725,     0.66608,     0.66261,     0.66143,     0.65817,     0.65738,     0.65658,     0.65476,     0.65318,     0.65198,     0.64638,     0.64557,     0.64477,     0.64267,     0.64124,     0.64002,\n",
       "             0.6388,     0.63758,     0.63853,     0.63783,     0.63701,     0.63377,      0.6312,     0.62761,      0.6272,     0.62691,     0.62566,     0.62482,     0.62419,     0.62356,     0.62294,      0.6209,     0.61935,     0.61809,     0.61682,     0.61555,     0.61069,     0.60436,     0.60287,\n",
       "            0.59518,     0.59255,     0.58992,     0.58797,     0.58664,     0.57487,     0.57352,     0.57271,     0.57221,     0.57172,     0.57123,     0.57074,     0.56701,     0.56467,      0.5633,     0.56147,     0.55602,     0.55325,      0.5466,     0.54081,     0.53797,     0.53235,     0.52103,\n",
       "            0.51812,     0.51529,     0.51383,     0.50899,     0.50492,     0.49903,     0.49603,     0.49288,     0.48957,      0.4887,     0.48783,     0.48331,     0.48024,     0.47716,     0.47163,     0.47007,     0.46344,      0.4601,     0.45694,     0.45065,     0.44432,     0.43792,     0.42477,\n",
       "            0.41689,     0.41459,     0.41292,     0.40466,     0.40296,     0.38493,     0.37804,     0.37453,       0.371,     0.36831,     0.36729,     0.36628,     0.36526,     0.35951,     0.34598,      0.3435,     0.34228,     0.34106,     0.32613,     0.32298,      0.3211,     0.31527,     0.31085,\n",
       "            0.29958,     0.29765,     0.28765,     0.27751,     0.27553,     0.26554,     0.26286,     0.26074,     0.25872,     0.25886,     0.24625,     0.24419,      0.2418,     0.23091,     0.22882,     0.22255,     0.21973,     0.21317,     0.21103,     0.20842,     0.20569,     0.20353,     0.19744,\n",
       "            0.19657,      0.1957,     0.19483,     0.19396,     0.18868,     0.18742,     0.18616,      0.1849,     0.18206,     0.17991,     0.17865,     0.17738,     0.17599,     0.17302,      0.1713,      0.1704,     0.16951,     0.16861,     0.16771,     0.16529,     0.15388,     0.15257,     0.15127,\n",
       "            0.14996,     0.14717,     0.14027,     0.13895,     0.13762,     0.13629,     0.13525,     0.13422,     0.13318,     0.13214,      0.1266,     0.12566,     0.12472,     0.12377,     0.12283,     0.12034,     0.11255,     0.10936,     0.10807,     0.10733,      0.1066,     0.10586,     0.10512,\n",
       "            0.10438,     0.10257,    0.099355,    0.097692,    0.096077,    0.089637,    0.086376,    0.083104,     0.08001,    0.078365,    0.076716,    0.075065,     0.07341,    0.071753,    0.064781,    0.061434,    0.059866,    0.058746,    0.057625,    0.056502,    0.055679,    0.055289,      0.0549,\n",
       "            0.05451,    0.054121,    0.053731,    0.053341,    0.052951,     0.05256,     0.05217,    0.051779,    0.051389,    0.050998,     0.05007,    0.048939,    0.047806,    0.046672,    0.045232,    0.043184,    0.041132,    0.040756,    0.040573,    0.040389,    0.040206,    0.040022,    0.039838,\n",
       "           0.039655,    0.039471,    0.039287,    0.039104,     0.03892,    0.038736,    0.038552,    0.038368,    0.038184,    0.038001,    0.037817,    0.037633,    0.037448,    0.037264,     0.03708,    0.036896,    0.036712,    0.036528,    0.036343,    0.036159,    0.035975,    0.035498,    0.034809,\n",
       "            0.03412,     0.03343,     0.03274,    0.032049,    0.031358,    0.030575,    0.029536,    0.028496,    0.027456,    0.026414,     0.02572,     0.02558,    0.025441,    0.025302,    0.025163,    0.025024,    0.024885,    0.024745,    0.024606,    0.024467,    0.024328,    0.024188,    0.024049,\n",
       "            0.02391,     0.02377,    0.023631,    0.023492,    0.023352,    0.023213,    0.023073,    0.022934,    0.022794,    0.022655,    0.022515,    0.022376,    0.022236,    0.022097,    0.021957,    0.021817,    0.021678,    0.021538,    0.021398,    0.021259,    0.021119,    0.020979,    0.020839,\n",
       "             0.0207,    0.019831,    0.018781,     0.01773,    0.016678,    0.015625,    0.015345,     0.01513,    0.014915,      0.0147,    0.014485,    0.014269,    0.014054,    0.013838,    0.013623,    0.013407,    0.013192,    0.012976,     0.01276,    0.012545,    0.012329,    0.012113,    0.011897,\n",
       "           0.011681,    0.011465,    0.011249,    0.011033,    0.010817,    0.010601,    0.010369,   0.0094053,   0.0084408,   0.0074753,   0.0065089,   0.0055415,           0,           0,           0,           0,           0,           0,           0,           0,           0,           0,           0,\n",
       "                  0,           0,           0,           0,           0,           0,           0,           0,           0,           0,           0,           0,           0,           0,           0,           0,           0,           0,           0,           0,           0,           0,           0,\n",
       "                  0,           0,           0,           0,           0,           0,           0,           0,           0,           0,           0,           0,           0,           0,           0,           0,           0,           0,           0,           0,           0,           0,           0,\n",
       "                  0,           0,           0,           0,           0,           0,           0,           0,           0,           0,           0,           0,           0,           0,           0,           0,           0,           0,           0,           0,           0,           0,           0,\n",
       "                  0,           0,           0,           0,           0,           0,           0,           0,           0,           0,           0,           0,           0,           0,           0,           0,           0,           0,           0,           0,           0,           0,           0,\n",
       "                  0,           0,           0,           0,           0,           0,           0,           0,           0,           0,           0]]), 'Confidence', 'F1'], [array([          0,    0.001001,    0.002002,    0.003003,    0.004004,    0.005005,    0.006006,    0.007007,    0.008008,    0.009009,     0.01001,    0.011011,    0.012012,    0.013013,    0.014014,    0.015015,    0.016016,    0.017017,    0.018018,    0.019019,     0.02002,    0.021021,    0.022022,    0.023023,\n",
       "          0.024024,    0.025025,    0.026026,    0.027027,    0.028028,    0.029029,     0.03003,    0.031031,    0.032032,    0.033033,    0.034034,    0.035035,    0.036036,    0.037037,    0.038038,    0.039039,     0.04004,    0.041041,    0.042042,    0.043043,    0.044044,    0.045045,    0.046046,    0.047047,\n",
       "          0.048048,    0.049049,     0.05005,    0.051051,    0.052052,    0.053053,    0.054054,    0.055055,    0.056056,    0.057057,    0.058058,    0.059059,     0.06006,    0.061061,    0.062062,    0.063063,    0.064064,    0.065065,    0.066066,    0.067067,    0.068068,    0.069069,     0.07007,    0.071071,\n",
       "          0.072072,    0.073073,    0.074074,    0.075075,    0.076076,    0.077077,    0.078078,    0.079079,     0.08008,    0.081081,    0.082082,    0.083083,    0.084084,    0.085085,    0.086086,    0.087087,    0.088088,    0.089089,     0.09009,    0.091091,    0.092092,    0.093093,    0.094094,    0.095095,\n",
       "          0.096096,    0.097097,    0.098098,    0.099099,      0.1001,      0.1011,      0.1021,      0.1031,      0.1041,     0.10511,     0.10611,     0.10711,     0.10811,     0.10911,     0.11011,     0.11111,     0.11211,     0.11311,     0.11411,     0.11512,     0.11612,     0.11712,     0.11812,     0.11912,\n",
       "           0.12012,     0.12112,     0.12212,     0.12312,     0.12412,     0.12513,     0.12613,     0.12713,     0.12813,     0.12913,     0.13013,     0.13113,     0.13213,     0.13313,     0.13413,     0.13514,     0.13614,     0.13714,     0.13814,     0.13914,     0.14014,     0.14114,     0.14214,     0.14314,\n",
       "           0.14414,     0.14515,     0.14615,     0.14715,     0.14815,     0.14915,     0.15015,     0.15115,     0.15215,     0.15315,     0.15415,     0.15516,     0.15616,     0.15716,     0.15816,     0.15916,     0.16016,     0.16116,     0.16216,     0.16316,     0.16416,     0.16517,     0.16617,     0.16717,\n",
       "           0.16817,     0.16917,     0.17017,     0.17117,     0.17217,     0.17317,     0.17417,     0.17518,     0.17618,     0.17718,     0.17818,     0.17918,     0.18018,     0.18118,     0.18218,     0.18318,     0.18418,     0.18519,     0.18619,     0.18719,     0.18819,     0.18919,     0.19019,     0.19119,\n",
       "           0.19219,     0.19319,     0.19419,      0.1952,      0.1962,      0.1972,      0.1982,      0.1992,      0.2002,      0.2012,      0.2022,      0.2032,      0.2042,     0.20521,     0.20621,     0.20721,     0.20821,     0.20921,     0.21021,     0.21121,     0.21221,     0.21321,     0.21421,     0.21522,\n",
       "           0.21622,     0.21722,     0.21822,     0.21922,     0.22022,     0.22122,     0.22222,     0.22322,     0.22422,     0.22523,     0.22623,     0.22723,     0.22823,     0.22923,     0.23023,     0.23123,     0.23223,     0.23323,     0.23423,     0.23524,     0.23624,     0.23724,     0.23824,     0.23924,\n",
       "           0.24024,     0.24124,     0.24224,     0.24324,     0.24424,     0.24525,     0.24625,     0.24725,     0.24825,     0.24925,     0.25025,     0.25125,     0.25225,     0.25325,     0.25425,     0.25526,     0.25626,     0.25726,     0.25826,     0.25926,     0.26026,     0.26126,     0.26226,     0.26326,\n",
       "           0.26426,     0.26527,     0.26627,     0.26727,     0.26827,     0.26927,     0.27027,     0.27127,     0.27227,     0.27327,     0.27427,     0.27528,     0.27628,     0.27728,     0.27828,     0.27928,     0.28028,     0.28128,     0.28228,     0.28328,     0.28428,     0.28529,     0.28629,     0.28729,\n",
       "           0.28829,     0.28929,     0.29029,     0.29129,     0.29229,     0.29329,     0.29429,      0.2953,      0.2963,      0.2973,      0.2983,      0.2993,      0.3003,      0.3013,      0.3023,      0.3033,      0.3043,     0.30531,     0.30631,     0.30731,     0.30831,     0.30931,     0.31031,     0.31131,\n",
       "           0.31231,     0.31331,     0.31431,     0.31532,     0.31632,     0.31732,     0.31832,     0.31932,     0.32032,     0.32132,     0.32232,     0.32332,     0.32432,     0.32533,     0.32633,     0.32733,     0.32833,     0.32933,     0.33033,     0.33133,     0.33233,     0.33333,     0.33433,     0.33534,\n",
       "           0.33634,     0.33734,     0.33834,     0.33934,     0.34034,     0.34134,     0.34234,     0.34334,     0.34434,     0.34535,     0.34635,     0.34735,     0.34835,     0.34935,     0.35035,     0.35135,     0.35235,     0.35335,     0.35435,     0.35536,     0.35636,     0.35736,     0.35836,     0.35936,\n",
       "           0.36036,     0.36136,     0.36236,     0.36336,     0.36436,     0.36537,     0.36637,     0.36737,     0.36837,     0.36937,     0.37037,     0.37137,     0.37237,     0.37337,     0.37437,     0.37538,     0.37638,     0.37738,     0.37838,     0.37938,     0.38038,     0.38138,     0.38238,     0.38338,\n",
       "           0.38438,     0.38539,     0.38639,     0.38739,     0.38839,     0.38939,     0.39039,     0.39139,     0.39239,     0.39339,     0.39439,      0.3954,      0.3964,      0.3974,      0.3984,      0.3994,      0.4004,      0.4014,      0.4024,      0.4034,      0.4044,     0.40541,     0.40641,     0.40741,\n",
       "           0.40841,     0.40941,     0.41041,     0.41141,     0.41241,     0.41341,     0.41441,     0.41542,     0.41642,     0.41742,     0.41842,     0.41942,     0.42042,     0.42142,     0.42242,     0.42342,     0.42442,     0.42543,     0.42643,     0.42743,     0.42843,     0.42943,     0.43043,     0.43143,\n",
       "           0.43243,     0.43343,     0.43443,     0.43544,     0.43644,     0.43744,     0.43844,     0.43944,     0.44044,     0.44144,     0.44244,     0.44344,     0.44444,     0.44545,     0.44645,     0.44745,     0.44845,     0.44945,     0.45045,     0.45145,     0.45245,     0.45345,     0.45445,     0.45546,\n",
       "           0.45646,     0.45746,     0.45846,     0.45946,     0.46046,     0.46146,     0.46246,     0.46346,     0.46446,     0.46547,     0.46647,     0.46747,     0.46847,     0.46947,     0.47047,     0.47147,     0.47247,     0.47347,     0.47447,     0.47548,     0.47648,     0.47748,     0.47848,     0.47948,\n",
       "           0.48048,     0.48148,     0.48248,     0.48348,     0.48448,     0.48549,     0.48649,     0.48749,     0.48849,     0.48949,     0.49049,     0.49149,     0.49249,     0.49349,     0.49449,      0.4955,      0.4965,      0.4975,      0.4985,      0.4995,      0.5005,      0.5015,      0.5025,      0.5035,\n",
       "            0.5045,     0.50551,     0.50651,     0.50751,     0.50851,     0.50951,     0.51051,     0.51151,     0.51251,     0.51351,     0.51451,     0.51552,     0.51652,     0.51752,     0.51852,     0.51952,     0.52052,     0.52152,     0.52252,     0.52352,     0.52452,     0.52553,     0.52653,     0.52753,\n",
       "           0.52853,     0.52953,     0.53053,     0.53153,     0.53253,     0.53353,     0.53453,     0.53554,     0.53654,     0.53754,     0.53854,     0.53954,     0.54054,     0.54154,     0.54254,     0.54354,     0.54454,     0.54555,     0.54655,     0.54755,     0.54855,     0.54955,     0.55055,     0.55155,\n",
       "           0.55255,     0.55355,     0.55455,     0.55556,     0.55656,     0.55756,     0.55856,     0.55956,     0.56056,     0.56156,     0.56256,     0.56356,     0.56456,     0.56557,     0.56657,     0.56757,     0.56857,     0.56957,     0.57057,     0.57157,     0.57257,     0.57357,     0.57457,     0.57558,\n",
       "           0.57658,     0.57758,     0.57858,     0.57958,     0.58058,     0.58158,     0.58258,     0.58358,     0.58458,     0.58559,     0.58659,     0.58759,     0.58859,     0.58959,     0.59059,     0.59159,     0.59259,     0.59359,     0.59459,      0.5956,      0.5966,      0.5976,      0.5986,      0.5996,\n",
       "            0.6006,      0.6016,      0.6026,      0.6036,      0.6046,     0.60561,     0.60661,     0.60761,     0.60861,     0.60961,     0.61061,     0.61161,     0.61261,     0.61361,     0.61461,     0.61562,     0.61662,     0.61762,     0.61862,     0.61962,     0.62062,     0.62162,     0.62262,     0.62362,\n",
       "           0.62462,     0.62563,     0.62663,     0.62763,     0.62863,     0.62963,     0.63063,     0.63163,     0.63263,     0.63363,     0.63463,     0.63564,     0.63664,     0.63764,     0.63864,     0.63964,     0.64064,     0.64164,     0.64264,     0.64364,     0.64464,     0.64565,     0.64665,     0.64765,\n",
       "           0.64865,     0.64965,     0.65065,     0.65165,     0.65265,     0.65365,     0.65465,     0.65566,     0.65666,     0.65766,     0.65866,     0.65966,     0.66066,     0.66166,     0.66266,     0.66366,     0.66466,     0.66567,     0.66667,     0.66767,     0.66867,     0.66967,     0.67067,     0.67167,\n",
       "           0.67267,     0.67367,     0.67467,     0.67568,     0.67668,     0.67768,     0.67868,     0.67968,     0.68068,     0.68168,     0.68268,     0.68368,     0.68468,     0.68569,     0.68669,     0.68769,     0.68869,     0.68969,     0.69069,     0.69169,     0.69269,     0.69369,     0.69469,      0.6957,\n",
       "            0.6967,      0.6977,      0.6987,      0.6997,      0.7007,      0.7017,      0.7027,      0.7037,      0.7047,     0.70571,     0.70671,     0.70771,     0.70871,     0.70971,     0.71071,     0.71171,     0.71271,     0.71371,     0.71471,     0.71572,     0.71672,     0.71772,     0.71872,     0.71972,\n",
       "           0.72072,     0.72172,     0.72272,     0.72372,     0.72472,     0.72573,     0.72673,     0.72773,     0.72873,     0.72973,     0.73073,     0.73173,     0.73273,     0.73373,     0.73473,     0.73574,     0.73674,     0.73774,     0.73874,     0.73974,     0.74074,     0.74174,     0.74274,     0.74374,\n",
       "           0.74474,     0.74575,     0.74675,     0.74775,     0.74875,     0.74975,     0.75075,     0.75175,     0.75275,     0.75375,     0.75475,     0.75576,     0.75676,     0.75776,     0.75876,     0.75976,     0.76076,     0.76176,     0.76276,     0.76376,     0.76476,     0.76577,     0.76677,     0.76777,\n",
       "           0.76877,     0.76977,     0.77077,     0.77177,     0.77277,     0.77377,     0.77477,     0.77578,     0.77678,     0.77778,     0.77878,     0.77978,     0.78078,     0.78178,     0.78278,     0.78378,     0.78478,     0.78579,     0.78679,     0.78779,     0.78879,     0.78979,     0.79079,     0.79179,\n",
       "           0.79279,     0.79379,     0.79479,      0.7958,      0.7968,      0.7978,      0.7988,      0.7998,      0.8008,      0.8018,      0.8028,      0.8038,      0.8048,     0.80581,     0.80681,     0.80781,     0.80881,     0.80981,     0.81081,     0.81181,     0.81281,     0.81381,     0.81481,     0.81582,\n",
       "           0.81682,     0.81782,     0.81882,     0.81982,     0.82082,     0.82182,     0.82282,     0.82382,     0.82482,     0.82583,     0.82683,     0.82783,     0.82883,     0.82983,     0.83083,     0.83183,     0.83283,     0.83383,     0.83483,     0.83584,     0.83684,     0.83784,     0.83884,     0.83984,\n",
       "           0.84084,     0.84184,     0.84284,     0.84384,     0.84484,     0.84585,     0.84685,     0.84785,     0.84885,     0.84985,     0.85085,     0.85185,     0.85285,     0.85385,     0.85485,     0.85586,     0.85686,     0.85786,     0.85886,     0.85986,     0.86086,     0.86186,     0.86286,     0.86386,\n",
       "           0.86486,     0.86587,     0.86687,     0.86787,     0.86887,     0.86987,     0.87087,     0.87187,     0.87287,     0.87387,     0.87487,     0.87588,     0.87688,     0.87788,     0.87888,     0.87988,     0.88088,     0.88188,     0.88288,     0.88388,     0.88488,     0.88589,     0.88689,     0.88789,\n",
       "           0.88889,     0.88989,     0.89089,     0.89189,     0.89289,     0.89389,     0.89489,      0.8959,      0.8969,      0.8979,      0.8989,      0.8999,      0.9009,      0.9019,      0.9029,      0.9039,      0.9049,     0.90591,     0.90691,     0.90791,     0.90891,     0.90991,     0.91091,     0.91191,\n",
       "           0.91291,     0.91391,     0.91491,     0.91592,     0.91692,     0.91792,     0.91892,     0.91992,     0.92092,     0.92192,     0.92292,     0.92392,     0.92492,     0.92593,     0.92693,     0.92793,     0.92893,     0.92993,     0.93093,     0.93193,     0.93293,     0.93393,     0.93493,     0.93594,\n",
       "           0.93694,     0.93794,     0.93894,     0.93994,     0.94094,     0.94194,     0.94294,     0.94394,     0.94494,     0.94595,     0.94695,     0.94795,     0.94895,     0.94995,     0.95095,     0.95195,     0.95295,     0.95395,     0.95495,     0.95596,     0.95696,     0.95796,     0.95896,     0.95996,\n",
       "           0.96096,     0.96196,     0.96296,     0.96396,     0.96496,     0.96597,     0.96697,     0.96797,     0.96897,     0.96997,     0.97097,     0.97197,     0.97297,     0.97397,     0.97497,     0.97598,     0.97698,     0.97798,     0.97898,     0.97998,     0.98098,     0.98198,     0.98298,     0.98398,\n",
       "           0.98498,     0.98599,     0.98699,     0.98799,     0.98899,     0.98999,     0.99099,     0.99199,     0.99299,     0.99399,     0.99499,       0.996,       0.997,       0.998,       0.999,           1]), array([[    0.19399,     0.19399,      0.2434,     0.27484,     0.29821,      0.3173,     0.33935,     0.35169,     0.36445,      0.3751,     0.38159,     0.39082,     0.40335,     0.40893,      0.4182,     0.42185,     0.42746,     0.43126,     0.43572,     0.44183,     0.44578,     0.45019,     0.45391,\n",
       "            0.45994,     0.46541,     0.47146,     0.47711,     0.48038,     0.48756,     0.49151,      0.4971,     0.49902,     0.50347,     0.50661,     0.50932,     0.51273,     0.51546,     0.51919,     0.52331,     0.52704,     0.52998,     0.53495,     0.54088,     0.54515,     0.54677,     0.55252,\n",
       "            0.55796,     0.56026,     0.56321,     0.56627,     0.56945,     0.57508,     0.57777,     0.58003,     0.58328,     0.58457,     0.58467,     0.58431,     0.58561,     0.58915,     0.59125,     0.59425,     0.59807,     0.59935,     0.60416,     0.60985,     0.60973,     0.61169,     0.61367,\n",
       "            0.61543,     0.61951,     0.62438,     0.62843,     0.62939,      0.6326,     0.63413,     0.63533,     0.63939,     0.64104,     0.64169,     0.64279,     0.64706,     0.65119,     0.65734,     0.66033,     0.66189,     0.66285,     0.66352,     0.66367,     0.66649,     0.66875,     0.66984,\n",
       "            0.67178,     0.67714,     0.67633,     0.67529,     0.67889,     0.68252,     0.68472,     0.69205,     0.69656,     0.69611,     0.69747,     0.69706,     0.69991,      0.7006,      0.7012,      0.7019,     0.70273,     0.70367,     0.70471,     0.70715,     0.70925,     0.70882,     0.71006,\n",
       "            0.71115,     0.71384,     0.71517,     0.71798,     0.72152,     0.72417,     0.72571,     0.73183,     0.73158,     0.73133,     0.73304,     0.73668,     0.73811,     0.73895,     0.73974,     0.73984,     0.74252,     0.74429,     0.74477,     0.74807,     0.75441,     0.75709,      0.7581,\n",
       "            0.75911,     0.76012,     0.76133,     0.76365,     0.76588,     0.76715,     0.76807,     0.76885,     0.77024,     0.77257,     0.77389,     0.77522,     0.77651,     0.77751,      0.7789,     0.78107,     0.78241,     0.78366,     0.78532,     0.78856,     0.78911,     0.78967,     0.79022,\n",
       "            0.79141,     0.79247,     0.79301,     0.79355,     0.79408,     0.79424,     0.79404,     0.79385,     0.79361,     0.79337,     0.79654,     0.79706,     0.79916,     0.79962,     0.80009,     0.80055,     0.80102,     0.80153,     0.80206,     0.80258,      0.8031,      0.8049,     0.80774,\n",
       "            0.80949,     0.81043,     0.81136,     0.81086,     0.81221,     0.81193,     0.81417,     0.81537,     0.81616,     0.81595,     0.81575,     0.81728,     0.81781,     0.81762,     0.81753,     0.81875,     0.81998,     0.82121,     0.82217,     0.82277,     0.82336,     0.82396,     0.82526,\n",
       "            0.82908,     0.83026,     0.83143,     0.83262,      0.8338,     0.83499,     0.83512,     0.83494,     0.83475,     0.83737,     0.83931,     0.84288,     0.84403,     0.84391,     0.84373,     0.84369,     0.84365,     0.84361,     0.84358,     0.84354,      0.8435,     0.84346,     0.84342,\n",
       "            0.84338,     0.84335,     0.84331,      0.8431,     0.84289,     0.84327,     0.84376,     0.84424,     0.84472,      0.8452,     0.84586,     0.84655,     0.84724,     0.84764,     0.84744,     0.84735,     0.84804,     0.84874,     0.84943,      0.8496,     0.84941,     0.84937,     0.84971,\n",
       "            0.85004,     0.85038,     0.85072,     0.85106,     0.85139,     0.85173,     0.85235,     0.85299,     0.85363,     0.85422,     0.85402,     0.85383,     0.85675,      0.8602,     0.86624,     0.86916,     0.86972,     0.87028,     0.87084,      0.8714,     0.87316,     0.87638,     0.88056,\n",
       "            0.88177,     0.88213,     0.88207,     0.88201,     0.88194,     0.88188,     0.88188,     0.88298,     0.88408,     0.88526,     0.88648,     0.89025,     0.89104,     0.89184,     0.89263,     0.89196,     0.89191,     0.89186,      0.8918,     0.89175,      0.8917,     0.89164,     0.89151,\n",
       "            0.89137,     0.89124,     0.89112,     0.89099,      0.8909,     0.89082,     0.89073,     0.89065,      0.8919,     0.89375,      0.8954,     0.89896,     0.89877,     0.90005,     0.90158,     0.90154,      0.9015,     0.90146,     0.90142,     0.90138,     0.90134,     0.90129,     0.90399,\n",
       "            0.90362,     0.90296,     0.90333,     0.90383,     0.90433,     0.90483,     0.90534,     0.90584,     0.90641,     0.90699,     0.90756,     0.90814,     0.90872,     0.90866,     0.90851,     0.91132,     0.91173,     0.91538,     0.91689,     0.91679,     0.91669,     0.91632,     0.91624,\n",
       "            0.91616,     0.91599,     0.91659,      0.9184,     0.92022,     0.92205,     0.92365,     0.92517,     0.92512,     0.92507,     0.92502,     0.92498,     0.92493,     0.92486,     0.92479,     0.92471,     0.92464,      0.9246,     0.92455,     0.92451,     0.92446,     0.92441,     0.92435,\n",
       "            0.92427,     0.92419,     0.92441,     0.92551,      0.9266,     0.92728,     0.92788,     0.92848,     0.92909,     0.92969,     0.93029,     0.93028,     0.93024,      0.9302,     0.93017,     0.93013,     0.93009,     0.93002,     0.92987,     0.92974,     0.92961,     0.92939,     0.92931,\n",
       "            0.92928,     0.92925,     0.92923,      0.9292,     0.92917,     0.92915,     0.92912,     0.92909,     0.92896,     0.92879,     0.92872,     0.92865,     0.92858,       0.929,      0.9295,     0.93001,     0.93051,     0.93102,     0.93152,     0.93184,     0.93261,     0.93475,     0.93462,\n",
       "            0.93443,     0.93415,     0.93633,     0.93829,     0.93947,     0.94065,     0.94416,     0.94405,     0.94567,     0.94756,     0.94749,     0.94743,     0.94734,     0.94716,     0.94709,     0.94702,     0.94696,     0.94692,     0.94688,     0.94684,     0.94679,     0.94728,     0.94862,\n",
       "            0.94997,     0.95017,     0.95014,      0.9501,     0.95007,     0.95004,     0.95001,     0.94983,     0.94972,     0.94962,     0.95011,     0.95065,     0.95119,     0.95173,     0.95227,     0.95281,      0.9533,     0.95327,     0.95324,     0.95321,     0.95317,     0.95314,     0.95304,\n",
       "            0.95372,     0.95565,     0.95634,     0.95631,     0.95628,     0.95626,     0.95623,     0.95621,     0.95618,     0.95758,     0.95954,     0.95998,     0.95996,     0.95994,     0.95992,      0.9599,     0.95988,     0.95986,     0.95984,     0.95968,     0.96356,     0.96349,     0.96326,\n",
       "             0.9631,      0.9628,     0.96275,      0.9627,     0.96249,      0.9624,     0.96232,     0.96224,     0.96606,     0.96595,     0.96591,     0.96587,     0.96583,     0.96752,     0.96994,     0.96991,     0.96988,     0.96984,     0.96966,     0.96959,     0.96941,     0.96938,     0.96934,\n",
       "            0.96931,     0.96925,     0.96918,     0.96901,       0.969,     0.96898,     0.96896,     0.96894,     0.96893,     0.96891,     0.96889,     0.96886,     0.96882,     0.96879,     0.96875,     0.96868,     0.96861,     0.96853,     0.96846,     0.96839,     0.96801,     0.96788,     0.96785,\n",
       "            0.96781,     0.96777,      0.9677,     0.96739,     0.96724,     0.96711,     0.96703,     0.96888,     0.97155,     0.97151,     0.97148,     0.97145,     0.97139,     0.97132,     0.97125,     0.97118,     0.97111,     0.97104,     0.97092,     0.97085,     0.97081,     0.97078,     0.97074,\n",
       "             0.9707,     0.97067,     0.97063,     0.97059,      0.9705,     0.97041,     0.97034,     0.97011,     0.97004,     0.96981,     0.96973,     0.96951,     0.96946,     0.96941,     0.96928,     0.96918,     0.96909,     0.96871,     0.96865,      0.9686,     0.96845,     0.96835,     0.96827,\n",
       "            0.96818,     0.96809,     0.97295,     0.97322,     0.97317,     0.97297,     0.97281,     0.97259,      0.9757,     0.97786,      0.9778,     0.97776,     0.97773,     0.97769,     0.97766,     0.97756,     0.97748,     0.97741,     0.97735,     0.97728,     0.97703,     0.97669,     0.98231,\n",
       "            0.98199,     0.98187,     0.98176,     0.98168,     0.98162,      0.9811,     0.98104,       0.981,     0.98098,     0.98095,     0.98093,     0.98091,     0.98074,     0.98063,     0.98056,     0.98048,     0.98022,     0.98008,     0.97975,     0.97946,     0.97932,     0.97902,     0.97841,\n",
       "            0.97825,      0.9781,     0.97801,     0.97774,      0.9775,     0.97716,     0.97698,     0.98221,     0.98423,     0.98419,     0.98415,     0.98396,     0.98383,     0.98369,     0.98344,     0.98337,     0.98307,     0.98291,     0.98276,     0.98245,     0.98214,     0.98181,      0.9811,\n",
       "            0.98065,     0.98052,     0.98042,     0.97993,     0.97983,     0.97867,      0.9782,     0.97795,      0.9777,      0.9775,     0.97743,     0.97735,     0.97728,     0.97684,     0.97577,     0.97556,     0.97546,     0.97535,     0.97488,     0.98666,     0.98657,     0.98627,     0.98605,\n",
       "            0.98543,     0.98532,     0.98473,     0.98409,     0.98396,     0.98327,     0.98308,     0.98292,     0.98277,      0.9933,           1,           1,           1,           1,           1,           1,           1,           1,           1,           1,           1,           1,           1,\n",
       "                  1,           1,           1,           1,           1,           1,           1,           1,           1,           1,           1,           1,           1,           1,           1,           1,           1,           1,           1,           1,           1,           1,           1,\n",
       "                  1,           1,           1,           1,           1,           1,           1,           1,           1,           1,           1,           1,           1,           1,           1,           1,           1,           1,           1,           1,           1,           1,           1,\n",
       "                  1,           1,           1,           1,           1,           1,           1,           1,           1,           1,           1,           1,           1,           1,           1,           1,           1,           1,           1,           1,           1,           1,           1,\n",
       "                  1,           1,           1,           1,           1,           1,           1,           1,           1,           1,           1,           1,           1,           1,           1,           1,           1,           1,           1,           1,           1,           1,           1,\n",
       "                  1,           1,           1,           1,           1,           1,           1,           1,           1,           1,           1,           1,           1,           1,           1,           1,           1,           1,           1,           1,           1,           1,           1,\n",
       "                  1,           1,           1,           1,           1,           1,           1,           1,           1,           1,           1,           1,           1,           1,           1,           1,           1,           1,           1,           1,           1,           1,           1,\n",
       "                  1,           1,           1,           1,           1,           1,           1,           1,           1,           1,           1,           1,           1,           1,           1,           1,           1,           1,           1,           1,           1,           1,           1,\n",
       "                  1,           1,           1,           1,           1,           1,           1,           1,           1,           1,           1,           1,           1,           1,           1,           1,           1,           1,           1,           1,           1,           1,           1,\n",
       "                  1,           1,           1,           1,           1,           1,           1,           1,           1,           1,           1,           1,           1,           1,           1,           1,           1,           1,           1,           1,           1,           1,           1,\n",
       "                  1,           1,           1,           1,           1,           1,           1,           1,           1,           1,           1,           1,           1,           1,           1,           1,           1,           1,           1,           1,           1,           1,           1,\n",
       "                  1,           1,           1,           1,           1,           1,           1,           1,           1,           1,           1,           1,           1,           1,           1,           1,           1,           1,           1,           1,           1,           1,           1,\n",
       "                  1,           1,           1,           1,           1,           1,           1,           1,           1,           1,           1,           1,           1,           1,           1,           1,           1,           1,           1,           1,           1,           1,           1,\n",
       "                  1,           1,           1,           1,           1,           1,           1,           1,           1,           1,           1,           1,           1,           1,           1,           1,           1,           1,           1,           1,           1,           1,           1,\n",
       "                  1,           1,           1,           1,           1,           1,           1,           1,           1,           1,           1]]), 'Confidence', 'Precision'], [array([          0,    0.001001,    0.002002,    0.003003,    0.004004,    0.005005,    0.006006,    0.007007,    0.008008,    0.009009,     0.01001,    0.011011,    0.012012,    0.013013,    0.014014,    0.015015,    0.016016,    0.017017,    0.018018,    0.019019,     0.02002,    0.021021,    0.022022,    0.023023,\n",
       "          0.024024,    0.025025,    0.026026,    0.027027,    0.028028,    0.029029,     0.03003,    0.031031,    0.032032,    0.033033,    0.034034,    0.035035,    0.036036,    0.037037,    0.038038,    0.039039,     0.04004,    0.041041,    0.042042,    0.043043,    0.044044,    0.045045,    0.046046,    0.047047,\n",
       "          0.048048,    0.049049,     0.05005,    0.051051,    0.052052,    0.053053,    0.054054,    0.055055,    0.056056,    0.057057,    0.058058,    0.059059,     0.06006,    0.061061,    0.062062,    0.063063,    0.064064,    0.065065,    0.066066,    0.067067,    0.068068,    0.069069,     0.07007,    0.071071,\n",
       "          0.072072,    0.073073,    0.074074,    0.075075,    0.076076,    0.077077,    0.078078,    0.079079,     0.08008,    0.081081,    0.082082,    0.083083,    0.084084,    0.085085,    0.086086,    0.087087,    0.088088,    0.089089,     0.09009,    0.091091,    0.092092,    0.093093,    0.094094,    0.095095,\n",
       "          0.096096,    0.097097,    0.098098,    0.099099,      0.1001,      0.1011,      0.1021,      0.1031,      0.1041,     0.10511,     0.10611,     0.10711,     0.10811,     0.10911,     0.11011,     0.11111,     0.11211,     0.11311,     0.11411,     0.11512,     0.11612,     0.11712,     0.11812,     0.11912,\n",
       "           0.12012,     0.12112,     0.12212,     0.12312,     0.12412,     0.12513,     0.12613,     0.12713,     0.12813,     0.12913,     0.13013,     0.13113,     0.13213,     0.13313,     0.13413,     0.13514,     0.13614,     0.13714,     0.13814,     0.13914,     0.14014,     0.14114,     0.14214,     0.14314,\n",
       "           0.14414,     0.14515,     0.14615,     0.14715,     0.14815,     0.14915,     0.15015,     0.15115,     0.15215,     0.15315,     0.15415,     0.15516,     0.15616,     0.15716,     0.15816,     0.15916,     0.16016,     0.16116,     0.16216,     0.16316,     0.16416,     0.16517,     0.16617,     0.16717,\n",
       "           0.16817,     0.16917,     0.17017,     0.17117,     0.17217,     0.17317,     0.17417,     0.17518,     0.17618,     0.17718,     0.17818,     0.17918,     0.18018,     0.18118,     0.18218,     0.18318,     0.18418,     0.18519,     0.18619,     0.18719,     0.18819,     0.18919,     0.19019,     0.19119,\n",
       "           0.19219,     0.19319,     0.19419,      0.1952,      0.1962,      0.1972,      0.1982,      0.1992,      0.2002,      0.2012,      0.2022,      0.2032,      0.2042,     0.20521,     0.20621,     0.20721,     0.20821,     0.20921,     0.21021,     0.21121,     0.21221,     0.21321,     0.21421,     0.21522,\n",
       "           0.21622,     0.21722,     0.21822,     0.21922,     0.22022,     0.22122,     0.22222,     0.22322,     0.22422,     0.22523,     0.22623,     0.22723,     0.22823,     0.22923,     0.23023,     0.23123,     0.23223,     0.23323,     0.23423,     0.23524,     0.23624,     0.23724,     0.23824,     0.23924,\n",
       "           0.24024,     0.24124,     0.24224,     0.24324,     0.24424,     0.24525,     0.24625,     0.24725,     0.24825,     0.24925,     0.25025,     0.25125,     0.25225,     0.25325,     0.25425,     0.25526,     0.25626,     0.25726,     0.25826,     0.25926,     0.26026,     0.26126,     0.26226,     0.26326,\n",
       "           0.26426,     0.26527,     0.26627,     0.26727,     0.26827,     0.26927,     0.27027,     0.27127,     0.27227,     0.27327,     0.27427,     0.27528,     0.27628,     0.27728,     0.27828,     0.27928,     0.28028,     0.28128,     0.28228,     0.28328,     0.28428,     0.28529,     0.28629,     0.28729,\n",
       "           0.28829,     0.28929,     0.29029,     0.29129,     0.29229,     0.29329,     0.29429,      0.2953,      0.2963,      0.2973,      0.2983,      0.2993,      0.3003,      0.3013,      0.3023,      0.3033,      0.3043,     0.30531,     0.30631,     0.30731,     0.30831,     0.30931,     0.31031,     0.31131,\n",
       "           0.31231,     0.31331,     0.31431,     0.31532,     0.31632,     0.31732,     0.31832,     0.31932,     0.32032,     0.32132,     0.32232,     0.32332,     0.32432,     0.32533,     0.32633,     0.32733,     0.32833,     0.32933,     0.33033,     0.33133,     0.33233,     0.33333,     0.33433,     0.33534,\n",
       "           0.33634,     0.33734,     0.33834,     0.33934,     0.34034,     0.34134,     0.34234,     0.34334,     0.34434,     0.34535,     0.34635,     0.34735,     0.34835,     0.34935,     0.35035,     0.35135,     0.35235,     0.35335,     0.35435,     0.35536,     0.35636,     0.35736,     0.35836,     0.35936,\n",
       "           0.36036,     0.36136,     0.36236,     0.36336,     0.36436,     0.36537,     0.36637,     0.36737,     0.36837,     0.36937,     0.37037,     0.37137,     0.37237,     0.37337,     0.37437,     0.37538,     0.37638,     0.37738,     0.37838,     0.37938,     0.38038,     0.38138,     0.38238,     0.38338,\n",
       "           0.38438,     0.38539,     0.38639,     0.38739,     0.38839,     0.38939,     0.39039,     0.39139,     0.39239,     0.39339,     0.39439,      0.3954,      0.3964,      0.3974,      0.3984,      0.3994,      0.4004,      0.4014,      0.4024,      0.4034,      0.4044,     0.40541,     0.40641,     0.40741,\n",
       "           0.40841,     0.40941,     0.41041,     0.41141,     0.41241,     0.41341,     0.41441,     0.41542,     0.41642,     0.41742,     0.41842,     0.41942,     0.42042,     0.42142,     0.42242,     0.42342,     0.42442,     0.42543,     0.42643,     0.42743,     0.42843,     0.42943,     0.43043,     0.43143,\n",
       "           0.43243,     0.43343,     0.43443,     0.43544,     0.43644,     0.43744,     0.43844,     0.43944,     0.44044,     0.44144,     0.44244,     0.44344,     0.44444,     0.44545,     0.44645,     0.44745,     0.44845,     0.44945,     0.45045,     0.45145,     0.45245,     0.45345,     0.45445,     0.45546,\n",
       "           0.45646,     0.45746,     0.45846,     0.45946,     0.46046,     0.46146,     0.46246,     0.46346,     0.46446,     0.46547,     0.46647,     0.46747,     0.46847,     0.46947,     0.47047,     0.47147,     0.47247,     0.47347,     0.47447,     0.47548,     0.47648,     0.47748,     0.47848,     0.47948,\n",
       "           0.48048,     0.48148,     0.48248,     0.48348,     0.48448,     0.48549,     0.48649,     0.48749,     0.48849,     0.48949,     0.49049,     0.49149,     0.49249,     0.49349,     0.49449,      0.4955,      0.4965,      0.4975,      0.4985,      0.4995,      0.5005,      0.5015,      0.5025,      0.5035,\n",
       "            0.5045,     0.50551,     0.50651,     0.50751,     0.50851,     0.50951,     0.51051,     0.51151,     0.51251,     0.51351,     0.51451,     0.51552,     0.51652,     0.51752,     0.51852,     0.51952,     0.52052,     0.52152,     0.52252,     0.52352,     0.52452,     0.52553,     0.52653,     0.52753,\n",
       "           0.52853,     0.52953,     0.53053,     0.53153,     0.53253,     0.53353,     0.53453,     0.53554,     0.53654,     0.53754,     0.53854,     0.53954,     0.54054,     0.54154,     0.54254,     0.54354,     0.54454,     0.54555,     0.54655,     0.54755,     0.54855,     0.54955,     0.55055,     0.55155,\n",
       "           0.55255,     0.55355,     0.55455,     0.55556,     0.55656,     0.55756,     0.55856,     0.55956,     0.56056,     0.56156,     0.56256,     0.56356,     0.56456,     0.56557,     0.56657,     0.56757,     0.56857,     0.56957,     0.57057,     0.57157,     0.57257,     0.57357,     0.57457,     0.57558,\n",
       "           0.57658,     0.57758,     0.57858,     0.57958,     0.58058,     0.58158,     0.58258,     0.58358,     0.58458,     0.58559,     0.58659,     0.58759,     0.58859,     0.58959,     0.59059,     0.59159,     0.59259,     0.59359,     0.59459,      0.5956,      0.5966,      0.5976,      0.5986,      0.5996,\n",
       "            0.6006,      0.6016,      0.6026,      0.6036,      0.6046,     0.60561,     0.60661,     0.60761,     0.60861,     0.60961,     0.61061,     0.61161,     0.61261,     0.61361,     0.61461,     0.61562,     0.61662,     0.61762,     0.61862,     0.61962,     0.62062,     0.62162,     0.62262,     0.62362,\n",
       "           0.62462,     0.62563,     0.62663,     0.62763,     0.62863,     0.62963,     0.63063,     0.63163,     0.63263,     0.63363,     0.63463,     0.63564,     0.63664,     0.63764,     0.63864,     0.63964,     0.64064,     0.64164,     0.64264,     0.64364,     0.64464,     0.64565,     0.64665,     0.64765,\n",
       "           0.64865,     0.64965,     0.65065,     0.65165,     0.65265,     0.65365,     0.65465,     0.65566,     0.65666,     0.65766,     0.65866,     0.65966,     0.66066,     0.66166,     0.66266,     0.66366,     0.66466,     0.66567,     0.66667,     0.66767,     0.66867,     0.66967,     0.67067,     0.67167,\n",
       "           0.67267,     0.67367,     0.67467,     0.67568,     0.67668,     0.67768,     0.67868,     0.67968,     0.68068,     0.68168,     0.68268,     0.68368,     0.68468,     0.68569,     0.68669,     0.68769,     0.68869,     0.68969,     0.69069,     0.69169,     0.69269,     0.69369,     0.69469,      0.6957,\n",
       "            0.6967,      0.6977,      0.6987,      0.6997,      0.7007,      0.7017,      0.7027,      0.7037,      0.7047,     0.70571,     0.70671,     0.70771,     0.70871,     0.70971,     0.71071,     0.71171,     0.71271,     0.71371,     0.71471,     0.71572,     0.71672,     0.71772,     0.71872,     0.71972,\n",
       "           0.72072,     0.72172,     0.72272,     0.72372,     0.72472,     0.72573,     0.72673,     0.72773,     0.72873,     0.72973,     0.73073,     0.73173,     0.73273,     0.73373,     0.73473,     0.73574,     0.73674,     0.73774,     0.73874,     0.73974,     0.74074,     0.74174,     0.74274,     0.74374,\n",
       "           0.74474,     0.74575,     0.74675,     0.74775,     0.74875,     0.74975,     0.75075,     0.75175,     0.75275,     0.75375,     0.75475,     0.75576,     0.75676,     0.75776,     0.75876,     0.75976,     0.76076,     0.76176,     0.76276,     0.76376,     0.76476,     0.76577,     0.76677,     0.76777,\n",
       "           0.76877,     0.76977,     0.77077,     0.77177,     0.77277,     0.77377,     0.77477,     0.77578,     0.77678,     0.77778,     0.77878,     0.77978,     0.78078,     0.78178,     0.78278,     0.78378,     0.78478,     0.78579,     0.78679,     0.78779,     0.78879,     0.78979,     0.79079,     0.79179,\n",
       "           0.79279,     0.79379,     0.79479,      0.7958,      0.7968,      0.7978,      0.7988,      0.7998,      0.8008,      0.8018,      0.8028,      0.8038,      0.8048,     0.80581,     0.80681,     0.80781,     0.80881,     0.80981,     0.81081,     0.81181,     0.81281,     0.81381,     0.81481,     0.81582,\n",
       "           0.81682,     0.81782,     0.81882,     0.81982,     0.82082,     0.82182,     0.82282,     0.82382,     0.82482,     0.82583,     0.82683,     0.82783,     0.82883,     0.82983,     0.83083,     0.83183,     0.83283,     0.83383,     0.83483,     0.83584,     0.83684,     0.83784,     0.83884,     0.83984,\n",
       "           0.84084,     0.84184,     0.84284,     0.84384,     0.84484,     0.84585,     0.84685,     0.84785,     0.84885,     0.84985,     0.85085,     0.85185,     0.85285,     0.85385,     0.85485,     0.85586,     0.85686,     0.85786,     0.85886,     0.85986,     0.86086,     0.86186,     0.86286,     0.86386,\n",
       "           0.86486,     0.86587,     0.86687,     0.86787,     0.86887,     0.86987,     0.87087,     0.87187,     0.87287,     0.87387,     0.87487,     0.87588,     0.87688,     0.87788,     0.87888,     0.87988,     0.88088,     0.88188,     0.88288,     0.88388,     0.88488,     0.88589,     0.88689,     0.88789,\n",
       "           0.88889,     0.88989,     0.89089,     0.89189,     0.89289,     0.89389,     0.89489,      0.8959,      0.8969,      0.8979,      0.8989,      0.8999,      0.9009,      0.9019,      0.9029,      0.9039,      0.9049,     0.90591,     0.90691,     0.90791,     0.90891,     0.90991,     0.91091,     0.91191,\n",
       "           0.91291,     0.91391,     0.91491,     0.91592,     0.91692,     0.91792,     0.91892,     0.91992,     0.92092,     0.92192,     0.92292,     0.92392,     0.92492,     0.92593,     0.92693,     0.92793,     0.92893,     0.92993,     0.93093,     0.93193,     0.93293,     0.93393,     0.93493,     0.93594,\n",
       "           0.93694,     0.93794,     0.93894,     0.93994,     0.94094,     0.94194,     0.94294,     0.94394,     0.94494,     0.94595,     0.94695,     0.94795,     0.94895,     0.94995,     0.95095,     0.95195,     0.95295,     0.95395,     0.95495,     0.95596,     0.95696,     0.95796,     0.95896,     0.95996,\n",
       "           0.96096,     0.96196,     0.96296,     0.96396,     0.96496,     0.96597,     0.96697,     0.96797,     0.96897,     0.96997,     0.97097,     0.97197,     0.97297,     0.97397,     0.97497,     0.97598,     0.97698,     0.97798,     0.97898,     0.97998,     0.98098,     0.98198,     0.98298,     0.98398,\n",
       "           0.98498,     0.98599,     0.98699,     0.98799,     0.98899,     0.98999,     0.99099,     0.99199,     0.99299,     0.99399,     0.99499,       0.996,       0.997,       0.998,       0.999,           1]), array([[    0.89295,     0.89295,     0.89295,     0.88773,     0.88512,     0.88512,     0.88512,     0.88251,     0.88251,     0.88251,     0.88251,     0.88251,     0.88251,      0.8799,     0.87728,     0.87728,     0.87728,     0.87728,     0.87467,     0.87206,     0.86945,     0.86945,     0.86945,\n",
       "            0.86945,     0.86945,     0.86945,     0.86945,     0.86945,     0.86684,     0.86684,     0.86684,     0.86423,     0.86423,     0.86423,     0.86423,     0.86423,     0.86423,     0.86423,     0.86423,     0.86423,     0.86162,     0.86162,     0.85901,     0.85901,     0.85901,     0.85901,\n",
       "            0.85901,     0.85901,     0.85901,     0.85901,     0.85901,     0.85901,     0.85379,     0.85379,     0.85379,     0.85379,     0.85272,     0.85146,     0.85117,     0.85117,     0.85117,     0.85117,     0.85117,     0.85117,     0.85117,     0.84888,     0.84595,     0.84595,     0.84595,\n",
       "            0.84595,     0.84595,     0.84595,     0.84595,     0.84334,     0.84334,     0.84334,     0.84334,     0.84334,     0.84334,     0.84334,     0.84334,     0.84334,     0.84334,     0.84334,     0.84334,     0.84334,     0.84185,     0.84073,     0.83812,     0.83812,     0.83812,     0.83812,\n",
       "            0.83812,     0.83783,     0.83472,     0.83029,     0.83029,     0.83029,     0.82768,     0.82768,     0.82713,     0.82534,     0.82465,     0.82245,     0.82245,     0.82245,     0.82245,     0.82245,     0.82245,     0.82245,     0.82245,     0.82245,     0.82164,     0.81992,     0.81984,\n",
       "            0.81984,     0.81984,     0.81984,     0.81984,     0.81984,     0.81984,     0.81984,     0.81941,     0.81836,     0.81732,     0.81723,     0.81723,     0.81723,     0.81723,     0.81723,     0.81462,     0.81462,     0.81318,     0.81201,     0.81201,     0.81201,     0.81201,     0.81201,\n",
       "            0.81201,     0.81201,     0.81201,     0.81201,     0.81201,      0.8094,      0.8094,      0.8094,      0.8094,     0.80679,     0.80679,     0.80679,     0.80679,     0.80679,     0.80679,     0.80679,     0.80679,     0.80679,     0.80679,     0.80679,     0.80679,     0.80679,     0.80679,\n",
       "            0.80679,     0.80679,     0.80679,     0.80679,     0.80679,     0.80629,     0.80531,     0.80434,     0.80319,       0.802,     0.80157,     0.79896,     0.79896,     0.79896,     0.79896,     0.79896,     0.79896,     0.79896,     0.79896,     0.79896,     0.79896,     0.79896,     0.79896,\n",
       "            0.79896,     0.79896,     0.79896,     0.79373,     0.79049,     0.78906,     0.78851,     0.78851,     0.78819,     0.78712,     0.78605,      0.7859,     0.78525,     0.78423,     0.78329,     0.78329,     0.78329,     0.78329,     0.78329,     0.78329,     0.78329,     0.78329,     0.78329,\n",
       "            0.78329,     0.78329,     0.78329,     0.78329,     0.78329,     0.78329,     0.78023,     0.77921,     0.77819,     0.77807,     0.77807,     0.77807,     0.77807,      0.7764,     0.77534,     0.77511,     0.77489,     0.77466,     0.77444,     0.77421,     0.77399,     0.77376,     0.77354,\n",
       "            0.77331,     0.77309,     0.77286,     0.77167,     0.77041,     0.77023,     0.77023,     0.77023,     0.77023,     0.77023,     0.77023,     0.77023,     0.77023,     0.76985,     0.76866,     0.76762,     0.76762,     0.76762,     0.76762,     0.76696,     0.76583,     0.76501,     0.76501,\n",
       "            0.76501,     0.76501,     0.76501,     0.76501,     0.76501,     0.76501,     0.76501,     0.76501,     0.76501,     0.76495,     0.76376,     0.76257,      0.7624,      0.7624,      0.7624,      0.7624,      0.7624,      0.7624,      0.7624,      0.7624,      0.7624,      0.7624,      0.7624,\n",
       "             0.7624,     0.76209,     0.76163,     0.76116,      0.7607,     0.76023,     0.75979,     0.75979,     0.75979,     0.75979,     0.75979,     0.75979,     0.75979,     0.75979,     0.75977,     0.75446,     0.75404,     0.75363,     0.75322,     0.75281,      0.7524,     0.75199,     0.75096,\n",
       "            0.74989,     0.74887,     0.74789,     0.74692,     0.74622,      0.7456,     0.74497,     0.74434,     0.74413,     0.74413,     0.74413,     0.74337,     0.74184,     0.74151,     0.74149,     0.74114,      0.7408,     0.74045,     0.74011,     0.73976,     0.73941,     0.73907,     0.73751,\n",
       "            0.73435,      0.7289,     0.72846,     0.72846,     0.72846,     0.72846,     0.72846,     0.72846,     0.72846,     0.72846,     0.72846,     0.72846,     0.72846,     0.72731,     0.72597,     0.72446,     0.72063,     0.72063,     0.72014,     0.71917,      0.7182,     0.71478,     0.71402,\n",
       "            0.71325,     0.71173,     0.71018,     0.71018,     0.71018,     0.71018,     0.71018,     0.71015,     0.70967,     0.70918,      0.7087,     0.70821,     0.70772,     0.70704,     0.70628,     0.70551,     0.70483,     0.70437,      0.7039,     0.70344,     0.70297,      0.7025,     0.70184,\n",
       "            0.70107,     0.70031,     0.69974,     0.69974,     0.69974,     0.69713,     0.69713,     0.69713,     0.69713,     0.69713,     0.69713,     0.69675,     0.69635,     0.69595,     0.69556,     0.69516,     0.69476,     0.69394,     0.69241,     0.69101,     0.68967,     0.68738,     0.68648,\n",
       "            0.68619,     0.68591,     0.68563,     0.68535,     0.68507,     0.68478,      0.6845,     0.68422,     0.68281,     0.68111,     0.68039,     0.67968,     0.67897,     0.67885,     0.67885,     0.67885,     0.67885,     0.67885,     0.67885,     0.67817,     0.67624,     0.67322,     0.67189,\n",
       "            0.66976,     0.66675,      0.6658,      0.6658,      0.6658,      0.6658,     0.66219,     0.66085,     0.66057,      0.6605,     0.65961,     0.65872,     0.65754,     0.65519,      0.6543,     0.65341,     0.65261,     0.65207,     0.65153,       0.651,     0.65046,     0.65013,     0.65013,\n",
       "            0.65013,     0.64721,     0.64676,     0.64632,     0.64587,     0.64543,     0.64498,     0.64266,     0.64114,      0.6398,     0.63969,     0.63969,     0.63969,     0.63969,     0.63969,     0.63969,     0.63965,     0.63918,     0.63872,     0.63825,     0.63779,     0.63732,     0.63581,\n",
       "            0.63185,     0.63185,     0.62903,     0.62865,     0.62827,     0.62789,      0.6275,     0.62712,     0.62674,     0.62663,     0.62663,     0.62638,     0.62604,     0.62571,     0.62537,     0.62504,      0.6247,     0.62437,     0.62403,     0.62144,     0.62139,     0.62006,     0.61603,\n",
       "            0.61335,     0.60826,     0.60737,     0.60647,     0.60289,     0.60155,     0.60021,     0.59887,     0.59455,     0.59249,     0.59182,     0.59115,     0.59048,     0.59008,     0.58979,     0.58912,     0.58845,     0.58779,     0.58415,     0.58282,     0.57925,     0.57858,     0.57791,\n",
       "            0.57724,     0.57613,     0.57479,     0.57156,     0.57123,     0.57089,     0.57056,     0.57022,     0.56989,     0.56955,     0.56922,     0.56858,     0.56791,     0.56724,     0.56656,     0.56522,     0.56389,     0.56255,     0.56121,     0.55987,      0.5531,     0.55079,     0.55012,\n",
       "            0.54945,     0.54878,     0.54755,     0.54226,     0.53959,     0.53738,     0.53605,     0.53525,     0.53496,     0.53429,     0.53362,     0.53295,     0.53193,      0.5306,     0.52926,     0.52792,     0.52658,     0.52524,     0.52301,     0.52173,     0.52106,     0.52039,     0.51972,\n",
       "            0.51905,     0.51838,     0.51771,     0.51704,     0.51538,     0.51379,     0.51245,      0.5085,     0.50716,     0.50321,     0.50187,     0.49818,     0.49729,      0.4964,     0.49435,     0.49257,     0.49123,       0.485,      0.4841,     0.48321,      0.4809,     0.47932,     0.47798,\n",
       "            0.47665,     0.47531,      0.4752,     0.47436,     0.47346,     0.46994,     0.46716,     0.46328,     0.46214,     0.46134,        0.46,      0.4591,     0.45843,     0.45776,     0.45709,     0.45492,     0.45328,     0.45194,      0.4506,     0.44926,     0.44415,     0.43756,     0.43488,\n",
       "            0.42698,     0.42431,     0.42163,     0.41966,     0.41832,     0.40654,      0.4052,      0.4044,     0.40391,     0.40342,     0.40294,     0.40245,     0.39879,     0.39649,     0.39515,     0.39337,     0.38808,      0.3854,     0.37903,     0.37352,     0.37085,     0.36556,     0.35505,\n",
       "            0.35237,     0.34978,     0.34845,     0.34404,     0.34036,     0.33508,      0.3324,     0.32898,     0.32582,     0.32505,     0.32429,     0.32032,     0.31765,     0.31497,     0.31019,     0.30886,     0.30318,     0.30035,     0.29767,     0.29239,      0.2871,     0.28181,     0.27106,\n",
       "            0.26471,     0.26287,     0.26153,     0.25497,     0.25363,     0.23958,     0.23429,     0.23162,     0.22894,      0.2269,     0.22613,     0.22537,     0.22461,     0.22029,     0.21027,     0.20845,     0.20756,     0.20667,     0.19582,     0.19309,     0.19175,     0.18762,     0.18451,\n",
       "            0.17664,      0.1753,     0.16842,     0.16153,     0.16019,      0.1535,     0.15171,      0.1503,     0.14897,     0.14883,     0.14042,     0.13908,     0.13752,     0.13053,     0.12919,     0.12521,     0.12343,      0.1193,     0.11796,     0.11633,     0.11463,     0.11329,     0.10953,\n",
       "              0.109,     0.10846,     0.10793,     0.10739,     0.10416,      0.1034,     0.10264,     0.10187,     0.10014,    0.098849,    0.098085,     0.09732,    0.096488,    0.094704,    0.093672,    0.093137,    0.092602,    0.092066,    0.091531,    0.090091,    0.083351,    0.082587,    0.081822,\n",
       "           0.081057,    0.079429,    0.075425,     0.07466,    0.073896,    0.073131,    0.072531,    0.071936,    0.071341,    0.070747,    0.067575,     0.06704,    0.066505,     0.06597,    0.065434,    0.064024,    0.059629,    0.057845,    0.057123,    0.056711,    0.056299,    0.055887,    0.055476,\n",
       "           0.055064,    0.054058,    0.052274,    0.051355,    0.050463,    0.046922,    0.045137,    0.043353,    0.041672,     0.04078,    0.039888,    0.038996,    0.038104,    0.037212,    0.033475,    0.031691,    0.030857,    0.030262,    0.029667,    0.029072,    0.028636,    0.028431,    0.028225,\n",
       "           0.028019,    0.027813,    0.027607,    0.027401,    0.027195,     0.02699,    0.026784,    0.026578,    0.026372,    0.026166,    0.025678,    0.025083,    0.024488,    0.023894,    0.023139,    0.022069,    0.020998,    0.020802,    0.020706,    0.020611,    0.020515,     0.02042,    0.020324,\n",
       "           0.020228,    0.020133,    0.020037,    0.019942,    0.019846,    0.019751,    0.019655,    0.019559,    0.019464,    0.019368,    0.019273,    0.019177,    0.019082,    0.018986,     0.01889,    0.018795,    0.018699,    0.018604,    0.018508,    0.018412,    0.018317,     0.01807,    0.017713,\n",
       "           0.017356,    0.016999,    0.016642,    0.016285,    0.015929,    0.015525,    0.014989,    0.014454,    0.013919,    0.013384,    0.013027,    0.012956,    0.012885,    0.012813,    0.012742,     0.01267,    0.012599,    0.012528,    0.012456,    0.012385,    0.012314,    0.012242,    0.012171,\n",
       "             0.0121,    0.012028,    0.011957,    0.011885,    0.011814,    0.011743,    0.011671,      0.0116,    0.011529,    0.011457,    0.011386,    0.011314,    0.011243,    0.011172,      0.0111,    0.011029,    0.010958,    0.010886,    0.010815,    0.010744,    0.010672,    0.010601,    0.010529,\n",
       "           0.010458,    0.010015,   0.0094797,   0.0089445,   0.0084092,   0.0078739,    0.007732,   0.0076228,   0.0075136,   0.0074043,   0.0072951,   0.0071859,   0.0070766,   0.0069674,   0.0068581,   0.0067489,   0.0066397,   0.0065304,   0.0064212,    0.006312,   0.0062027,   0.0060935,   0.0059842,\n",
       "           0.005875,   0.0057658,   0.0056565,   0.0055473,   0.0054381,   0.0053288,   0.0052115,   0.0047249,   0.0042383,   0.0037517,   0.0032651,   0.0027785,           0,           0,           0,           0,           0,           0,           0,           0,           0,           0,           0,\n",
       "                  0,           0,           0,           0,           0,           0,           0,           0,           0,           0,           0,           0,           0,           0,           0,           0,           0,           0,           0,           0,           0,           0,           0,\n",
       "                  0,           0,           0,           0,           0,           0,           0,           0,           0,           0,           0,           0,           0,           0,           0,           0,           0,           0,           0,           0,           0,           0,           0,\n",
       "                  0,           0,           0,           0,           0,           0,           0,           0,           0,           0,           0,           0,           0,           0,           0,           0,           0,           0,           0,           0,           0,           0,           0,\n",
       "                  0,           0,           0,           0,           0,           0,           0,           0,           0,           0,           0,           0,           0,           0,           0,           0,           0,           0,           0,           0,           0,           0,           0,\n",
       "                  0,           0,           0,           0,           0,           0,           0,           0,           0,           0,           0]]), 'Confidence', 'Recall']]\n",
       "fitness: np.float64(0.4125205084653296)\n",
       "keys: ['metrics/precision(B)', 'metrics/recall(B)', 'metrics/mAP50(B)', 'metrics/mAP50-95(B)']\n",
       "maps: array([    0.36522])\n",
       "names: {0: 'boat'}\n",
       "plot: True\n",
       "results_dict: {'metrics/precision(B)': np.float64(0.892634840283102), 'metrics/recall(B)': np.float64(0.7597658581122463), 'metrics/mAP50(B)': np.float64(0.8382257280691242), 'metrics/mAP50-95(B)': np.float64(0.3652199285093524), 'fitness': np.float64(0.4125205084653296)}\n",
       "save_dir: WindowsPath('runs/detect/first-boat-detection-nano')\n",
       "speed: {'preprocess': 0.16817477875825976, 'inference': 1.4967590697167392, 'loss': 0.0005331868099757528, 'postprocess': 1.8718672568077404}\n",
       "task: 'detect'"
      ]
     },
     "execution_count": 7,
     "metadata": {},
     "output_type": "execute_result"
    }
   ],
   "source": [
    "YAML_DATA = os.path.join(BASE_DIR, 'data', 'data.yaml')\n",
    "\n",
    "# Ajuste los hiperparámetros y entrenamiento del modelo\n",
    "#    - data: data.yaml\n",
    "#    - epochs: nº de épocas \n",
    "#    - imgsz: tamaño de lado de las imágenes \n",
    "#    - batch: tamaño de lote \n",
    "#    - device: GPU o CPU\n",
    "model.train(\n",
    "    data=YAML_DATA,\n",
    "    epochs=50,\n",
    "    imgsz=512,\n",
    "    batch=32,\n",
    "    device=device,\n",
    "    name='first-boat-detection-nano',\n",
    ")"
   ]
  },
  {
   "cell_type": "markdown",
   "id": "77882e5b",
   "metadata": {},
   "source": [
    "Las gráficas del entrenamiento se encuentran en el directorio runs"
   ]
  },
  {
   "cell_type": "markdown",
   "id": "f7885900",
   "metadata": {},
   "source": [
    "Matriz de confusión:\n",
    "\n",
    "![Matriz de confusión](runs/detect/first-boat-detection-nano/confusion_matrix.png)"
   ]
  },
  {
   "cell_type": "markdown",
   "id": "cc8f6444",
   "metadata": {},
   "source": [
    "Métricas de entrenamiento:\n",
    "![Métricas de entrenamiento](runs/detect/first-boat-detection-nano/results.png)"
   ]
  },
  {
   "cell_type": "markdown",
   "id": "e468c7a2",
   "metadata": {},
   "source": [
    "# Evaluación del modelo\n",
    "Vamos a ver como se comporta con los datos de test."
   ]
  },
  {
   "cell_type": "code",
   "execution_count": 9,
   "id": "e072f185",
   "metadata": {},
   "outputs": [],
   "source": [
    "path_modelo = os.path.join(BASE_DIR, 'code/runs/detect/first-boat-detection-nano/weights/best.pt')"
   ]
  },
  {
   "cell_type": "code",
   "execution_count": 10,
   "id": "c5c47b93",
   "metadata": {},
   "outputs": [],
   "source": [
    "# Evaluación del modelo con imagenes de test\n",
    "model = YOLO(path_modelo)"
   ]
  },
  {
   "cell_type": "code",
   "execution_count": 12,
   "id": "877bdf29",
   "metadata": {},
   "outputs": [
    {
     "name": "stdout",
     "output_type": "stream",
     "text": [
      "\n",
      "image 1/1 c:\\Users\\gonza\\Desktop\\ImagenADNE\\DeepLearning-Images\\data\\MASATI\\output\\test\\images\\x0099.png: 512x512 1 boat, 22.8ms\n",
      "Speed: 2.5ms preprocess, 22.8ms inference, 3.1ms postprocess per image at shape (1, 3, 512, 512)\n"
     ]
    }
   ],
   "source": [
    "#probar con una imagen de test y mostrar imagen\n",
    "img_path = os.path.join(IMG_TEST_DIR, 'x0099.png')\n",
    "results = model.predict(img_path, conf=0.5, iou=0.5, device=device)\n",
    "\n",
    "# Obtener la imagen con los bounding boxes ya dibujados\n",
    "#    La función plot() devuelve un ndarray BGR con las detecciones\n",
    "annotated_img = results[0].plot()\n",
    "\n",
    "# Mostrar imagen con OpenCV\n",
    "window_name = \"Detecciones de barcos\"\n",
    "cv2.namedWindow(window_name, cv2.WINDOW_NORMAL)\n",
    "cv2.imshow(window_name, annotated_img)\n",
    " # espera a que pulses una tecla cualquiera o que cierres la ventana manualmente\n",
    "while True:\n",
    "    key = cv2.waitKey(1) & 0xFF\n",
    "    if key == ord('q') or cv2.getWindowProperty(window_name, cv2.WND_PROP_VISIBLE) < 1:\n",
    "        break\n",
    "# Cierra la ventana y libera los recursos\n",
    "cv2.destroyAllWindows()"
   ]
  },
  {
   "cell_type": "markdown",
   "id": "9fd7868a",
   "metadata": {},
   "source": [
    "Velocidad de inferencia extremadamente rápida, 0.02 segundos por imagen."
   ]
  },
  {
   "cell_type": "markdown",
   "id": "bfc5428d",
   "metadata": {},
   "source": [
    "## Métricas en el conjunto de test"
   ]
  },
  {
   "cell_type": "code",
   "execution_count": null,
   "id": "577bc098",
   "metadata": {},
   "outputs": [],
   "source": [
    "# aplicar modelo a todo el conjunto de test, que tiene labels para comprobar la precision\n",
    "results = model.predict(test_dataset, conf=0.5, iou=0.5, device=device)\n"
   ]
  },
  {
   "cell_type": "markdown",
   "id": "029fe0be",
   "metadata": {},
   "source": [
    "# Mejora del entrenamiento\n",
    "haciendo image augmentation y otras tecnicas de mejora de la red que aun no he probado y tengo que investigar.\n"
   ]
  },
  {
   "cell_type": "code",
   "execution_count": 8,
   "id": "da715bc9",
   "metadata": {},
   "outputs": [
    {
     "name": "stdout",
     "output_type": "stream",
     "text": [
      "New https://pypi.org/project/ultralytics/8.3.128 available  Update with 'pip install -U ultralytics'\n",
      "Ultralytics 8.3.126  Python-3.12.10 torch-2.7.0+cu128 CUDA:0 (NVIDIA GeForce RTX 4060 Laptop GPU, 8188MiB)\n",
      "\u001b[34m\u001b[1mengine\\trainer: \u001b[0magnostic_nms=False, amp=True, augment=True, auto_augment=randaugment, batch=16, bgr=0.0, box=7.5, cache=False, cfg=None, classes=None, close_mosaic=10, cls=0.5, conf=None, copy_paste=0.2, copy_paste_mode=flip, cos_lr=True, cutmix=0.0, data=c:\\Users\\gonza\\Desktop\\ImagenADNE\\DeepLearning-Images\\data\\data.yaml, degrees=0.0, deterministic=True, device=cuda:0, dfl=1.5, dnn=False, dropout=0.0, dynamic=False, embed=None, epochs=50, erasing=0.4, exist_ok=False, fliplr=0.5, flipud=0.0, format=torchscript, fraction=1.0, freeze=None, half=True, hsv_h=0.015, hsv_s=0.7, hsv_v=0.4, imgsz=512, int8=False, iou=0.7, keras=False, kobj=1.0, line_width=None, lr0=0.005, lrf=0.1, mask_ratio=4, max_det=300, mixup=0.2, mode=train, model=yolov8n.pt, momentum=0.9, mosaic=1.0, multi_scale=True, name=boat-nano-optimized, nbs=64, nms=False, opset=None, optimize=False, optimizer=SGD, overlap_mask=True, patience=30, perspective=0.0, plots=True, pose=12.0, pretrained=True, profile=False, project=None, rect=False, resume=False, retina_masks=False, save=True, save_conf=False, save_crop=False, save_dir=runs\\detect\\boat-nano-optimized, save_frames=False, save_json=False, save_period=1, save_txt=False, scale=0.5, seed=0, shear=0.0, show=False, show_boxes=True, show_conf=True, show_labels=True, simplify=True, single_cls=True, source=None, split=val, stream_buffer=False, task=detect, time=None, tracker=botsort.yaml, translate=0.1, val=True, verbose=True, vid_stride=1, visualize=False, warmup_bias_lr=0.1, warmup_epochs=3.0, warmup_momentum=0.8, weight_decay=0.0005, workers=8, workspace=None\n",
      "Overriding class names with single class.\n",
      "Overriding model.yaml nc=80 with nc=1\n",
      "\n",
      "                   from  n    params  module                                       arguments                     \n",
      "  0                  -1  1       464  ultralytics.nn.modules.conv.Conv             [3, 16, 3, 2]                 \n",
      "  1                  -1  1      4672  ultralytics.nn.modules.conv.Conv             [16, 32, 3, 2]                \n",
      "  2                  -1  1      7360  ultralytics.nn.modules.block.C2f             [32, 32, 1, True]             \n",
      "  3                  -1  1     18560  ultralytics.nn.modules.conv.Conv             [32, 64, 3, 2]                \n",
      "  4                  -1  2     49664  ultralytics.nn.modules.block.C2f             [64, 64, 2, True]             \n",
      "  5                  -1  1     73984  ultralytics.nn.modules.conv.Conv             [64, 128, 3, 2]               \n",
      "  6                  -1  2    197632  ultralytics.nn.modules.block.C2f             [128, 128, 2, True]           \n",
      "  7                  -1  1    295424  ultralytics.nn.modules.conv.Conv             [128, 256, 3, 2]              \n",
      "  8                  -1  1    460288  ultralytics.nn.modules.block.C2f             [256, 256, 1, True]           \n",
      "  9                  -1  1    164608  ultralytics.nn.modules.block.SPPF            [256, 256, 5]                 \n",
      " 10                  -1  1         0  torch.nn.modules.upsampling.Upsample         [None, 2, 'nearest']          \n",
      " 11             [-1, 6]  1         0  ultralytics.nn.modules.conv.Concat           [1]                           \n",
      " 12                  -1  1    148224  ultralytics.nn.modules.block.C2f             [384, 128, 1]                 \n",
      " 13                  -1  1         0  torch.nn.modules.upsampling.Upsample         [None, 2, 'nearest']          \n",
      " 14             [-1, 4]  1         0  ultralytics.nn.modules.conv.Concat           [1]                           \n",
      " 15                  -1  1     37248  ultralytics.nn.modules.block.C2f             [192, 64, 1]                  \n",
      " 16                  -1  1     36992  ultralytics.nn.modules.conv.Conv             [64, 64, 3, 2]                \n",
      " 17            [-1, 12]  1         0  ultralytics.nn.modules.conv.Concat           [1]                           \n",
      " 18                  -1  1    123648  ultralytics.nn.modules.block.C2f             [192, 128, 1]                 \n",
      " 19                  -1  1    147712  ultralytics.nn.modules.conv.Conv             [128, 128, 3, 2]              \n",
      " 20             [-1, 9]  1         0  ultralytics.nn.modules.conv.Concat           [1]                           \n",
      " 21                  -1  1    493056  ultralytics.nn.modules.block.C2f             [384, 256, 1]                 \n",
      " 22        [15, 18, 21]  1    751507  ultralytics.nn.modules.head.Detect           [1, [64, 128, 256]]           \n",
      "Model summary: 129 layers, 3,011,043 parameters, 3,011,027 gradients, 8.2 GFLOPs\n",
      "\n",
      "Transferred 319/355 items from pretrained weights\n",
      "Freezing layer 'model.22.dfl.conv.weight'\n",
      "\u001b[34m\u001b[1mAMP: \u001b[0mrunning Automatic Mixed Precision (AMP) checks...\n",
      "\u001b[34m\u001b[1mAMP: \u001b[0mchecks passed \n",
      "\u001b[34m\u001b[1mtrain: \u001b[0mFast image access  (ping: 0.50.2 ms, read: 19.813.4 MB/s, size: 282.7 KB)\n"
     ]
    },
    {
     "name": "stderr",
     "output_type": "stream",
     "text": [
      "\u001b[34m\u001b[1mtrain: \u001b[0mScanning C:\\Users\\gonza\\Desktop\\ImagenADNE\\DeepLearning-Images\\data\\MASATI\\output\\train\\labels.cache... 3617 images, 1729 backgrounds, 0 corrupt: 100%|██████████| 3617/3617 [00:00<?, ?it/s]\n"
     ]
    },
    {
     "name": "stdout",
     "output_type": "stream",
     "text": [
      "\u001b[34m\u001b[1mval: \u001b[0mFast image access  (ping: 0.40.2 ms, read: 15.310.8 MB/s, size: 333.8 KB)\n"
     ]
    },
    {
     "name": "stderr",
     "output_type": "stream",
     "text": [
      "\u001b[34m\u001b[1mval: \u001b[0mScanning C:\\Users\\gonza\\Desktop\\ImagenADNE\\DeepLearning-Images\\data\\MASATI\\output\\val\\labels.cache... 452 images, 215 backgrounds, 0 corrupt: 100%|██████████| 452/452 [00:00<?, ?it/s]\n"
     ]
    },
    {
     "name": "stdout",
     "output_type": "stream",
     "text": [
      "Plotting labels to runs\\detect\\boat-nano-optimized\\labels.jpg... \n",
      "\u001b[34m\u001b[1moptimizer:\u001b[0m SGD(lr=0.005, momentum=0.9) with parameter groups 57 weight(decay=0.0), 64 weight(decay=0.0005), 63 bias(decay=0.0)\n",
      "Image sizes 512 train, 512 val\n",
      "Using 8 dataloader workers\n",
      "Logging results to \u001b[1mruns\\detect\\boat-nano-optimized\u001b[0m\n",
      "Starting training for 50 epochs...\n",
      "\n",
      "      Epoch    GPU_mem   box_loss   cls_loss   dfl_loss  Instances       Size\n"
     ]
    },
    {
     "name": "stderr",
     "output_type": "stream",
     "text": [
      "       1/50      3.79G      2.202      3.509      1.067          1        640: 100%|██████████| 227/227 [00:44<00:00,  5.05it/s]\n",
      "                 Class     Images  Instances      Box(P          R      mAP50  mAP50-95): 100%|██████████| 15/15 [00:03<00:00,  4.41it/s]"
     ]
    },
    {
     "name": "stdout",
     "output_type": "stream",
     "text": [
      "                   all        452        383      0.652      0.608      0.592      0.226\n"
     ]
    },
    {
     "name": "stderr",
     "output_type": "stream",
     "text": [
      "\n"
     ]
    },
    {
     "name": "stdout",
     "output_type": "stream",
     "text": [
      "\n",
      "      Epoch    GPU_mem   box_loss   cls_loss   dfl_loss  Instances       Size\n"
     ]
    },
    {
     "name": "stderr",
     "output_type": "stream",
     "text": [
      "       2/50       3.8G      2.187        1.9      1.041          0        576: 100%|██████████| 227/227 [00:37<00:00,  6.09it/s]\n",
      "                 Class     Images  Instances      Box(P          R      mAP50  mAP50-95): 100%|██████████| 15/15 [00:02<00:00,  5.46it/s]"
     ]
    },
    {
     "name": "stdout",
     "output_type": "stream",
     "text": [
      "                   all        452        383      0.623      0.579      0.583      0.226\n"
     ]
    },
    {
     "name": "stderr",
     "output_type": "stream",
     "text": [
      "\n"
     ]
    },
    {
     "name": "stdout",
     "output_type": "stream",
     "text": [
      "\n",
      "      Epoch    GPU_mem   box_loss   cls_loss   dfl_loss  Instances       Size\n"
     ]
    },
    {
     "name": "stderr",
     "output_type": "stream",
     "text": [
      "       3/50      3.81G      2.208      1.872      1.047          1        448: 100%|██████████| 227/227 [00:35<00:00,  6.40it/s]\n",
      "                 Class     Images  Instances      Box(P          R      mAP50  mAP50-95): 100%|██████████| 15/15 [00:02<00:00,  5.23it/s]"
     ]
    },
    {
     "name": "stdout",
     "output_type": "stream",
     "text": [
      "                   all        452        383      0.687      0.543      0.599      0.231\n"
     ]
    },
    {
     "name": "stderr",
     "output_type": "stream",
     "text": [
      "\n"
     ]
    },
    {
     "name": "stdout",
     "output_type": "stream",
     "text": [
      "\n",
      "      Epoch    GPU_mem   box_loss   cls_loss   dfl_loss  Instances       Size\n"
     ]
    },
    {
     "name": "stderr",
     "output_type": "stream",
     "text": [
      "       4/50      3.82G      2.246      1.829      1.075          3        736: 100%|██████████| 227/227 [00:35<00:00,  6.37it/s]\n",
      "                 Class     Images  Instances      Box(P          R      mAP50  mAP50-95): 100%|██████████| 15/15 [00:02<00:00,  5.29it/s]"
     ]
    },
    {
     "name": "stdout",
     "output_type": "stream",
     "text": [
      "                   all        452        383      0.431      0.464      0.374      0.132\n"
     ]
    },
    {
     "name": "stderr",
     "output_type": "stream",
     "text": [
      "\n"
     ]
    },
    {
     "name": "stdout",
     "output_type": "stream",
     "text": [
      "\n",
      "      Epoch    GPU_mem   box_loss   cls_loss   dfl_loss  Instances       Size\n"
     ]
    },
    {
     "name": "stderr",
     "output_type": "stream",
     "text": [
      "       5/50      3.83G      2.274      1.792      1.077          2        512: 100%|██████████| 227/227 [00:34<00:00,  6.50it/s]\n",
      "                 Class     Images  Instances      Box(P          R      mAP50  mAP50-95): 100%|██████████| 15/15 [00:02<00:00,  5.32it/s]"
     ]
    },
    {
     "name": "stdout",
     "output_type": "stream",
     "text": [
      "                   all        452        383      0.555      0.556      0.503      0.184\n"
     ]
    },
    {
     "name": "stderr",
     "output_type": "stream",
     "text": [
      "\n"
     ]
    },
    {
     "name": "stdout",
     "output_type": "stream",
     "text": [
      "\n",
      "      Epoch    GPU_mem   box_loss   cls_loss   dfl_loss  Instances       Size\n"
     ]
    },
    {
     "name": "stderr",
     "output_type": "stream",
     "text": [
      "       6/50      3.83G      2.234      1.697      1.071          1        480: 100%|██████████| 227/227 [00:35<00:00,  6.48it/s]\n",
      "                 Class     Images  Instances      Box(P          R      mAP50  mAP50-95): 100%|██████████| 15/15 [00:02<00:00,  5.44it/s]"
     ]
    },
    {
     "name": "stdout",
     "output_type": "stream",
     "text": [
      "                   all        452        383      0.686      0.561      0.626      0.232\n"
     ]
    },
    {
     "name": "stderr",
     "output_type": "stream",
     "text": [
      "\n"
     ]
    },
    {
     "name": "stdout",
     "output_type": "stream",
     "text": [
      "\n",
      "      Epoch    GPU_mem   box_loss   cls_loss   dfl_loss  Instances       Size\n"
     ]
    },
    {
     "name": "stderr",
     "output_type": "stream",
     "text": [
      "       7/50      3.83G      2.148      1.639      1.061          0        352: 100%|██████████| 227/227 [00:36<00:00,  6.21it/s]\n",
      "                 Class     Images  Instances      Box(P          R      mAP50  mAP50-95): 100%|██████████| 15/15 [00:02<00:00,  5.22it/s]"
     ]
    },
    {
     "name": "stdout",
     "output_type": "stream",
     "text": [
      "                   all        452        383      0.666      0.605      0.593      0.209\n"
     ]
    },
    {
     "name": "stderr",
     "output_type": "stream",
     "text": [
      "\n"
     ]
    },
    {
     "name": "stdout",
     "output_type": "stream",
     "text": [
      "\n",
      "      Epoch    GPU_mem   box_loss   cls_loss   dfl_loss  Instances       Size\n"
     ]
    },
    {
     "name": "stderr",
     "output_type": "stream",
     "text": [
      "       8/50      3.83G      2.185      1.653      1.073          6        736: 100%|██████████| 227/227 [00:35<00:00,  6.37it/s]\n",
      "                 Class     Images  Instances      Box(P          R      mAP50  mAP50-95): 100%|██████████| 15/15 [00:02<00:00,  5.36it/s]"
     ]
    },
    {
     "name": "stdout",
     "output_type": "stream",
     "text": [
      "                   all        452        383      0.663      0.626      0.649      0.254\n"
     ]
    },
    {
     "name": "stderr",
     "output_type": "stream",
     "text": [
      "\n"
     ]
    },
    {
     "name": "stdout",
     "output_type": "stream",
     "text": [
      "\n",
      "      Epoch    GPU_mem   box_loss   cls_loss   dfl_loss  Instances       Size\n"
     ]
    },
    {
     "name": "stderr",
     "output_type": "stream",
     "text": [
      "       9/50         4G       2.16      1.571      1.057          0        672: 100%|██████████| 227/227 [00:36<00:00,  6.22it/s]\n",
      "                 Class     Images  Instances      Box(P          R      mAP50  mAP50-95): 100%|██████████| 15/15 [00:02<00:00,  5.10it/s]"
     ]
    },
    {
     "name": "stdout",
     "output_type": "stream",
     "text": [
      "                   all        452        383      0.705      0.606      0.632      0.217\n"
     ]
    },
    {
     "name": "stderr",
     "output_type": "stream",
     "text": [
      "\n"
     ]
    },
    {
     "name": "stdout",
     "output_type": "stream",
     "text": [
      "\n",
      "      Epoch    GPU_mem   box_loss   cls_loss   dfl_loss  Instances       Size\n"
     ]
    },
    {
     "name": "stderr",
     "output_type": "stream",
     "text": [
      "      10/50      3.37G      2.198      1.653      1.056          0        640: 100%|██████████| 227/227 [00:36<00:00,  6.22it/s]\n",
      "                 Class     Images  Instances      Box(P          R      mAP50  mAP50-95): 100%|██████████| 15/15 [00:02<00:00,  5.32it/s]"
     ]
    },
    {
     "name": "stdout",
     "output_type": "stream",
     "text": [
      "                   all        452        383        0.7      0.566      0.624      0.241\n"
     ]
    },
    {
     "name": "stderr",
     "output_type": "stream",
     "text": [
      "\n"
     ]
    },
    {
     "name": "stdout",
     "output_type": "stream",
     "text": [
      "\n",
      "      Epoch    GPU_mem   box_loss   cls_loss   dfl_loss  Instances       Size\n"
     ]
    },
    {
     "name": "stderr",
     "output_type": "stream",
     "text": [
      "      11/50      3.55G      2.125      1.568       1.04          0        768: 100%|██████████| 227/227 [00:36<00:00,  6.23it/s]\n",
      "                 Class     Images  Instances      Box(P          R      mAP50  mAP50-95): 100%|██████████| 15/15 [00:02<00:00,  5.10it/s]"
     ]
    },
    {
     "name": "stdout",
     "output_type": "stream",
     "text": [
      "                   all        452        383      0.844      0.614      0.717      0.288\n"
     ]
    },
    {
     "name": "stderr",
     "output_type": "stream",
     "text": [
      "\n"
     ]
    },
    {
     "name": "stdout",
     "output_type": "stream",
     "text": [
      "\n",
      "      Epoch    GPU_mem   box_loss   cls_loss   dfl_loss  Instances       Size\n"
     ]
    },
    {
     "name": "stderr",
     "output_type": "stream",
     "text": [
      "      12/50      3.55G      2.063      1.457       1.04          0        256: 100%|██████████| 227/227 [00:36<00:00,  6.23it/s]\n",
      "                 Class     Images  Instances      Box(P          R      mAP50  mAP50-95): 100%|██████████| 15/15 [00:03<00:00,  4.87it/s]"
     ]
    },
    {
     "name": "stdout",
     "output_type": "stream",
     "text": [
      "                   all        452        383      0.719      0.635      0.686      0.273\n"
     ]
    },
    {
     "name": "stderr",
     "output_type": "stream",
     "text": [
      "\n"
     ]
    },
    {
     "name": "stdout",
     "output_type": "stream",
     "text": [
      "\n",
      "      Epoch    GPU_mem   box_loss   cls_loss   dfl_loss  Instances       Size\n"
     ]
    },
    {
     "name": "stderr",
     "output_type": "stream",
     "text": [
      "      13/50      3.74G      2.043      1.455      1.037          2        320: 100%|██████████| 227/227 [00:36<00:00,  6.29it/s]\n",
      "                 Class     Images  Instances      Box(P          R      mAP50  mAP50-95): 100%|██████████| 15/15 [00:02<00:00,  5.33it/s]"
     ]
    },
    {
     "name": "stdout",
     "output_type": "stream",
     "text": [
      "                   all        452        383      0.781      0.642      0.712      0.283\n"
     ]
    },
    {
     "name": "stderr",
     "output_type": "stream",
     "text": [
      "\n"
     ]
    },
    {
     "name": "stdout",
     "output_type": "stream",
     "text": [
      "\n",
      "      Epoch    GPU_mem   box_loss   cls_loss   dfl_loss  Instances       Size\n"
     ]
    },
    {
     "name": "stderr",
     "output_type": "stream",
     "text": [
      "      14/50      3.74G      2.073      1.483      1.028          1        736: 100%|██████████| 227/227 [00:35<00:00,  6.43it/s]\n",
      "                 Class     Images  Instances      Box(P          R      mAP50  mAP50-95): 100%|██████████| 15/15 [00:02<00:00,  5.26it/s]"
     ]
    },
    {
     "name": "stdout",
     "output_type": "stream",
     "text": [
      "                   all        452        383      0.728      0.629      0.693      0.273\n"
     ]
    },
    {
     "name": "stderr",
     "output_type": "stream",
     "text": [
      "\n"
     ]
    },
    {
     "name": "stdout",
     "output_type": "stream",
     "text": [
      "\n",
      "      Epoch    GPU_mem   box_loss   cls_loss   dfl_loss  Instances       Size\n"
     ]
    },
    {
     "name": "stderr",
     "output_type": "stream",
     "text": [
      "      15/50      3.74G      2.091      1.483      1.027          2        256: 100%|██████████| 227/227 [00:34<00:00,  6.50it/s]\n",
      "                 Class     Images  Instances      Box(P          R      mAP50  mAP50-95): 100%|██████████| 15/15 [00:02<00:00,  5.48it/s]"
     ]
    },
    {
     "name": "stdout",
     "output_type": "stream",
     "text": [
      "                   all        452        383      0.738      0.611      0.661      0.234\n"
     ]
    },
    {
     "name": "stderr",
     "output_type": "stream",
     "text": [
      "\n"
     ]
    },
    {
     "name": "stdout",
     "output_type": "stream",
     "text": [
      "\n",
      "      Epoch    GPU_mem   box_loss   cls_loss   dfl_loss  Instances       Size\n"
     ]
    },
    {
     "name": "stderr",
     "output_type": "stream",
     "text": [
      "      16/50      3.76G      2.012      1.428      1.035          1        480: 100%|██████████| 227/227 [00:34<00:00,  6.50it/s]\n",
      "                 Class     Images  Instances      Box(P          R      mAP50  mAP50-95): 100%|██████████| 15/15 [00:02<00:00,  5.39it/s]"
     ]
    },
    {
     "name": "stdout",
     "output_type": "stream",
     "text": [
      "                   all        452        383      0.816      0.673      0.749      0.314\n"
     ]
    },
    {
     "name": "stderr",
     "output_type": "stream",
     "text": [
      "\n"
     ]
    },
    {
     "name": "stdout",
     "output_type": "stream",
     "text": [
      "\n",
      "      Epoch    GPU_mem   box_loss   cls_loss   dfl_loss  Instances       Size\n"
     ]
    },
    {
     "name": "stderr",
     "output_type": "stream",
     "text": [
      "      17/50      3.76G      2.062      1.423      1.025          1        480: 100%|██████████| 227/227 [00:35<00:00,  6.48it/s]\n",
      "                 Class     Images  Instances      Box(P          R      mAP50  mAP50-95): 100%|██████████| 15/15 [00:02<00:00,  5.43it/s]"
     ]
    },
    {
     "name": "stdout",
     "output_type": "stream",
     "text": [
      "                   all        452        383      0.789      0.663      0.718      0.285\n"
     ]
    },
    {
     "name": "stderr",
     "output_type": "stream",
     "text": [
      "\n"
     ]
    },
    {
     "name": "stdout",
     "output_type": "stream",
     "text": [
      "\n",
      "      Epoch    GPU_mem   box_loss   cls_loss   dfl_loss  Instances       Size\n"
     ]
    },
    {
     "name": "stderr",
     "output_type": "stream",
     "text": [
      "      18/50      3.76G      2.013      1.385      1.008          1        672: 100%|██████████| 227/227 [00:34<00:00,  6.51it/s]\n",
      "                 Class     Images  Instances      Box(P          R      mAP50  mAP50-95): 100%|██████████| 15/15 [00:02<00:00,  5.32it/s]"
     ]
    },
    {
     "name": "stdout",
     "output_type": "stream",
     "text": [
      "                   all        452        383      0.762      0.658      0.734      0.317\n"
     ]
    },
    {
     "name": "stderr",
     "output_type": "stream",
     "text": [
      "\n"
     ]
    },
    {
     "name": "stdout",
     "output_type": "stream",
     "text": [
      "\n",
      "      Epoch    GPU_mem   box_loss   cls_loss   dfl_loss  Instances       Size\n"
     ]
    },
    {
     "name": "stderr",
     "output_type": "stream",
     "text": [
      "      19/50      3.76G       2.03      1.411      1.015          2        352: 100%|██████████| 227/227 [00:35<00:00,  6.46it/s]\n",
      "                 Class     Images  Instances      Box(P          R      mAP50  mAP50-95): 100%|██████████| 15/15 [00:02<00:00,  5.07it/s]"
     ]
    },
    {
     "name": "stdout",
     "output_type": "stream",
     "text": [
      "                   all        452        383       0.76      0.671      0.747      0.307\n"
     ]
    },
    {
     "name": "stderr",
     "output_type": "stream",
     "text": [
      "\n"
     ]
    },
    {
     "name": "stdout",
     "output_type": "stream",
     "text": [
      "\n",
      "      Epoch    GPU_mem   box_loss   cls_loss   dfl_loss  Instances       Size\n"
     ]
    },
    {
     "name": "stderr",
     "output_type": "stream",
     "text": [
      "      20/50      3.76G      1.975      1.358     0.9914          0        480: 100%|██████████| 227/227 [00:36<00:00,  6.18it/s]\n",
      "                 Class     Images  Instances      Box(P          R      mAP50  mAP50-95): 100%|██████████| 15/15 [00:02<00:00,  5.46it/s]"
     ]
    },
    {
     "name": "stdout",
     "output_type": "stream",
     "text": [
      "                   all        452        383      0.867      0.663      0.785      0.332\n"
     ]
    },
    {
     "name": "stderr",
     "output_type": "stream",
     "text": [
      "\n"
     ]
    },
    {
     "name": "stdout",
     "output_type": "stream",
     "text": [
      "\n",
      "      Epoch    GPU_mem   box_loss   cls_loss   dfl_loss  Instances       Size\n"
     ]
    },
    {
     "name": "stderr",
     "output_type": "stream",
     "text": [
      "      21/50      3.76G      2.021      1.375     0.9933          0        640: 100%|██████████| 227/227 [00:35<00:00,  6.36it/s]\n",
      "                 Class     Images  Instances      Box(P          R      mAP50  mAP50-95): 100%|██████████| 15/15 [00:02<00:00,  5.14it/s]"
     ]
    },
    {
     "name": "stdout",
     "output_type": "stream",
     "text": [
      "                   all        452        383      0.803      0.674      0.769      0.313\n"
     ]
    },
    {
     "name": "stderr",
     "output_type": "stream",
     "text": [
      "\n"
     ]
    },
    {
     "name": "stdout",
     "output_type": "stream",
     "text": [
      "\n",
      "      Epoch    GPU_mem   box_loss   cls_loss   dfl_loss  Instances       Size\n"
     ]
    },
    {
     "name": "stderr",
     "output_type": "stream",
     "text": [
      "      22/50      3.76G       1.97      1.339      1.004          0        576: 100%|██████████| 227/227 [00:36<00:00,  6.28it/s]\n",
      "                 Class     Images  Instances      Box(P          R      mAP50  mAP50-95): 100%|██████████| 15/15 [00:02<00:00,  5.05it/s]"
     ]
    },
    {
     "name": "stdout",
     "output_type": "stream",
     "text": [
      "                   all        452        383      0.839      0.642      0.759      0.316\n"
     ]
    },
    {
     "name": "stderr",
     "output_type": "stream",
     "text": [
      "\n"
     ]
    },
    {
     "name": "stdout",
     "output_type": "stream",
     "text": [
      "\n",
      "      Epoch    GPU_mem   box_loss   cls_loss   dfl_loss  Instances       Size\n"
     ]
    },
    {
     "name": "stderr",
     "output_type": "stream",
     "text": [
      "      23/50      3.76G      1.933      1.312      1.002          0        576: 100%|██████████| 227/227 [00:36<00:00,  6.26it/s]\n",
      "                 Class     Images  Instances      Box(P          R      mAP50  mAP50-95): 100%|██████████| 15/15 [00:02<00:00,  5.21it/s]"
     ]
    },
    {
     "name": "stdout",
     "output_type": "stream",
     "text": [
      "                   all        452        383      0.773      0.693      0.751      0.317\n"
     ]
    },
    {
     "name": "stderr",
     "output_type": "stream",
     "text": [
      "\n"
     ]
    },
    {
     "name": "stdout",
     "output_type": "stream",
     "text": [
      "\n",
      "      Epoch    GPU_mem   box_loss   cls_loss   dfl_loss  Instances       Size\n"
     ]
    },
    {
     "name": "stderr",
     "output_type": "stream",
     "text": [
      "      24/50      3.76G       1.94      1.338      1.007          2        288: 100%|██████████| 227/227 [00:36<00:00,  6.30it/s]\n",
      "                 Class     Images  Instances      Box(P          R      mAP50  mAP50-95): 100%|██████████| 15/15 [00:02<00:00,  5.60it/s]"
     ]
    },
    {
     "name": "stdout",
     "output_type": "stream",
     "text": [
      "                   all        452        383      0.851      0.714      0.798      0.335\n"
     ]
    },
    {
     "name": "stderr",
     "output_type": "stream",
     "text": [
      "\n"
     ]
    },
    {
     "name": "stdout",
     "output_type": "stream",
     "text": [
      "\n",
      "      Epoch    GPU_mem   box_loss   cls_loss   dfl_loss  Instances       Size\n"
     ]
    },
    {
     "name": "stderr",
     "output_type": "stream",
     "text": [
      "      25/50      3.76G      1.931      1.301     0.9895          0        288: 100%|██████████| 227/227 [00:34<00:00,  6.53it/s]\n",
      "                 Class     Images  Instances      Box(P          R      mAP50  mAP50-95): 100%|██████████| 15/15 [00:02<00:00,  5.53it/s]"
     ]
    },
    {
     "name": "stdout",
     "output_type": "stream",
     "text": [
      "                   all        452        383      0.787      0.713      0.791      0.326\n"
     ]
    },
    {
     "name": "stderr",
     "output_type": "stream",
     "text": [
      "\n"
     ]
    },
    {
     "name": "stdout",
     "output_type": "stream",
     "text": [
      "\n",
      "      Epoch    GPU_mem   box_loss   cls_loss   dfl_loss  Instances       Size\n"
     ]
    },
    {
     "name": "stderr",
     "output_type": "stream",
     "text": [
      "      26/50      3.76G      1.955      1.283     0.9958          1        736: 100%|██████████| 227/227 [00:27<00:00,  8.27it/s]\n",
      "                 Class     Images  Instances      Box(P          R      mAP50  mAP50-95): 100%|██████████| 15/15 [00:02<00:00,  5.66it/s]"
     ]
    },
    {
     "name": "stdout",
     "output_type": "stream",
     "text": [
      "                   all        452        383      0.798      0.734      0.809      0.344\n"
     ]
    },
    {
     "name": "stderr",
     "output_type": "stream",
     "text": [
      "\n"
     ]
    },
    {
     "name": "stdout",
     "output_type": "stream",
     "text": [
      "\n",
      "      Epoch    GPU_mem   box_loss   cls_loss   dfl_loss  Instances       Size\n"
     ]
    },
    {
     "name": "stderr",
     "output_type": "stream",
     "text": [
      "      27/50      3.76G      1.945      1.289     0.9862          0        544: 100%|██████████| 227/227 [00:26<00:00,  8.46it/s]\n",
      "                 Class     Images  Instances      Box(P          R      mAP50  mAP50-95): 100%|██████████| 15/15 [00:01<00:00,  9.91it/s]"
     ]
    },
    {
     "name": "stdout",
     "output_type": "stream",
     "text": [
      "                   all        452        383      0.779      0.697      0.791      0.332\n"
     ]
    },
    {
     "name": "stderr",
     "output_type": "stream",
     "text": [
      "\n"
     ]
    },
    {
     "name": "stdout",
     "output_type": "stream",
     "text": [
      "\n",
      "      Epoch    GPU_mem   box_loss   cls_loss   dfl_loss  Instances       Size\n"
     ]
    },
    {
     "name": "stderr",
     "output_type": "stream",
     "text": [
      "      28/50      3.76G      1.912      1.233     0.9807          0        288: 100%|██████████| 227/227 [00:22<00:00, 10.26it/s]\n",
      "                 Class     Images  Instances      Box(P          R      mAP50  mAP50-95): 100%|██████████| 15/15 [00:01<00:00,  9.66it/s]"
     ]
    },
    {
     "name": "stdout",
     "output_type": "stream",
     "text": [
      "                   all        452        383      0.842      0.709      0.796      0.316\n"
     ]
    },
    {
     "name": "stderr",
     "output_type": "stream",
     "text": [
      "\n"
     ]
    },
    {
     "name": "stdout",
     "output_type": "stream",
     "text": [
      "\n",
      "      Epoch    GPU_mem   box_loss   cls_loss   dfl_loss  Instances       Size\n"
     ]
    },
    {
     "name": "stderr",
     "output_type": "stream",
     "text": [
      "      29/50      3.76G       1.91      1.268     0.9756          1        320: 100%|██████████| 227/227 [00:22<00:00, 10.14it/s]\n",
      "                 Class     Images  Instances      Box(P          R      mAP50  mAP50-95): 100%|██████████| 15/15 [00:01<00:00,  9.89it/s]"
     ]
    },
    {
     "name": "stdout",
     "output_type": "stream",
     "text": [
      "                   all        452        383      0.865        0.7      0.806      0.361\n"
     ]
    },
    {
     "name": "stderr",
     "output_type": "stream",
     "text": [
      "\n"
     ]
    },
    {
     "name": "stdout",
     "output_type": "stream",
     "text": [
      "\n",
      "      Epoch    GPU_mem   box_loss   cls_loss   dfl_loss  Instances       Size\n"
     ]
    },
    {
     "name": "stderr",
     "output_type": "stream",
     "text": [
      "      30/50      3.76G      1.933      1.253     0.9828          2        640: 100%|██████████| 227/227 [00:22<00:00, 10.18it/s]\n",
      "                 Class     Images  Instances      Box(P          R      mAP50  mAP50-95): 100%|██████████| 15/15 [00:01<00:00,  9.66it/s]"
     ]
    },
    {
     "name": "stdout",
     "output_type": "stream",
     "text": [
      "                   all        452        383      0.832      0.718      0.803      0.336\n"
     ]
    },
    {
     "name": "stderr",
     "output_type": "stream",
     "text": [
      "\n"
     ]
    },
    {
     "name": "stdout",
     "output_type": "stream",
     "text": [
      "\n",
      "      Epoch    GPU_mem   box_loss   cls_loss   dfl_loss  Instances       Size\n"
     ]
    },
    {
     "name": "stderr",
     "output_type": "stream",
     "text": [
      "      31/50      3.76G      1.881      1.221     0.9697          0        736: 100%|██████████| 227/227 [00:22<00:00,  9.87it/s]\n",
      "                 Class     Images  Instances      Box(P          R      mAP50  mAP50-95): 100%|██████████| 15/15 [00:01<00:00,  9.68it/s]"
     ]
    },
    {
     "name": "stdout",
     "output_type": "stream",
     "text": [
      "                   all        452        383       0.83       0.69      0.766      0.311\n"
     ]
    },
    {
     "name": "stderr",
     "output_type": "stream",
     "text": [
      "\n"
     ]
    },
    {
     "name": "stdout",
     "output_type": "stream",
     "text": [
      "\n",
      "      Epoch    GPU_mem   box_loss   cls_loss   dfl_loss  Instances       Size\n"
     ]
    },
    {
     "name": "stderr",
     "output_type": "stream",
     "text": [
      "      32/50      3.98G      1.868      1.214     0.9722          0        384: 100%|██████████| 227/227 [00:23<00:00,  9.64it/s]\n",
      "                 Class     Images  Instances      Box(P          R      mAP50  mAP50-95): 100%|██████████| 15/15 [00:01<00:00,  9.63it/s]"
     ]
    },
    {
     "name": "stdout",
     "output_type": "stream",
     "text": [
      "                   all        452        383       0.87      0.752      0.824      0.357\n"
     ]
    },
    {
     "name": "stderr",
     "output_type": "stream",
     "text": [
      "\n"
     ]
    },
    {
     "name": "stdout",
     "output_type": "stream",
     "text": [
      "\n",
      "      Epoch    GPU_mem   box_loss   cls_loss   dfl_loss  Instances       Size\n"
     ]
    },
    {
     "name": "stderr",
     "output_type": "stream",
     "text": [
      "      33/50      3.98G      1.886      1.195     0.9672          0        288: 100%|██████████| 227/227 [00:22<00:00, 10.06it/s]\n",
      "                 Class     Images  Instances      Box(P          R      mAP50  mAP50-95): 100%|██████████| 15/15 [00:01<00:00,  9.55it/s]"
     ]
    },
    {
     "name": "stdout",
     "output_type": "stream",
     "text": [
      "                   all        452        383      0.833      0.692      0.778      0.321\n"
     ]
    },
    {
     "name": "stderr",
     "output_type": "stream",
     "text": [
      "\n"
     ]
    },
    {
     "name": "stdout",
     "output_type": "stream",
     "text": [
      "\n",
      "      Epoch    GPU_mem   box_loss   cls_loss   dfl_loss  Instances       Size\n"
     ]
    },
    {
     "name": "stderr",
     "output_type": "stream",
     "text": [
      "      34/50      3.98G       1.85       1.19     0.9582          0        608: 100%|██████████| 227/227 [00:22<00:00, 10.15it/s]\n",
      "                 Class     Images  Instances      Box(P          R      mAP50  mAP50-95): 100%|██████████| 15/15 [00:01<00:00,  9.66it/s]"
     ]
    },
    {
     "name": "stdout",
     "output_type": "stream",
     "text": [
      "                   all        452        383      0.824      0.721      0.796      0.346\n"
     ]
    },
    {
     "name": "stderr",
     "output_type": "stream",
     "text": [
      "\n"
     ]
    },
    {
     "name": "stdout",
     "output_type": "stream",
     "text": [
      "\n",
      "      Epoch    GPU_mem   box_loss   cls_loss   dfl_loss  Instances       Size\n"
     ]
    },
    {
     "name": "stderr",
     "output_type": "stream",
     "text": [
      "      35/50      3.98G      1.868      1.248     0.9731          1        672: 100%|██████████| 227/227 [00:21<00:00, 10.32it/s]\n",
      "                 Class     Images  Instances      Box(P          R      mAP50  mAP50-95): 100%|██████████| 15/15 [00:01<00:00,  9.47it/s]"
     ]
    },
    {
     "name": "stdout",
     "output_type": "stream",
     "text": [
      "                   all        452        383       0.79      0.738      0.792      0.335\n"
     ]
    },
    {
     "name": "stderr",
     "output_type": "stream",
     "text": [
      "\n"
     ]
    },
    {
     "name": "stdout",
     "output_type": "stream",
     "text": [
      "\n",
      "      Epoch    GPU_mem   box_loss   cls_loss   dfl_loss  Instances       Size\n"
     ]
    },
    {
     "name": "stderr",
     "output_type": "stream",
     "text": [
      "      36/50      3.98G      1.843      1.192     0.9692          1        256: 100%|██████████| 227/227 [00:21<00:00, 10.33it/s]\n",
      "                 Class     Images  Instances      Box(P          R      mAP50  mAP50-95): 100%|██████████| 15/15 [00:01<00:00,  9.64it/s]"
     ]
    },
    {
     "name": "stdout",
     "output_type": "stream",
     "text": [
      "                   all        452        383      0.835      0.734      0.812      0.347\n"
     ]
    },
    {
     "name": "stderr",
     "output_type": "stream",
     "text": [
      "\n"
     ]
    },
    {
     "name": "stdout",
     "output_type": "stream",
     "text": [
      "\n",
      "      Epoch    GPU_mem   box_loss   cls_loss   dfl_loss  Instances       Size\n"
     ]
    },
    {
     "name": "stderr",
     "output_type": "stream",
     "text": [
      "      37/50      3.98G      1.837      1.184     0.9614          1        256: 100%|██████████| 227/227 [00:22<00:00, 10.00it/s]\n",
      "                 Class     Images  Instances      Box(P          R      mAP50  mAP50-95): 100%|██████████| 15/15 [00:01<00:00,  9.58it/s]"
     ]
    },
    {
     "name": "stdout",
     "output_type": "stream",
     "text": [
      "                   all        452        383      0.799      0.757      0.825       0.35\n"
     ]
    },
    {
     "name": "stderr",
     "output_type": "stream",
     "text": [
      "\n"
     ]
    },
    {
     "name": "stdout",
     "output_type": "stream",
     "text": [
      "\n",
      "      Epoch    GPU_mem   box_loss   cls_loss   dfl_loss  Instances       Size\n"
     ]
    },
    {
     "name": "stderr",
     "output_type": "stream",
     "text": [
      "      38/50      3.98G      1.852      1.168     0.9614          0        704: 100%|██████████| 227/227 [00:22<00:00, 10.19it/s]\n",
      "                 Class     Images  Instances      Box(P          R      mAP50  mAP50-95): 100%|██████████| 15/15 [00:01<00:00,  9.61it/s]"
     ]
    },
    {
     "name": "stdout",
     "output_type": "stream",
     "text": [
      "                   all        452        383      0.871      0.725      0.836      0.355\n"
     ]
    },
    {
     "name": "stderr",
     "output_type": "stream",
     "text": [
      "\n"
     ]
    },
    {
     "name": "stdout",
     "output_type": "stream",
     "text": [
      "\n",
      "      Epoch    GPU_mem   box_loss   cls_loss   dfl_loss  Instances       Size\n"
     ]
    },
    {
     "name": "stderr",
     "output_type": "stream",
     "text": [
      "      39/50      3.98G      1.832      1.144     0.9583          4        544: 100%|██████████| 227/227 [00:21<00:00, 10.35it/s]\n",
      "                 Class     Images  Instances      Box(P          R      mAP50  mAP50-95): 100%|██████████| 15/15 [00:01<00:00,  9.72it/s]"
     ]
    },
    {
     "name": "stdout",
     "output_type": "stream",
     "text": [
      "                   all        452        383      0.809      0.783       0.82       0.36\n"
     ]
    },
    {
     "name": "stderr",
     "output_type": "stream",
     "text": [
      "\n"
     ]
    },
    {
     "name": "stdout",
     "output_type": "stream",
     "text": [
      "\n",
      "      Epoch    GPU_mem   box_loss   cls_loss   dfl_loss  Instances       Size\n"
     ]
    },
    {
     "name": "stderr",
     "output_type": "stream",
     "text": [
      "      40/50      3.98G      1.826      1.128      0.954          0        608: 100%|██████████| 227/227 [00:22<00:00, 10.02it/s]\n",
      "                 Class     Images  Instances      Box(P          R      mAP50  mAP50-95): 100%|██████████| 15/15 [00:01<00:00,  9.93it/s]"
     ]
    },
    {
     "name": "stdout",
     "output_type": "stream",
     "text": [
      "                   all        452        383      0.842      0.768      0.831      0.359\n"
     ]
    },
    {
     "name": "stderr",
     "output_type": "stream",
     "text": [
      "\n"
     ]
    },
    {
     "name": "stdout",
     "output_type": "stream",
     "text": [
      "Closing dataloader mosaic\n",
      "\n",
      "      Epoch    GPU_mem   box_loss   cls_loss   dfl_loss  Instances       Size\n"
     ]
    },
    {
     "name": "stderr",
     "output_type": "stream",
     "text": [
      "      41/50      3.98G      1.735     0.9835     0.9643          0        768: 100%|██████████| 227/227 [00:23<00:00,  9.81it/s]\n",
      "                 Class     Images  Instances      Box(P          R      mAP50  mAP50-95): 100%|██████████| 15/15 [00:01<00:00,  9.82it/s]"
     ]
    },
    {
     "name": "stdout",
     "output_type": "stream",
     "text": [
      "                   all        452        383      0.819      0.705       0.79      0.338\n"
     ]
    },
    {
     "name": "stderr",
     "output_type": "stream",
     "text": [
      "\n"
     ]
    },
    {
     "name": "stdout",
     "output_type": "stream",
     "text": [
      "\n",
      "      Epoch    GPU_mem   box_loss   cls_loss   dfl_loss  Instances       Size\n"
     ]
    },
    {
     "name": "stderr",
     "output_type": "stream",
     "text": [
      "      42/50      3.98G      1.752      0.986     0.9554          1        768: 100%|██████████| 227/227 [00:21<00:00, 10.48it/s]\n",
      "                 Class     Images  Instances      Box(P          R      mAP50  mAP50-95): 100%|██████████| 15/15 [00:01<00:00, 10.00it/s]"
     ]
    },
    {
     "name": "stdout",
     "output_type": "stream",
     "text": [
      "                   all        452        383      0.805      0.742      0.815      0.355\n"
     ]
    },
    {
     "name": "stderr",
     "output_type": "stream",
     "text": [
      "\n"
     ]
    },
    {
     "name": "stdout",
     "output_type": "stream",
     "text": [
      "\n",
      "      Epoch    GPU_mem   box_loss   cls_loss   dfl_loss  Instances       Size\n"
     ]
    },
    {
     "name": "stderr",
     "output_type": "stream",
     "text": [
      "      43/50      3.98G      1.719     0.9399      0.952          0        320: 100%|██████████| 227/227 [00:21<00:00, 10.55it/s]\n",
      "                 Class     Images  Instances      Box(P          R      mAP50  mAP50-95): 100%|██████████| 15/15 [00:01<00:00, 10.16it/s]"
     ]
    },
    {
     "name": "stdout",
     "output_type": "stream",
     "text": [
      "                   all        452        383      0.856      0.755      0.843      0.376\n"
     ]
    },
    {
     "name": "stderr",
     "output_type": "stream",
     "text": [
      "\n"
     ]
    },
    {
     "name": "stdout",
     "output_type": "stream",
     "text": [
      "\n",
      "      Epoch    GPU_mem   box_loss   cls_loss   dfl_loss  Instances       Size\n"
     ]
    },
    {
     "name": "stderr",
     "output_type": "stream",
     "text": [
      "      44/50      3.98G      1.746     0.9586     0.9509          1        608: 100%|██████████| 227/227 [00:22<00:00, 10.30it/s]\n",
      "                 Class     Images  Instances      Box(P          R      mAP50  mAP50-95): 100%|██████████| 15/15 [00:01<00:00, 10.14it/s]"
     ]
    },
    {
     "name": "stdout",
     "output_type": "stream",
     "text": [
      "                   all        452        383      0.882      0.736      0.849      0.374\n"
     ]
    },
    {
     "name": "stderr",
     "output_type": "stream",
     "text": [
      "\n"
     ]
    },
    {
     "name": "stdout",
     "output_type": "stream",
     "text": [
      "\n",
      "      Epoch    GPU_mem   box_loss   cls_loss   dfl_loss  Instances       Size\n"
     ]
    },
    {
     "name": "stderr",
     "output_type": "stream",
     "text": [
      "      45/50      3.98G      1.732      0.937     0.9796          1        608: 100%|██████████| 227/227 [00:23<00:00,  9.77it/s]\n",
      "                 Class     Images  Instances      Box(P          R      mAP50  mAP50-95): 100%|██████████| 15/15 [00:01<00:00, 10.18it/s]"
     ]
    },
    {
     "name": "stdout",
     "output_type": "stream",
     "text": [
      "                   all        452        383      0.884       0.71      0.826      0.352\n"
     ]
    },
    {
     "name": "stderr",
     "output_type": "stream",
     "text": [
      "\n"
     ]
    },
    {
     "name": "stdout",
     "output_type": "stream",
     "text": [
      "\n",
      "      Epoch    GPU_mem   box_loss   cls_loss   dfl_loss  Instances       Size\n"
     ]
    },
    {
     "name": "stderr",
     "output_type": "stream",
     "text": [
      "      46/50      3.98G      1.721       0.93     0.9609          1        320: 100%|██████████| 227/227 [00:22<00:00,  9.96it/s]\n",
      "                 Class     Images  Instances      Box(P          R      mAP50  mAP50-95): 100%|██████████| 15/15 [00:01<00:00,  9.83it/s]"
     ]
    },
    {
     "name": "stdout",
     "output_type": "stream",
     "text": [
      "                   all        452        383      0.858      0.771      0.845      0.381\n"
     ]
    },
    {
     "name": "stderr",
     "output_type": "stream",
     "text": [
      "\n"
     ]
    },
    {
     "name": "stdout",
     "output_type": "stream",
     "text": [
      "\n",
      "      Epoch    GPU_mem   box_loss   cls_loss   dfl_loss  Instances       Size\n"
     ]
    },
    {
     "name": "stderr",
     "output_type": "stream",
     "text": [
      "      47/50      3.98G      1.702     0.9314     0.9628          1        640: 100%|██████████| 227/227 [00:21<00:00, 10.42it/s]\n",
      "                 Class     Images  Instances      Box(P          R      mAP50  mAP50-95): 100%|██████████| 15/15 [00:01<00:00, 10.14it/s]"
     ]
    },
    {
     "name": "stdout",
     "output_type": "stream",
     "text": [
      "                   all        452        383      0.873      0.781      0.859      0.383\n"
     ]
    },
    {
     "name": "stderr",
     "output_type": "stream",
     "text": [
      "\n"
     ]
    },
    {
     "name": "stdout",
     "output_type": "stream",
     "text": [
      "\n",
      "      Epoch    GPU_mem   box_loss   cls_loss   dfl_loss  Instances       Size\n"
     ]
    },
    {
     "name": "stderr",
     "output_type": "stream",
     "text": [
      "      48/50      3.99G      1.686     0.9038     0.9514          4        736: 100%|██████████| 227/227 [00:22<00:00, 10.04it/s]\n",
      "                 Class     Images  Instances      Box(P          R      mAP50  mAP50-95): 100%|██████████| 15/15 [00:01<00:00, 10.18it/s]"
     ]
    },
    {
     "name": "stdout",
     "output_type": "stream",
     "text": [
      "                   all        452        383      0.869      0.765       0.84      0.369\n"
     ]
    },
    {
     "name": "stderr",
     "output_type": "stream",
     "text": [
      "\n"
     ]
    },
    {
     "name": "stdout",
     "output_type": "stream",
     "text": [
      "\n",
      "      Epoch    GPU_mem   box_loss   cls_loss   dfl_loss  Instances       Size\n"
     ]
    },
    {
     "name": "stderr",
     "output_type": "stream",
     "text": [
      "      49/50      3.99G      1.708     0.9452     0.9527          0        512: 100%|██████████| 227/227 [00:23<00:00,  9.78it/s]\n",
      "                 Class     Images  Instances      Box(P          R      mAP50  mAP50-95): 100%|██████████| 15/15 [00:01<00:00, 10.24it/s]"
     ]
    },
    {
     "name": "stdout",
     "output_type": "stream",
     "text": [
      "                   all        452        383      0.881      0.757      0.836      0.366\n"
     ]
    },
    {
     "name": "stderr",
     "output_type": "stream",
     "text": [
      "\n"
     ]
    },
    {
     "name": "stdout",
     "output_type": "stream",
     "text": [
      "\n",
      "      Epoch    GPU_mem   box_loss   cls_loss   dfl_loss  Instances       Size\n"
     ]
    },
    {
     "name": "stderr",
     "output_type": "stream",
     "text": [
      "      50/50      3.99G      1.672     0.8993     0.9569          0        384: 100%|██████████| 227/227 [00:22<00:00, 10.27it/s]\n",
      "                 Class     Images  Instances      Box(P          R      mAP50  mAP50-95): 100%|██████████| 15/15 [00:01<00:00,  9.96it/s]"
     ]
    },
    {
     "name": "stdout",
     "output_type": "stream",
     "text": [
      "                   all        452        383      0.899      0.765      0.856      0.376\n"
     ]
    },
    {
     "name": "stderr",
     "output_type": "stream",
     "text": [
      "\n"
     ]
    },
    {
     "name": "stdout",
     "output_type": "stream",
     "text": [
      "\n",
      "50 epochs completed in 0.451 hours.\n",
      "Optimizer stripped from runs\\detect\\boat-nano-optimized\\weights\\last.pt, 6.2MB\n",
      "Optimizer stripped from runs\\detect\\boat-nano-optimized\\weights\\best.pt, 6.2MB\n",
      "\n",
      "Validating runs\\detect\\boat-nano-optimized\\weights\\best.pt...\n",
      "Ultralytics 8.3.126  Python-3.12.10 torch-2.7.0+cu128 CUDA:0 (NVIDIA GeForce RTX 4060 Laptop GPU, 8188MiB)\n",
      "Model summary (fused): 72 layers, 3,005,843 parameters, 0 gradients, 8.1 GFLOPs\n"
     ]
    },
    {
     "name": "stderr",
     "output_type": "stream",
     "text": [
      "                 Class     Images  Instances      Box(P          R      mAP50  mAP50-95): 100%|██████████| 15/15 [00:02<00:00,  5.54it/s]\n"
     ]
    },
    {
     "name": "stdout",
     "output_type": "stream",
     "text": [
      "                   all        452        383      0.791       0.77      0.823      0.366\n",
      "Speed: 0.1ms preprocess, 3.4ms inference, 0.0ms loss, 0.9ms postprocess per image\n",
      "Results saved to \u001b[1mruns\\detect\\boat-nano-optimized\u001b[0m\n"
     ]
    },
    {
     "data": {
      "text/plain": [
       "ultralytics.utils.metrics.DetMetrics object with attributes:\n",
       "\n",
       "ap_class_index: array([0])\n",
       "box: ultralytics.utils.metrics.Metric object\n",
       "confusion_matrix: <ultralytics.utils.metrics.ConfusionMatrix object at 0x00000166A14B8650>\n",
       "curves: ['Precision-Recall(B)', 'F1-Confidence(B)', 'Precision-Confidence(B)', 'Recall-Confidence(B)']\n",
       "curves_results: [[array([          0,    0.001001,    0.002002,    0.003003,    0.004004,    0.005005,    0.006006,    0.007007,    0.008008,    0.009009,     0.01001,    0.011011,    0.012012,    0.013013,    0.014014,    0.015015,    0.016016,    0.017017,    0.018018,    0.019019,     0.02002,    0.021021,    0.022022,    0.023023,\n",
       "          0.024024,    0.025025,    0.026026,    0.027027,    0.028028,    0.029029,     0.03003,    0.031031,    0.032032,    0.033033,    0.034034,    0.035035,    0.036036,    0.037037,    0.038038,    0.039039,     0.04004,    0.041041,    0.042042,    0.043043,    0.044044,    0.045045,    0.046046,    0.047047,\n",
       "          0.048048,    0.049049,     0.05005,    0.051051,    0.052052,    0.053053,    0.054054,    0.055055,    0.056056,    0.057057,    0.058058,    0.059059,     0.06006,    0.061061,    0.062062,    0.063063,    0.064064,    0.065065,    0.066066,    0.067067,    0.068068,    0.069069,     0.07007,    0.071071,\n",
       "          0.072072,    0.073073,    0.074074,    0.075075,    0.076076,    0.077077,    0.078078,    0.079079,     0.08008,    0.081081,    0.082082,    0.083083,    0.084084,    0.085085,    0.086086,    0.087087,    0.088088,    0.089089,     0.09009,    0.091091,    0.092092,    0.093093,    0.094094,    0.095095,\n",
       "          0.096096,    0.097097,    0.098098,    0.099099,      0.1001,      0.1011,      0.1021,      0.1031,      0.1041,     0.10511,     0.10611,     0.10711,     0.10811,     0.10911,     0.11011,     0.11111,     0.11211,     0.11311,     0.11411,     0.11512,     0.11612,     0.11712,     0.11812,     0.11912,\n",
       "           0.12012,     0.12112,     0.12212,     0.12312,     0.12412,     0.12513,     0.12613,     0.12713,     0.12813,     0.12913,     0.13013,     0.13113,     0.13213,     0.13313,     0.13413,     0.13514,     0.13614,     0.13714,     0.13814,     0.13914,     0.14014,     0.14114,     0.14214,     0.14314,\n",
       "           0.14414,     0.14515,     0.14615,     0.14715,     0.14815,     0.14915,     0.15015,     0.15115,     0.15215,     0.15315,     0.15415,     0.15516,     0.15616,     0.15716,     0.15816,     0.15916,     0.16016,     0.16116,     0.16216,     0.16316,     0.16416,     0.16517,     0.16617,     0.16717,\n",
       "           0.16817,     0.16917,     0.17017,     0.17117,     0.17217,     0.17317,     0.17417,     0.17518,     0.17618,     0.17718,     0.17818,     0.17918,     0.18018,     0.18118,     0.18218,     0.18318,     0.18418,     0.18519,     0.18619,     0.18719,     0.18819,     0.18919,     0.19019,     0.19119,\n",
       "           0.19219,     0.19319,     0.19419,      0.1952,      0.1962,      0.1972,      0.1982,      0.1992,      0.2002,      0.2012,      0.2022,      0.2032,      0.2042,     0.20521,     0.20621,     0.20721,     0.20821,     0.20921,     0.21021,     0.21121,     0.21221,     0.21321,     0.21421,     0.21522,\n",
       "           0.21622,     0.21722,     0.21822,     0.21922,     0.22022,     0.22122,     0.22222,     0.22322,     0.22422,     0.22523,     0.22623,     0.22723,     0.22823,     0.22923,     0.23023,     0.23123,     0.23223,     0.23323,     0.23423,     0.23524,     0.23624,     0.23724,     0.23824,     0.23924,\n",
       "           0.24024,     0.24124,     0.24224,     0.24324,     0.24424,     0.24525,     0.24625,     0.24725,     0.24825,     0.24925,     0.25025,     0.25125,     0.25225,     0.25325,     0.25425,     0.25526,     0.25626,     0.25726,     0.25826,     0.25926,     0.26026,     0.26126,     0.26226,     0.26326,\n",
       "           0.26426,     0.26527,     0.26627,     0.26727,     0.26827,     0.26927,     0.27027,     0.27127,     0.27227,     0.27327,     0.27427,     0.27528,     0.27628,     0.27728,     0.27828,     0.27928,     0.28028,     0.28128,     0.28228,     0.28328,     0.28428,     0.28529,     0.28629,     0.28729,\n",
       "           0.28829,     0.28929,     0.29029,     0.29129,     0.29229,     0.29329,     0.29429,      0.2953,      0.2963,      0.2973,      0.2983,      0.2993,      0.3003,      0.3013,      0.3023,      0.3033,      0.3043,     0.30531,     0.30631,     0.30731,     0.30831,     0.30931,     0.31031,     0.31131,\n",
       "           0.31231,     0.31331,     0.31431,     0.31532,     0.31632,     0.31732,     0.31832,     0.31932,     0.32032,     0.32132,     0.32232,     0.32332,     0.32432,     0.32533,     0.32633,     0.32733,     0.32833,     0.32933,     0.33033,     0.33133,     0.33233,     0.33333,     0.33433,     0.33534,\n",
       "           0.33634,     0.33734,     0.33834,     0.33934,     0.34034,     0.34134,     0.34234,     0.34334,     0.34434,     0.34535,     0.34635,     0.34735,     0.34835,     0.34935,     0.35035,     0.35135,     0.35235,     0.35335,     0.35435,     0.35536,     0.35636,     0.35736,     0.35836,     0.35936,\n",
       "           0.36036,     0.36136,     0.36236,     0.36336,     0.36436,     0.36537,     0.36637,     0.36737,     0.36837,     0.36937,     0.37037,     0.37137,     0.37237,     0.37337,     0.37437,     0.37538,     0.37638,     0.37738,     0.37838,     0.37938,     0.38038,     0.38138,     0.38238,     0.38338,\n",
       "           0.38438,     0.38539,     0.38639,     0.38739,     0.38839,     0.38939,     0.39039,     0.39139,     0.39239,     0.39339,     0.39439,      0.3954,      0.3964,      0.3974,      0.3984,      0.3994,      0.4004,      0.4014,      0.4024,      0.4034,      0.4044,     0.40541,     0.40641,     0.40741,\n",
       "           0.40841,     0.40941,     0.41041,     0.41141,     0.41241,     0.41341,     0.41441,     0.41542,     0.41642,     0.41742,     0.41842,     0.41942,     0.42042,     0.42142,     0.42242,     0.42342,     0.42442,     0.42543,     0.42643,     0.42743,     0.42843,     0.42943,     0.43043,     0.43143,\n",
       "           0.43243,     0.43343,     0.43443,     0.43544,     0.43644,     0.43744,     0.43844,     0.43944,     0.44044,     0.44144,     0.44244,     0.44344,     0.44444,     0.44545,     0.44645,     0.44745,     0.44845,     0.44945,     0.45045,     0.45145,     0.45245,     0.45345,     0.45445,     0.45546,\n",
       "           0.45646,     0.45746,     0.45846,     0.45946,     0.46046,     0.46146,     0.46246,     0.46346,     0.46446,     0.46547,     0.46647,     0.46747,     0.46847,     0.46947,     0.47047,     0.47147,     0.47247,     0.47347,     0.47447,     0.47548,     0.47648,     0.47748,     0.47848,     0.47948,\n",
       "           0.48048,     0.48148,     0.48248,     0.48348,     0.48448,     0.48549,     0.48649,     0.48749,     0.48849,     0.48949,     0.49049,     0.49149,     0.49249,     0.49349,     0.49449,      0.4955,      0.4965,      0.4975,      0.4985,      0.4995,      0.5005,      0.5015,      0.5025,      0.5035,\n",
       "            0.5045,     0.50551,     0.50651,     0.50751,     0.50851,     0.50951,     0.51051,     0.51151,     0.51251,     0.51351,     0.51451,     0.51552,     0.51652,     0.51752,     0.51852,     0.51952,     0.52052,     0.52152,     0.52252,     0.52352,     0.52452,     0.52553,     0.52653,     0.52753,\n",
       "           0.52853,     0.52953,     0.53053,     0.53153,     0.53253,     0.53353,     0.53453,     0.53554,     0.53654,     0.53754,     0.53854,     0.53954,     0.54054,     0.54154,     0.54254,     0.54354,     0.54454,     0.54555,     0.54655,     0.54755,     0.54855,     0.54955,     0.55055,     0.55155,\n",
       "           0.55255,     0.55355,     0.55455,     0.55556,     0.55656,     0.55756,     0.55856,     0.55956,     0.56056,     0.56156,     0.56256,     0.56356,     0.56456,     0.56557,     0.56657,     0.56757,     0.56857,     0.56957,     0.57057,     0.57157,     0.57257,     0.57357,     0.57457,     0.57558,\n",
       "           0.57658,     0.57758,     0.57858,     0.57958,     0.58058,     0.58158,     0.58258,     0.58358,     0.58458,     0.58559,     0.58659,     0.58759,     0.58859,     0.58959,     0.59059,     0.59159,     0.59259,     0.59359,     0.59459,      0.5956,      0.5966,      0.5976,      0.5986,      0.5996,\n",
       "            0.6006,      0.6016,      0.6026,      0.6036,      0.6046,     0.60561,     0.60661,     0.60761,     0.60861,     0.60961,     0.61061,     0.61161,     0.61261,     0.61361,     0.61461,     0.61562,     0.61662,     0.61762,     0.61862,     0.61962,     0.62062,     0.62162,     0.62262,     0.62362,\n",
       "           0.62462,     0.62563,     0.62663,     0.62763,     0.62863,     0.62963,     0.63063,     0.63163,     0.63263,     0.63363,     0.63463,     0.63564,     0.63664,     0.63764,     0.63864,     0.63964,     0.64064,     0.64164,     0.64264,     0.64364,     0.64464,     0.64565,     0.64665,     0.64765,\n",
       "           0.64865,     0.64965,     0.65065,     0.65165,     0.65265,     0.65365,     0.65465,     0.65566,     0.65666,     0.65766,     0.65866,     0.65966,     0.66066,     0.66166,     0.66266,     0.66366,     0.66466,     0.66567,     0.66667,     0.66767,     0.66867,     0.66967,     0.67067,     0.67167,\n",
       "           0.67267,     0.67367,     0.67467,     0.67568,     0.67668,     0.67768,     0.67868,     0.67968,     0.68068,     0.68168,     0.68268,     0.68368,     0.68468,     0.68569,     0.68669,     0.68769,     0.68869,     0.68969,     0.69069,     0.69169,     0.69269,     0.69369,     0.69469,      0.6957,\n",
       "            0.6967,      0.6977,      0.6987,      0.6997,      0.7007,      0.7017,      0.7027,      0.7037,      0.7047,     0.70571,     0.70671,     0.70771,     0.70871,     0.70971,     0.71071,     0.71171,     0.71271,     0.71371,     0.71471,     0.71572,     0.71672,     0.71772,     0.71872,     0.71972,\n",
       "           0.72072,     0.72172,     0.72272,     0.72372,     0.72472,     0.72573,     0.72673,     0.72773,     0.72873,     0.72973,     0.73073,     0.73173,     0.73273,     0.73373,     0.73473,     0.73574,     0.73674,     0.73774,     0.73874,     0.73974,     0.74074,     0.74174,     0.74274,     0.74374,\n",
       "           0.74474,     0.74575,     0.74675,     0.74775,     0.74875,     0.74975,     0.75075,     0.75175,     0.75275,     0.75375,     0.75475,     0.75576,     0.75676,     0.75776,     0.75876,     0.75976,     0.76076,     0.76176,     0.76276,     0.76376,     0.76476,     0.76577,     0.76677,     0.76777,\n",
       "           0.76877,     0.76977,     0.77077,     0.77177,     0.77277,     0.77377,     0.77477,     0.77578,     0.77678,     0.77778,     0.77878,     0.77978,     0.78078,     0.78178,     0.78278,     0.78378,     0.78478,     0.78579,     0.78679,     0.78779,     0.78879,     0.78979,     0.79079,     0.79179,\n",
       "           0.79279,     0.79379,     0.79479,      0.7958,      0.7968,      0.7978,      0.7988,      0.7998,      0.8008,      0.8018,      0.8028,      0.8038,      0.8048,     0.80581,     0.80681,     0.80781,     0.80881,     0.80981,     0.81081,     0.81181,     0.81281,     0.81381,     0.81481,     0.81582,\n",
       "           0.81682,     0.81782,     0.81882,     0.81982,     0.82082,     0.82182,     0.82282,     0.82382,     0.82482,     0.82583,     0.82683,     0.82783,     0.82883,     0.82983,     0.83083,     0.83183,     0.83283,     0.83383,     0.83483,     0.83584,     0.83684,     0.83784,     0.83884,     0.83984,\n",
       "           0.84084,     0.84184,     0.84284,     0.84384,     0.84484,     0.84585,     0.84685,     0.84785,     0.84885,     0.84985,     0.85085,     0.85185,     0.85285,     0.85385,     0.85485,     0.85586,     0.85686,     0.85786,     0.85886,     0.85986,     0.86086,     0.86186,     0.86286,     0.86386,\n",
       "           0.86486,     0.86587,     0.86687,     0.86787,     0.86887,     0.86987,     0.87087,     0.87187,     0.87287,     0.87387,     0.87487,     0.87588,     0.87688,     0.87788,     0.87888,     0.87988,     0.88088,     0.88188,     0.88288,     0.88388,     0.88488,     0.88589,     0.88689,     0.88789,\n",
       "           0.88889,     0.88989,     0.89089,     0.89189,     0.89289,     0.89389,     0.89489,      0.8959,      0.8969,      0.8979,      0.8989,      0.8999,      0.9009,      0.9019,      0.9029,      0.9039,      0.9049,     0.90591,     0.90691,     0.90791,     0.90891,     0.90991,     0.91091,     0.91191,\n",
       "           0.91291,     0.91391,     0.91491,     0.91592,     0.91692,     0.91792,     0.91892,     0.91992,     0.92092,     0.92192,     0.92292,     0.92392,     0.92492,     0.92593,     0.92693,     0.92793,     0.92893,     0.92993,     0.93093,     0.93193,     0.93293,     0.93393,     0.93493,     0.93594,\n",
       "           0.93694,     0.93794,     0.93894,     0.93994,     0.94094,     0.94194,     0.94294,     0.94394,     0.94494,     0.94595,     0.94695,     0.94795,     0.94895,     0.94995,     0.95095,     0.95195,     0.95295,     0.95395,     0.95495,     0.95596,     0.95696,     0.95796,     0.95896,     0.95996,\n",
       "           0.96096,     0.96196,     0.96296,     0.96396,     0.96496,     0.96597,     0.96697,     0.96797,     0.96897,     0.96997,     0.97097,     0.97197,     0.97297,     0.97397,     0.97497,     0.97598,     0.97698,     0.97798,     0.97898,     0.97998,     0.98098,     0.98198,     0.98298,     0.98398,\n",
       "           0.98498,     0.98599,     0.98699,     0.98799,     0.98899,     0.98999,     0.99099,     0.99199,     0.99299,     0.99399,     0.99499,       0.996,       0.997,       0.998,       0.999,           1]), array([[          1,           1,           1,           1,           1,           1,           1,           1,           1,           1,           1,           1,           1,           1,           1,           1,           1,           1,           1,           1,           1,           1,           1,\n",
       "                  1,           1,           1,           1,           1,           1,           1,           1,           1,           1,           1,           1,           1,           1,           1,           1,           1,           1,           1,           1,           1,           1,           1,\n",
       "                  1,           1,           1,           1,           1,           1,           1,           1,           1,           1,           1,           1,           1,           1,           1,           1,           1,           1,           1,           1,           1,           1,           1,\n",
       "                  1,           1,           1,           1,           1,           1,           1,           1,           1,           1,           1,           1,           1,           1,           1,           1,           1,           1,           1,           1,           1,           1,           1,\n",
       "                  1,           1,           1,           1,           1,           1,           1,           1,           1,           1,           1,           1,           1,           1,           1,           1,           1,           1,           1,           1,           1,           1,           1,\n",
       "                  1,           1,           1,           1,           1,           1,           1,           1,           1,           1,           1,           1,           1,           1,           1,           1,           1,           1,           1,           1,           1,           1,           1,\n",
       "                  1,           1,           1,           1,           1,           1,           1,           1,           1,           1,           1,           1,           1,           1,           1,           1,           1,           1,           1,           1,           1,           1,           1,\n",
       "                  1,     0.98718,     0.98718,     0.98718,     0.98718,     0.98718,     0.98718,     0.98718,     0.98718,     0.98718,     0.98718,     0.98718,     0.98718,     0.98718,     0.98718,     0.98718,     0.98718,     0.98718,     0.98718,     0.98718,     0.98718,     0.98718,     0.98718,\n",
       "            0.98718,     0.98718,     0.98718,     0.98718,     0.98718,     0.98718,     0.98718,     0.98718,     0.98718,     0.98718,     0.98718,     0.98718,     0.98718,     0.98718,     0.98718,     0.98718,     0.98718,     0.98319,     0.98319,     0.98319,     0.98319,     0.98319,     0.98319,\n",
       "            0.98319,     0.98319,     0.98319,     0.98319,     0.98319,     0.98319,     0.98319,     0.98319,     0.98319,     0.98319,     0.98319,     0.98319,     0.98319,     0.98319,     0.98319,     0.98319,     0.98319,     0.98319,     0.98319,     0.98319,     0.98319,     0.98319,     0.98319,\n",
       "            0.98319,     0.98319,     0.98319,     0.98319,     0.98319,     0.98319,     0.98319,     0.98319,     0.98319,     0.98319,     0.98319,     0.98319,     0.98319,     0.98319,     0.98319,     0.98319,     0.98319,     0.98319,     0.98319,     0.98319,     0.98319,     0.98319,     0.98319,\n",
       "            0.98319,     0.98319,     0.98319,     0.98319,     0.98319,     0.98319,     0.98319,     0.98319,     0.98319,     0.98319,     0.98319,     0.98319,     0.98319,     0.98319,     0.98319,     0.98319,     0.98319,     0.98319,     0.98319,     0.98319,     0.98319,     0.98319,     0.98319,\n",
       "            0.98319,     0.98319,     0.98319,     0.98319,     0.98319,     0.98319,     0.98319,     0.98319,     0.98319,     0.98319,     0.98319,     0.98319,     0.98319,     0.98319,     0.98319,     0.98319,     0.98319,     0.98319,     0.98319,     0.98319,     0.98319,     0.98319,     0.98319,\n",
       "            0.98319,     0.98319,     0.98319,     0.98319,     0.98319,     0.98319,     0.98319,     0.97561,     0.97561,     0.97561,     0.97561,     0.97561,     0.97561,     0.97561,     0.97561,     0.97059,     0.97059,     0.97059,     0.97059,     0.97059,     0.97059,     0.97059,     0.97059,\n",
       "            0.97059,     0.97059,     0.97059,     0.97059,     0.97059,     0.97059,     0.97059,     0.97059,     0.97059,     0.97059,     0.97059,     0.97059,     0.97059,     0.97059,     0.97059,     0.97059,     0.97059,     0.97059,     0.97059,     0.97059,     0.97059,     0.97059,     0.97059,\n",
       "            0.96479,     0.96479,     0.96479,     0.96479,     0.96479,     0.96479,     0.96479,     0.96479,     0.96479,     0.96479,     0.96479,     0.96479,     0.96479,      0.9625,      0.9625,      0.9625,      0.9625,      0.9625,      0.9625,      0.9625,      0.9625,      0.9625,      0.9625,\n",
       "             0.9625,      0.9625,      0.9625,      0.9625,      0.9625,      0.9625,      0.9625,      0.9625,      0.9625,      0.9625,      0.9625,      0.9625,      0.9625,      0.9625,      0.9625,      0.9625,      0.9625,      0.9625,      0.9625,      0.9625,      0.9625,      0.9625,      0.9625,\n",
       "             0.9625,      0.9625,      0.9625,      0.9625,      0.9625,      0.9625,      0.9625,      0.9625,      0.9625,      0.9625,      0.9625,     0.95706,     0.95706,     0.95706,     0.95706,     0.95706,     0.95181,     0.95181,     0.95181,     0.95181,     0.95181,     0.95181,     0.95109,\n",
       "            0.95109,     0.95109,     0.95109,     0.95109,     0.95109,     0.95109,     0.95109,     0.95109,     0.95109,     0.95109,     0.95109,     0.95109,     0.95109,     0.95109,     0.95109,     0.95109,     0.95109,     0.95109,     0.95109,     0.95109,     0.95109,     0.95109,     0.95109,\n",
       "            0.95109,     0.95109,     0.95109,     0.95109,     0.95109,     0.95109,     0.95109,     0.95109,     0.95109,     0.95109,     0.95109,     0.95109,     0.95109,     0.95109,     0.95109,     0.95109,     0.95109,     0.95109,     0.95109,     0.95109,        0.95,        0.95,        0.95,\n",
       "               0.95,        0.95,        0.95,        0.95,        0.95,        0.95,        0.95,        0.95,        0.95,        0.95,        0.95,        0.95,        0.95,        0.95,        0.95,        0.95,        0.95,        0.95,        0.95,        0.95,        0.95,        0.95,        0.95,\n",
       "               0.95,        0.95,        0.95,        0.95,        0.95,        0.95,        0.95,        0.95,        0.95,        0.95,        0.95,        0.95,        0.95,     0.94762,     0.94762,     0.94762,     0.94762,     0.94762,     0.94762,     0.94762,     0.94762,     0.94762,     0.94762,\n",
       "            0.94762,     0.94762,     0.94762,     0.94762,     0.94762,     0.94762,     0.94762,     0.94762,     0.94762,     0.94762,     0.94762,     0.94762,     0.94762,     0.94762,     0.94521,     0.94521,     0.94521,     0.94521,     0.94521,     0.94521,     0.94521,     0.94521,     0.94521,\n",
       "            0.94521,     0.94521,     0.94521,     0.94521,     0.94521,     0.94521,     0.94521,     0.94521,     0.94521,     0.94521,     0.94521,     0.94222,     0.94222,     0.94222,     0.94222,     0.94222,     0.94222,     0.94222,     0.94222,     0.94222,     0.94222,     0.94222,     0.94222,\n",
       "            0.94222,     0.94093,     0.94093,     0.94093,     0.94093,     0.94093,     0.94093,     0.94093,     0.94093,     0.94093,     0.94093,     0.94093,     0.94093,     0.94093,     0.94093,     0.94093,     0.94093,     0.94093,     0.94093,     0.94093,     0.94093,     0.94093,     0.94093,\n",
       "            0.94093,     0.94093,     0.94093,     0.94093,     0.94093,     0.94093,     0.94093,     0.93416,     0.93416,     0.93416,     0.93416,     0.93416,     0.93416,     0.93416,     0.93416,     0.93416,     0.93416,     0.93416,     0.92339,     0.92339,     0.92339,     0.92339,     0.92339,\n",
       "            0.92032,     0.92032,     0.92032,     0.92032,     0.92032,     0.91829,     0.91829,     0.91829,     0.91829,     0.91829,     0.91829,     0.91829,     0.91829,     0.91829,     0.91829,     0.91829,     0.91829,     0.91829,     0.90114,     0.90114,     0.90114,     0.89892,     0.89892,\n",
       "            0.89892,     0.89892,     0.89892,     0.89892,     0.89892,     0.89892,     0.89892,     0.89892,     0.89892,     0.89892,     0.89892,     0.89892,     0.89892,     0.89892,     0.89892,     0.89892,     0.89892,     0.89892,     0.89892,     0.89892,     0.89892,     0.89892,     0.89892,\n",
       "            0.89892,     0.89892,     0.89892,     0.89892,     0.89892,     0.89892,     0.89643,     0.89643,     0.89643,     0.89643,     0.89643,     0.89547,     0.89547,     0.89547,     0.89547,     0.89547,     0.89547,     0.89547,     0.89547,     0.89547,     0.89547,     0.89547,     0.89547,\n",
       "            0.89547,     0.89547,     0.89547,     0.89547,     0.89273,     0.89273,     0.88396,     0.88396,     0.88396,     0.88333,     0.88333,     0.88333,     0.88333,     0.88333,     0.88333,     0.88333,     0.88333,     0.88333,     0.88333,     0.88333,     0.88333,     0.88333,     0.88333,\n",
       "            0.88333,     0.88333,     0.88158,     0.88158,     0.88158,     0.88158,     0.88158,     0.88158,     0.88158,     0.88158,     0.87338,     0.87338,     0.87097,     0.87097,     0.87097,     0.86349,     0.86349,     0.86349,     0.86349,     0.86349,     0.85938,     0.85938,     0.85938,\n",
       "            0.85938,     0.85938,     0.85938,     0.85938,     0.85938,     0.85449,     0.85449,     0.85321,     0.85321,     0.85321,     0.85321,     0.85321,     0.85321,     0.85321,     0.85321,     0.85106,     0.85106,     0.85106,     0.83881,     0.83881,      0.8368,      0.8368,      0.8368,\n",
       "            0.81662,     0.81662,     0.81662,     0.81662,     0.81662,     0.81662,     0.81662,     0.81662,     0.81356,     0.81356,     0.81356,     0.81356,     0.81356,     0.81356,     0.81356,     0.81356,     0.80726,     0.80726,     0.80609,     0.80609,     0.80609,     0.80609,     0.80609,\n",
       "            0.80609,     0.79837,     0.79837,     0.79837,     0.79837,     0.79837,     0.79245,     0.79245,     0.79088,     0.79088,     0.79088,     0.77749,     0.77749,     0.77749,     0.77749,     0.77749,     0.77403,     0.77403,     0.77403,      0.7732,      0.7732,      0.7732,      0.7732,\n",
       "             0.7732,     0.77041,     0.77041,     0.77041,     0.77041,     0.77041,     0.76962,     0.76962,     0.76962,     0.76962,     0.76962,     0.76441,     0.76441,     0.76441,     0.76167,     0.76167,     0.76167,     0.76167,     0.76167,     0.76167,     0.76167,     0.76167,     0.76167,\n",
       "            0.76167,     0.76167,     0.76167,     0.76167,     0.75854,     0.75854,     0.75854,     0.75545,     0.75545,      0.7524,      0.7524,      0.7524,      0.7512,      0.7512,      0.7512,     0.74468,     0.74468,     0.72644,     0.72644,     0.72644,     0.71396,     0.71396,     0.69737,\n",
       "            0.69737,     0.69737,     0.66946,     0.66946,     0.66946,     0.66946,     0.66946,     0.65914,     0.65914,     0.65914,     0.63601,     0.63601,     0.63601,     0.63601,     0.63601,     0.63601,     0.63601,     0.63601,     0.63601,     0.63601,     0.62813,     0.62813,     0.62813,\n",
       "            0.61351,     0.61351,     0.59854,     0.59854,     0.59854,     0.58437,     0.58437,     0.58437,     0.56995,     0.56995,     0.55724,     0.55724,     0.55724,     0.55705,     0.55705,     0.53623,     0.53623,     0.53623,     0.52848,     0.52848,     0.52848,     0.50075,     0.50075,\n",
       "            0.49704,     0.49704,     0.49704,     0.49486,     0.49486,     0.49486,      0.4543,      0.4543,      0.4514,      0.4514,      0.4514,     0.43534,     0.43534,     0.42308,     0.42308,     0.42308,     0.40211,     0.40211,     0.40211,     0.40211,     0.40211,     0.39861,     0.39861,\n",
       "            0.39861,     0.39474,     0.39474,     0.39318,     0.39318,     0.39318,     0.36603,     0.36603,     0.36603,     0.17782,     0.17782,     0.13999,     0.13999,     0.13999,    0.094697,    0.093621,    0.092545,    0.091469,    0.090393,    0.089317,    0.088241,    0.087165,    0.086088,\n",
       "           0.085012,    0.083936,     0.08286,    0.081784,    0.080708,    0.079632,    0.078556,     0.07748,    0.076403,    0.075327,    0.074251,    0.073175,    0.072099,    0.071023,    0.069947,    0.068871,    0.067795,    0.066719,    0.065642,    0.064566,     0.06349,    0.062414,    0.061338,\n",
       "           0.060262,    0.059186,     0.05811,    0.057034,    0.055957,    0.054881,    0.053805,    0.052729,    0.051653,    0.050577,    0.049501,    0.048425,    0.047349,    0.046273,    0.045196,     0.04412,    0.043044,    0.041968,    0.040892,    0.039816,     0.03874,    0.037664,    0.036588,\n",
       "           0.035511,    0.034435,    0.033359,    0.032283,    0.031207,    0.030131,    0.029055,    0.027979,    0.026903,    0.025827,     0.02475,    0.023674,    0.022598,    0.021522,    0.020446,     0.01937,    0.018294,    0.017218,    0.016142,    0.015065,    0.013989,    0.012913,    0.011837,\n",
       "           0.010761,   0.0096849,   0.0086088,   0.0075327,   0.0064566,   0.0053805,   0.0043044,   0.0032283,   0.0021522,   0.0010761,           0]]), 'Recall', 'Precision'], [array([          0,    0.001001,    0.002002,    0.003003,    0.004004,    0.005005,    0.006006,    0.007007,    0.008008,    0.009009,     0.01001,    0.011011,    0.012012,    0.013013,    0.014014,    0.015015,    0.016016,    0.017017,    0.018018,    0.019019,     0.02002,    0.021021,    0.022022,    0.023023,\n",
       "          0.024024,    0.025025,    0.026026,    0.027027,    0.028028,    0.029029,     0.03003,    0.031031,    0.032032,    0.033033,    0.034034,    0.035035,    0.036036,    0.037037,    0.038038,    0.039039,     0.04004,    0.041041,    0.042042,    0.043043,    0.044044,    0.045045,    0.046046,    0.047047,\n",
       "          0.048048,    0.049049,     0.05005,    0.051051,    0.052052,    0.053053,    0.054054,    0.055055,    0.056056,    0.057057,    0.058058,    0.059059,     0.06006,    0.061061,    0.062062,    0.063063,    0.064064,    0.065065,    0.066066,    0.067067,    0.068068,    0.069069,     0.07007,    0.071071,\n",
       "          0.072072,    0.073073,    0.074074,    0.075075,    0.076076,    0.077077,    0.078078,    0.079079,     0.08008,    0.081081,    0.082082,    0.083083,    0.084084,    0.085085,    0.086086,    0.087087,    0.088088,    0.089089,     0.09009,    0.091091,    0.092092,    0.093093,    0.094094,    0.095095,\n",
       "          0.096096,    0.097097,    0.098098,    0.099099,      0.1001,      0.1011,      0.1021,      0.1031,      0.1041,     0.10511,     0.10611,     0.10711,     0.10811,     0.10911,     0.11011,     0.11111,     0.11211,     0.11311,     0.11411,     0.11512,     0.11612,     0.11712,     0.11812,     0.11912,\n",
       "           0.12012,     0.12112,     0.12212,     0.12312,     0.12412,     0.12513,     0.12613,     0.12713,     0.12813,     0.12913,     0.13013,     0.13113,     0.13213,     0.13313,     0.13413,     0.13514,     0.13614,     0.13714,     0.13814,     0.13914,     0.14014,     0.14114,     0.14214,     0.14314,\n",
       "           0.14414,     0.14515,     0.14615,     0.14715,     0.14815,     0.14915,     0.15015,     0.15115,     0.15215,     0.15315,     0.15415,     0.15516,     0.15616,     0.15716,     0.15816,     0.15916,     0.16016,     0.16116,     0.16216,     0.16316,     0.16416,     0.16517,     0.16617,     0.16717,\n",
       "           0.16817,     0.16917,     0.17017,     0.17117,     0.17217,     0.17317,     0.17417,     0.17518,     0.17618,     0.17718,     0.17818,     0.17918,     0.18018,     0.18118,     0.18218,     0.18318,     0.18418,     0.18519,     0.18619,     0.18719,     0.18819,     0.18919,     0.19019,     0.19119,\n",
       "           0.19219,     0.19319,     0.19419,      0.1952,      0.1962,      0.1972,      0.1982,      0.1992,      0.2002,      0.2012,      0.2022,      0.2032,      0.2042,     0.20521,     0.20621,     0.20721,     0.20821,     0.20921,     0.21021,     0.21121,     0.21221,     0.21321,     0.21421,     0.21522,\n",
       "           0.21622,     0.21722,     0.21822,     0.21922,     0.22022,     0.22122,     0.22222,     0.22322,     0.22422,     0.22523,     0.22623,     0.22723,     0.22823,     0.22923,     0.23023,     0.23123,     0.23223,     0.23323,     0.23423,     0.23524,     0.23624,     0.23724,     0.23824,     0.23924,\n",
       "           0.24024,     0.24124,     0.24224,     0.24324,     0.24424,     0.24525,     0.24625,     0.24725,     0.24825,     0.24925,     0.25025,     0.25125,     0.25225,     0.25325,     0.25425,     0.25526,     0.25626,     0.25726,     0.25826,     0.25926,     0.26026,     0.26126,     0.26226,     0.26326,\n",
       "           0.26426,     0.26527,     0.26627,     0.26727,     0.26827,     0.26927,     0.27027,     0.27127,     0.27227,     0.27327,     0.27427,     0.27528,     0.27628,     0.27728,     0.27828,     0.27928,     0.28028,     0.28128,     0.28228,     0.28328,     0.28428,     0.28529,     0.28629,     0.28729,\n",
       "           0.28829,     0.28929,     0.29029,     0.29129,     0.29229,     0.29329,     0.29429,      0.2953,      0.2963,      0.2973,      0.2983,      0.2993,      0.3003,      0.3013,      0.3023,      0.3033,      0.3043,     0.30531,     0.30631,     0.30731,     0.30831,     0.30931,     0.31031,     0.31131,\n",
       "           0.31231,     0.31331,     0.31431,     0.31532,     0.31632,     0.31732,     0.31832,     0.31932,     0.32032,     0.32132,     0.32232,     0.32332,     0.32432,     0.32533,     0.32633,     0.32733,     0.32833,     0.32933,     0.33033,     0.33133,     0.33233,     0.33333,     0.33433,     0.33534,\n",
       "           0.33634,     0.33734,     0.33834,     0.33934,     0.34034,     0.34134,     0.34234,     0.34334,     0.34434,     0.34535,     0.34635,     0.34735,     0.34835,     0.34935,     0.35035,     0.35135,     0.35235,     0.35335,     0.35435,     0.35536,     0.35636,     0.35736,     0.35836,     0.35936,\n",
       "           0.36036,     0.36136,     0.36236,     0.36336,     0.36436,     0.36537,     0.36637,     0.36737,     0.36837,     0.36937,     0.37037,     0.37137,     0.37237,     0.37337,     0.37437,     0.37538,     0.37638,     0.37738,     0.37838,     0.37938,     0.38038,     0.38138,     0.38238,     0.38338,\n",
       "           0.38438,     0.38539,     0.38639,     0.38739,     0.38839,     0.38939,     0.39039,     0.39139,     0.39239,     0.39339,     0.39439,      0.3954,      0.3964,      0.3974,      0.3984,      0.3994,      0.4004,      0.4014,      0.4024,      0.4034,      0.4044,     0.40541,     0.40641,     0.40741,\n",
       "           0.40841,     0.40941,     0.41041,     0.41141,     0.41241,     0.41341,     0.41441,     0.41542,     0.41642,     0.41742,     0.41842,     0.41942,     0.42042,     0.42142,     0.42242,     0.42342,     0.42442,     0.42543,     0.42643,     0.42743,     0.42843,     0.42943,     0.43043,     0.43143,\n",
       "           0.43243,     0.43343,     0.43443,     0.43544,     0.43644,     0.43744,     0.43844,     0.43944,     0.44044,     0.44144,     0.44244,     0.44344,     0.44444,     0.44545,     0.44645,     0.44745,     0.44845,     0.44945,     0.45045,     0.45145,     0.45245,     0.45345,     0.45445,     0.45546,\n",
       "           0.45646,     0.45746,     0.45846,     0.45946,     0.46046,     0.46146,     0.46246,     0.46346,     0.46446,     0.46547,     0.46647,     0.46747,     0.46847,     0.46947,     0.47047,     0.47147,     0.47247,     0.47347,     0.47447,     0.47548,     0.47648,     0.47748,     0.47848,     0.47948,\n",
       "           0.48048,     0.48148,     0.48248,     0.48348,     0.48448,     0.48549,     0.48649,     0.48749,     0.48849,     0.48949,     0.49049,     0.49149,     0.49249,     0.49349,     0.49449,      0.4955,      0.4965,      0.4975,      0.4985,      0.4995,      0.5005,      0.5015,      0.5025,      0.5035,\n",
       "            0.5045,     0.50551,     0.50651,     0.50751,     0.50851,     0.50951,     0.51051,     0.51151,     0.51251,     0.51351,     0.51451,     0.51552,     0.51652,     0.51752,     0.51852,     0.51952,     0.52052,     0.52152,     0.52252,     0.52352,     0.52452,     0.52553,     0.52653,     0.52753,\n",
       "           0.52853,     0.52953,     0.53053,     0.53153,     0.53253,     0.53353,     0.53453,     0.53554,     0.53654,     0.53754,     0.53854,     0.53954,     0.54054,     0.54154,     0.54254,     0.54354,     0.54454,     0.54555,     0.54655,     0.54755,     0.54855,     0.54955,     0.55055,     0.55155,\n",
       "           0.55255,     0.55355,     0.55455,     0.55556,     0.55656,     0.55756,     0.55856,     0.55956,     0.56056,     0.56156,     0.56256,     0.56356,     0.56456,     0.56557,     0.56657,     0.56757,     0.56857,     0.56957,     0.57057,     0.57157,     0.57257,     0.57357,     0.57457,     0.57558,\n",
       "           0.57658,     0.57758,     0.57858,     0.57958,     0.58058,     0.58158,     0.58258,     0.58358,     0.58458,     0.58559,     0.58659,     0.58759,     0.58859,     0.58959,     0.59059,     0.59159,     0.59259,     0.59359,     0.59459,      0.5956,      0.5966,      0.5976,      0.5986,      0.5996,\n",
       "            0.6006,      0.6016,      0.6026,      0.6036,      0.6046,     0.60561,     0.60661,     0.60761,     0.60861,     0.60961,     0.61061,     0.61161,     0.61261,     0.61361,     0.61461,     0.61562,     0.61662,     0.61762,     0.61862,     0.61962,     0.62062,     0.62162,     0.62262,     0.62362,\n",
       "           0.62462,     0.62563,     0.62663,     0.62763,     0.62863,     0.62963,     0.63063,     0.63163,     0.63263,     0.63363,     0.63463,     0.63564,     0.63664,     0.63764,     0.63864,     0.63964,     0.64064,     0.64164,     0.64264,     0.64364,     0.64464,     0.64565,     0.64665,     0.64765,\n",
       "           0.64865,     0.64965,     0.65065,     0.65165,     0.65265,     0.65365,     0.65465,     0.65566,     0.65666,     0.65766,     0.65866,     0.65966,     0.66066,     0.66166,     0.66266,     0.66366,     0.66466,     0.66567,     0.66667,     0.66767,     0.66867,     0.66967,     0.67067,     0.67167,\n",
       "           0.67267,     0.67367,     0.67467,     0.67568,     0.67668,     0.67768,     0.67868,     0.67968,     0.68068,     0.68168,     0.68268,     0.68368,     0.68468,     0.68569,     0.68669,     0.68769,     0.68869,     0.68969,     0.69069,     0.69169,     0.69269,     0.69369,     0.69469,      0.6957,\n",
       "            0.6967,      0.6977,      0.6987,      0.6997,      0.7007,      0.7017,      0.7027,      0.7037,      0.7047,     0.70571,     0.70671,     0.70771,     0.70871,     0.70971,     0.71071,     0.71171,     0.71271,     0.71371,     0.71471,     0.71572,     0.71672,     0.71772,     0.71872,     0.71972,\n",
       "           0.72072,     0.72172,     0.72272,     0.72372,     0.72472,     0.72573,     0.72673,     0.72773,     0.72873,     0.72973,     0.73073,     0.73173,     0.73273,     0.73373,     0.73473,     0.73574,     0.73674,     0.73774,     0.73874,     0.73974,     0.74074,     0.74174,     0.74274,     0.74374,\n",
       "           0.74474,     0.74575,     0.74675,     0.74775,     0.74875,     0.74975,     0.75075,     0.75175,     0.75275,     0.75375,     0.75475,     0.75576,     0.75676,     0.75776,     0.75876,     0.75976,     0.76076,     0.76176,     0.76276,     0.76376,     0.76476,     0.76577,     0.76677,     0.76777,\n",
       "           0.76877,     0.76977,     0.77077,     0.77177,     0.77277,     0.77377,     0.77477,     0.77578,     0.77678,     0.77778,     0.77878,     0.77978,     0.78078,     0.78178,     0.78278,     0.78378,     0.78478,     0.78579,     0.78679,     0.78779,     0.78879,     0.78979,     0.79079,     0.79179,\n",
       "           0.79279,     0.79379,     0.79479,      0.7958,      0.7968,      0.7978,      0.7988,      0.7998,      0.8008,      0.8018,      0.8028,      0.8038,      0.8048,     0.80581,     0.80681,     0.80781,     0.80881,     0.80981,     0.81081,     0.81181,     0.81281,     0.81381,     0.81481,     0.81582,\n",
       "           0.81682,     0.81782,     0.81882,     0.81982,     0.82082,     0.82182,     0.82282,     0.82382,     0.82482,     0.82583,     0.82683,     0.82783,     0.82883,     0.82983,     0.83083,     0.83183,     0.83283,     0.83383,     0.83483,     0.83584,     0.83684,     0.83784,     0.83884,     0.83984,\n",
       "           0.84084,     0.84184,     0.84284,     0.84384,     0.84484,     0.84585,     0.84685,     0.84785,     0.84885,     0.84985,     0.85085,     0.85185,     0.85285,     0.85385,     0.85485,     0.85586,     0.85686,     0.85786,     0.85886,     0.85986,     0.86086,     0.86186,     0.86286,     0.86386,\n",
       "           0.86486,     0.86587,     0.86687,     0.86787,     0.86887,     0.86987,     0.87087,     0.87187,     0.87287,     0.87387,     0.87487,     0.87588,     0.87688,     0.87788,     0.87888,     0.87988,     0.88088,     0.88188,     0.88288,     0.88388,     0.88488,     0.88589,     0.88689,     0.88789,\n",
       "           0.88889,     0.88989,     0.89089,     0.89189,     0.89289,     0.89389,     0.89489,      0.8959,      0.8969,      0.8979,      0.8989,      0.8999,      0.9009,      0.9019,      0.9029,      0.9039,      0.9049,     0.90591,     0.90691,     0.90791,     0.90891,     0.90991,     0.91091,     0.91191,\n",
       "           0.91291,     0.91391,     0.91491,     0.91592,     0.91692,     0.91792,     0.91892,     0.91992,     0.92092,     0.92192,     0.92292,     0.92392,     0.92492,     0.92593,     0.92693,     0.92793,     0.92893,     0.92993,     0.93093,     0.93193,     0.93293,     0.93393,     0.93493,     0.93594,\n",
       "           0.93694,     0.93794,     0.93894,     0.93994,     0.94094,     0.94194,     0.94294,     0.94394,     0.94494,     0.94595,     0.94695,     0.94795,     0.94895,     0.94995,     0.95095,     0.95195,     0.95295,     0.95395,     0.95495,     0.95596,     0.95696,     0.95796,     0.95896,     0.95996,\n",
       "           0.96096,     0.96196,     0.96296,     0.96396,     0.96496,     0.96597,     0.96697,     0.96797,     0.96897,     0.96997,     0.97097,     0.97197,     0.97297,     0.97397,     0.97497,     0.97598,     0.97698,     0.97798,     0.97898,     0.97998,     0.98098,     0.98198,     0.98298,     0.98398,\n",
       "           0.98498,     0.98599,     0.98699,     0.98799,     0.98899,     0.98999,     0.99099,     0.99199,     0.99299,     0.99399,     0.99499,       0.996,       0.997,       0.998,       0.999,           1]), array([[    0.17277,     0.17277,     0.22618,     0.26473,     0.29108,     0.31124,     0.33049,     0.34473,     0.35574,     0.36578,     0.37453,     0.38064,     0.38816,     0.39517,     0.40235,     0.41041,     0.41382,     0.42024,     0.42563,     0.43092,     0.43648,     0.44252,     0.44713,\n",
       "             0.4516,     0.45654,     0.46118,     0.46645,     0.46965,      0.4728,     0.47738,     0.47968,     0.48364,     0.48844,     0.49206,     0.49556,     0.49948,     0.50206,      0.5038,     0.50623,       0.508,     0.51116,     0.51345,     0.51665,     0.52037,     0.52054,     0.52178,\n",
       "            0.52359,      0.5256,     0.52727,     0.53122,     0.53303,     0.53544,     0.53776,      0.5382,     0.54161,     0.54429,     0.54709,     0.54678,     0.54877,     0.54922,     0.55211,     0.55296,     0.55395,     0.55349,     0.55647,     0.56028,     0.56218,     0.56305,     0.56413,\n",
       "            0.56601,     0.56739,     0.56837,     0.57091,     0.57294,     0.57501,     0.57777,     0.57822,     0.57945,     0.58021,     0.58134,     0.58269,     0.58335,     0.58726,     0.58961,     0.59181,     0.59474,     0.59612,     0.59673,     0.59673,     0.59716,     0.59929,     0.59915,\n",
       "             0.6008,     0.60246,      0.6048,     0.60671,     0.60789,     0.60893,     0.61108,     0.61243,     0.61487,      0.6157,     0.61785,     0.61824,     0.61962,     0.62001,     0.62131,     0.62267,     0.62433,     0.62529,     0.62567,     0.62628,     0.62881,     0.62956,      0.6301,\n",
       "            0.63047,      0.6312,     0.63244,     0.63305,     0.63294,     0.63345,     0.63403,     0.63427,     0.63451,     0.63375,     0.63559,     0.63687,     0.63737,     0.63833,     0.63904,     0.64149,     0.64225,     0.64418,     0.64452,     0.64517,     0.64713,      0.6477,     0.64952,\n",
       "            0.65213,     0.65345,     0.65474,     0.65612,     0.65808,     0.65687,     0.65744,     0.65941,      0.6601,     0.66108,     0.66213,     0.66295,     0.66318,     0.66278,     0.66486,     0.66744,     0.66828,     0.66872,     0.66905,     0.67077,       0.672,     0.67443,     0.67476,\n",
       "            0.67731,     0.67811,     0.67674,     0.67997,     0.68081,     0.68199,     0.68233,     0.68304,     0.68416,     0.68481,     0.68488,     0.68691,     0.68953,     0.69086,     0.69215,     0.69248,     0.69369,     0.69546,     0.69516,     0.69485,     0.69454,     0.69424,     0.69467,\n",
       "            0.69601,     0.69664,     0.69804,     0.69865,     0.69926,     0.69963,     0.69995,     0.70042,     0.70179,     0.70245,     0.70325,     0.70356,      0.7039,     0.70439,     0.70385,      0.7033,     0.70452,     0.70514,     0.70574,     0.70708,      0.7077,      0.7091,     0.71047,\n",
       "            0.71106,     0.71389,     0.71284,     0.71456,     0.71595,     0.71659,     0.71717,     0.71855,     0.72074,     0.72209,      0.7224,     0.72271,     0.72258,     0.72318,     0.72378,     0.72519,     0.72504,     0.72434,      0.7249,     0.72421,     0.72315,     0.72384,     0.72445,\n",
       "            0.72502,     0.72641,     0.72703,     0.72817,     0.72846,     0.72962,     0.73019,      0.7314,      0.7317,       0.732,     0.73341,      0.7347,     0.73499,     0.73528,     0.73574,      0.7378,     0.73681,     0.73686,     0.73909,     0.73938,     0.73967,     0.74176,     0.74235,\n",
       "             0.7427,     0.74299,     0.74329,     0.74265,     0.74481,     0.74501,     0.74521,     0.74541,     0.74561,     0.74589,     0.74616,     0.74644,     0.74699,     0.74847,     0.74908,     0.75315,     0.75452,     0.75482,     0.75513,      0.7564,     0.75693,     0.75745,     0.75664,\n",
       "            0.75726,     0.75782,     0.75835,     0.76079,     0.76229,     0.76282,     0.76435,     0.76495,     0.76549,     0.76609,     0.76649,     0.76562,     0.76634,     0.76698,      0.7694,     0.77091,     0.77155,     0.77212,     0.77252,     0.77164,     0.77421,     0.77486,     0.77543,\n",
       "            0.77599,     0.77655,     0.77807,     0.77863,     0.78024,     0.78087,     0.78143,     0.78049,     0.78106,     0.78128,     0.78148,     0.78168,     0.78188,     0.78307,     0.78365,     0.78332,     0.78288,     0.78243,     0.78198,     0.78249,     0.78372,     0.78282,     0.78353,\n",
       "            0.78382,      0.7841,     0.78286,     0.78315,     0.78344,     0.78373,     0.78402,     0.78431,      0.7846,     0.78456,     0.78366,     0.78276,     0.78185,     0.77794,     0.77714,     0.77959,     0.77961,     0.78019,     0.77947,     0.77855,     0.77863,     0.77771,      0.7769,\n",
       "             0.7765,     0.77557,     0.77509,     0.77524,     0.77538,     0.77552,     0.77566,     0.77581,     0.77595,     0.77571,     0.77478,     0.77564,     0.77591,     0.77619,     0.77647,     0.77385,     0.77442,     0.77494,     0.77651,     0.77711,     0.77766,     0.77819,      0.7798,\n",
       "             0.7804,      0.7788,     0.77959,     0.77915,      0.7787,     0.77826,     0.77839,     0.77893,     0.77951,     0.78012,     0.78066,      0.7812,     0.78181,     0.77853,     0.77907,     0.77795,      0.7771,      0.7777,      0.7779,      0.7781,     0.77829,     0.77849,     0.77868,\n",
       "            0.77782,     0.77532,     0.77486,      0.7744,     0.77394,     0.77601,     0.77656,     0.77818,     0.77873,      0.7804,     0.78103,     0.78269,     0.78324,     0.78261,     0.78174,     0.78191,      0.7822,      0.7825,     0.78225,     0.78281,     0.78447,     0.78503,     0.78619,\n",
       "            0.78519,     0.78564,     0.78521,     0.78477,     0.78433,     0.78217,     0.78173,     0.78129,     0.78085,     0.78092,     0.78112,     0.78132,     0.78152,     0.78171,     0.78044,     0.77955,     0.77877,     0.77833,     0.77788,     0.77743,     0.77848,     0.77914,     0.77623,\n",
       "             0.7768,     0.77738,     0.77795,     0.77889,     0.77843,     0.77798,     0.77753,      0.7777,     0.77799,     0.77828,     0.77856,     0.77816,      0.7777,     0.77725,     0.77683,     0.77741,     0.77838,      0.7779,     0.77741,     0.77692,      0.7751,     0.77568,     0.77217,\n",
       "            0.77171,     0.77125,     0.77079,     0.76669,     0.76623,     0.76576,     0.76529,     0.76553,     0.76611,      0.7656,     0.76466,     0.76456,      0.7647,     0.76485,     0.76499,     0.76514,     0.76528,     0.76543,     0.76557,     0.76614,     0.76785,     0.76691,     0.76604,\n",
       "            0.76633,     0.76663,     0.76692,     0.76701,     0.76607,     0.76142,     0.76047,     0.75777,     0.75729,     0.75681,     0.75633,     0.75699,     0.75651,     0.75603,     0.75555,     0.75349,     0.75369,     0.75388,     0.75408,     0.75427,     0.75447,     0.75208,      0.7511,\n",
       "            0.75013,     0.74916,     0.74627,     0.74529,     0.74431,     0.74332,     0.73693,     0.73644,     0.73594,     0.73544,     0.73299,     0.73249,     0.73199,     0.73149,     0.73162,     0.73177,     0.73191,     0.73206,      0.7322,     0.73235,     0.73249,     0.73189,     0.73247,\n",
       "            0.73306,     0.73364,     0.73652,     0.73711,     0.73519,     0.73417,     0.73316,     0.73214,     0.72912,      0.7281,     0.72784,     0.72843,     0.72616,     0.72512,     0.72502,     0.72561,     0.72316,     0.72212,     0.72448,     0.72507,     0.72449,     0.72344,     0.72239,\n",
       "            0.72134,     0.72072,      0.7202,     0.71967,     0.71915,     0.71781,     0.71847,     0.71906,     0.71468,     0.71361,     0.70654,       0.706,     0.70546,     0.70492,     0.70403,     0.70294,     0.69973,     0.69864,     0.69666,     0.69725,     0.69693,     0.69638,     0.69583,\n",
       "            0.69528,     0.69041,     0.68986,      0.6893,     0.68875,     0.68222,     0.67666,     0.67514,     0.67037,     0.67095,     0.66141,     0.66025,     0.65679,     0.65562,      0.6511,     0.65167,     0.64857,     0.64738,      0.6466,     0.64592,     0.64523,     0.64434,     0.64314,\n",
       "            0.63986,     0.63926,     0.63866,     0.63805,     0.63745,     0.63684,     0.63624,     0.63563,     0.63437,     0.62804,     0.62682,     0.61699,     0.61574,     0.60957,     0.60831,     0.60207,     0.60079,     0.58672,     0.58498,     0.57592,     0.57459,      0.5709,     0.57141,\n",
       "            0.57007,     0.56713,     0.56578,     0.56172,      0.5599,     0.55031,     0.54893,     0.54482,     0.54342,     0.53929,     0.53788,     0.52219,     0.51292,     0.51146,     0.50811,     0.50663,     0.50494,     0.50297,     0.49856,      0.4853,     0.48378,     0.47625,     0.47419,\n",
       "            0.46732,     0.46576,     0.46539,     0.46566,     0.46593,      0.4627,     0.46113,     0.45646,     0.45488,     0.44099,     0.44006,     0.43914,     0.43821,     0.43296,     0.43103,     0.42939,     0.41805,     0.41638,     0.41113,     0.39568,     0.39397,      0.3752,     0.37286,\n",
       "             0.3709,     0.36913,     0.36693,     0.35774,     0.35594,     0.35396,     0.35155,     0.33897,     0.33713,     0.33311,     0.33205,     0.33099,     0.32924,     0.31944,     0.31756,     0.30447,     0.30191,     0.29595,     0.29401,     0.28017,     0.26659,     0.26458,     0.25845,\n",
       "            0.25574,     0.25355,     0.25151,     0.24662,     0.24599,     0.24535,     0.24472,     0.24408,     0.24345,     0.23775,     0.23091,     0.22881,     0.22667,     0.22386,     0.22201,      0.2208,     0.21959,     0.21418,     0.21276,     0.21134,     0.20553,     0.20337,     0.20158,\n",
       "            0.20062,     0.19965,     0.19869,     0.19772,     0.18367,     0.18241,     0.18115,     0.17544,     0.17395,     0.17247,     0.16616,     0.16391,     0.16212,     0.16062,     0.15911,     0.15759,     0.15608,     0.15456,     0.15186,     0.14881,     0.14575,     0.12973,     0.12738,\n",
       "            0.12114,     0.11956,     0.11798,     0.11487,     0.10783,     0.10624,     0.10464,      0.1021,    0.094402,    0.093322,     0.09224,    0.091157,    0.090073,    0.087411,    0.084828,    0.084174,    0.083519,    0.082863,    0.082207,    0.081551,    0.080894,    0.080236,    0.073814,\n",
       "           0.072157,    0.070516,    0.069804,    0.069091,    0.068378,    0.067665,    0.066951,    0.066236,    0.065545,    0.064956,    0.064366,    0.063776,    0.063186,    0.062595,    0.062004,    0.061412,     0.06082,    0.060589,    0.060399,    0.060209,    0.060019,    0.059829,    0.059639,\n",
       "           0.059449,    0.059259,    0.059068,    0.058878,    0.058688,    0.058498,    0.058307,    0.058117,    0.057926,    0.057736,    0.057545,    0.057355,    0.057164,    0.056974,    0.056783,    0.056592,    0.056402,    0.056211,     0.05602,    0.055689,    0.052311,    0.050399,     0.04955,\n",
       "           0.048702,    0.047852,    0.047002,    0.046151,    0.045347,     0.04456,    0.043772,    0.042984,    0.042195,    0.041406,    0.040673,    0.040031,    0.039388,    0.038745,    0.038101,    0.037457,    0.036813,    0.036168,    0.035691,    0.035334,    0.034978,    0.034622,    0.034265,\n",
       "           0.033908,    0.033552,    0.033195,    0.032838,    0.032481,    0.032123,    0.031766,    0.031408,     0.03105,    0.030547,    0.029855,    0.029162,    0.028469,    0.027775,    0.027081,    0.026386,    0.025597,    0.024106,    0.022612,    0.021116,    0.020606,    0.020512,    0.020419,\n",
       "           0.020325,    0.020231,    0.020138,    0.020044,     0.01995,    0.019857,    0.019763,    0.019669,    0.019576,    0.019482,    0.019388,    0.019294,    0.019201,    0.019107,    0.019013,    0.018919,    0.018826,    0.018732,    0.018638,    0.018544,     0.01845,    0.018356,    0.018263,\n",
       "           0.018169,    0.018075,    0.017981,    0.017887,    0.017793,    0.017699,    0.017605,    0.017512,    0.017418,    0.017324,     0.01723,    0.017136,    0.017042,    0.016948,    0.016854,     0.01676,    0.016666,    0.016572,    0.016478,    0.016384,     0.01629,    0.016196,    0.016102,\n",
       "           0.016008,    0.015914,     0.01582,    0.015726,    0.015631,    0.015539,    0.015462,    0.015385,    0.015308,    0.015231,    0.015154,    0.015077,       0.015,    0.014923,    0.014846,    0.014769,    0.014692,    0.014615,    0.014538,    0.014461,    0.014384,    0.014307,     0.01423,\n",
       "           0.014153,    0.014076,    0.013999,    0.013922,    0.013845,    0.013768,    0.013691,    0.013613,    0.013536,    0.013459,    0.013382,    0.013305,    0.013228,    0.013151,    0.013074,    0.012997,    0.012919,    0.012842,    0.012765,    0.012688,    0.012611,    0.012534,    0.012457,\n",
       "           0.012379,    0.012302,    0.012225,    0.012148,    0.012071,    0.011993,    0.011916,    0.011839,    0.011762,    0.011685,    0.011607,     0.01153,    0.011453,    0.011376,    0.011298,    0.011221,    0.011144,    0.011067,    0.010989,    0.010912,    0.010835,    0.010757,     0.01068,\n",
       "           0.010603,    0.010525,    0.010448,    0.010238,   0.0096146,   0.0089907,   0.0083664,   0.0077418,   0.0071167,   0.0064913,   0.0058655,   0.0052392,           0,           0,           0,           0,           0,           0,           0,           0,           0,           0,           0,\n",
       "                  0,           0,           0,           0,           0,           0,           0,           0,           0,           0,           0]]), 'Confidence', 'F1'], [array([          0,    0.001001,    0.002002,    0.003003,    0.004004,    0.005005,    0.006006,    0.007007,    0.008008,    0.009009,     0.01001,    0.011011,    0.012012,    0.013013,    0.014014,    0.015015,    0.016016,    0.017017,    0.018018,    0.019019,     0.02002,    0.021021,    0.022022,    0.023023,\n",
       "          0.024024,    0.025025,    0.026026,    0.027027,    0.028028,    0.029029,     0.03003,    0.031031,    0.032032,    0.033033,    0.034034,    0.035035,    0.036036,    0.037037,    0.038038,    0.039039,     0.04004,    0.041041,    0.042042,    0.043043,    0.044044,    0.045045,    0.046046,    0.047047,\n",
       "          0.048048,    0.049049,     0.05005,    0.051051,    0.052052,    0.053053,    0.054054,    0.055055,    0.056056,    0.057057,    0.058058,    0.059059,     0.06006,    0.061061,    0.062062,    0.063063,    0.064064,    0.065065,    0.066066,    0.067067,    0.068068,    0.069069,     0.07007,    0.071071,\n",
       "          0.072072,    0.073073,    0.074074,    0.075075,    0.076076,    0.077077,    0.078078,    0.079079,     0.08008,    0.081081,    0.082082,    0.083083,    0.084084,    0.085085,    0.086086,    0.087087,    0.088088,    0.089089,     0.09009,    0.091091,    0.092092,    0.093093,    0.094094,    0.095095,\n",
       "          0.096096,    0.097097,    0.098098,    0.099099,      0.1001,      0.1011,      0.1021,      0.1031,      0.1041,     0.10511,     0.10611,     0.10711,     0.10811,     0.10911,     0.11011,     0.11111,     0.11211,     0.11311,     0.11411,     0.11512,     0.11612,     0.11712,     0.11812,     0.11912,\n",
       "           0.12012,     0.12112,     0.12212,     0.12312,     0.12412,     0.12513,     0.12613,     0.12713,     0.12813,     0.12913,     0.13013,     0.13113,     0.13213,     0.13313,     0.13413,     0.13514,     0.13614,     0.13714,     0.13814,     0.13914,     0.14014,     0.14114,     0.14214,     0.14314,\n",
       "           0.14414,     0.14515,     0.14615,     0.14715,     0.14815,     0.14915,     0.15015,     0.15115,     0.15215,     0.15315,     0.15415,     0.15516,     0.15616,     0.15716,     0.15816,     0.15916,     0.16016,     0.16116,     0.16216,     0.16316,     0.16416,     0.16517,     0.16617,     0.16717,\n",
       "           0.16817,     0.16917,     0.17017,     0.17117,     0.17217,     0.17317,     0.17417,     0.17518,     0.17618,     0.17718,     0.17818,     0.17918,     0.18018,     0.18118,     0.18218,     0.18318,     0.18418,     0.18519,     0.18619,     0.18719,     0.18819,     0.18919,     0.19019,     0.19119,\n",
       "           0.19219,     0.19319,     0.19419,      0.1952,      0.1962,      0.1972,      0.1982,      0.1992,      0.2002,      0.2012,      0.2022,      0.2032,      0.2042,     0.20521,     0.20621,     0.20721,     0.20821,     0.20921,     0.21021,     0.21121,     0.21221,     0.21321,     0.21421,     0.21522,\n",
       "           0.21622,     0.21722,     0.21822,     0.21922,     0.22022,     0.22122,     0.22222,     0.22322,     0.22422,     0.22523,     0.22623,     0.22723,     0.22823,     0.22923,     0.23023,     0.23123,     0.23223,     0.23323,     0.23423,     0.23524,     0.23624,     0.23724,     0.23824,     0.23924,\n",
       "           0.24024,     0.24124,     0.24224,     0.24324,     0.24424,     0.24525,     0.24625,     0.24725,     0.24825,     0.24925,     0.25025,     0.25125,     0.25225,     0.25325,     0.25425,     0.25526,     0.25626,     0.25726,     0.25826,     0.25926,     0.26026,     0.26126,     0.26226,     0.26326,\n",
       "           0.26426,     0.26527,     0.26627,     0.26727,     0.26827,     0.26927,     0.27027,     0.27127,     0.27227,     0.27327,     0.27427,     0.27528,     0.27628,     0.27728,     0.27828,     0.27928,     0.28028,     0.28128,     0.28228,     0.28328,     0.28428,     0.28529,     0.28629,     0.28729,\n",
       "           0.28829,     0.28929,     0.29029,     0.29129,     0.29229,     0.29329,     0.29429,      0.2953,      0.2963,      0.2973,      0.2983,      0.2993,      0.3003,      0.3013,      0.3023,      0.3033,      0.3043,     0.30531,     0.30631,     0.30731,     0.30831,     0.30931,     0.31031,     0.31131,\n",
       "           0.31231,     0.31331,     0.31431,     0.31532,     0.31632,     0.31732,     0.31832,     0.31932,     0.32032,     0.32132,     0.32232,     0.32332,     0.32432,     0.32533,     0.32633,     0.32733,     0.32833,     0.32933,     0.33033,     0.33133,     0.33233,     0.33333,     0.33433,     0.33534,\n",
       "           0.33634,     0.33734,     0.33834,     0.33934,     0.34034,     0.34134,     0.34234,     0.34334,     0.34434,     0.34535,     0.34635,     0.34735,     0.34835,     0.34935,     0.35035,     0.35135,     0.35235,     0.35335,     0.35435,     0.35536,     0.35636,     0.35736,     0.35836,     0.35936,\n",
       "           0.36036,     0.36136,     0.36236,     0.36336,     0.36436,     0.36537,     0.36637,     0.36737,     0.36837,     0.36937,     0.37037,     0.37137,     0.37237,     0.37337,     0.37437,     0.37538,     0.37638,     0.37738,     0.37838,     0.37938,     0.38038,     0.38138,     0.38238,     0.38338,\n",
       "           0.38438,     0.38539,     0.38639,     0.38739,     0.38839,     0.38939,     0.39039,     0.39139,     0.39239,     0.39339,     0.39439,      0.3954,      0.3964,      0.3974,      0.3984,      0.3994,      0.4004,      0.4014,      0.4024,      0.4034,      0.4044,     0.40541,     0.40641,     0.40741,\n",
       "           0.40841,     0.40941,     0.41041,     0.41141,     0.41241,     0.41341,     0.41441,     0.41542,     0.41642,     0.41742,     0.41842,     0.41942,     0.42042,     0.42142,     0.42242,     0.42342,     0.42442,     0.42543,     0.42643,     0.42743,     0.42843,     0.42943,     0.43043,     0.43143,\n",
       "           0.43243,     0.43343,     0.43443,     0.43544,     0.43644,     0.43744,     0.43844,     0.43944,     0.44044,     0.44144,     0.44244,     0.44344,     0.44444,     0.44545,     0.44645,     0.44745,     0.44845,     0.44945,     0.45045,     0.45145,     0.45245,     0.45345,     0.45445,     0.45546,\n",
       "           0.45646,     0.45746,     0.45846,     0.45946,     0.46046,     0.46146,     0.46246,     0.46346,     0.46446,     0.46547,     0.46647,     0.46747,     0.46847,     0.46947,     0.47047,     0.47147,     0.47247,     0.47347,     0.47447,     0.47548,     0.47648,     0.47748,     0.47848,     0.47948,\n",
       "           0.48048,     0.48148,     0.48248,     0.48348,     0.48448,     0.48549,     0.48649,     0.48749,     0.48849,     0.48949,     0.49049,     0.49149,     0.49249,     0.49349,     0.49449,      0.4955,      0.4965,      0.4975,      0.4985,      0.4995,      0.5005,      0.5015,      0.5025,      0.5035,\n",
       "            0.5045,     0.50551,     0.50651,     0.50751,     0.50851,     0.50951,     0.51051,     0.51151,     0.51251,     0.51351,     0.51451,     0.51552,     0.51652,     0.51752,     0.51852,     0.51952,     0.52052,     0.52152,     0.52252,     0.52352,     0.52452,     0.52553,     0.52653,     0.52753,\n",
       "           0.52853,     0.52953,     0.53053,     0.53153,     0.53253,     0.53353,     0.53453,     0.53554,     0.53654,     0.53754,     0.53854,     0.53954,     0.54054,     0.54154,     0.54254,     0.54354,     0.54454,     0.54555,     0.54655,     0.54755,     0.54855,     0.54955,     0.55055,     0.55155,\n",
       "           0.55255,     0.55355,     0.55455,     0.55556,     0.55656,     0.55756,     0.55856,     0.55956,     0.56056,     0.56156,     0.56256,     0.56356,     0.56456,     0.56557,     0.56657,     0.56757,     0.56857,     0.56957,     0.57057,     0.57157,     0.57257,     0.57357,     0.57457,     0.57558,\n",
       "           0.57658,     0.57758,     0.57858,     0.57958,     0.58058,     0.58158,     0.58258,     0.58358,     0.58458,     0.58559,     0.58659,     0.58759,     0.58859,     0.58959,     0.59059,     0.59159,     0.59259,     0.59359,     0.59459,      0.5956,      0.5966,      0.5976,      0.5986,      0.5996,\n",
       "            0.6006,      0.6016,      0.6026,      0.6036,      0.6046,     0.60561,     0.60661,     0.60761,     0.60861,     0.60961,     0.61061,     0.61161,     0.61261,     0.61361,     0.61461,     0.61562,     0.61662,     0.61762,     0.61862,     0.61962,     0.62062,     0.62162,     0.62262,     0.62362,\n",
       "           0.62462,     0.62563,     0.62663,     0.62763,     0.62863,     0.62963,     0.63063,     0.63163,     0.63263,     0.63363,     0.63463,     0.63564,     0.63664,     0.63764,     0.63864,     0.63964,     0.64064,     0.64164,     0.64264,     0.64364,     0.64464,     0.64565,     0.64665,     0.64765,\n",
       "           0.64865,     0.64965,     0.65065,     0.65165,     0.65265,     0.65365,     0.65465,     0.65566,     0.65666,     0.65766,     0.65866,     0.65966,     0.66066,     0.66166,     0.66266,     0.66366,     0.66466,     0.66567,     0.66667,     0.66767,     0.66867,     0.66967,     0.67067,     0.67167,\n",
       "           0.67267,     0.67367,     0.67467,     0.67568,     0.67668,     0.67768,     0.67868,     0.67968,     0.68068,     0.68168,     0.68268,     0.68368,     0.68468,     0.68569,     0.68669,     0.68769,     0.68869,     0.68969,     0.69069,     0.69169,     0.69269,     0.69369,     0.69469,      0.6957,\n",
       "            0.6967,      0.6977,      0.6987,      0.6997,      0.7007,      0.7017,      0.7027,      0.7037,      0.7047,     0.70571,     0.70671,     0.70771,     0.70871,     0.70971,     0.71071,     0.71171,     0.71271,     0.71371,     0.71471,     0.71572,     0.71672,     0.71772,     0.71872,     0.71972,\n",
       "           0.72072,     0.72172,     0.72272,     0.72372,     0.72472,     0.72573,     0.72673,     0.72773,     0.72873,     0.72973,     0.73073,     0.73173,     0.73273,     0.73373,     0.73473,     0.73574,     0.73674,     0.73774,     0.73874,     0.73974,     0.74074,     0.74174,     0.74274,     0.74374,\n",
       "           0.74474,     0.74575,     0.74675,     0.74775,     0.74875,     0.74975,     0.75075,     0.75175,     0.75275,     0.75375,     0.75475,     0.75576,     0.75676,     0.75776,     0.75876,     0.75976,     0.76076,     0.76176,     0.76276,     0.76376,     0.76476,     0.76577,     0.76677,     0.76777,\n",
       "           0.76877,     0.76977,     0.77077,     0.77177,     0.77277,     0.77377,     0.77477,     0.77578,     0.77678,     0.77778,     0.77878,     0.77978,     0.78078,     0.78178,     0.78278,     0.78378,     0.78478,     0.78579,     0.78679,     0.78779,     0.78879,     0.78979,     0.79079,     0.79179,\n",
       "           0.79279,     0.79379,     0.79479,      0.7958,      0.7968,      0.7978,      0.7988,      0.7998,      0.8008,      0.8018,      0.8028,      0.8038,      0.8048,     0.80581,     0.80681,     0.80781,     0.80881,     0.80981,     0.81081,     0.81181,     0.81281,     0.81381,     0.81481,     0.81582,\n",
       "           0.81682,     0.81782,     0.81882,     0.81982,     0.82082,     0.82182,     0.82282,     0.82382,     0.82482,     0.82583,     0.82683,     0.82783,     0.82883,     0.82983,     0.83083,     0.83183,     0.83283,     0.83383,     0.83483,     0.83584,     0.83684,     0.83784,     0.83884,     0.83984,\n",
       "           0.84084,     0.84184,     0.84284,     0.84384,     0.84484,     0.84585,     0.84685,     0.84785,     0.84885,     0.84985,     0.85085,     0.85185,     0.85285,     0.85385,     0.85485,     0.85586,     0.85686,     0.85786,     0.85886,     0.85986,     0.86086,     0.86186,     0.86286,     0.86386,\n",
       "           0.86486,     0.86587,     0.86687,     0.86787,     0.86887,     0.86987,     0.87087,     0.87187,     0.87287,     0.87387,     0.87487,     0.87588,     0.87688,     0.87788,     0.87888,     0.87988,     0.88088,     0.88188,     0.88288,     0.88388,     0.88488,     0.88589,     0.88689,     0.88789,\n",
       "           0.88889,     0.88989,     0.89089,     0.89189,     0.89289,     0.89389,     0.89489,      0.8959,      0.8969,      0.8979,      0.8989,      0.8999,      0.9009,      0.9019,      0.9029,      0.9039,      0.9049,     0.90591,     0.90691,     0.90791,     0.90891,     0.90991,     0.91091,     0.91191,\n",
       "           0.91291,     0.91391,     0.91491,     0.91592,     0.91692,     0.91792,     0.91892,     0.91992,     0.92092,     0.92192,     0.92292,     0.92392,     0.92492,     0.92593,     0.92693,     0.92793,     0.92893,     0.92993,     0.93093,     0.93193,     0.93293,     0.93393,     0.93493,     0.93594,\n",
       "           0.93694,     0.93794,     0.93894,     0.93994,     0.94094,     0.94194,     0.94294,     0.94394,     0.94494,     0.94595,     0.94695,     0.94795,     0.94895,     0.94995,     0.95095,     0.95195,     0.95295,     0.95395,     0.95495,     0.95596,     0.95696,     0.95796,     0.95896,     0.95996,\n",
       "           0.96096,     0.96196,     0.96296,     0.96396,     0.96496,     0.96597,     0.96697,     0.96797,     0.96897,     0.96997,     0.97097,     0.97197,     0.97297,     0.97397,     0.97497,     0.97598,     0.97698,     0.97798,     0.97898,     0.97998,     0.98098,     0.98198,     0.98298,     0.98398,\n",
       "           0.98498,     0.98599,     0.98699,     0.98799,     0.98899,     0.98999,     0.99099,     0.99199,     0.99299,     0.99399,     0.99499,       0.996,       0.997,       0.998,       0.999,           1]), array([[   0.095433,    0.095433,     0.12911,     0.15494,      0.1733,     0.18789,     0.20211,     0.21286,     0.22132,     0.22915,     0.23605,     0.24093,     0.24699,      0.2527,     0.25859,     0.26529,     0.26815,     0.27356,     0.27815,     0.28269,     0.28749,     0.29276,      0.2968,\n",
       "            0.30076,     0.30515,     0.30932,     0.31408,     0.31698,     0.31986,     0.32407,     0.32619,     0.32986,     0.33434,     0.33775,     0.34105,     0.34478,     0.34725,     0.34891,     0.35125,     0.35295,     0.35601,     0.35824,     0.36136,     0.36501,     0.36551,     0.36683,\n",
       "            0.36861,     0.37062,     0.37227,     0.37623,     0.37804,     0.38047,     0.38282,     0.38327,     0.38673,     0.38947,     0.39234,     0.39251,     0.39457,     0.39555,     0.39855,     0.39996,     0.40147,     0.40156,      0.4047,     0.40875,     0.41077,     0.41171,     0.41286,\n",
       "            0.41488,     0.41636,     0.41742,     0.42017,     0.42237,     0.42522,     0.42824,     0.42873,     0.43009,     0.43093,     0.43218,     0.43368,     0.43503,     0.43939,     0.44203,     0.44451,     0.44782,     0.44939,     0.45008,     0.45076,     0.45126,     0.45369,      0.4539,\n",
       "            0.45613,     0.45803,     0.46074,     0.46297,     0.46434,     0.46556,     0.46808,     0.46967,     0.47254,     0.47352,     0.47607,     0.47653,     0.47817,     0.47864,      0.4802,     0.48182,     0.48381,     0.48497,     0.48542,     0.48615,     0.48922,     0.49011,     0.49078,\n",
       "            0.49123,     0.49211,     0.49362,     0.49437,     0.49505,     0.49568,     0.49639,     0.49668,     0.49697,     0.49689,         0.5,     0.50159,     0.50221,     0.50341,      0.5043,     0.50735,      0.5083,     0.51073,     0.51115,     0.51196,     0.51445,     0.51516,     0.51747,\n",
       "            0.52079,     0.52247,     0.52413,     0.52589,     0.52842,     0.52777,     0.52855,      0.5311,       0.532,     0.53327,     0.53465,     0.53572,     0.53614,     0.53648,     0.53921,     0.54262,     0.54373,     0.54432,     0.54475,     0.54703,     0.54868,     0.55192,     0.55236,\n",
       "            0.55579,     0.55686,     0.55719,     0.56157,     0.56272,     0.56434,     0.56481,     0.56577,     0.56732,     0.56821,     0.56945,     0.57226,     0.57591,     0.57777,     0.57957,     0.58003,     0.58173,     0.58432,     0.58415,     0.58399,     0.58383,     0.58366,     0.58432,\n",
       "            0.58622,     0.58712,     0.58911,     0.58997,     0.59085,     0.59137,     0.59184,     0.59251,     0.59447,     0.59542,     0.59657,     0.59702,      0.5975,     0.59842,     0.59813,     0.59785,     0.59967,     0.60058,     0.60145,     0.60339,     0.60431,     0.60635,     0.60835,\n",
       "            0.60922,     0.61347,     0.61292,     0.61573,      0.6178,     0.61875,     0.61963,     0.62169,     0.62496,     0.62699,     0.62747,     0.62794,     0.62916,     0.63007,     0.63098,     0.63313,     0.63499,     0.63477,     0.63562,     0.63542,     0.63488,     0.63698,     0.63792,\n",
       "            0.63881,     0.64098,     0.64194,     0.64372,     0.64418,     0.64599,     0.64688,      0.6488,     0.64926,     0.64973,     0.65196,       0.654,     0.65446,     0.65492,     0.65564,     0.65908,      0.6586,     0.65905,     0.66262,     0.66309,     0.66356,     0.66693,     0.66788,\n",
       "            0.66845,     0.66892,      0.6694,     0.67174,      0.6753,     0.67562,     0.67595,     0.67628,     0.67661,     0.67706,     0.67752,     0.67797,     0.67889,     0.68134,     0.68234,     0.68913,     0.69142,     0.69194,     0.69245,     0.69459,     0.69548,      0.6971,     0.69684,\n",
       "            0.69789,     0.69884,     0.69974,     0.70391,     0.70647,     0.70739,     0.71003,     0.71107,       0.712,     0.71304,     0.71391,     0.71353,     0.71543,     0.71653,     0.72076,     0.72342,     0.72456,     0.72556,      0.7264,     0.72603,     0.73132,     0.73248,     0.73349,\n",
       "            0.73449,      0.7355,     0.73823,     0.73925,     0.74215,     0.74328,     0.74431,     0.74474,     0.74578,     0.74618,     0.74655,     0.74691,     0.74728,     0.74946,     0.75051,     0.75234,     0.75217,     0.75199,     0.75182,      0.7528,     0.75537,     0.75502,     0.75697,\n",
       "            0.75751,     0.75805,       0.758,     0.75855,     0.75909,     0.75964,     0.76018,     0.76073,     0.76128,     0.76158,     0.76123,     0.76089,     0.76054,     0.75904,     0.75873,     0.76352,     0.76597,     0.76711,     0.76886,     0.76852,     0.77014,      0.7698,     0.76949,\n",
       "            0.77256,     0.77222,     0.77214,     0.77242,     0.77271,     0.77299,     0.77327,     0.77356,     0.77384,     0.77391,     0.77356,     0.77581,     0.77637,     0.77692,     0.77748,      0.7775,     0.77866,     0.77971,     0.78289,     0.78411,     0.78524,     0.78631,      0.7896,\n",
       "            0.79084,      0.7931,     0.79778,     0.79762,     0.79747,     0.79732,     0.79793,     0.79905,     0.80028,     0.80157,     0.80272,     0.80385,     0.80515,     0.80705,     0.80821,     0.81241,     0.81214,     0.81445,     0.81488,     0.81532,     0.81575,     0.81619,     0.81662,\n",
       "            0.81635,     0.81555,     0.81541,     0.81526,     0.81512,     0.82026,     0.82148,     0.82512,     0.82636,     0.83012,     0.83156,     0.83532,     0.83659,     0.83659,     0.83634,     0.83692,      0.8376,     0.83828,     0.84114,     0.84244,     0.84629,      0.8476,     0.85098,\n",
       "            0.85071,     0.85314,     0.85302,     0.85291,     0.85279,     0.85222,     0.85211,     0.85199,     0.85187,     0.85224,     0.85271,     0.85318,     0.85365,     0.85412,     0.85889,     0.85866,     0.85846,     0.85835,     0.85823,     0.85812,     0.86132,     0.86292,     0.86353,\n",
       "            0.86495,     0.86637,      0.8678,     0.87089,     0.87078,     0.87067,     0.87057,     0.87116,     0.87188,     0.87261,     0.87333,     0.87328,     0.87317,     0.87307,     0.87302,     0.87448,     0.88118,     0.88107,     0.88096,     0.88086,     0.88104,     0.88254,      0.8825,\n",
       "             0.8824,      0.8823,      0.8822,      0.8813,     0.88119,     0.88109,     0.88099,     0.88198,     0.88353,     0.88381,     0.88361,     0.88386,     0.88425,     0.88464,     0.88503,     0.88542,     0.88581,     0.88619,     0.88658,     0.88811,     0.89273,     0.89254,     0.89241,\n",
       "            0.89321,       0.894,      0.8948,     0.89544,     0.89525,     0.89433,     0.89414,     0.89359,      0.8935,      0.8934,      0.8933,     0.89639,      0.8963,      0.8962,     0.89611,     0.89593,     0.89649,     0.89704,     0.89759,     0.89814,     0.89869,     0.89844,     0.89825,\n",
       "            0.89806,     0.89787,      0.8973,     0.89711,     0.89691,     0.89672,     0.89544,     0.89534,     0.89524,     0.89514,     0.89465,     0.89454,     0.89444,     0.89434,     0.89477,      0.8952,     0.89564,     0.89607,      0.8965,     0.89694,     0.89737,     0.90109,     0.90286,\n",
       "            0.90463,     0.90641,     0.91524,     0.91707,     0.91791,     0.91775,     0.91758,     0.91742,     0.91692,     0.91676,     0.91756,     0.91943,     0.91991,     0.91975,     0.92077,     0.92267,     0.92298,     0.92282,     0.93165,     0.93361,     0.93406,     0.93392,     0.93378,\n",
       "            0.93364,     0.93355,     0.93348,     0.93341,     0.93334,     0.93316,     0.93789,     0.93992,     0.94036,     0.94023,     0.93936,     0.93929,     0.93922,     0.93915,     0.93904,     0.93891,      0.9385,     0.93836,     0.93965,     0.94178,     0.94217,      0.9421,     0.94204,\n",
       "            0.94197,     0.94138,     0.94131,     0.94125,     0.94118,     0.94457,     0.94392,     0.94374,     0.94445,     0.94675,     0.94652,     0.94639,     0.94599,     0.94585,     0.94702,     0.94944,     0.94965,     0.94952,     0.94943,     0.94936,     0.94928,     0.94918,     0.94905,\n",
       "            0.94869,     0.94862,     0.94855,     0.94848,     0.94842,     0.94835,     0.94828,     0.94821,     0.94807,     0.94734,      0.9472,     0.95105,     0.95092,     0.95024,     0.95009,     0.94939,     0.94924,     0.94759,     0.94739,     0.94628,     0.94611,     0.95411,     0.95705,\n",
       "            0.95692,     0.96249,     0.96237,     0.96201,     0.96184,     0.96095,     0.96082,     0.96043,      0.9603,      0.9599,     0.95976,     0.95817,     0.96398,     0.96385,     0.97055,     0.97043,     0.97031,     0.97015,     0.96981,     0.96875,     0.96862,     0.96799,     0.96781,\n",
       "            0.97514,     0.97504,     0.97656,     0.97896,     0.98136,     0.98303,     0.98296,     0.98274,     0.98266,     0.98197,     0.98192,     0.98187,     0.98182,     0.98154,     0.98144,     0.98135,     0.98072,     0.98063,     0.98032,     0.97937,     0.97926,       0.978,     0.97783,\n",
       "            0.97769,     0.97756,      0.9774,     0.97671,     0.97657,     0.97641,     0.97622,     0.97517,     0.97502,     0.98714,     0.98709,     0.98704,     0.98696,     0.98648,     0.98639,     0.98571,     0.98556,     0.98523,     0.98511,     0.98426,           1,           1,           1,\n",
       "                  1,           1,           1,           1,           1,           1,           1,           1,           1,           1,           1,           1,           1,           1,           1,           1,           1,           1,           1,           1,           1,           1,           1,\n",
       "                  1,           1,           1,           1,           1,           1,           1,           1,           1,           1,           1,           1,           1,           1,           1,           1,           1,           1,           1,           1,           1,           1,           1,\n",
       "                  1,           1,           1,           1,           1,           1,           1,           1,           1,           1,           1,           1,           1,           1,           1,           1,           1,           1,           1,           1,           1,           1,           1,\n",
       "                  1,           1,           1,           1,           1,           1,           1,           1,           1,           1,           1,           1,           1,           1,           1,           1,           1,           1,           1,           1,           1,           1,           1,\n",
       "                  1,           1,           1,           1,           1,           1,           1,           1,           1,           1,           1,           1,           1,           1,           1,           1,           1,           1,           1,           1,           1,           1,           1,\n",
       "                  1,           1,           1,           1,           1,           1,           1,           1,           1,           1,           1,           1,           1,           1,           1,           1,           1,           1,           1,           1,           1,           1,           1,\n",
       "                  1,           1,           1,           1,           1,           1,           1,           1,           1,           1,           1,           1,           1,           1,           1,           1,           1,           1,           1,           1,           1,           1,           1,\n",
       "                  1,           1,           1,           1,           1,           1,           1,           1,           1,           1,           1,           1,           1,           1,           1,           1,           1,           1,           1,           1,           1,           1,           1,\n",
       "                  1,           1,           1,           1,           1,           1,           1,           1,           1,           1,           1,           1,           1,           1,           1,           1,           1,           1,           1,           1,           1,           1,           1,\n",
       "                  1,           1,           1,           1,           1,           1,           1,           1,           1,           1,           1,           1,           1,           1,           1,           1,           1,           1,           1,           1,           1,           1,           1,\n",
       "                  1,           1,           1,           1,           1,           1,           1,           1,           1,           1,           1,           1,           1,           1,           1,           1,           1,           1,           1,           1,           1,           1,           1,\n",
       "                  1,           1,           1,           1,           1,           1,           1,           1,           1,           1,           1,           1,           1,           1,           1,           1,           1,           1,           1,           1,           1,           1,           1,\n",
       "                  1,           1,           1,           1,           1,           1,           1,           1,           1,           1,           1,           1,           1,           1,           1,           1,           1,           1,           1,           1,           1,           1,           1,\n",
       "                  1,           1,           1,           1,           1,           1,           1,           1,           1,           1,           1]]), 'Confidence', 'Precision'], [array([          0,    0.001001,    0.002002,    0.003003,    0.004004,    0.005005,    0.006006,    0.007007,    0.008008,    0.009009,     0.01001,    0.011011,    0.012012,    0.013013,    0.014014,    0.015015,    0.016016,    0.017017,    0.018018,    0.019019,     0.02002,    0.021021,    0.022022,    0.023023,\n",
       "          0.024024,    0.025025,    0.026026,    0.027027,    0.028028,    0.029029,     0.03003,    0.031031,    0.032032,    0.033033,    0.034034,    0.035035,    0.036036,    0.037037,    0.038038,    0.039039,     0.04004,    0.041041,    0.042042,    0.043043,    0.044044,    0.045045,    0.046046,    0.047047,\n",
       "          0.048048,    0.049049,     0.05005,    0.051051,    0.052052,    0.053053,    0.054054,    0.055055,    0.056056,    0.057057,    0.058058,    0.059059,     0.06006,    0.061061,    0.062062,    0.063063,    0.064064,    0.065065,    0.066066,    0.067067,    0.068068,    0.069069,     0.07007,    0.071071,\n",
       "          0.072072,    0.073073,    0.074074,    0.075075,    0.076076,    0.077077,    0.078078,    0.079079,     0.08008,    0.081081,    0.082082,    0.083083,    0.084084,    0.085085,    0.086086,    0.087087,    0.088088,    0.089089,     0.09009,    0.091091,    0.092092,    0.093093,    0.094094,    0.095095,\n",
       "          0.096096,    0.097097,    0.098098,    0.099099,      0.1001,      0.1011,      0.1021,      0.1031,      0.1041,     0.10511,     0.10611,     0.10711,     0.10811,     0.10911,     0.11011,     0.11111,     0.11211,     0.11311,     0.11411,     0.11512,     0.11612,     0.11712,     0.11812,     0.11912,\n",
       "           0.12012,     0.12112,     0.12212,     0.12312,     0.12412,     0.12513,     0.12613,     0.12713,     0.12813,     0.12913,     0.13013,     0.13113,     0.13213,     0.13313,     0.13413,     0.13514,     0.13614,     0.13714,     0.13814,     0.13914,     0.14014,     0.14114,     0.14214,     0.14314,\n",
       "           0.14414,     0.14515,     0.14615,     0.14715,     0.14815,     0.14915,     0.15015,     0.15115,     0.15215,     0.15315,     0.15415,     0.15516,     0.15616,     0.15716,     0.15816,     0.15916,     0.16016,     0.16116,     0.16216,     0.16316,     0.16416,     0.16517,     0.16617,     0.16717,\n",
       "           0.16817,     0.16917,     0.17017,     0.17117,     0.17217,     0.17317,     0.17417,     0.17518,     0.17618,     0.17718,     0.17818,     0.17918,     0.18018,     0.18118,     0.18218,     0.18318,     0.18418,     0.18519,     0.18619,     0.18719,     0.18819,     0.18919,     0.19019,     0.19119,\n",
       "           0.19219,     0.19319,     0.19419,      0.1952,      0.1962,      0.1972,      0.1982,      0.1992,      0.2002,      0.2012,      0.2022,      0.2032,      0.2042,     0.20521,     0.20621,     0.20721,     0.20821,     0.20921,     0.21021,     0.21121,     0.21221,     0.21321,     0.21421,     0.21522,\n",
       "           0.21622,     0.21722,     0.21822,     0.21922,     0.22022,     0.22122,     0.22222,     0.22322,     0.22422,     0.22523,     0.22623,     0.22723,     0.22823,     0.22923,     0.23023,     0.23123,     0.23223,     0.23323,     0.23423,     0.23524,     0.23624,     0.23724,     0.23824,     0.23924,\n",
       "           0.24024,     0.24124,     0.24224,     0.24324,     0.24424,     0.24525,     0.24625,     0.24725,     0.24825,     0.24925,     0.25025,     0.25125,     0.25225,     0.25325,     0.25425,     0.25526,     0.25626,     0.25726,     0.25826,     0.25926,     0.26026,     0.26126,     0.26226,     0.26326,\n",
       "           0.26426,     0.26527,     0.26627,     0.26727,     0.26827,     0.26927,     0.27027,     0.27127,     0.27227,     0.27327,     0.27427,     0.27528,     0.27628,     0.27728,     0.27828,     0.27928,     0.28028,     0.28128,     0.28228,     0.28328,     0.28428,     0.28529,     0.28629,     0.28729,\n",
       "           0.28829,     0.28929,     0.29029,     0.29129,     0.29229,     0.29329,     0.29429,      0.2953,      0.2963,      0.2973,      0.2983,      0.2993,      0.3003,      0.3013,      0.3023,      0.3033,      0.3043,     0.30531,     0.30631,     0.30731,     0.30831,     0.30931,     0.31031,     0.31131,\n",
       "           0.31231,     0.31331,     0.31431,     0.31532,     0.31632,     0.31732,     0.31832,     0.31932,     0.32032,     0.32132,     0.32232,     0.32332,     0.32432,     0.32533,     0.32633,     0.32733,     0.32833,     0.32933,     0.33033,     0.33133,     0.33233,     0.33333,     0.33433,     0.33534,\n",
       "           0.33634,     0.33734,     0.33834,     0.33934,     0.34034,     0.34134,     0.34234,     0.34334,     0.34434,     0.34535,     0.34635,     0.34735,     0.34835,     0.34935,     0.35035,     0.35135,     0.35235,     0.35335,     0.35435,     0.35536,     0.35636,     0.35736,     0.35836,     0.35936,\n",
       "           0.36036,     0.36136,     0.36236,     0.36336,     0.36436,     0.36537,     0.36637,     0.36737,     0.36837,     0.36937,     0.37037,     0.37137,     0.37237,     0.37337,     0.37437,     0.37538,     0.37638,     0.37738,     0.37838,     0.37938,     0.38038,     0.38138,     0.38238,     0.38338,\n",
       "           0.38438,     0.38539,     0.38639,     0.38739,     0.38839,     0.38939,     0.39039,     0.39139,     0.39239,     0.39339,     0.39439,      0.3954,      0.3964,      0.3974,      0.3984,      0.3994,      0.4004,      0.4014,      0.4024,      0.4034,      0.4044,     0.40541,     0.40641,     0.40741,\n",
       "           0.40841,     0.40941,     0.41041,     0.41141,     0.41241,     0.41341,     0.41441,     0.41542,     0.41642,     0.41742,     0.41842,     0.41942,     0.42042,     0.42142,     0.42242,     0.42342,     0.42442,     0.42543,     0.42643,     0.42743,     0.42843,     0.42943,     0.43043,     0.43143,\n",
       "           0.43243,     0.43343,     0.43443,     0.43544,     0.43644,     0.43744,     0.43844,     0.43944,     0.44044,     0.44144,     0.44244,     0.44344,     0.44444,     0.44545,     0.44645,     0.44745,     0.44845,     0.44945,     0.45045,     0.45145,     0.45245,     0.45345,     0.45445,     0.45546,\n",
       "           0.45646,     0.45746,     0.45846,     0.45946,     0.46046,     0.46146,     0.46246,     0.46346,     0.46446,     0.46547,     0.46647,     0.46747,     0.46847,     0.46947,     0.47047,     0.47147,     0.47247,     0.47347,     0.47447,     0.47548,     0.47648,     0.47748,     0.47848,     0.47948,\n",
       "           0.48048,     0.48148,     0.48248,     0.48348,     0.48448,     0.48549,     0.48649,     0.48749,     0.48849,     0.48949,     0.49049,     0.49149,     0.49249,     0.49349,     0.49449,      0.4955,      0.4965,      0.4975,      0.4985,      0.4995,      0.5005,      0.5015,      0.5025,      0.5035,\n",
       "            0.5045,     0.50551,     0.50651,     0.50751,     0.50851,     0.50951,     0.51051,     0.51151,     0.51251,     0.51351,     0.51451,     0.51552,     0.51652,     0.51752,     0.51852,     0.51952,     0.52052,     0.52152,     0.52252,     0.52352,     0.52452,     0.52553,     0.52653,     0.52753,\n",
       "           0.52853,     0.52953,     0.53053,     0.53153,     0.53253,     0.53353,     0.53453,     0.53554,     0.53654,     0.53754,     0.53854,     0.53954,     0.54054,     0.54154,     0.54254,     0.54354,     0.54454,     0.54555,     0.54655,     0.54755,     0.54855,     0.54955,     0.55055,     0.55155,\n",
       "           0.55255,     0.55355,     0.55455,     0.55556,     0.55656,     0.55756,     0.55856,     0.55956,     0.56056,     0.56156,     0.56256,     0.56356,     0.56456,     0.56557,     0.56657,     0.56757,     0.56857,     0.56957,     0.57057,     0.57157,     0.57257,     0.57357,     0.57457,     0.57558,\n",
       "           0.57658,     0.57758,     0.57858,     0.57958,     0.58058,     0.58158,     0.58258,     0.58358,     0.58458,     0.58559,     0.58659,     0.58759,     0.58859,     0.58959,     0.59059,     0.59159,     0.59259,     0.59359,     0.59459,      0.5956,      0.5966,      0.5976,      0.5986,      0.5996,\n",
       "            0.6006,      0.6016,      0.6026,      0.6036,      0.6046,     0.60561,     0.60661,     0.60761,     0.60861,     0.60961,     0.61061,     0.61161,     0.61261,     0.61361,     0.61461,     0.61562,     0.61662,     0.61762,     0.61862,     0.61962,     0.62062,     0.62162,     0.62262,     0.62362,\n",
       "           0.62462,     0.62563,     0.62663,     0.62763,     0.62863,     0.62963,     0.63063,     0.63163,     0.63263,     0.63363,     0.63463,     0.63564,     0.63664,     0.63764,     0.63864,     0.63964,     0.64064,     0.64164,     0.64264,     0.64364,     0.64464,     0.64565,     0.64665,     0.64765,\n",
       "           0.64865,     0.64965,     0.65065,     0.65165,     0.65265,     0.65365,     0.65465,     0.65566,     0.65666,     0.65766,     0.65866,     0.65966,     0.66066,     0.66166,     0.66266,     0.66366,     0.66466,     0.66567,     0.66667,     0.66767,     0.66867,     0.66967,     0.67067,     0.67167,\n",
       "           0.67267,     0.67367,     0.67467,     0.67568,     0.67668,     0.67768,     0.67868,     0.67968,     0.68068,     0.68168,     0.68268,     0.68368,     0.68468,     0.68569,     0.68669,     0.68769,     0.68869,     0.68969,     0.69069,     0.69169,     0.69269,     0.69369,     0.69469,      0.6957,\n",
       "            0.6967,      0.6977,      0.6987,      0.6997,      0.7007,      0.7017,      0.7027,      0.7037,      0.7047,     0.70571,     0.70671,     0.70771,     0.70871,     0.70971,     0.71071,     0.71171,     0.71271,     0.71371,     0.71471,     0.71572,     0.71672,     0.71772,     0.71872,     0.71972,\n",
       "           0.72072,     0.72172,     0.72272,     0.72372,     0.72472,     0.72573,     0.72673,     0.72773,     0.72873,     0.72973,     0.73073,     0.73173,     0.73273,     0.73373,     0.73473,     0.73574,     0.73674,     0.73774,     0.73874,     0.73974,     0.74074,     0.74174,     0.74274,     0.74374,\n",
       "           0.74474,     0.74575,     0.74675,     0.74775,     0.74875,     0.74975,     0.75075,     0.75175,     0.75275,     0.75375,     0.75475,     0.75576,     0.75676,     0.75776,     0.75876,     0.75976,     0.76076,     0.76176,     0.76276,     0.76376,     0.76476,     0.76577,     0.76677,     0.76777,\n",
       "           0.76877,     0.76977,     0.77077,     0.77177,     0.77277,     0.77377,     0.77477,     0.77578,     0.77678,     0.77778,     0.77878,     0.77978,     0.78078,     0.78178,     0.78278,     0.78378,     0.78478,     0.78579,     0.78679,     0.78779,     0.78879,     0.78979,     0.79079,     0.79179,\n",
       "           0.79279,     0.79379,     0.79479,      0.7958,      0.7968,      0.7978,      0.7988,      0.7998,      0.8008,      0.8018,      0.8028,      0.8038,      0.8048,     0.80581,     0.80681,     0.80781,     0.80881,     0.80981,     0.81081,     0.81181,     0.81281,     0.81381,     0.81481,     0.81582,\n",
       "           0.81682,     0.81782,     0.81882,     0.81982,     0.82082,     0.82182,     0.82282,     0.82382,     0.82482,     0.82583,     0.82683,     0.82783,     0.82883,     0.82983,     0.83083,     0.83183,     0.83283,     0.83383,     0.83483,     0.83584,     0.83684,     0.83784,     0.83884,     0.83984,\n",
       "           0.84084,     0.84184,     0.84284,     0.84384,     0.84484,     0.84585,     0.84685,     0.84785,     0.84885,     0.84985,     0.85085,     0.85185,     0.85285,     0.85385,     0.85485,     0.85586,     0.85686,     0.85786,     0.85886,     0.85986,     0.86086,     0.86186,     0.86286,     0.86386,\n",
       "           0.86486,     0.86587,     0.86687,     0.86787,     0.86887,     0.86987,     0.87087,     0.87187,     0.87287,     0.87387,     0.87487,     0.87588,     0.87688,     0.87788,     0.87888,     0.87988,     0.88088,     0.88188,     0.88288,     0.88388,     0.88488,     0.88589,     0.88689,     0.88789,\n",
       "           0.88889,     0.88989,     0.89089,     0.89189,     0.89289,     0.89389,     0.89489,      0.8959,      0.8969,      0.8979,      0.8989,      0.8999,      0.9009,      0.9019,      0.9029,      0.9039,      0.9049,     0.90591,     0.90691,     0.90791,     0.90891,     0.90991,     0.91091,     0.91191,\n",
       "           0.91291,     0.91391,     0.91491,     0.91592,     0.91692,     0.91792,     0.91892,     0.91992,     0.92092,     0.92192,     0.92292,     0.92392,     0.92492,     0.92593,     0.92693,     0.92793,     0.92893,     0.92993,     0.93093,     0.93193,     0.93293,     0.93393,     0.93493,     0.93594,\n",
       "           0.93694,     0.93794,     0.93894,     0.93994,     0.94094,     0.94194,     0.94294,     0.94394,     0.94494,     0.94595,     0.94695,     0.94795,     0.94895,     0.94995,     0.95095,     0.95195,     0.95295,     0.95395,     0.95495,     0.95596,     0.95696,     0.95796,     0.95896,     0.95996,\n",
       "           0.96096,     0.96196,     0.96296,     0.96396,     0.96496,     0.96597,     0.96697,     0.96797,     0.96897,     0.96997,     0.97097,     0.97197,     0.97297,     0.97397,     0.97497,     0.97598,     0.97698,     0.97798,     0.97898,     0.97998,     0.98098,     0.98198,     0.98298,     0.98398,\n",
       "           0.98498,     0.98599,     0.98699,     0.98799,     0.98899,     0.98999,     0.99099,     0.99199,     0.99299,     0.99399,     0.99499,       0.996,       0.997,       0.998,       0.999,           1]), array([[    0.91123,     0.91123,     0.91123,     0.90862,     0.90862,     0.90601,     0.90601,     0.90601,     0.90601,     0.90601,     0.90601,     0.90601,     0.90601,     0.90601,     0.90601,     0.90601,     0.90601,     0.90601,     0.90601,     0.90601,     0.90601,     0.90601,     0.90601,\n",
       "            0.90601,     0.90601,     0.90601,     0.90601,     0.90601,     0.90601,     0.90601,     0.90601,     0.90601,     0.90601,     0.90601,     0.90601,     0.90601,     0.90601,     0.90601,     0.90601,     0.90601,     0.90601,     0.90601,     0.90601,     0.90601,     0.90396,     0.90339,\n",
       "            0.90339,     0.90339,     0.90339,     0.90339,     0.90339,     0.90339,     0.90339,     0.90339,     0.90339,     0.90339,     0.90339,     0.90085,     0.90078,     0.89817,     0.89817,     0.89556,     0.89319,     0.89034,     0.89034,     0.89034,     0.89034,     0.89034,     0.89034,\n",
       "            0.89034,     0.89034,     0.89034,     0.89034,     0.89034,     0.88773,     0.88773,     0.88773,     0.88773,     0.88773,     0.88773,     0.88773,     0.88512,     0.88512,     0.88512,     0.88512,     0.88512,     0.88512,     0.88512,     0.88251,     0.88251,     0.88251,     0.88109,\n",
       "             0.8799,      0.8799,      0.8799,      0.8799,      0.8799,      0.8799,      0.8799,      0.8799,      0.8799,      0.8799,      0.8799,      0.8799,      0.8799,      0.8799,      0.8799,      0.8799,      0.8799,      0.8799,      0.8799,      0.8799,      0.8799,      0.8799,      0.8799,\n",
       "             0.8799,      0.8799,      0.8799,      0.8799,     0.87728,     0.87728,     0.87728,     0.87728,     0.87728,     0.87467,     0.87206,     0.87206,     0.87206,     0.87206,     0.87206,     0.87206,     0.87206,     0.87206,     0.87206,     0.87206,     0.87206,     0.87206,     0.87206,\n",
       "            0.87206,     0.87206,     0.87206,     0.87206,     0.87206,     0.86957,     0.86945,     0.86945,     0.86945,     0.86945,     0.86945,     0.86945,     0.86912,     0.86684,     0.86684,     0.86684,     0.86684,     0.86684,     0.86684,     0.86684,     0.86684,     0.86684,     0.86684,\n",
       "            0.86684,     0.86684,     0.86162,     0.86162,     0.86162,     0.86162,     0.86162,     0.86162,     0.86162,     0.86162,     0.85901,     0.85901,     0.85901,     0.85901,     0.85901,     0.85901,     0.85901,     0.85882,     0.85824,     0.85766,     0.85709,     0.85651,      0.8564,\n",
       "             0.8564,      0.8564,      0.8564,      0.8564,      0.8564,      0.8564,      0.8564,      0.8564,      0.8564,      0.8564,      0.8564,      0.8564,      0.8564,     0.85597,     0.85495,     0.85393,     0.85379,     0.85379,     0.85379,     0.85379,     0.85379,     0.85379,     0.85379,\n",
       "            0.85379,     0.85363,     0.85169,     0.85117,     0.85117,     0.85117,     0.85117,     0.85117,     0.85117,     0.85117,     0.85117,     0.85117,     0.84856,     0.84856,     0.84856,     0.84856,     0.84485,     0.84334,     0.84334,     0.84186,     0.83991,     0.83812,     0.83812,\n",
       "            0.83812,     0.83812,     0.83812,     0.83812,     0.83812,     0.83812,     0.83812,     0.83812,     0.83812,     0.83812,     0.83812,     0.83812,     0.83812,     0.83812,     0.83812,     0.83789,     0.83611,     0.83551,     0.83551,     0.83551,     0.83551,     0.83551,     0.83551,\n",
       "            0.83551,     0.83551,     0.83551,     0.83029,     0.83029,     0.83029,     0.83029,     0.83029,     0.83029,     0.83029,     0.83029,     0.83029,     0.83029,     0.83029,     0.83029,     0.83029,     0.83029,     0.83029,     0.83029,     0.83029,     0.83029,     0.82923,     0.82768,\n",
       "            0.82768,     0.82768,     0.82768,     0.82768,     0.82768,     0.82768,     0.82768,     0.82768,     0.82768,     0.82768,     0.82744,     0.82591,     0.82507,     0.82507,     0.82507,     0.82507,     0.82507,     0.82507,     0.82491,     0.82338,     0.82245,     0.82245,     0.82245,\n",
       "            0.82245,     0.82245,     0.82245,     0.82245,     0.82245,     0.82245,     0.82245,     0.81984,     0.81984,     0.81984,     0.81984,     0.81984,     0.81984,     0.81984,     0.81984,     0.81697,      0.8162,     0.81544,     0.81467,     0.81462,     0.81427,     0.81274,     0.81201,\n",
       "            0.81201,     0.81201,      0.8094,      0.8094,      0.8094,      0.8094,      0.8094,      0.8094,      0.8094,     0.80898,     0.80745,     0.80592,     0.80439,      0.7978,     0.79646,     0.79634,     0.79373,     0.79373,     0.79036,     0.78883,     0.78731,     0.78579,     0.78445,\n",
       "            0.78048,     0.77895,     0.77807,     0.77807,     0.77807,     0.77807,     0.77807,     0.77807,     0.77807,     0.77753,       0.776,     0.77546,     0.77546,     0.77546,     0.77546,     0.77023,     0.77023,     0.77023,     0.77023,     0.77023,     0.77023,     0.77023,     0.77023,\n",
       "            0.77023,     0.76501,     0.76222,     0.76151,     0.76079,     0.76008,     0.75979,     0.75979,     0.75979,     0.75979,     0.75979,     0.75979,     0.75979,     0.75196,     0.75196,      0.7463,     0.74496,     0.74413,     0.74413,     0.74413,     0.74413,     0.74413,     0.74411,\n",
       "            0.74277,     0.73886,     0.73815,     0.73743,     0.73672,     0.73629,     0.73629,     0.73629,     0.73629,     0.73629,     0.73629,     0.73629,     0.73629,     0.73517,     0.73383,     0.73368,     0.73368,     0.73368,     0.73107,     0.73107,     0.73107,     0.73107,     0.73057,\n",
       "            0.72904,     0.72804,     0.72738,     0.72671,     0.72604,     0.72276,     0.72209,     0.72142,     0.72075,     0.72063,     0.72063,     0.72063,     0.72063,     0.72063,     0.71513,     0.71379,     0.71262,     0.71195,     0.71129,     0.71062,     0.71018,     0.71018,     0.70496,\n",
       "            0.70496,     0.70496,     0.70496,     0.70446,      0.7038,     0.70313,     0.70246,     0.70235,     0.70235,     0.70235,     0.70235,     0.70172,     0.70105,     0.70038,     0.69974,     0.69974,     0.69707,     0.69635,     0.69564,     0.69493,     0.69191,     0.69191,     0.68637,\n",
       "             0.6857,     0.68503,     0.68436,     0.67847,      0.6778,     0.67713,     0.67646,     0.67624,     0.67624,     0.67528,     0.67394,     0.67363,     0.67363,     0.67363,     0.67363,     0.67363,     0.67363,     0.67363,     0.67363,     0.67363,     0.67361,     0.67228,     0.67102,\n",
       "            0.67102,     0.67102,     0.67102,     0.67081,     0.66947,     0.66291,     0.66157,     0.65779,     0.65712,     0.65645,     0.65579,     0.65512,     0.65445,     0.65378,     0.65311,     0.65013,     0.65013,     0.65013,     0.65013,     0.65013,     0.65013,     0.64672,     0.64538,\n",
       "            0.64404,     0.64271,     0.63876,     0.63742,     0.63608,     0.63474,      0.6261,     0.62543,     0.62476,     0.62409,     0.62081,     0.62014,     0.61948,     0.61881,      0.6188,      0.6188,      0.6188,      0.6188,      0.6188,      0.6188,      0.6188,     0.61619,     0.61619,\n",
       "            0.61619,     0.61619,     0.61619,     0.61619,     0.61314,      0.6118,     0.61046,     0.60912,     0.60517,     0.60383,     0.60313,     0.60313,     0.59982,     0.59848,     0.59791,     0.59791,     0.59447,     0.59313,     0.59269,     0.59269,     0.59172,     0.59039,     0.58905,\n",
       "            0.58771,     0.58692,     0.58625,     0.58558,     0.58491,     0.58322,     0.58225,     0.58225,     0.57635,     0.57501,     0.56621,     0.56554,     0.56487,      0.5642,      0.5631,     0.56176,     0.55781,     0.55648,     0.55352,     0.55352,     0.55299,     0.55232,     0.55166,\n",
       "            0.55099,      0.5451,     0.54443,     0.54376,     0.54309,     0.53392,     0.52735,     0.52556,     0.51958,     0.51958,      0.5083,     0.50697,     0.50302,     0.50168,     0.49608,     0.49608,     0.49244,      0.4911,     0.49024,     0.48947,     0.48871,     0.48771,     0.48637,\n",
       "            0.48273,     0.48206,     0.48139,     0.48072,     0.48005,     0.47938,     0.47871,     0.47804,     0.47665,     0.46973,     0.46839,     0.45661,     0.45527,     0.44871,     0.44737,     0.44081,     0.43947,     0.42491,     0.42312,     0.41392,     0.41258,     0.40731,     0.40729,\n",
       "            0.40595,       0.402,     0.40067,     0.39667,     0.39488,     0.38555,     0.38422,     0.38027,     0.37893,     0.37498,     0.37364,     0.35889,     0.34942,     0.34809,     0.34414,      0.3428,     0.34127,     0.33948,     0.33552,     0.32374,      0.3224,     0.31581,     0.31403,\n",
       "            0.30729,     0.30595,     0.30548,     0.30548,     0.30548,     0.30256,     0.30122,     0.29727,     0.29593,     0.28434,     0.28358,     0.28281,     0.28205,     0.27773,     0.27615,     0.27482,     0.26564,     0.26431,     0.26011,     0.24792,     0.24658,     0.23213,     0.23035,\n",
       "            0.22886,     0.22752,     0.22586,     0.21897,     0.21763,     0.21616,     0.21437,     0.20513,      0.2038,     0.20036,      0.1996,     0.19883,     0.19758,     0.19058,     0.18924,     0.18004,     0.17826,     0.17413,     0.17279,     0.16333,      0.1538,     0.15246,      0.1484,\n",
       "            0.14662,     0.14518,     0.14384,     0.14065,     0.14024,     0.13983,     0.13942,     0.13901,      0.1386,     0.13491,     0.13053,     0.12919,     0.12782,     0.12604,     0.12487,      0.1241,     0.12334,     0.11994,     0.11904,     0.11815,     0.11453,     0.11319,     0.11209,\n",
       "            0.11149,      0.1109,      0.1103,     0.10971,     0.10112,     0.10036,    0.099595,    0.096155,    0.095263,    0.094371,     0.09061,    0.089271,    0.088213,    0.087321,    0.086429,    0.085537,    0.084645,    0.083753,     0.08217,    0.080386,    0.078602,    0.069362,    0.068024,\n",
       "           0.064475,    0.063583,    0.062691,    0.060934,     0.05699,    0.056098,    0.055206,    0.053797,     0.04954,    0.048945,     0.04835,    0.047755,    0.047161,    0.045703,    0.044293,    0.043936,    0.043579,    0.043222,    0.042865,    0.042509,    0.042152,    0.041795,    0.038321,\n",
       "           0.037429,    0.036546,    0.036164,    0.035782,    0.035399,    0.035017,    0.034635,    0.034252,    0.033883,    0.033568,    0.033253,    0.032938,    0.032623,    0.032309,    0.031994,    0.031679,    0.031364,    0.031241,     0.03114,    0.031039,    0.030938,    0.030837,    0.030736,\n",
       "           0.030635,    0.030534,    0.030433,    0.030332,    0.030231,     0.03013,    0.030029,    0.029928,    0.029827,    0.029726,    0.029625,    0.029524,    0.029423,    0.029322,    0.029221,     0.02912,    0.029019,    0.028918,    0.028817,    0.028642,    0.026858,    0.025851,    0.025405,\n",
       "           0.024959,    0.024513,    0.024066,     0.02362,    0.023199,    0.022788,    0.022376,    0.021964,    0.021552,    0.021141,    0.020759,    0.020424,     0.02009,    0.019755,    0.019421,    0.019086,    0.018751,    0.018417,     0.01817,    0.017985,      0.0178,    0.017616,    0.017431,\n",
       "           0.017247,    0.017062,    0.016878,    0.016693,    0.016508,    0.016324,    0.016139,    0.015955,     0.01577,    0.015511,    0.015154,    0.014797,     0.01444,    0.014083,    0.013726,     0.01337,    0.012964,      0.0122,    0.011435,     0.01067,     0.01041,    0.010362,    0.010315,\n",
       "           0.010267,    0.010219,    0.010171,    0.010123,    0.010076,    0.010028,   0.0099801,   0.0099323,   0.0098845,   0.0098367,    0.009789,   0.0097412,   0.0096934,   0.0096456,   0.0095978,     0.00955,   0.0095022,   0.0094544,   0.0094066,   0.0093588,    0.009311,   0.0092632,   0.0092155,\n",
       "          0.0091677,   0.0091199,   0.0090721,   0.0090243,   0.0089765,   0.0089287,   0.0088809,   0.0088331,   0.0087853,   0.0087375,   0.0086898,    0.008642,   0.0085942,   0.0085464,   0.0084986,   0.0084508,    0.008403,   0.0083552,   0.0083074,   0.0082596,   0.0082118,   0.0081641,   0.0081163,\n",
       "          0.0080685,   0.0080207,   0.0079729,   0.0079251,   0.0078773,   0.0078301,   0.0077911,    0.007752,   0.0077129,   0.0076739,   0.0076348,   0.0075957,   0.0075566,   0.0075176,   0.0074785,   0.0074394,   0.0074004,   0.0073613,   0.0073222,   0.0072831,   0.0072441,    0.007205,   0.0071659,\n",
       "          0.0071269,   0.0070878,   0.0070487,   0.0070097,   0.0069706,   0.0069315,   0.0068924,   0.0068534,   0.0068143,   0.0067752,   0.0067362,   0.0066971,    0.006658,    0.006619,   0.0065799,   0.0065408,   0.0065017,   0.0064627,   0.0064236,   0.0063845,   0.0063455,   0.0063064,   0.0062673,\n",
       "          0.0062283,   0.0061892,   0.0061501,    0.006111,    0.006072,   0.0060329,   0.0059938,   0.0059548,   0.0059157,   0.0058766,   0.0058376,   0.0057985,   0.0057594,   0.0057203,   0.0056813,   0.0056422,   0.0056031,   0.0055641,    0.005525,   0.0054859,   0.0054469,   0.0054078,   0.0053687,\n",
       "          0.0053296,   0.0052906,   0.0052515,   0.0051454,   0.0048305,   0.0045157,   0.0042008,   0.0038859,   0.0035711,   0.0032562,   0.0029414,   0.0026265,           0,           0,           0,           0,           0,           0,           0,           0,           0,           0,           0,\n",
       "                  0,           0,           0,           0,           0,           0,           0,           0,           0,           0,           0]]), 'Confidence', 'Recall']]\n",
       "fitness: np.float64(0.41160142796998933)\n",
       "keys: ['metrics/precision(B)', 'metrics/recall(B)', 'metrics/mAP50(B)', 'metrics/mAP50-95(B)']\n",
       "maps: array([    0.36594])\n",
       "names: {0: 'item'}\n",
       "plot: True\n",
       "results_dict: {'metrics/precision(B)': np.float64(0.790835427722354), 'metrics/recall(B)': np.float64(0.7702349869451697), 'metrics/mAP50(B)': np.float64(0.8225197681964216), 'metrics/mAP50-95(B)': np.float64(0.3659438346114968), 'fitness': np.float64(0.41160142796998933)}\n",
       "save_dir: WindowsPath('runs/detect/boat-nano-optimized')\n",
       "speed: {'preprocess': 0.14729336248216246, 'inference': 3.3554865039093835, 'loss': 0.00016482297611315695, 'postprocess': 0.8829628314155327}\n",
       "task: 'detect'"
      ]
     },
     "execution_count": 8,
     "metadata": {},
     "output_type": "execute_result"
    }
   ],
   "source": [
    "model.train(\n",
    "    task='detect',\n",
    "    mode='train',\n",
    "    model='yolov8n.pt',\n",
    "    data=r'c:\\Users\\gonza\\Desktop\\ImagenADNE\\DeepLearning-Images\\data\\data.yaml',\n",
    "    epochs=50,                \n",
    "    batch=16,\n",
    "    imgsz=512,\n",
    "    device=device,\n",
    "    single_cls=True,           # solo una clase (barco)\n",
    "    patience=30,               # early-stop tras 30 epochs sin mejora\n",
    "    save=True,\n",
    "    save_period=1,             # guarda pesos cada epoch\n",
    "    optimizer='SGD',           # SGD suele dar mejor generalización en Nano\n",
    "    lr0=0.005,                  # lr inicial algo más bajo\n",
    "    lrf=0.1,                    # lr final = 0.1 * lr0\n",
    "    momentum=0.9,\n",
    "    weight_decay=0.0005,\n",
    "    warmup_epochs=3.0,\n",
    "    warmup_momentum=0.8,\n",
    "    warmup_bias_lr=0.1,\n",
    "    cos_lr=True,               # Cosine LR schedule\n",
    "    amp=True,                  # Mixed Precision\n",
    "    half=True,                 # FP16\n",
    "    augment=True,\n",
    "    mosaic=1.0,                # siempre mosaic\n",
    "    mixup=0.2,                 # 20% mixup\n",
    "    copy_paste=0.2,            # 20% copy-paste\n",
    "    auto_augment='randaugment',\n",
    "    multi_scale=True,          # escala variable\n",
    "    name='boat-nano-optimized'\n",
    ")"
   ]
  },
  {
   "cell_type": "markdown",
   "id": "b5c3e2c6",
   "metadata": {},
   "source": [
    "# YOLOv11"
   ]
  },
  {
   "cell_type": "code",
   "execution_count": 10,
   "id": "f8256c21",
   "metadata": {},
   "outputs": [],
   "source": [
    "# yolov11 nano\n",
    "model = YOLO('yolo11n.pt')"
   ]
  },
  {
   "cell_type": "code",
   "execution_count": 11,
   "id": "3d1aff17",
   "metadata": {},
   "outputs": [
    {
     "name": "stdout",
     "output_type": "stream",
     "text": [
      "New https://pypi.org/project/ultralytics/8.3.128 available  Update with 'pip install -U ultralytics'\n",
      "Ultralytics 8.3.126  Python-3.12.10 torch-2.7.0+cu128 CUDA:0 (NVIDIA GeForce RTX 4060 Laptop GPU, 8188MiB)\n",
      "\u001b[34m\u001b[1mengine\\trainer: \u001b[0magnostic_nms=False, amp=True, augment=True, auto_augment=randaugment, batch=16, bgr=0.0, box=7.5, cache=False, cfg=None, classes=None, close_mosaic=10, cls=0.5, conf=None, copy_paste=0.0, copy_paste_mode=flip, cos_lr=False, cutmix=0.0, data=c:\\Users\\gonza\\Desktop\\ImagenADNE\\DeepLearning-Images\\data\\data.yaml, degrees=0.0, deterministic=True, device=cuda:0, dfl=1.5, dnn=False, dropout=0.0, dynamic=False, embed=None, epochs=60, erasing=0.4, exist_ok=False, fliplr=0.5, flipud=0.0, format=torchscript, fraction=1.0, freeze=None, half=False, hsv_h=0.015, hsv_s=0.7, hsv_v=0.4, imgsz=512, int8=False, iou=0.7, keras=False, kobj=1.0, line_width=None, lr0=0.01, lrf=0.01, mask_ratio=4, max_det=300, mixup=0.0, mode=train, model=yolo11n.pt, momentum=0.937, mosaic=1.0, multi_scale=False, name=yolov11-nano-boat-detection, nbs=64, nms=False, opset=None, optimize=False, optimizer=auto, overlap_mask=True, patience=100, perspective=0.0, plots=True, pose=12.0, pretrained=True, profile=False, project=None, rect=False, resume=False, retina_masks=False, save=True, save_conf=False, save_crop=False, save_dir=runs\\detect\\yolov11-nano-boat-detection, save_frames=False, save_json=False, save_period=-1, save_txt=False, scale=0.5, seed=0, shear=0.0, show=False, show_boxes=True, show_conf=True, show_labels=True, simplify=True, single_cls=True, source=None, split=val, stream_buffer=False, task=detect, time=None, tracker=botsort.yaml, translate=0.1, val=True, verbose=True, vid_stride=1, visualize=False, warmup_bias_lr=0.1, warmup_epochs=3.0, warmup_momentum=0.8, weight_decay=0.0005, workers=8, workspace=None\n",
      "Overriding class names with single class.\n",
      "Overriding model.yaml nc=80 with nc=1\n",
      "\n",
      "                   from  n    params  module                                       arguments                     \n",
      "  0                  -1  1       464  ultralytics.nn.modules.conv.Conv             [3, 16, 3, 2]                 \n",
      "  1                  -1  1      4672  ultralytics.nn.modules.conv.Conv             [16, 32, 3, 2]                \n",
      "  2                  -1  1      6640  ultralytics.nn.modules.block.C3k2            [32, 64, 1, False, 0.25]      \n",
      "  3                  -1  1     36992  ultralytics.nn.modules.conv.Conv             [64, 64, 3, 2]                \n",
      "  4                  -1  1     26080  ultralytics.nn.modules.block.C3k2            [64, 128, 1, False, 0.25]     \n",
      "  5                  -1  1    147712  ultralytics.nn.modules.conv.Conv             [128, 128, 3, 2]              \n",
      "  6                  -1  1     87040  ultralytics.nn.modules.block.C3k2            [128, 128, 1, True]           \n",
      "  7                  -1  1    295424  ultralytics.nn.modules.conv.Conv             [128, 256, 3, 2]              \n",
      "  8                  -1  1    346112  ultralytics.nn.modules.block.C3k2            [256, 256, 1, True]           \n",
      "  9                  -1  1    164608  ultralytics.nn.modules.block.SPPF            [256, 256, 5]                 \n",
      " 10                  -1  1    249728  ultralytics.nn.modules.block.C2PSA           [256, 256, 1]                 \n",
      " 11                  -1  1         0  torch.nn.modules.upsampling.Upsample         [None, 2, 'nearest']          \n",
      " 12             [-1, 6]  1         0  ultralytics.nn.modules.conv.Concat           [1]                           \n",
      " 13                  -1  1    111296  ultralytics.nn.modules.block.C3k2            [384, 128, 1, False]          \n",
      " 14                  -1  1         0  torch.nn.modules.upsampling.Upsample         [None, 2, 'nearest']          \n",
      " 15             [-1, 4]  1         0  ultralytics.nn.modules.conv.Concat           [1]                           \n",
      " 16                  -1  1     32096  ultralytics.nn.modules.block.C3k2            [256, 64, 1, False]           \n",
      " 17                  -1  1     36992  ultralytics.nn.modules.conv.Conv             [64, 64, 3, 2]                \n",
      " 18            [-1, 13]  1         0  ultralytics.nn.modules.conv.Concat           [1]                           \n",
      " 19                  -1  1     86720  ultralytics.nn.modules.block.C3k2            [192, 128, 1, False]          \n",
      " 20                  -1  1    147712  ultralytics.nn.modules.conv.Conv             [128, 128, 3, 2]              \n",
      " 21            [-1, 10]  1         0  ultralytics.nn.modules.conv.Concat           [1]                           \n",
      " 22                  -1  1    378880  ultralytics.nn.modules.block.C3k2            [384, 256, 1, True]           \n",
      " 23        [16, 19, 22]  1    430867  ultralytics.nn.modules.head.Detect           [1, [64, 128, 256]]           \n",
      "YOLO11n summary: 181 layers, 2,590,035 parameters, 2,590,019 gradients, 6.4 GFLOPs\n",
      "\n",
      "Transferred 448/499 items from pretrained weights\n",
      "Freezing layer 'model.23.dfl.conv.weight'\n",
      "\u001b[34m\u001b[1mAMP: \u001b[0mrunning Automatic Mixed Precision (AMP) checks...\n",
      "\u001b[34m\u001b[1mAMP: \u001b[0mchecks passed \n",
      "\u001b[34m\u001b[1mtrain: \u001b[0mFast image access  (ping: 0.30.1 ms, read: 322.0174.8 MB/s, size: 282.7 KB)\n"
     ]
    },
    {
     "name": "stderr",
     "output_type": "stream",
     "text": [
      "\u001b[34m\u001b[1mtrain: \u001b[0mScanning C:\\Users\\gonza\\Desktop\\ImagenADNE\\DeepLearning-Images\\data\\MASATI\\output\\train\\labels.cache... 3617 images, 1729 backgrounds, 0 corrupt: 100%|██████████| 3617/3617 [00:00<?, ?it/s]\n"
     ]
    },
    {
     "name": "stdout",
     "output_type": "stream",
     "text": [
      "\u001b[34m\u001b[1mval: \u001b[0mFast image access  (ping: 0.20.1 ms, read: 393.2201.7 MB/s, size: 333.8 KB)\n"
     ]
    },
    {
     "name": "stderr",
     "output_type": "stream",
     "text": [
      "\u001b[34m\u001b[1mval: \u001b[0mScanning C:\\Users\\gonza\\Desktop\\ImagenADNE\\DeepLearning-Images\\data\\MASATI\\output\\val\\labels.cache... 452 images, 215 backgrounds, 0 corrupt: 100%|██████████| 452/452 [00:00<?, ?it/s]\n"
     ]
    },
    {
     "name": "stdout",
     "output_type": "stream",
     "text": [
      "Plotting labels to runs\\detect\\yolov11-nano-boat-detection\\labels.jpg... \n",
      "\u001b[34m\u001b[1moptimizer:\u001b[0m 'optimizer=auto' found, ignoring 'lr0=0.01' and 'momentum=0.937' and determining best 'optimizer', 'lr0' and 'momentum' automatically... \n",
      "\u001b[34m\u001b[1moptimizer:\u001b[0m AdamW(lr=0.002, momentum=0.9) with parameter groups 81 weight(decay=0.0), 88 weight(decay=0.0005), 87 bias(decay=0.0)\n",
      "Image sizes 512 train, 512 val\n",
      "Using 8 dataloader workers\n",
      "Logging results to \u001b[1mruns\\detect\\yolov11-nano-boat-detection\u001b[0m\n",
      "Starting training for 60 epochs...\n",
      "\n",
      "      Epoch    GPU_mem   box_loss   cls_loss   dfl_loss  Instances       Size\n"
     ]
    },
    {
     "name": "stderr",
     "output_type": "stream",
     "text": [
      "       1/60       1.7G       2.19      5.563      1.057          1        512: 100%|██████████| 227/227 [00:26<00:00,  8.48it/s]\n",
      "                 Class     Images  Instances      Box(P          R      mAP50  mAP50-95): 100%|██████████| 15/15 [00:01<00:00,  8.29it/s]\n"
     ]
    },
    {
     "name": "stdout",
     "output_type": "stream",
     "text": [
      "                   all        452        383      0.501      0.465      0.402      0.127\n",
      "\n",
      "      Epoch    GPU_mem   box_loss   cls_loss   dfl_loss  Instances       Size\n"
     ]
    },
    {
     "name": "stderr",
     "output_type": "stream",
     "text": [
      "       2/60      1.72G      2.222       2.83      1.106          0        512: 100%|██████████| 227/227 [00:22<00:00,  9.95it/s]\n",
      "                 Class     Images  Instances      Box(P          R      mAP50  mAP50-95): 100%|██████████| 15/15 [00:01<00:00,  9.10it/s]"
     ]
    },
    {
     "name": "stdout",
     "output_type": "stream",
     "text": [
      "                   all        452        383      0.649      0.556      0.567      0.198\n"
     ]
    },
    {
     "name": "stderr",
     "output_type": "stream",
     "text": [
      "\n"
     ]
    },
    {
     "name": "stdout",
     "output_type": "stream",
     "text": [
      "\n",
      "      Epoch    GPU_mem   box_loss   cls_loss   dfl_loss  Instances       Size\n"
     ]
    },
    {
     "name": "stderr",
     "output_type": "stream",
     "text": [
      "       3/60      1.72G      2.224      1.866      1.106          0        512: 100%|██████████| 227/227 [00:21<00:00, 10.41it/s]\n",
      "                 Class     Images  Instances      Box(P          R      mAP50  mAP50-95): 100%|██████████| 15/15 [00:01<00:00,  9.05it/s]"
     ]
    },
    {
     "name": "stdout",
     "output_type": "stream",
     "text": [
      "                   all        452        383      0.578      0.564      0.557      0.186\n"
     ]
    },
    {
     "name": "stderr",
     "output_type": "stream",
     "text": [
      "\n"
     ]
    },
    {
     "name": "stdout",
     "output_type": "stream",
     "text": [
      "\n",
      "      Epoch    GPU_mem   box_loss   cls_loss   dfl_loss  Instances       Size\n"
     ]
    },
    {
     "name": "stderr",
     "output_type": "stream",
     "text": [
      "       4/60      1.84G       2.19      1.613      1.089          1        512: 100%|██████████| 227/227 [00:21<00:00, 10.52it/s]\n",
      "                 Class     Images  Instances      Box(P          R      mAP50  mAP50-95): 100%|██████████| 15/15 [00:01<00:00,  9.28it/s]"
     ]
    },
    {
     "name": "stdout",
     "output_type": "stream",
     "text": [
      "                   all        452        383      0.679       0.52      0.552      0.221\n"
     ]
    },
    {
     "name": "stderr",
     "output_type": "stream",
     "text": [
      "\n"
     ]
    },
    {
     "name": "stdout",
     "output_type": "stream",
     "text": [
      "\n",
      "      Epoch    GPU_mem   box_loss   cls_loss   dfl_loss  Instances       Size\n"
     ]
    },
    {
     "name": "stderr",
     "output_type": "stream",
     "text": [
      "       5/60      1.86G      2.153      1.523       1.07          0        512: 100%|██████████| 227/227 [00:21<00:00, 10.45it/s]\n",
      "                 Class     Images  Instances      Box(P          R      mAP50  mAP50-95): 100%|██████████| 15/15 [00:01<00:00,  9.14it/s]"
     ]
    },
    {
     "name": "stdout",
     "output_type": "stream",
     "text": [
      "                   all        452        383      0.765      0.572      0.652      0.256\n"
     ]
    },
    {
     "name": "stderr",
     "output_type": "stream",
     "text": [
      "\n"
     ]
    },
    {
     "name": "stdout",
     "output_type": "stream",
     "text": [
      "\n",
      "      Epoch    GPU_mem   box_loss   cls_loss   dfl_loss  Instances       Size\n"
     ]
    },
    {
     "name": "stderr",
     "output_type": "stream",
     "text": [
      "       6/60      1.86G      2.119      1.465      1.088          0        512: 100%|██████████| 227/227 [00:21<00:00, 10.45it/s]\n",
      "                 Class     Images  Instances      Box(P          R      mAP50  mAP50-95): 100%|██████████| 15/15 [00:01<00:00,  9.27it/s]"
     ]
    },
    {
     "name": "stdout",
     "output_type": "stream",
     "text": [
      "                   all        452        383      0.597      0.548      0.514      0.195\n"
     ]
    },
    {
     "name": "stderr",
     "output_type": "stream",
     "text": [
      "\n"
     ]
    },
    {
     "name": "stdout",
     "output_type": "stream",
     "text": [
      "\n",
      "      Epoch    GPU_mem   box_loss   cls_loss   dfl_loss  Instances       Size\n"
     ]
    },
    {
     "name": "stderr",
     "output_type": "stream",
     "text": [
      "       7/60      1.86G      2.091      1.458      1.079          1        512: 100%|██████████| 227/227 [00:21<00:00, 10.45it/s]\n",
      "                 Class     Images  Instances      Box(P          R      mAP50  mAP50-95): 100%|██████████| 15/15 [00:01<00:00,  9.11it/s]"
     ]
    },
    {
     "name": "stdout",
     "output_type": "stream",
     "text": [
      "                   all        452        383      0.683       0.53      0.579      0.199\n"
     ]
    },
    {
     "name": "stderr",
     "output_type": "stream",
     "text": [
      "\n"
     ]
    },
    {
     "name": "stdout",
     "output_type": "stream",
     "text": [
      "\n",
      "      Epoch    GPU_mem   box_loss   cls_loss   dfl_loss  Instances       Size\n"
     ]
    },
    {
     "name": "stderr",
     "output_type": "stream",
     "text": [
      "       8/60      1.98G      2.078      1.459      1.073          0        512: 100%|██████████| 227/227 [00:22<00:00, 10.30it/s]\n",
      "                 Class     Images  Instances      Box(P          R      mAP50  mAP50-95): 100%|██████████| 15/15 [00:01<00:00,  9.40it/s]"
     ]
    },
    {
     "name": "stdout",
     "output_type": "stream",
     "text": [
      "                   all        452        383      0.644      0.611      0.638      0.257\n"
     ]
    },
    {
     "name": "stderr",
     "output_type": "stream",
     "text": [
      "\n"
     ]
    },
    {
     "name": "stdout",
     "output_type": "stream",
     "text": [
      "\n",
      "      Epoch    GPU_mem   box_loss   cls_loss   dfl_loss  Instances       Size\n"
     ]
    },
    {
     "name": "stderr",
     "output_type": "stream",
     "text": [
      "       9/60      1.98G      2.049      1.385      1.056          0        512: 100%|██████████| 227/227 [00:21<00:00, 10.41it/s]\n",
      "                 Class     Images  Instances      Box(P          R      mAP50  mAP50-95): 100%|██████████| 15/15 [00:01<00:00,  8.90it/s]"
     ]
    },
    {
     "name": "stdout",
     "output_type": "stream",
     "text": [
      "                   all        452        383      0.744      0.538      0.625      0.241\n"
     ]
    },
    {
     "name": "stderr",
     "output_type": "stream",
     "text": [
      "\n"
     ]
    },
    {
     "name": "stdout",
     "output_type": "stream",
     "text": [
      "\n",
      "      Epoch    GPU_mem   box_loss   cls_loss   dfl_loss  Instances       Size\n"
     ]
    },
    {
     "name": "stderr",
     "output_type": "stream",
     "text": [
      "      10/60      1.98G      2.049      1.364      1.055          1        512: 100%|██████████| 227/227 [00:22<00:00, 10.19it/s]\n",
      "                 Class     Images  Instances      Box(P          R      mAP50  mAP50-95): 100%|██████████| 15/15 [00:01<00:00,  9.46it/s]"
     ]
    },
    {
     "name": "stdout",
     "output_type": "stream",
     "text": [
      "                   all        452        383      0.704      0.611      0.685      0.279\n"
     ]
    },
    {
     "name": "stderr",
     "output_type": "stream",
     "text": [
      "\n"
     ]
    },
    {
     "name": "stdout",
     "output_type": "stream",
     "text": [
      "\n",
      "      Epoch    GPU_mem   box_loss   cls_loss   dfl_loss  Instances       Size\n"
     ]
    },
    {
     "name": "stderr",
     "output_type": "stream",
     "text": [
      "      11/60      1.98G      1.992      1.288      1.047          1        512: 100%|██████████| 227/227 [00:21<00:00, 10.35it/s]\n",
      "                 Class     Images  Instances      Box(P          R      mAP50  mAP50-95): 100%|██████████| 15/15 [00:01<00:00,  9.58it/s]"
     ]
    },
    {
     "name": "stdout",
     "output_type": "stream",
     "text": [
      "                   all        452        383      0.752      0.606      0.663      0.241\n"
     ]
    },
    {
     "name": "stderr",
     "output_type": "stream",
     "text": [
      "\n"
     ]
    },
    {
     "name": "stdout",
     "output_type": "stream",
     "text": [
      "\n",
      "      Epoch    GPU_mem   box_loss   cls_loss   dfl_loss  Instances       Size\n"
     ]
    },
    {
     "name": "stderr",
     "output_type": "stream",
     "text": [
      "      12/60      1.98G      2.023       1.34       1.05          1        512: 100%|██████████| 227/227 [00:21<00:00, 10.44it/s]\n",
      "                 Class     Images  Instances      Box(P          R      mAP50  mAP50-95): 100%|██████████| 15/15 [00:01<00:00,  9.26it/s]"
     ]
    },
    {
     "name": "stdout",
     "output_type": "stream",
     "text": [
      "                   all        452        383      0.797      0.624      0.689      0.276\n"
     ]
    },
    {
     "name": "stderr",
     "output_type": "stream",
     "text": [
      "\n"
     ]
    },
    {
     "name": "stdout",
     "output_type": "stream",
     "text": [
      "\n",
      "      Epoch    GPU_mem   box_loss   cls_loss   dfl_loss  Instances       Size\n"
     ]
    },
    {
     "name": "stderr",
     "output_type": "stream",
     "text": [
      "      13/60      1.98G      1.961      1.267       1.02          0        512: 100%|██████████| 227/227 [00:21<00:00, 10.40it/s]\n",
      "                 Class     Images  Instances      Box(P          R      mAP50  mAP50-95): 100%|██████████| 15/15 [00:01<00:00,  9.47it/s]"
     ]
    },
    {
     "name": "stdout",
     "output_type": "stream",
     "text": [
      "                   all        452        383      0.667      0.595      0.603      0.231\n"
     ]
    },
    {
     "name": "stderr",
     "output_type": "stream",
     "text": [
      "\n"
     ]
    },
    {
     "name": "stdout",
     "output_type": "stream",
     "text": [
      "\n",
      "      Epoch    GPU_mem   box_loss   cls_loss   dfl_loss  Instances       Size\n"
     ]
    },
    {
     "name": "stderr",
     "output_type": "stream",
     "text": [
      "      14/60      1.98G      1.967      1.262      1.048          1        512: 100%|██████████| 227/227 [00:21<00:00, 10.41it/s]\n",
      "                 Class     Images  Instances      Box(P          R      mAP50  mAP50-95): 100%|██████████| 15/15 [00:01<00:00,  9.38it/s]"
     ]
    },
    {
     "name": "stdout",
     "output_type": "stream",
     "text": [
      "                   all        452        383      0.787      0.627      0.701      0.264\n"
     ]
    },
    {
     "name": "stderr",
     "output_type": "stream",
     "text": [
      "\n"
     ]
    },
    {
     "name": "stdout",
     "output_type": "stream",
     "text": [
      "\n",
      "      Epoch    GPU_mem   box_loss   cls_loss   dfl_loss  Instances       Size\n"
     ]
    },
    {
     "name": "stderr",
     "output_type": "stream",
     "text": [
      "      15/60      1.98G      1.966      1.268       1.03          1        512: 100%|██████████| 227/227 [00:22<00:00, 10.27it/s]\n",
      "                 Class     Images  Instances      Box(P          R      mAP50  mAP50-95): 100%|██████████| 15/15 [00:01<00:00,  9.06it/s]"
     ]
    },
    {
     "name": "stdout",
     "output_type": "stream",
     "text": [
      "                   all        452        383      0.711      0.601      0.661      0.255\n"
     ]
    },
    {
     "name": "stderr",
     "output_type": "stream",
     "text": [
      "\n"
     ]
    },
    {
     "name": "stdout",
     "output_type": "stream",
     "text": [
      "\n",
      "      Epoch    GPU_mem   box_loss   cls_loss   dfl_loss  Instances       Size\n"
     ]
    },
    {
     "name": "stderr",
     "output_type": "stream",
     "text": [
      "      16/60      1.98G      1.956      1.236      1.021          0        512: 100%|██████████| 227/227 [00:21<00:00, 10.34it/s]\n",
      "                 Class     Images  Instances      Box(P          R      mAP50  mAP50-95): 100%|██████████| 15/15 [00:01<00:00,  9.28it/s]"
     ]
    },
    {
     "name": "stdout",
     "output_type": "stream",
     "text": [
      "                   all        452        383      0.794      0.655      0.735      0.304\n"
     ]
    },
    {
     "name": "stderr",
     "output_type": "stream",
     "text": [
      "\n"
     ]
    },
    {
     "name": "stdout",
     "output_type": "stream",
     "text": [
      "\n",
      "      Epoch    GPU_mem   box_loss   cls_loss   dfl_loss  Instances       Size\n"
     ]
    },
    {
     "name": "stderr",
     "output_type": "stream",
     "text": [
      "      17/60      1.98G      1.952      1.232      1.016          0        512: 100%|██████████| 227/227 [00:21<00:00, 10.39it/s]\n",
      "                 Class     Images  Instances      Box(P          R      mAP50  mAP50-95): 100%|██████████| 15/15 [00:01<00:00,  9.11it/s]"
     ]
    },
    {
     "name": "stdout",
     "output_type": "stream",
     "text": [
      "                   all        452        383      0.807      0.637      0.718      0.297\n"
     ]
    },
    {
     "name": "stderr",
     "output_type": "stream",
     "text": [
      "\n"
     ]
    },
    {
     "name": "stdout",
     "output_type": "stream",
     "text": [
      "\n",
      "      Epoch    GPU_mem   box_loss   cls_loss   dfl_loss  Instances       Size\n"
     ]
    },
    {
     "name": "stderr",
     "output_type": "stream",
     "text": [
      "      18/60      1.98G      1.937      1.188      1.028          0        512: 100%|██████████| 227/227 [00:22<00:00, 10.30it/s]\n",
      "                 Class     Images  Instances      Box(P          R      mAP50  mAP50-95): 100%|██████████| 15/15 [00:01<00:00,  9.40it/s]"
     ]
    },
    {
     "name": "stdout",
     "output_type": "stream",
     "text": [
      "                   all        452        383      0.776      0.606      0.692      0.258\n"
     ]
    },
    {
     "name": "stderr",
     "output_type": "stream",
     "text": [
      "\n"
     ]
    },
    {
     "name": "stdout",
     "output_type": "stream",
     "text": [
      "\n",
      "      Epoch    GPU_mem   box_loss   cls_loss   dfl_loss  Instances       Size\n"
     ]
    },
    {
     "name": "stderr",
     "output_type": "stream",
     "text": [
      "      19/60      1.98G      1.956      1.236      1.033          1        512: 100%|██████████| 227/227 [00:21<00:00, 10.32it/s]\n",
      "                 Class     Images  Instances      Box(P          R      mAP50  mAP50-95): 100%|██████████| 15/15 [00:01<00:00,  9.49it/s]"
     ]
    },
    {
     "name": "stdout",
     "output_type": "stream",
     "text": [
      "                   all        452        383      0.747      0.574      0.649      0.253\n"
     ]
    },
    {
     "name": "stderr",
     "output_type": "stream",
     "text": [
      "\n"
     ]
    },
    {
     "name": "stdout",
     "output_type": "stream",
     "text": [
      "\n",
      "      Epoch    GPU_mem   box_loss   cls_loss   dfl_loss  Instances       Size\n"
     ]
    },
    {
     "name": "stderr",
     "output_type": "stream",
     "text": [
      "      20/60      1.98G      1.938      1.155       1.03          0        512: 100%|██████████| 227/227 [00:21<00:00, 10.36it/s]\n",
      "                 Class     Images  Instances      Box(P          R      mAP50  mAP50-95): 100%|██████████| 15/15 [00:01<00:00,  9.66it/s]"
     ]
    },
    {
     "name": "stdout",
     "output_type": "stream",
     "text": [
      "                   all        452        383      0.808      0.646      0.728      0.303\n"
     ]
    },
    {
     "name": "stderr",
     "output_type": "stream",
     "text": [
      "\n"
     ]
    },
    {
     "name": "stdout",
     "output_type": "stream",
     "text": [
      "\n",
      "      Epoch    GPU_mem   box_loss   cls_loss   dfl_loss  Instances       Size\n"
     ]
    },
    {
     "name": "stderr",
     "output_type": "stream",
     "text": [
      "      21/60      1.98G      1.887      1.174      1.008          0        512: 100%|██████████| 227/227 [00:21<00:00, 10.43it/s]\n",
      "                 Class     Images  Instances      Box(P          R      mAP50  mAP50-95): 100%|██████████| 15/15 [00:01<00:00,  9.68it/s]"
     ]
    },
    {
     "name": "stdout",
     "output_type": "stream",
     "text": [
      "                   all        452        383      0.771      0.643      0.718      0.296\n"
     ]
    },
    {
     "name": "stderr",
     "output_type": "stream",
     "text": [
      "\n"
     ]
    },
    {
     "name": "stdout",
     "output_type": "stream",
     "text": [
      "\n",
      "      Epoch    GPU_mem   box_loss   cls_loss   dfl_loss  Instances       Size\n"
     ]
    },
    {
     "name": "stderr",
     "output_type": "stream",
     "text": [
      "      22/60      1.98G      1.875      1.162     0.9896          1        512: 100%|██████████| 227/227 [00:21<00:00, 10.48it/s]\n",
      "                 Class     Images  Instances      Box(P          R      mAP50  mAP50-95): 100%|██████████| 15/15 [00:01<00:00,  9.34it/s]"
     ]
    },
    {
     "name": "stdout",
     "output_type": "stream",
     "text": [
      "                   all        452        383      0.742      0.668      0.725      0.294\n"
     ]
    },
    {
     "name": "stderr",
     "output_type": "stream",
     "text": [
      "\n"
     ]
    },
    {
     "name": "stdout",
     "output_type": "stream",
     "text": [
      "\n",
      "      Epoch    GPU_mem   box_loss   cls_loss   dfl_loss  Instances       Size\n"
     ]
    },
    {
     "name": "stderr",
     "output_type": "stream",
     "text": [
      "      23/60      1.98G      1.883      1.129      1.009          3        512: 100%|██████████| 227/227 [00:21<00:00, 10.37it/s]\n",
      "                 Class     Images  Instances      Box(P          R      mAP50  mAP50-95): 100%|██████████| 15/15 [00:01<00:00,  9.77it/s]"
     ]
    },
    {
     "name": "stdout",
     "output_type": "stream",
     "text": [
      "                   all        452        383      0.796      0.634      0.722      0.283\n"
     ]
    },
    {
     "name": "stderr",
     "output_type": "stream",
     "text": [
      "\n"
     ]
    },
    {
     "name": "stdout",
     "output_type": "stream",
     "text": [
      "\n",
      "      Epoch    GPU_mem   box_loss   cls_loss   dfl_loss  Instances       Size\n"
     ]
    },
    {
     "name": "stderr",
     "output_type": "stream",
     "text": [
      "      24/60      1.98G      1.914      1.139      1.005          2        512: 100%|██████████| 227/227 [00:22<00:00,  9.91it/s]\n",
      "                 Class     Images  Instances      Box(P          R      mAP50  mAP50-95): 100%|██████████| 15/15 [00:01<00:00,  8.61it/s]"
     ]
    },
    {
     "name": "stdout",
     "output_type": "stream",
     "text": [
      "                   all        452        383      0.818      0.681      0.758      0.313\n"
     ]
    },
    {
     "name": "stderr",
     "output_type": "stream",
     "text": [
      "\n"
     ]
    },
    {
     "name": "stdout",
     "output_type": "stream",
     "text": [
      "\n",
      "      Epoch    GPU_mem   box_loss   cls_loss   dfl_loss  Instances       Size\n"
     ]
    },
    {
     "name": "stderr",
     "output_type": "stream",
     "text": [
      "      25/60      1.98G      1.843      1.083      1.001          0        512: 100%|██████████| 227/227 [00:23<00:00,  9.56it/s]\n",
      "                 Class     Images  Instances      Box(P          R      mAP50  mAP50-95): 100%|██████████| 15/15 [00:01<00:00,  8.67it/s]"
     ]
    },
    {
     "name": "stdout",
     "output_type": "stream",
     "text": [
      "                   all        452        383      0.786      0.687       0.71      0.288\n"
     ]
    },
    {
     "name": "stderr",
     "output_type": "stream",
     "text": [
      "\n"
     ]
    },
    {
     "name": "stdout",
     "output_type": "stream",
     "text": [
      "\n",
      "      Epoch    GPU_mem   box_loss   cls_loss   dfl_loss  Instances       Size\n"
     ]
    },
    {
     "name": "stderr",
     "output_type": "stream",
     "text": [
      "      26/60      1.98G      1.847      1.083      1.003          1        512: 100%|██████████| 227/227 [00:23<00:00,  9.61it/s]\n",
      "                 Class     Images  Instances      Box(P          R      mAP50  mAP50-95): 100%|██████████| 15/15 [00:01<00:00,  8.84it/s]"
     ]
    },
    {
     "name": "stdout",
     "output_type": "stream",
     "text": [
      "                   all        452        383      0.808      0.721      0.774      0.326\n"
     ]
    },
    {
     "name": "stderr",
     "output_type": "stream",
     "text": [
      "\n"
     ]
    },
    {
     "name": "stdout",
     "output_type": "stream",
     "text": [
      "\n",
      "      Epoch    GPU_mem   box_loss   cls_loss   dfl_loss  Instances       Size\n"
     ]
    },
    {
     "name": "stderr",
     "output_type": "stream",
     "text": [
      "      27/60      1.98G      1.846      1.105     0.9989          0        512: 100%|██████████| 227/227 [00:23<00:00,  9.78it/s]\n",
      "                 Class     Images  Instances      Box(P          R      mAP50  mAP50-95): 100%|██████████| 15/15 [00:01<00:00,  8.80it/s]"
     ]
    },
    {
     "name": "stdout",
     "output_type": "stream",
     "text": [
      "                   all        452        383      0.805      0.692      0.771       0.32\n"
     ]
    },
    {
     "name": "stderr",
     "output_type": "stream",
     "text": [
      "\n"
     ]
    },
    {
     "name": "stdout",
     "output_type": "stream",
     "text": [
      "\n",
      "      Epoch    GPU_mem   box_loss   cls_loss   dfl_loss  Instances       Size\n"
     ]
    },
    {
     "name": "stderr",
     "output_type": "stream",
     "text": [
      "      28/60      1.98G      1.853      1.075      1.004          0        512: 100%|██████████| 227/227 [00:22<00:00, 10.00it/s]\n",
      "                 Class     Images  Instances      Box(P          R      mAP50  mAP50-95): 100%|██████████| 15/15 [00:01<00:00,  9.25it/s]"
     ]
    },
    {
     "name": "stdout",
     "output_type": "stream",
     "text": [
      "                   all        452        383      0.769      0.739      0.775      0.335\n"
     ]
    },
    {
     "name": "stderr",
     "output_type": "stream",
     "text": [
      "\n"
     ]
    },
    {
     "name": "stdout",
     "output_type": "stream",
     "text": [
      "\n",
      "      Epoch    GPU_mem   box_loss   cls_loss   dfl_loss  Instances       Size\n"
     ]
    },
    {
     "name": "stderr",
     "output_type": "stream",
     "text": [
      "      29/60      1.98G      1.804      1.078     0.9935          0        512: 100%|██████████| 227/227 [00:21<00:00, 10.41it/s]\n",
      "                 Class     Images  Instances      Box(P          R      mAP50  mAP50-95): 100%|██████████| 15/15 [00:01<00:00,  9.39it/s]"
     ]
    },
    {
     "name": "stdout",
     "output_type": "stream",
     "text": [
      "                   all        452        383       0.79      0.688      0.755      0.322\n"
     ]
    },
    {
     "name": "stderr",
     "output_type": "stream",
     "text": [
      "\n"
     ]
    },
    {
     "name": "stdout",
     "output_type": "stream",
     "text": [
      "\n",
      "      Epoch    GPU_mem   box_loss   cls_loss   dfl_loss  Instances       Size\n"
     ]
    },
    {
     "name": "stderr",
     "output_type": "stream",
     "text": [
      "      30/60      1.98G      1.881      1.066      1.008          1        512: 100%|██████████| 227/227 [00:21<00:00, 10.46it/s]\n",
      "                 Class     Images  Instances      Box(P          R      mAP50  mAP50-95): 100%|██████████| 15/15 [00:01<00:00,  9.37it/s]"
     ]
    },
    {
     "name": "stdout",
     "output_type": "stream",
     "text": [
      "                   all        452        383      0.803      0.669      0.755      0.316\n"
     ]
    },
    {
     "name": "stderr",
     "output_type": "stream",
     "text": [
      "\n"
     ]
    },
    {
     "name": "stdout",
     "output_type": "stream",
     "text": [
      "\n",
      "      Epoch    GPU_mem   box_loss   cls_loss   dfl_loss  Instances       Size\n"
     ]
    },
    {
     "name": "stderr",
     "output_type": "stream",
     "text": [
      "      31/60      1.98G      1.816      1.064     0.9949          0        512: 100%|██████████| 227/227 [00:21<00:00, 10.50it/s]\n",
      "                 Class     Images  Instances      Box(P          R      mAP50  mAP50-95): 100%|██████████| 15/15 [00:01<00:00,  9.50it/s]"
     ]
    },
    {
     "name": "stdout",
     "output_type": "stream",
     "text": [
      "                   all        452        383      0.836      0.715      0.782      0.333\n"
     ]
    },
    {
     "name": "stderr",
     "output_type": "stream",
     "text": [
      "\n"
     ]
    },
    {
     "name": "stdout",
     "output_type": "stream",
     "text": [
      "\n",
      "      Epoch    GPU_mem   box_loss   cls_loss   dfl_loss  Instances       Size\n"
     ]
    },
    {
     "name": "stderr",
     "output_type": "stream",
     "text": [
      "      32/60      1.98G      1.852      1.063     0.9931          0        512: 100%|██████████| 227/227 [00:21<00:00, 10.55it/s]\n",
      "                 Class     Images  Instances      Box(P          R      mAP50  mAP50-95): 100%|██████████| 15/15 [00:01<00:00,  9.22it/s]"
     ]
    },
    {
     "name": "stdout",
     "output_type": "stream",
     "text": [
      "                   all        452        383      0.812      0.658      0.761      0.302\n"
     ]
    },
    {
     "name": "stderr",
     "output_type": "stream",
     "text": [
      "\n"
     ]
    },
    {
     "name": "stdout",
     "output_type": "stream",
     "text": [
      "\n",
      "      Epoch    GPU_mem   box_loss   cls_loss   dfl_loss  Instances       Size\n"
     ]
    },
    {
     "name": "stderr",
     "output_type": "stream",
     "text": [
      "      33/60      1.98G      1.854      1.085     0.9987         10        512: 100%|██████████| 227/227 [00:21<00:00, 10.34it/s]\n",
      "                 Class     Images  Instances      Box(P          R      mAP50  mAP50-95): 100%|██████████| 15/15 [00:01<00:00,  9.18it/s]"
     ]
    },
    {
     "name": "stdout",
     "output_type": "stream",
     "text": [
      "                   all        452        383       0.82      0.695      0.772      0.313\n"
     ]
    },
    {
     "name": "stderr",
     "output_type": "stream",
     "text": [
      "\n"
     ]
    },
    {
     "name": "stdout",
     "output_type": "stream",
     "text": [
      "\n",
      "      Epoch    GPU_mem   box_loss   cls_loss   dfl_loss  Instances       Size\n"
     ]
    },
    {
     "name": "stderr",
     "output_type": "stream",
     "text": [
      "      34/60      1.98G      1.809      1.035     0.9926          0        512: 100%|██████████| 227/227 [00:21<00:00, 10.50it/s]\n",
      "                 Class     Images  Instances      Box(P          R      mAP50  mAP50-95): 100%|██████████| 15/15 [00:01<00:00,  9.59it/s]"
     ]
    },
    {
     "name": "stdout",
     "output_type": "stream",
     "text": [
      "                   all        452        383      0.839      0.693      0.793      0.351\n"
     ]
    },
    {
     "name": "stderr",
     "output_type": "stream",
     "text": [
      "\n"
     ]
    },
    {
     "name": "stdout",
     "output_type": "stream",
     "text": [
      "\n",
      "      Epoch    GPU_mem   box_loss   cls_loss   dfl_loss  Instances       Size\n"
     ]
    },
    {
     "name": "stderr",
     "output_type": "stream",
     "text": [
      "      35/60      2.19G      1.826      1.015     0.9871          0        512: 100%|██████████| 227/227 [00:21<00:00, 10.41it/s]\n",
      "                 Class     Images  Instances      Box(P          R      mAP50  mAP50-95): 100%|██████████| 15/15 [00:01<00:00,  9.41it/s]"
     ]
    },
    {
     "name": "stdout",
     "output_type": "stream",
     "text": [
      "                   all        452        383      0.836      0.689      0.787      0.343\n"
     ]
    },
    {
     "name": "stderr",
     "output_type": "stream",
     "text": [
      "\n"
     ]
    },
    {
     "name": "stdout",
     "output_type": "stream",
     "text": [
      "\n",
      "      Epoch    GPU_mem   box_loss   cls_loss   dfl_loss  Instances       Size\n"
     ]
    },
    {
     "name": "stderr",
     "output_type": "stream",
     "text": [
      "      36/60      2.19G      1.792      1.022     0.9861          1        512: 100%|██████████| 227/227 [00:21<00:00, 10.39it/s]\n",
      "                 Class     Images  Instances      Box(P          R      mAP50  mAP50-95): 100%|██████████| 15/15 [00:01<00:00,  9.58it/s]"
     ]
    },
    {
     "name": "stdout",
     "output_type": "stream",
     "text": [
      "                   all        452        383      0.868      0.721      0.808      0.349\n"
     ]
    },
    {
     "name": "stderr",
     "output_type": "stream",
     "text": [
      "\n"
     ]
    },
    {
     "name": "stdout",
     "output_type": "stream",
     "text": [
      "\n",
      "      Epoch    GPU_mem   box_loss   cls_loss   dfl_loss  Instances       Size\n"
     ]
    },
    {
     "name": "stderr",
     "output_type": "stream",
     "text": [
      "      37/60      2.19G       1.79     0.9914     0.9793          0        512: 100%|██████████| 227/227 [00:21<00:00, 10.43it/s]\n",
      "                 Class     Images  Instances      Box(P          R      mAP50  mAP50-95): 100%|██████████| 15/15 [00:01<00:00,  9.41it/s]"
     ]
    },
    {
     "name": "stdout",
     "output_type": "stream",
     "text": [
      "                   all        452        383      0.817      0.713      0.786       0.35\n"
     ]
    },
    {
     "name": "stderr",
     "output_type": "stream",
     "text": [
      "\n"
     ]
    },
    {
     "name": "stdout",
     "output_type": "stream",
     "text": [
      "\n",
      "      Epoch    GPU_mem   box_loss   cls_loss   dfl_loss  Instances       Size\n"
     ]
    },
    {
     "name": "stderr",
     "output_type": "stream",
     "text": [
      "      38/60      2.19G      1.805      1.024     0.9827          0        512: 100%|██████████| 227/227 [00:22<00:00, 10.29it/s]\n",
      "                 Class     Images  Instances      Box(P          R      mAP50  mAP50-95): 100%|██████████| 15/15 [00:01<00:00,  9.51it/s]"
     ]
    },
    {
     "name": "stdout",
     "output_type": "stream",
     "text": [
      "                   all        452        383      0.821      0.739      0.817      0.363\n"
     ]
    },
    {
     "name": "stderr",
     "output_type": "stream",
     "text": [
      "\n"
     ]
    },
    {
     "name": "stdout",
     "output_type": "stream",
     "text": [
      "\n",
      "      Epoch    GPU_mem   box_loss   cls_loss   dfl_loss  Instances       Size\n"
     ]
    },
    {
     "name": "stderr",
     "output_type": "stream",
     "text": [
      "      39/60      2.19G      1.791      0.985     0.9759          0        512: 100%|██████████| 227/227 [00:21<00:00, 10.43it/s]\n",
      "                 Class     Images  Instances      Box(P          R      mAP50  mAP50-95): 100%|██████████| 15/15 [00:01<00:00,  9.60it/s]"
     ]
    },
    {
     "name": "stdout",
     "output_type": "stream",
     "text": [
      "                   all        452        383      0.865        0.7      0.816      0.349\n"
     ]
    },
    {
     "name": "stderr",
     "output_type": "stream",
     "text": [
      "\n"
     ]
    },
    {
     "name": "stdout",
     "output_type": "stream",
     "text": [
      "\n",
      "      Epoch    GPU_mem   box_loss   cls_loss   dfl_loss  Instances       Size\n"
     ]
    },
    {
     "name": "stderr",
     "output_type": "stream",
     "text": [
      "      40/60      2.19G      1.812      1.011     0.9798          0        512: 100%|██████████| 227/227 [00:21<00:00, 10.43it/s]\n",
      "                 Class     Images  Instances      Box(P          R      mAP50  mAP50-95): 100%|██████████| 15/15 [00:01<00:00,  9.63it/s]"
     ]
    },
    {
     "name": "stdout",
     "output_type": "stream",
     "text": [
      "                   all        452        383      0.836      0.697       0.77      0.338\n"
     ]
    },
    {
     "name": "stderr",
     "output_type": "stream",
     "text": [
      "\n"
     ]
    },
    {
     "name": "stdout",
     "output_type": "stream",
     "text": [
      "\n",
      "      Epoch    GPU_mem   box_loss   cls_loss   dfl_loss  Instances       Size\n"
     ]
    },
    {
     "name": "stderr",
     "output_type": "stream",
     "text": [
      "      41/60      2.19G      1.779      1.006     0.9795          3        512: 100%|██████████| 227/227 [00:21<00:00, 10.43it/s]\n",
      "                 Class     Images  Instances      Box(P          R      mAP50  mAP50-95): 100%|██████████| 15/15 [00:01<00:00,  9.30it/s]"
     ]
    },
    {
     "name": "stdout",
     "output_type": "stream",
     "text": [
      "                   all        452        383       0.85      0.681       0.79      0.331\n"
     ]
    },
    {
     "name": "stderr",
     "output_type": "stream",
     "text": [
      "\n"
     ]
    },
    {
     "name": "stdout",
     "output_type": "stream",
     "text": [
      "\n",
      "      Epoch    GPU_mem   box_loss   cls_loss   dfl_loss  Instances       Size\n"
     ]
    },
    {
     "name": "stderr",
     "output_type": "stream",
     "text": [
      "      42/60      2.19G       1.77     0.9835     0.9715          2        512: 100%|██████████| 227/227 [00:21<00:00, 10.43it/s]\n",
      "                 Class     Images  Instances      Box(P          R      mAP50  mAP50-95): 100%|██████████| 15/15 [00:01<00:00,  9.66it/s]"
     ]
    },
    {
     "name": "stdout",
     "output_type": "stream",
     "text": [
      "                   all        452        383      0.847      0.692      0.791      0.339\n"
     ]
    },
    {
     "name": "stderr",
     "output_type": "stream",
     "text": [
      "\n"
     ]
    },
    {
     "name": "stdout",
     "output_type": "stream",
     "text": [
      "\n",
      "      Epoch    GPU_mem   box_loss   cls_loss   dfl_loss  Instances       Size\n"
     ]
    },
    {
     "name": "stderr",
     "output_type": "stream",
     "text": [
      "      43/60      2.19G       1.81     0.9819     0.9755          2        512: 100%|██████████| 227/227 [00:21<00:00, 10.36it/s]\n",
      "                 Class     Images  Instances      Box(P          R      mAP50  mAP50-95): 100%|██████████| 15/15 [00:01<00:00,  9.69it/s]"
     ]
    },
    {
     "name": "stdout",
     "output_type": "stream",
     "text": [
      "                   all        452        383      0.841      0.721      0.792      0.348\n"
     ]
    },
    {
     "name": "stderr",
     "output_type": "stream",
     "text": [
      "\n"
     ]
    },
    {
     "name": "stdout",
     "output_type": "stream",
     "text": [
      "\n",
      "      Epoch    GPU_mem   box_loss   cls_loss   dfl_loss  Instances       Size\n"
     ]
    },
    {
     "name": "stderr",
     "output_type": "stream",
     "text": [
      "      44/60      2.19G      1.763     0.9873      0.968          1        512: 100%|██████████| 227/227 [00:24<00:00,  9.34it/s]\n",
      "                 Class     Images  Instances      Box(P          R      mAP50  mAP50-95): 100%|██████████| 15/15 [00:02<00:00,  6.89it/s]"
     ]
    },
    {
     "name": "stdout",
     "output_type": "stream",
     "text": [
      "                   all        452        383      0.833      0.723      0.804      0.352\n"
     ]
    },
    {
     "name": "stderr",
     "output_type": "stream",
     "text": [
      "\n"
     ]
    },
    {
     "name": "stdout",
     "output_type": "stream",
     "text": [
      "\n",
      "      Epoch    GPU_mem   box_loss   cls_loss   dfl_loss  Instances       Size\n"
     ]
    },
    {
     "name": "stderr",
     "output_type": "stream",
     "text": [
      "      45/60      2.19G      1.724     0.9406     0.9799          1        512: 100%|██████████| 227/227 [00:31<00:00,  7.27it/s]\n",
      "                 Class     Images  Instances      Box(P          R      mAP50  mAP50-95): 100%|██████████| 15/15 [00:01<00:00,  9.44it/s]"
     ]
    },
    {
     "name": "stdout",
     "output_type": "stream",
     "text": [
      "                   all        452        383      0.814      0.747      0.803      0.358\n"
     ]
    },
    {
     "name": "stderr",
     "output_type": "stream",
     "text": [
      "\n"
     ]
    },
    {
     "name": "stdout",
     "output_type": "stream",
     "text": [
      "\n",
      "      Epoch    GPU_mem   box_loss   cls_loss   dfl_loss  Instances       Size\n"
     ]
    },
    {
     "name": "stderr",
     "output_type": "stream",
     "text": [
      "      46/60      2.19G      1.756     0.9474      0.975          2        512: 100%|██████████| 227/227 [00:26<00:00,  8.47it/s]\n",
      "                 Class     Images  Instances      Box(P          R      mAP50  mAP50-95): 100%|██████████| 15/15 [00:02<00:00,  6.83it/s]"
     ]
    },
    {
     "name": "stdout",
     "output_type": "stream",
     "text": [
      "                   all        452        383      0.796      0.744      0.791      0.339\n"
     ]
    },
    {
     "name": "stderr",
     "output_type": "stream",
     "text": [
      "\n"
     ]
    },
    {
     "name": "stdout",
     "output_type": "stream",
     "text": [
      "\n",
      "      Epoch    GPU_mem   box_loss   cls_loss   dfl_loss  Instances       Size\n"
     ]
    },
    {
     "name": "stderr",
     "output_type": "stream",
     "text": [
      "      47/60      2.19G      1.773     0.9322     0.9602          0        512: 100%|██████████| 227/227 [00:31<00:00,  7.29it/s]\n",
      "                 Class     Images  Instances      Box(P          R      mAP50  mAP50-95): 100%|██████████| 15/15 [00:02<00:00,  6.77it/s]"
     ]
    },
    {
     "name": "stdout",
     "output_type": "stream",
     "text": [
      "                   all        452        383      0.865      0.697      0.802      0.352\n"
     ]
    },
    {
     "name": "stderr",
     "output_type": "stream",
     "text": [
      "\n"
     ]
    },
    {
     "name": "stdout",
     "output_type": "stream",
     "text": [
      "\n",
      "      Epoch    GPU_mem   box_loss   cls_loss   dfl_loss  Instances       Size\n"
     ]
    },
    {
     "name": "stderr",
     "output_type": "stream",
     "text": [
      "      48/60      2.19G      1.764     0.9591     0.9748          1        512: 100%|██████████| 227/227 [00:30<00:00,  7.38it/s]\n",
      "                 Class     Images  Instances      Box(P          R      mAP50  mAP50-95): 100%|██████████| 15/15 [00:02<00:00,  7.48it/s]"
     ]
    },
    {
     "name": "stdout",
     "output_type": "stream",
     "text": [
      "                   all        452        383      0.844       0.68      0.783      0.336\n"
     ]
    },
    {
     "name": "stderr",
     "output_type": "stream",
     "text": [
      "\n"
     ]
    },
    {
     "name": "stdout",
     "output_type": "stream",
     "text": [
      "\n",
      "      Epoch    GPU_mem   box_loss   cls_loss   dfl_loss  Instances       Size\n"
     ]
    },
    {
     "name": "stderr",
     "output_type": "stream",
     "text": [
      "      49/60      2.19G      1.716     0.9683     0.9556          0        512: 100%|██████████| 227/227 [00:30<00:00,  7.52it/s]\n",
      "                 Class     Images  Instances      Box(P          R      mAP50  mAP50-95): 100%|██████████| 15/15 [00:01<00:00,  7.50it/s]"
     ]
    },
    {
     "name": "stdout",
     "output_type": "stream",
     "text": [
      "                   all        452        383       0.84      0.713      0.789      0.359\n"
     ]
    },
    {
     "name": "stderr",
     "output_type": "stream",
     "text": [
      "\n"
     ]
    },
    {
     "name": "stdout",
     "output_type": "stream",
     "text": [
      "\n",
      "      Epoch    GPU_mem   box_loss   cls_loss   dfl_loss  Instances       Size\n"
     ]
    },
    {
     "name": "stderr",
     "output_type": "stream",
     "text": [
      "      50/60      2.19G       1.73     0.9342     0.9471          1        512: 100%|██████████| 227/227 [00:31<00:00,  7.12it/s]\n",
      "                 Class     Images  Instances      Box(P          R      mAP50  mAP50-95): 100%|██████████| 15/15 [00:02<00:00,  7.21it/s]"
     ]
    },
    {
     "name": "stdout",
     "output_type": "stream",
     "text": [
      "                   all        452        383       0.85      0.739      0.796      0.344\n"
     ]
    },
    {
     "name": "stderr",
     "output_type": "stream",
     "text": [
      "\n"
     ]
    },
    {
     "name": "stdout",
     "output_type": "stream",
     "text": [
      "Closing dataloader mosaic\n",
      "\n",
      "      Epoch    GPU_mem   box_loss   cls_loss   dfl_loss  Instances       Size\n"
     ]
    },
    {
     "name": "stderr",
     "output_type": "stream",
     "text": [
      "      51/60      2.19G      1.684      0.914     0.9796          0        512: 100%|██████████| 227/227 [00:30<00:00,  7.42it/s]\n",
      "                 Class     Images  Instances      Box(P          R      mAP50  mAP50-95): 100%|██████████| 15/15 [00:01<00:00,  9.51it/s]"
     ]
    },
    {
     "name": "stdout",
     "output_type": "stream",
     "text": [
      "                   all        452        383      0.835       0.76      0.816      0.357\n"
     ]
    },
    {
     "name": "stderr",
     "output_type": "stream",
     "text": [
      "\n"
     ]
    },
    {
     "name": "stdout",
     "output_type": "stream",
     "text": [
      "\n",
      "      Epoch    GPU_mem   box_loss   cls_loss   dfl_loss  Instances       Size\n"
     ]
    },
    {
     "name": "stderr",
     "output_type": "stream",
     "text": [
      "      52/60      2.19G        1.7     0.9237     0.9785          1        512: 100%|██████████| 227/227 [00:21<00:00, 10.67it/s]\n",
      "                 Class     Images  Instances      Box(P          R      mAP50  mAP50-95): 100%|██████████| 15/15 [00:01<00:00,  9.77it/s]"
     ]
    },
    {
     "name": "stdout",
     "output_type": "stream",
     "text": [
      "                   all        452        383      0.867      0.728      0.825      0.365\n"
     ]
    },
    {
     "name": "stderr",
     "output_type": "stream",
     "text": [
      "\n"
     ]
    },
    {
     "name": "stdout",
     "output_type": "stream",
     "text": [
      "\n",
      "      Epoch    GPU_mem   box_loss   cls_loss   dfl_loss  Instances       Size\n"
     ]
    },
    {
     "name": "stderr",
     "output_type": "stream",
     "text": [
      "      53/60      2.19G      1.681     0.8873     0.9879          0        512: 100%|██████████| 227/227 [00:21<00:00, 10.54it/s]\n",
      "                 Class     Images  Instances      Box(P          R      mAP50  mAP50-95): 100%|██████████| 15/15 [00:01<00:00,  9.87it/s]"
     ]
    },
    {
     "name": "stdout",
     "output_type": "stream",
     "text": [
      "                   all        452        383      0.799       0.76      0.816      0.358\n"
     ]
    },
    {
     "name": "stderr",
     "output_type": "stream",
     "text": [
      "\n"
     ]
    },
    {
     "name": "stdout",
     "output_type": "stream",
     "text": [
      "\n",
      "      Epoch    GPU_mem   box_loss   cls_loss   dfl_loss  Instances       Size\n"
     ]
    },
    {
     "name": "stderr",
     "output_type": "stream",
     "text": [
      "      54/60      2.19G      1.675     0.8984     0.9731          0        512: 100%|██████████| 227/227 [00:21<00:00, 10.52it/s]\n",
      "                 Class     Images  Instances      Box(P          R      mAP50  mAP50-95): 100%|██████████| 15/15 [00:01<00:00,  9.80it/s]"
     ]
    },
    {
     "name": "stdout",
     "output_type": "stream",
     "text": [
      "                   all        452        383      0.828      0.743      0.804      0.347\n"
     ]
    },
    {
     "name": "stderr",
     "output_type": "stream",
     "text": [
      "\n"
     ]
    },
    {
     "name": "stdout",
     "output_type": "stream",
     "text": [
      "\n",
      "      Epoch    GPU_mem   box_loss   cls_loss   dfl_loss  Instances       Size\n"
     ]
    },
    {
     "name": "stderr",
     "output_type": "stream",
     "text": [
      "      55/60      2.19G      1.649     0.8691     0.9796          0        512: 100%|██████████| 227/227 [00:21<00:00, 10.58it/s]\n",
      "                 Class     Images  Instances      Box(P          R      mAP50  mAP50-95): 100%|██████████| 15/15 [00:01<00:00,  9.68it/s]"
     ]
    },
    {
     "name": "stdout",
     "output_type": "stream",
     "text": [
      "                   all        452        383      0.838      0.752       0.81      0.351\n"
     ]
    },
    {
     "name": "stderr",
     "output_type": "stream",
     "text": [
      "\n"
     ]
    },
    {
     "name": "stdout",
     "output_type": "stream",
     "text": [
      "\n",
      "      Epoch    GPU_mem   box_loss   cls_loss   dfl_loss  Instances       Size\n"
     ]
    },
    {
     "name": "stderr",
     "output_type": "stream",
     "text": [
      "      56/60      2.19G      1.683     0.8616     0.9826          1        512: 100%|██████████| 227/227 [00:21<00:00, 10.61it/s]\n",
      "                 Class     Images  Instances      Box(P          R      mAP50  mAP50-95): 100%|██████████| 15/15 [00:01<00:00,  9.78it/s]"
     ]
    },
    {
     "name": "stdout",
     "output_type": "stream",
     "text": [
      "                   all        452        383       0.84      0.755      0.829      0.358\n"
     ]
    },
    {
     "name": "stderr",
     "output_type": "stream",
     "text": [
      "\n"
     ]
    },
    {
     "name": "stdout",
     "output_type": "stream",
     "text": [
      "\n",
      "      Epoch    GPU_mem   box_loss   cls_loss   dfl_loss  Instances       Size\n"
     ]
    },
    {
     "name": "stderr",
     "output_type": "stream",
     "text": [
      "      57/60      2.19G      1.667     0.8686     0.9761          1        512: 100%|██████████| 227/227 [00:21<00:00, 10.51it/s]\n",
      "                 Class     Images  Instances      Box(P          R      mAP50  mAP50-95): 100%|██████████| 15/15 [00:01<00:00,  9.67it/s]"
     ]
    },
    {
     "name": "stdout",
     "output_type": "stream",
     "text": [
      "                   all        452        383      0.835      0.777      0.829      0.365\n"
     ]
    },
    {
     "name": "stderr",
     "output_type": "stream",
     "text": [
      "\n"
     ]
    },
    {
     "name": "stdout",
     "output_type": "stream",
     "text": [
      "\n",
      "      Epoch    GPU_mem   box_loss   cls_loss   dfl_loss  Instances       Size\n"
     ]
    },
    {
     "name": "stderr",
     "output_type": "stream",
     "text": [
      "      58/60      2.19G      1.639     0.8536      0.966          1        512: 100%|██████████| 227/227 [00:30<00:00,  7.53it/s]\n",
      "                 Class     Images  Instances      Box(P          R      mAP50  mAP50-95): 100%|██████████| 15/15 [00:02<00:00,  6.37it/s]"
     ]
    },
    {
     "name": "stdout",
     "output_type": "stream",
     "text": [
      "                   all        452        383      0.849      0.778      0.825      0.362\n"
     ]
    },
    {
     "name": "stderr",
     "output_type": "stream",
     "text": [
      "\n"
     ]
    },
    {
     "name": "stdout",
     "output_type": "stream",
     "text": [
      "\n",
      "      Epoch    GPU_mem   box_loss   cls_loss   dfl_loss  Instances       Size\n"
     ]
    },
    {
     "name": "stderr",
     "output_type": "stream",
     "text": [
      "      59/60      2.19G      1.664     0.8795     0.9714          3        512: 100%|██████████| 227/227 [00:31<00:00,  7.30it/s]\n",
      "                 Class     Images  Instances      Box(P          R      mAP50  mAP50-95): 100%|██████████| 15/15 [00:01<00:00,  9.67it/s]"
     ]
    },
    {
     "name": "stdout",
     "output_type": "stream",
     "text": [
      "                   all        452        383      0.842      0.765      0.824      0.351\n"
     ]
    },
    {
     "name": "stderr",
     "output_type": "stream",
     "text": [
      "\n"
     ]
    },
    {
     "name": "stdout",
     "output_type": "stream",
     "text": [
      "\n",
      "      Epoch    GPU_mem   box_loss   cls_loss   dfl_loss  Instances       Size\n"
     ]
    },
    {
     "name": "stderr",
     "output_type": "stream",
     "text": [
      "      60/60      2.19G       1.65     0.8471     0.9826          1        512: 100%|██████████| 227/227 [00:21<00:00, 10.71it/s]\n",
      "                 Class     Images  Instances      Box(P          R      mAP50  mAP50-95): 100%|██████████| 15/15 [00:01<00:00,  9.81it/s]"
     ]
    },
    {
     "name": "stdout",
     "output_type": "stream",
     "text": [
      "                   all        452        383      0.837      0.749      0.815      0.359\n"
     ]
    },
    {
     "name": "stderr",
     "output_type": "stream",
     "text": [
      "\n"
     ]
    },
    {
     "name": "stdout",
     "output_type": "stream",
     "text": [
      "\n",
      "60 epochs completed in 0.428 hours.\n",
      "Optimizer stripped from runs\\detect\\yolov11-nano-boat-detection\\weights\\last.pt, 5.5MB\n",
      "Optimizer stripped from runs\\detect\\yolov11-nano-boat-detection\\weights\\best.pt, 5.5MB\n",
      "\n",
      "Validating runs\\detect\\yolov11-nano-boat-detection\\weights\\best.pt...\n",
      "Ultralytics 8.3.126  Python-3.12.10 torch-2.7.0+cu128 CUDA:0 (NVIDIA GeForce RTX 4060 Laptop GPU, 8188MiB)\n",
      "YOLO11n summary (fused): 100 layers, 2,582,347 parameters, 0 gradients, 6.3 GFLOPs\n"
     ]
    },
    {
     "name": "stderr",
     "output_type": "stream",
     "text": [
      "                 Class     Images  Instances      Box(P          R      mAP50  mAP50-95): 100%|██████████| 15/15 [00:02<00:00,  5.36it/s]\n"
     ]
    },
    {
     "name": "stdout",
     "output_type": "stream",
     "text": [
      "                   all        452        383      0.854       0.72      0.812      0.357\n",
      "Speed: 0.1ms preprocess, 3.5ms inference, 0.0ms loss, 1.0ms postprocess per image\n",
      "Results saved to \u001b[1mruns\\detect\\yolov11-nano-boat-detection\u001b[0m\n"
     ]
    },
    {
     "data": {
      "text/plain": [
       "ultralytics.utils.metrics.DetMetrics object with attributes:\n",
       "\n",
       "ap_class_index: array([0])\n",
       "box: ultralytics.utils.metrics.Metric object\n",
       "confusion_matrix: <ultralytics.utils.metrics.ConfusionMatrix object at 0x00000166A028DDF0>\n",
       "curves: ['Precision-Recall(B)', 'F1-Confidence(B)', 'Precision-Confidence(B)', 'Recall-Confidence(B)']\n",
       "curves_results: [[array([          0,    0.001001,    0.002002,    0.003003,    0.004004,    0.005005,    0.006006,    0.007007,    0.008008,    0.009009,     0.01001,    0.011011,    0.012012,    0.013013,    0.014014,    0.015015,    0.016016,    0.017017,    0.018018,    0.019019,     0.02002,    0.021021,    0.022022,    0.023023,\n",
       "          0.024024,    0.025025,    0.026026,    0.027027,    0.028028,    0.029029,     0.03003,    0.031031,    0.032032,    0.033033,    0.034034,    0.035035,    0.036036,    0.037037,    0.038038,    0.039039,     0.04004,    0.041041,    0.042042,    0.043043,    0.044044,    0.045045,    0.046046,    0.047047,\n",
       "          0.048048,    0.049049,     0.05005,    0.051051,    0.052052,    0.053053,    0.054054,    0.055055,    0.056056,    0.057057,    0.058058,    0.059059,     0.06006,    0.061061,    0.062062,    0.063063,    0.064064,    0.065065,    0.066066,    0.067067,    0.068068,    0.069069,     0.07007,    0.071071,\n",
       "          0.072072,    0.073073,    0.074074,    0.075075,    0.076076,    0.077077,    0.078078,    0.079079,     0.08008,    0.081081,    0.082082,    0.083083,    0.084084,    0.085085,    0.086086,    0.087087,    0.088088,    0.089089,     0.09009,    0.091091,    0.092092,    0.093093,    0.094094,    0.095095,\n",
       "          0.096096,    0.097097,    0.098098,    0.099099,      0.1001,      0.1011,      0.1021,      0.1031,      0.1041,     0.10511,     0.10611,     0.10711,     0.10811,     0.10911,     0.11011,     0.11111,     0.11211,     0.11311,     0.11411,     0.11512,     0.11612,     0.11712,     0.11812,     0.11912,\n",
       "           0.12012,     0.12112,     0.12212,     0.12312,     0.12412,     0.12513,     0.12613,     0.12713,     0.12813,     0.12913,     0.13013,     0.13113,     0.13213,     0.13313,     0.13413,     0.13514,     0.13614,     0.13714,     0.13814,     0.13914,     0.14014,     0.14114,     0.14214,     0.14314,\n",
       "           0.14414,     0.14515,     0.14615,     0.14715,     0.14815,     0.14915,     0.15015,     0.15115,     0.15215,     0.15315,     0.15415,     0.15516,     0.15616,     0.15716,     0.15816,     0.15916,     0.16016,     0.16116,     0.16216,     0.16316,     0.16416,     0.16517,     0.16617,     0.16717,\n",
       "           0.16817,     0.16917,     0.17017,     0.17117,     0.17217,     0.17317,     0.17417,     0.17518,     0.17618,     0.17718,     0.17818,     0.17918,     0.18018,     0.18118,     0.18218,     0.18318,     0.18418,     0.18519,     0.18619,     0.18719,     0.18819,     0.18919,     0.19019,     0.19119,\n",
       "           0.19219,     0.19319,     0.19419,      0.1952,      0.1962,      0.1972,      0.1982,      0.1992,      0.2002,      0.2012,      0.2022,      0.2032,      0.2042,     0.20521,     0.20621,     0.20721,     0.20821,     0.20921,     0.21021,     0.21121,     0.21221,     0.21321,     0.21421,     0.21522,\n",
       "           0.21622,     0.21722,     0.21822,     0.21922,     0.22022,     0.22122,     0.22222,     0.22322,     0.22422,     0.22523,     0.22623,     0.22723,     0.22823,     0.22923,     0.23023,     0.23123,     0.23223,     0.23323,     0.23423,     0.23524,     0.23624,     0.23724,     0.23824,     0.23924,\n",
       "           0.24024,     0.24124,     0.24224,     0.24324,     0.24424,     0.24525,     0.24625,     0.24725,     0.24825,     0.24925,     0.25025,     0.25125,     0.25225,     0.25325,     0.25425,     0.25526,     0.25626,     0.25726,     0.25826,     0.25926,     0.26026,     0.26126,     0.26226,     0.26326,\n",
       "           0.26426,     0.26527,     0.26627,     0.26727,     0.26827,     0.26927,     0.27027,     0.27127,     0.27227,     0.27327,     0.27427,     0.27528,     0.27628,     0.27728,     0.27828,     0.27928,     0.28028,     0.28128,     0.28228,     0.28328,     0.28428,     0.28529,     0.28629,     0.28729,\n",
       "           0.28829,     0.28929,     0.29029,     0.29129,     0.29229,     0.29329,     0.29429,      0.2953,      0.2963,      0.2973,      0.2983,      0.2993,      0.3003,      0.3013,      0.3023,      0.3033,      0.3043,     0.30531,     0.30631,     0.30731,     0.30831,     0.30931,     0.31031,     0.31131,\n",
       "           0.31231,     0.31331,     0.31431,     0.31532,     0.31632,     0.31732,     0.31832,     0.31932,     0.32032,     0.32132,     0.32232,     0.32332,     0.32432,     0.32533,     0.32633,     0.32733,     0.32833,     0.32933,     0.33033,     0.33133,     0.33233,     0.33333,     0.33433,     0.33534,\n",
       "           0.33634,     0.33734,     0.33834,     0.33934,     0.34034,     0.34134,     0.34234,     0.34334,     0.34434,     0.34535,     0.34635,     0.34735,     0.34835,     0.34935,     0.35035,     0.35135,     0.35235,     0.35335,     0.35435,     0.35536,     0.35636,     0.35736,     0.35836,     0.35936,\n",
       "           0.36036,     0.36136,     0.36236,     0.36336,     0.36436,     0.36537,     0.36637,     0.36737,     0.36837,     0.36937,     0.37037,     0.37137,     0.37237,     0.37337,     0.37437,     0.37538,     0.37638,     0.37738,     0.37838,     0.37938,     0.38038,     0.38138,     0.38238,     0.38338,\n",
       "           0.38438,     0.38539,     0.38639,     0.38739,     0.38839,     0.38939,     0.39039,     0.39139,     0.39239,     0.39339,     0.39439,      0.3954,      0.3964,      0.3974,      0.3984,      0.3994,      0.4004,      0.4014,      0.4024,      0.4034,      0.4044,     0.40541,     0.40641,     0.40741,\n",
       "           0.40841,     0.40941,     0.41041,     0.41141,     0.41241,     0.41341,     0.41441,     0.41542,     0.41642,     0.41742,     0.41842,     0.41942,     0.42042,     0.42142,     0.42242,     0.42342,     0.42442,     0.42543,     0.42643,     0.42743,     0.42843,     0.42943,     0.43043,     0.43143,\n",
       "           0.43243,     0.43343,     0.43443,     0.43544,     0.43644,     0.43744,     0.43844,     0.43944,     0.44044,     0.44144,     0.44244,     0.44344,     0.44444,     0.44545,     0.44645,     0.44745,     0.44845,     0.44945,     0.45045,     0.45145,     0.45245,     0.45345,     0.45445,     0.45546,\n",
       "           0.45646,     0.45746,     0.45846,     0.45946,     0.46046,     0.46146,     0.46246,     0.46346,     0.46446,     0.46547,     0.46647,     0.46747,     0.46847,     0.46947,     0.47047,     0.47147,     0.47247,     0.47347,     0.47447,     0.47548,     0.47648,     0.47748,     0.47848,     0.47948,\n",
       "           0.48048,     0.48148,     0.48248,     0.48348,     0.48448,     0.48549,     0.48649,     0.48749,     0.48849,     0.48949,     0.49049,     0.49149,     0.49249,     0.49349,     0.49449,      0.4955,      0.4965,      0.4975,      0.4985,      0.4995,      0.5005,      0.5015,      0.5025,      0.5035,\n",
       "            0.5045,     0.50551,     0.50651,     0.50751,     0.50851,     0.50951,     0.51051,     0.51151,     0.51251,     0.51351,     0.51451,     0.51552,     0.51652,     0.51752,     0.51852,     0.51952,     0.52052,     0.52152,     0.52252,     0.52352,     0.52452,     0.52553,     0.52653,     0.52753,\n",
       "           0.52853,     0.52953,     0.53053,     0.53153,     0.53253,     0.53353,     0.53453,     0.53554,     0.53654,     0.53754,     0.53854,     0.53954,     0.54054,     0.54154,     0.54254,     0.54354,     0.54454,     0.54555,     0.54655,     0.54755,     0.54855,     0.54955,     0.55055,     0.55155,\n",
       "           0.55255,     0.55355,     0.55455,     0.55556,     0.55656,     0.55756,     0.55856,     0.55956,     0.56056,     0.56156,     0.56256,     0.56356,     0.56456,     0.56557,     0.56657,     0.56757,     0.56857,     0.56957,     0.57057,     0.57157,     0.57257,     0.57357,     0.57457,     0.57558,\n",
       "           0.57658,     0.57758,     0.57858,     0.57958,     0.58058,     0.58158,     0.58258,     0.58358,     0.58458,     0.58559,     0.58659,     0.58759,     0.58859,     0.58959,     0.59059,     0.59159,     0.59259,     0.59359,     0.59459,      0.5956,      0.5966,      0.5976,      0.5986,      0.5996,\n",
       "            0.6006,      0.6016,      0.6026,      0.6036,      0.6046,     0.60561,     0.60661,     0.60761,     0.60861,     0.60961,     0.61061,     0.61161,     0.61261,     0.61361,     0.61461,     0.61562,     0.61662,     0.61762,     0.61862,     0.61962,     0.62062,     0.62162,     0.62262,     0.62362,\n",
       "           0.62462,     0.62563,     0.62663,     0.62763,     0.62863,     0.62963,     0.63063,     0.63163,     0.63263,     0.63363,     0.63463,     0.63564,     0.63664,     0.63764,     0.63864,     0.63964,     0.64064,     0.64164,     0.64264,     0.64364,     0.64464,     0.64565,     0.64665,     0.64765,\n",
       "           0.64865,     0.64965,     0.65065,     0.65165,     0.65265,     0.65365,     0.65465,     0.65566,     0.65666,     0.65766,     0.65866,     0.65966,     0.66066,     0.66166,     0.66266,     0.66366,     0.66466,     0.66567,     0.66667,     0.66767,     0.66867,     0.66967,     0.67067,     0.67167,\n",
       "           0.67267,     0.67367,     0.67467,     0.67568,     0.67668,     0.67768,     0.67868,     0.67968,     0.68068,     0.68168,     0.68268,     0.68368,     0.68468,     0.68569,     0.68669,     0.68769,     0.68869,     0.68969,     0.69069,     0.69169,     0.69269,     0.69369,     0.69469,      0.6957,\n",
       "            0.6967,      0.6977,      0.6987,      0.6997,      0.7007,      0.7017,      0.7027,      0.7037,      0.7047,     0.70571,     0.70671,     0.70771,     0.70871,     0.70971,     0.71071,     0.71171,     0.71271,     0.71371,     0.71471,     0.71572,     0.71672,     0.71772,     0.71872,     0.71972,\n",
       "           0.72072,     0.72172,     0.72272,     0.72372,     0.72472,     0.72573,     0.72673,     0.72773,     0.72873,     0.72973,     0.73073,     0.73173,     0.73273,     0.73373,     0.73473,     0.73574,     0.73674,     0.73774,     0.73874,     0.73974,     0.74074,     0.74174,     0.74274,     0.74374,\n",
       "           0.74474,     0.74575,     0.74675,     0.74775,     0.74875,     0.74975,     0.75075,     0.75175,     0.75275,     0.75375,     0.75475,     0.75576,     0.75676,     0.75776,     0.75876,     0.75976,     0.76076,     0.76176,     0.76276,     0.76376,     0.76476,     0.76577,     0.76677,     0.76777,\n",
       "           0.76877,     0.76977,     0.77077,     0.77177,     0.77277,     0.77377,     0.77477,     0.77578,     0.77678,     0.77778,     0.77878,     0.77978,     0.78078,     0.78178,     0.78278,     0.78378,     0.78478,     0.78579,     0.78679,     0.78779,     0.78879,     0.78979,     0.79079,     0.79179,\n",
       "           0.79279,     0.79379,     0.79479,      0.7958,      0.7968,      0.7978,      0.7988,      0.7998,      0.8008,      0.8018,      0.8028,      0.8038,      0.8048,     0.80581,     0.80681,     0.80781,     0.80881,     0.80981,     0.81081,     0.81181,     0.81281,     0.81381,     0.81481,     0.81582,\n",
       "           0.81682,     0.81782,     0.81882,     0.81982,     0.82082,     0.82182,     0.82282,     0.82382,     0.82482,     0.82583,     0.82683,     0.82783,     0.82883,     0.82983,     0.83083,     0.83183,     0.83283,     0.83383,     0.83483,     0.83584,     0.83684,     0.83784,     0.83884,     0.83984,\n",
       "           0.84084,     0.84184,     0.84284,     0.84384,     0.84484,     0.84585,     0.84685,     0.84785,     0.84885,     0.84985,     0.85085,     0.85185,     0.85285,     0.85385,     0.85485,     0.85586,     0.85686,     0.85786,     0.85886,     0.85986,     0.86086,     0.86186,     0.86286,     0.86386,\n",
       "           0.86486,     0.86587,     0.86687,     0.86787,     0.86887,     0.86987,     0.87087,     0.87187,     0.87287,     0.87387,     0.87487,     0.87588,     0.87688,     0.87788,     0.87888,     0.87988,     0.88088,     0.88188,     0.88288,     0.88388,     0.88488,     0.88589,     0.88689,     0.88789,\n",
       "           0.88889,     0.88989,     0.89089,     0.89189,     0.89289,     0.89389,     0.89489,      0.8959,      0.8969,      0.8979,      0.8989,      0.8999,      0.9009,      0.9019,      0.9029,      0.9039,      0.9049,     0.90591,     0.90691,     0.90791,     0.90891,     0.90991,     0.91091,     0.91191,\n",
       "           0.91291,     0.91391,     0.91491,     0.91592,     0.91692,     0.91792,     0.91892,     0.91992,     0.92092,     0.92192,     0.92292,     0.92392,     0.92492,     0.92593,     0.92693,     0.92793,     0.92893,     0.92993,     0.93093,     0.93193,     0.93293,     0.93393,     0.93493,     0.93594,\n",
       "           0.93694,     0.93794,     0.93894,     0.93994,     0.94094,     0.94194,     0.94294,     0.94394,     0.94494,     0.94595,     0.94695,     0.94795,     0.94895,     0.94995,     0.95095,     0.95195,     0.95295,     0.95395,     0.95495,     0.95596,     0.95696,     0.95796,     0.95896,     0.95996,\n",
       "           0.96096,     0.96196,     0.96296,     0.96396,     0.96496,     0.96597,     0.96697,     0.96797,     0.96897,     0.96997,     0.97097,     0.97197,     0.97297,     0.97397,     0.97497,     0.97598,     0.97698,     0.97798,     0.97898,     0.97998,     0.98098,     0.98198,     0.98298,     0.98398,\n",
       "           0.98498,     0.98599,     0.98699,     0.98799,     0.98899,     0.98999,     0.99099,     0.99199,     0.99299,     0.99399,     0.99499,       0.996,       0.997,       0.998,       0.999,           1]), array([[          1,           1,           1,           1,           1,           1,           1,           1,           1,           1,           1,           1,           1,           1,           1,           1,           1,           1,           1,           1,           1,           1,           1,\n",
       "                  1,           1,           1,           1,           1,           1,           1,           1,           1,           1,           1,           1,           1,           1,           1,           1,           1,           1,           1,           1,           1,           1,           1,\n",
       "                  1,           1,           1,           1,           1,           1,           1,           1,           1,           1,           1,           1,           1,           1,           1,           1,           1,           1,           1,           1,           1,           1,           1,\n",
       "                  1,           1,           1,           1,           1,           1,           1,           1,           1,           1,           1,           1,           1,           1,           1,           1,           1,           1,           1,           1,           1,           1,           1,\n",
       "                  1,           1,           1,           1,           1,           1,           1,           1,           1,           1,     0.98214,     0.98214,     0.98214,     0.98214,     0.98214,     0.98214,     0.98214,     0.98214,     0.98214,     0.98214,     0.98214,     0.98214,     0.98214,\n",
       "            0.98214,     0.98214,     0.98214,     0.98214,     0.98214,     0.98214,     0.98214,     0.98214,     0.98214,     0.98214,     0.98214,     0.98214,     0.98214,     0.98214,     0.98214,     0.98214,     0.98214,     0.98214,     0.98214,     0.98214,     0.98214,     0.98214,     0.98214,\n",
       "            0.98214,     0.98214,     0.98214,     0.98214,     0.98214,     0.98214,     0.97403,     0.97403,     0.97403,     0.97403,     0.97403,     0.97403,     0.97403,     0.97403,     0.97403,     0.97403,     0.97403,     0.97403,     0.97403,     0.97403,     0.97403,     0.97403,     0.97403,\n",
       "            0.97403,     0.97403,     0.97403,     0.97403,     0.97403,     0.97403,     0.97403,     0.97403,     0.97403,     0.97403,     0.97403,     0.97403,     0.97403,     0.97403,     0.97403,     0.97403,     0.97403,     0.97403,     0.97403,     0.97403,     0.97403,     0.97403,     0.97403,\n",
       "            0.97403,     0.97403,     0.97403,     0.97403,     0.97403,     0.97403,     0.97403,     0.97403,     0.97403,     0.97403,     0.97403,     0.97403,     0.96552,     0.96552,     0.96552,     0.96552,     0.96552,     0.96552,     0.96552,     0.96552,     0.96552,     0.96552,     0.96552,\n",
       "            0.96552,     0.96552,     0.96552,     0.96552,     0.96552,     0.96552,     0.96552,     0.96552,     0.96552,     0.96552,     0.96552,     0.96552,     0.96552,     0.96552,     0.96552,     0.96552,     0.96552,     0.96552,     0.96552,     0.96552,     0.96552,     0.96552,     0.96552,\n",
       "            0.96552,     0.96552,     0.96552,     0.96552,     0.96552,     0.96552,     0.96552,     0.96552,     0.96552,     0.96552,     0.96552,     0.96552,     0.96552,     0.96552,     0.96552,     0.96552,     0.96552,     0.96552,     0.96552,     0.96552,     0.96552,     0.96552,     0.96552,\n",
       "            0.96552,     0.96552,     0.96552,     0.96552,     0.96552,     0.96552,     0.96552,     0.96552,     0.96552,     0.96552,     0.96552,     0.96552,     0.96552,     0.96552,     0.96552,     0.96552,     0.96552,     0.96552,     0.96552,     0.96552,     0.96552,     0.96552,     0.96552,\n",
       "            0.96552,     0.96552,     0.96552,     0.96552,     0.96552,     0.96552,     0.96552,     0.96552,     0.96552,     0.96552,     0.96552,     0.96552,     0.96552,     0.96552,     0.96552,     0.96552,     0.96552,     0.96552,     0.96552,     0.96552,     0.96552,     0.96552,     0.96552,\n",
       "            0.96552,     0.96552,     0.96552,     0.96552,     0.96552,     0.96552,     0.96552,     0.96552,     0.96552,     0.96552,     0.96552,     0.96552,     0.96552,     0.96552,     0.96552,     0.96552,     0.96552,     0.96552,     0.96552,     0.96552,     0.96552,     0.96552,     0.96552,\n",
       "            0.96552,     0.96552,     0.96552,     0.96552,     0.96552,     0.96552,     0.96552,     0.96552,     0.96552,     0.96552,     0.96552,     0.96552,     0.96552,     0.96552,     0.96552,     0.96552,     0.96552,     0.96552,     0.96552,     0.96552,     0.96552,     0.96552,     0.96552,\n",
       "            0.96552,     0.96552,     0.96552,     0.96552,     0.96552,     0.96552,     0.96552,     0.96552,     0.96552,     0.96552,     0.96552,     0.96552,     0.96552,     0.96552,     0.96552,     0.96552,     0.96552,     0.96552,     0.96552,     0.96552,     0.96552,     0.95918,     0.95918,\n",
       "            0.95395,     0.95395,     0.95395,     0.95395,     0.95395,     0.95395,     0.95395,     0.95395,     0.95395,     0.95395,     0.95395,     0.95135,     0.95135,     0.95135,     0.95135,     0.95135,     0.95135,     0.95135,     0.95135,     0.95135,     0.95135,     0.95135,     0.95135,\n",
       "            0.95135,     0.95135,     0.95135,     0.95135,     0.95135,     0.95135,     0.95135,     0.95135,     0.95135,     0.95135,     0.95135,     0.95135,     0.95135,     0.95135,     0.95135,     0.95135,     0.95135,     0.95135,     0.95135,     0.95135,     0.95135,     0.95135,     0.95135,\n",
       "            0.95135,     0.95135,     0.95135,     0.95135,     0.95135,     0.95135,     0.95135,     0.95135,     0.95135,     0.95135,     0.95135,     0.95135,     0.95135,     0.95135,     0.95135,     0.95135,     0.95135,     0.95135,     0.95135,     0.95135,     0.95135,     0.95135,     0.95135,\n",
       "            0.95135,     0.95135,     0.95135,     0.95135,     0.95135,     0.95135,     0.95135,     0.95135,     0.95135,     0.95135,     0.95135,     0.95135,     0.95135,     0.95135,     0.95135,     0.95135,     0.95135,     0.95135,     0.95135,     0.95135,     0.95135,     0.95135,     0.95135,\n",
       "            0.94792,     0.94792,     0.94792,     0.94792,     0.94792,     0.94792,     0.94792,     0.94792,     0.94792,     0.94792,     0.94792,     0.94792,     0.94792,     0.94792,     0.94792,     0.94388,     0.94388,     0.94388,     0.94388,     0.94388,     0.94388,     0.94388,     0.94388,\n",
       "            0.94089,     0.94089,     0.94089,     0.94089,     0.94089,     0.94089,     0.94089,     0.94089,     0.94089,     0.94089,     0.94089,     0.94089,     0.94089,     0.94089,     0.94089,     0.94089,     0.94017,     0.94017,     0.94017,     0.94017,     0.94017,     0.94017,     0.94017,\n",
       "            0.94017,     0.94017,     0.94017,     0.94017,     0.94017,     0.94017,     0.94017,     0.94017,     0.94017,     0.94017,     0.94017,     0.94017,     0.94017,     0.94017,     0.94017,     0.94017,     0.94017,     0.94017,     0.94017,     0.94017,     0.94017,     0.94017,     0.94017,\n",
       "            0.94017,     0.94017,     0.94017,     0.94017,     0.94017,     0.94017,     0.94017,     0.94017,     0.94017,     0.94017,     0.94017,     0.94017,     0.94017,     0.94017,     0.94017,     0.94017,     0.94017,     0.94017,     0.94017,     0.94017,     0.94017,     0.94017,     0.94017,\n",
       "            0.94017,     0.94017,     0.94017,     0.94017,     0.94017,     0.94017,     0.94017,     0.94017,     0.94017,     0.94017,     0.94017,     0.94017,     0.94017,     0.94017,     0.94017,     0.94017,     0.94017,     0.94017,     0.94017,     0.94017,     0.94017,     0.94017,     0.93671,\n",
       "            0.93671,     0.93671,     0.93671,     0.93671,     0.93671,     0.92917,     0.92917,     0.92181,     0.92181,     0.92181,      0.9187,      0.9187,      0.9187,      0.9187,      0.9187,       0.917,       0.917,       0.917,       0.917,       0.917,       0.917,       0.917,       0.917,\n",
       "              0.917,       0.917,       0.917,       0.917,       0.917,       0.917,       0.917,       0.917,     0.91188,     0.91188,     0.91188,     0.91188,     0.91188,     0.91188,     0.91188,     0.91188,     0.91188,     0.91188,     0.91188,     0.91188,     0.91188,     0.91188,     0.91188,\n",
       "            0.90909,     0.90909,     0.90909,     0.90909,     0.90909,     0.90909,     0.90602,     0.90602,     0.90146,     0.90146,     0.90146,     0.90146,     0.90146,     0.90146,     0.90146,     0.90146,     0.90146,     0.90146,     0.90146,     0.90146,     0.90146,     0.90146,     0.90146,\n",
       "            0.90146,         0.9,         0.9,         0.9,         0.9,         0.9,         0.9,         0.9,         0.9,         0.9,         0.9,         0.9,         0.9,         0.9,     0.89399,     0.89399,     0.88889,     0.88889,     0.88889,     0.88889,     0.88889,     0.88889,     0.88889,\n",
       "            0.88889,     0.88699,     0.88699,     0.88699,     0.88699,     0.88699,     0.88699,     0.88699,     0.88699,     0.88435,     0.88435,     0.88435,      0.8796,      0.8796,      0.8796,      0.8796,      0.8796,      0.8796,      0.8796,     0.87708,     0.87708,     0.87708,     0.87459,\n",
       "            0.87459,     0.87459,     0.87419,     0.87419,     0.87419,     0.87419,     0.87419,     0.87419,     0.87419,     0.87419,     0.87419,     0.87419,     0.87419,     0.87419,     0.87419,     0.87419,     0.87419,     0.85849,     0.85849,     0.85849,     0.85849,     0.85849,     0.85849,\n",
       "             0.8567,      0.8567,      0.8567,      0.8567,      0.8567,     0.85449,     0.85449,      0.8429,      0.8429,      0.8429,      0.8429,      0.8429,      0.8429,      0.8429,      0.8429,     0.84132,     0.84132,     0.84132,     0.84132,     0.84132,     0.83929,     0.83929,     0.83929,\n",
       "            0.83481,     0.83481,     0.83481,     0.82799,     0.82799,     0.81429,     0.81429,     0.81429,      0.8102,      0.8102,     0.80845,     0.80845,     0.80845,     0.79834,     0.79834,     0.79834,     0.79834,     0.79834,      0.7967,      0.7967,      0.7967,     0.79508,     0.79508,\n",
       "            0.79508,     0.78976,     0.78976,     0.78976,     0.78976,     0.78976,      0.7882,      0.7882,     0.77836,     0.77836,     0.77836,     0.77487,     0.77487,     0.77487,     0.77344,     0.77344,     0.77202,     0.77202,     0.77202,     0.75439,     0.75439,     0.75439,     0.75439,\n",
       "            0.75439,     0.75439,     0.75439,     0.75439,     0.75124,     0.75124,     0.74815,     0.74815,     0.74815,     0.74755,     0.74755,     0.74755,     0.74755,     0.74755,     0.74576,     0.74576,     0.74576,     0.74576,     0.74576,     0.74576,     0.74576,     0.74576,     0.74458,\n",
       "            0.74458,       0.726,       0.726,       0.726,     0.72494,     0.72494,     0.72494,     0.72055,     0.72055,     0.71789,     0.71789,     0.71789,     0.71332,     0.71332,     0.71332,     0.71332,     0.71332,     0.71332,     0.71332,     0.71332,     0.71076,     0.71076,      0.6989,\n",
       "             0.6989,      0.6989,     0.67653,     0.67653,     0.67653,     0.67653,     0.67653,     0.66736,     0.66736,     0.66736,     0.66119,     0.66119,     0.65121,     0.65121,     0.65121,     0.62428,     0.62428,     0.62428,     0.59165,     0.59165,     0.59165,     0.59165,     0.59165,\n",
       "            0.58919,     0.58919,     0.57645,     0.57645,     0.57645,     0.55017,     0.55017,     0.55017,     0.50076,     0.50076,     0.49774,     0.49774,     0.49774,       0.471,       0.471,       0.471,       0.471,       0.471,     0.45879,     0.45879,     0.45879,     0.42513,     0.42513,\n",
       "            0.41533,     0.41533,     0.41533,     0.40119,     0.40119,     0.40119,      0.3694,      0.3694,     0.35873,     0.35873,     0.35873,     0.34694,     0.34694,     0.34306,     0.34306,     0.34306,     0.30728,     0.30728,     0.30728,     0.30114,     0.30114,     0.29153,     0.29153,\n",
       "            0.29153,      0.2723,      0.2723,      0.2701,      0.2701,      0.2701,     0.22144,     0.22144,     0.22144,     0.21709,     0.21709,     0.21372,     0.21372,     0.21372,     0.19509,     0.19509,     0.19307,     0.19307,     0.19307,     0.13125,     0.13125,     0.13125,    0.093093,\n",
       "           0.091929,    0.090766,    0.089602,    0.088438,    0.087275,    0.086111,    0.084947,    0.083784,     0.08262,    0.081456,    0.080293,    0.079129,    0.077965,    0.076802,    0.075638,    0.074474,    0.073311,    0.072147,    0.070983,     0.06982,    0.068656,    0.067492,    0.066329,\n",
       "           0.065165,    0.064001,    0.062838,    0.061674,     0.06051,    0.059347,    0.058183,    0.057019,    0.055856,    0.054692,    0.053528,    0.052365,    0.051201,    0.050037,    0.048874,     0.04771,    0.046546,    0.045383,    0.044219,    0.043055,    0.041892,    0.040728,    0.039564,\n",
       "           0.038401,    0.037237,    0.036073,     0.03491,    0.033746,    0.032583,    0.031419,    0.030255,    0.029092,    0.027928,    0.026764,    0.025601,    0.024437,    0.023273,     0.02211,    0.020946,    0.019782,    0.018619,    0.017455,    0.016291,    0.015128,    0.013964,      0.0128,\n",
       "           0.011637,    0.010473,   0.0093093,   0.0081456,    0.006982,   0.0058183,   0.0046546,    0.003491,   0.0023273,   0.0011637,           0]]), 'Recall', 'Precision'], [array([          0,    0.001001,    0.002002,    0.003003,    0.004004,    0.005005,    0.006006,    0.007007,    0.008008,    0.009009,     0.01001,    0.011011,    0.012012,    0.013013,    0.014014,    0.015015,    0.016016,    0.017017,    0.018018,    0.019019,     0.02002,    0.021021,    0.022022,    0.023023,\n",
       "          0.024024,    0.025025,    0.026026,    0.027027,    0.028028,    0.029029,     0.03003,    0.031031,    0.032032,    0.033033,    0.034034,    0.035035,    0.036036,    0.037037,    0.038038,    0.039039,     0.04004,    0.041041,    0.042042,    0.043043,    0.044044,    0.045045,    0.046046,    0.047047,\n",
       "          0.048048,    0.049049,     0.05005,    0.051051,    0.052052,    0.053053,    0.054054,    0.055055,    0.056056,    0.057057,    0.058058,    0.059059,     0.06006,    0.061061,    0.062062,    0.063063,    0.064064,    0.065065,    0.066066,    0.067067,    0.068068,    0.069069,     0.07007,    0.071071,\n",
       "          0.072072,    0.073073,    0.074074,    0.075075,    0.076076,    0.077077,    0.078078,    0.079079,     0.08008,    0.081081,    0.082082,    0.083083,    0.084084,    0.085085,    0.086086,    0.087087,    0.088088,    0.089089,     0.09009,    0.091091,    0.092092,    0.093093,    0.094094,    0.095095,\n",
       "          0.096096,    0.097097,    0.098098,    0.099099,      0.1001,      0.1011,      0.1021,      0.1031,      0.1041,     0.10511,     0.10611,     0.10711,     0.10811,     0.10911,     0.11011,     0.11111,     0.11211,     0.11311,     0.11411,     0.11512,     0.11612,     0.11712,     0.11812,     0.11912,\n",
       "           0.12012,     0.12112,     0.12212,     0.12312,     0.12412,     0.12513,     0.12613,     0.12713,     0.12813,     0.12913,     0.13013,     0.13113,     0.13213,     0.13313,     0.13413,     0.13514,     0.13614,     0.13714,     0.13814,     0.13914,     0.14014,     0.14114,     0.14214,     0.14314,\n",
       "           0.14414,     0.14515,     0.14615,     0.14715,     0.14815,     0.14915,     0.15015,     0.15115,     0.15215,     0.15315,     0.15415,     0.15516,     0.15616,     0.15716,     0.15816,     0.15916,     0.16016,     0.16116,     0.16216,     0.16316,     0.16416,     0.16517,     0.16617,     0.16717,\n",
       "           0.16817,     0.16917,     0.17017,     0.17117,     0.17217,     0.17317,     0.17417,     0.17518,     0.17618,     0.17718,     0.17818,     0.17918,     0.18018,     0.18118,     0.18218,     0.18318,     0.18418,     0.18519,     0.18619,     0.18719,     0.18819,     0.18919,     0.19019,     0.19119,\n",
       "           0.19219,     0.19319,     0.19419,      0.1952,      0.1962,      0.1972,      0.1982,      0.1992,      0.2002,      0.2012,      0.2022,      0.2032,      0.2042,     0.20521,     0.20621,     0.20721,     0.20821,     0.20921,     0.21021,     0.21121,     0.21221,     0.21321,     0.21421,     0.21522,\n",
       "           0.21622,     0.21722,     0.21822,     0.21922,     0.22022,     0.22122,     0.22222,     0.22322,     0.22422,     0.22523,     0.22623,     0.22723,     0.22823,     0.22923,     0.23023,     0.23123,     0.23223,     0.23323,     0.23423,     0.23524,     0.23624,     0.23724,     0.23824,     0.23924,\n",
       "           0.24024,     0.24124,     0.24224,     0.24324,     0.24424,     0.24525,     0.24625,     0.24725,     0.24825,     0.24925,     0.25025,     0.25125,     0.25225,     0.25325,     0.25425,     0.25526,     0.25626,     0.25726,     0.25826,     0.25926,     0.26026,     0.26126,     0.26226,     0.26326,\n",
       "           0.26426,     0.26527,     0.26627,     0.26727,     0.26827,     0.26927,     0.27027,     0.27127,     0.27227,     0.27327,     0.27427,     0.27528,     0.27628,     0.27728,     0.27828,     0.27928,     0.28028,     0.28128,     0.28228,     0.28328,     0.28428,     0.28529,     0.28629,     0.28729,\n",
       "           0.28829,     0.28929,     0.29029,     0.29129,     0.29229,     0.29329,     0.29429,      0.2953,      0.2963,      0.2973,      0.2983,      0.2993,      0.3003,      0.3013,      0.3023,      0.3033,      0.3043,     0.30531,     0.30631,     0.30731,     0.30831,     0.30931,     0.31031,     0.31131,\n",
       "           0.31231,     0.31331,     0.31431,     0.31532,     0.31632,     0.31732,     0.31832,     0.31932,     0.32032,     0.32132,     0.32232,     0.32332,     0.32432,     0.32533,     0.32633,     0.32733,     0.32833,     0.32933,     0.33033,     0.33133,     0.33233,     0.33333,     0.33433,     0.33534,\n",
       "           0.33634,     0.33734,     0.33834,     0.33934,     0.34034,     0.34134,     0.34234,     0.34334,     0.34434,     0.34535,     0.34635,     0.34735,     0.34835,     0.34935,     0.35035,     0.35135,     0.35235,     0.35335,     0.35435,     0.35536,     0.35636,     0.35736,     0.35836,     0.35936,\n",
       "           0.36036,     0.36136,     0.36236,     0.36336,     0.36436,     0.36537,     0.36637,     0.36737,     0.36837,     0.36937,     0.37037,     0.37137,     0.37237,     0.37337,     0.37437,     0.37538,     0.37638,     0.37738,     0.37838,     0.37938,     0.38038,     0.38138,     0.38238,     0.38338,\n",
       "           0.38438,     0.38539,     0.38639,     0.38739,     0.38839,     0.38939,     0.39039,     0.39139,     0.39239,     0.39339,     0.39439,      0.3954,      0.3964,      0.3974,      0.3984,      0.3994,      0.4004,      0.4014,      0.4024,      0.4034,      0.4044,     0.40541,     0.40641,     0.40741,\n",
       "           0.40841,     0.40941,     0.41041,     0.41141,     0.41241,     0.41341,     0.41441,     0.41542,     0.41642,     0.41742,     0.41842,     0.41942,     0.42042,     0.42142,     0.42242,     0.42342,     0.42442,     0.42543,     0.42643,     0.42743,     0.42843,     0.42943,     0.43043,     0.43143,\n",
       "           0.43243,     0.43343,     0.43443,     0.43544,     0.43644,     0.43744,     0.43844,     0.43944,     0.44044,     0.44144,     0.44244,     0.44344,     0.44444,     0.44545,     0.44645,     0.44745,     0.44845,     0.44945,     0.45045,     0.45145,     0.45245,     0.45345,     0.45445,     0.45546,\n",
       "           0.45646,     0.45746,     0.45846,     0.45946,     0.46046,     0.46146,     0.46246,     0.46346,     0.46446,     0.46547,     0.46647,     0.46747,     0.46847,     0.46947,     0.47047,     0.47147,     0.47247,     0.47347,     0.47447,     0.47548,     0.47648,     0.47748,     0.47848,     0.47948,\n",
       "           0.48048,     0.48148,     0.48248,     0.48348,     0.48448,     0.48549,     0.48649,     0.48749,     0.48849,     0.48949,     0.49049,     0.49149,     0.49249,     0.49349,     0.49449,      0.4955,      0.4965,      0.4975,      0.4985,      0.4995,      0.5005,      0.5015,      0.5025,      0.5035,\n",
       "            0.5045,     0.50551,     0.50651,     0.50751,     0.50851,     0.50951,     0.51051,     0.51151,     0.51251,     0.51351,     0.51451,     0.51552,     0.51652,     0.51752,     0.51852,     0.51952,     0.52052,     0.52152,     0.52252,     0.52352,     0.52452,     0.52553,     0.52653,     0.52753,\n",
       "           0.52853,     0.52953,     0.53053,     0.53153,     0.53253,     0.53353,     0.53453,     0.53554,     0.53654,     0.53754,     0.53854,     0.53954,     0.54054,     0.54154,     0.54254,     0.54354,     0.54454,     0.54555,     0.54655,     0.54755,     0.54855,     0.54955,     0.55055,     0.55155,\n",
       "           0.55255,     0.55355,     0.55455,     0.55556,     0.55656,     0.55756,     0.55856,     0.55956,     0.56056,     0.56156,     0.56256,     0.56356,     0.56456,     0.56557,     0.56657,     0.56757,     0.56857,     0.56957,     0.57057,     0.57157,     0.57257,     0.57357,     0.57457,     0.57558,\n",
       "           0.57658,     0.57758,     0.57858,     0.57958,     0.58058,     0.58158,     0.58258,     0.58358,     0.58458,     0.58559,     0.58659,     0.58759,     0.58859,     0.58959,     0.59059,     0.59159,     0.59259,     0.59359,     0.59459,      0.5956,      0.5966,      0.5976,      0.5986,      0.5996,\n",
       "            0.6006,      0.6016,      0.6026,      0.6036,      0.6046,     0.60561,     0.60661,     0.60761,     0.60861,     0.60961,     0.61061,     0.61161,     0.61261,     0.61361,     0.61461,     0.61562,     0.61662,     0.61762,     0.61862,     0.61962,     0.62062,     0.62162,     0.62262,     0.62362,\n",
       "           0.62462,     0.62563,     0.62663,     0.62763,     0.62863,     0.62963,     0.63063,     0.63163,     0.63263,     0.63363,     0.63463,     0.63564,     0.63664,     0.63764,     0.63864,     0.63964,     0.64064,     0.64164,     0.64264,     0.64364,     0.64464,     0.64565,     0.64665,     0.64765,\n",
       "           0.64865,     0.64965,     0.65065,     0.65165,     0.65265,     0.65365,     0.65465,     0.65566,     0.65666,     0.65766,     0.65866,     0.65966,     0.66066,     0.66166,     0.66266,     0.66366,     0.66466,     0.66567,     0.66667,     0.66767,     0.66867,     0.66967,     0.67067,     0.67167,\n",
       "           0.67267,     0.67367,     0.67467,     0.67568,     0.67668,     0.67768,     0.67868,     0.67968,     0.68068,     0.68168,     0.68268,     0.68368,     0.68468,     0.68569,     0.68669,     0.68769,     0.68869,     0.68969,     0.69069,     0.69169,     0.69269,     0.69369,     0.69469,      0.6957,\n",
       "            0.6967,      0.6977,      0.6987,      0.6997,      0.7007,      0.7017,      0.7027,      0.7037,      0.7047,     0.70571,     0.70671,     0.70771,     0.70871,     0.70971,     0.71071,     0.71171,     0.71271,     0.71371,     0.71471,     0.71572,     0.71672,     0.71772,     0.71872,     0.71972,\n",
       "           0.72072,     0.72172,     0.72272,     0.72372,     0.72472,     0.72573,     0.72673,     0.72773,     0.72873,     0.72973,     0.73073,     0.73173,     0.73273,     0.73373,     0.73473,     0.73574,     0.73674,     0.73774,     0.73874,     0.73974,     0.74074,     0.74174,     0.74274,     0.74374,\n",
       "           0.74474,     0.74575,     0.74675,     0.74775,     0.74875,     0.74975,     0.75075,     0.75175,     0.75275,     0.75375,     0.75475,     0.75576,     0.75676,     0.75776,     0.75876,     0.75976,     0.76076,     0.76176,     0.76276,     0.76376,     0.76476,     0.76577,     0.76677,     0.76777,\n",
       "           0.76877,     0.76977,     0.77077,     0.77177,     0.77277,     0.77377,     0.77477,     0.77578,     0.77678,     0.77778,     0.77878,     0.77978,     0.78078,     0.78178,     0.78278,     0.78378,     0.78478,     0.78579,     0.78679,     0.78779,     0.78879,     0.78979,     0.79079,     0.79179,\n",
       "           0.79279,     0.79379,     0.79479,      0.7958,      0.7968,      0.7978,      0.7988,      0.7998,      0.8008,      0.8018,      0.8028,      0.8038,      0.8048,     0.80581,     0.80681,     0.80781,     0.80881,     0.80981,     0.81081,     0.81181,     0.81281,     0.81381,     0.81481,     0.81582,\n",
       "           0.81682,     0.81782,     0.81882,     0.81982,     0.82082,     0.82182,     0.82282,     0.82382,     0.82482,     0.82583,     0.82683,     0.82783,     0.82883,     0.82983,     0.83083,     0.83183,     0.83283,     0.83383,     0.83483,     0.83584,     0.83684,     0.83784,     0.83884,     0.83984,\n",
       "           0.84084,     0.84184,     0.84284,     0.84384,     0.84484,     0.84585,     0.84685,     0.84785,     0.84885,     0.84985,     0.85085,     0.85185,     0.85285,     0.85385,     0.85485,     0.85586,     0.85686,     0.85786,     0.85886,     0.85986,     0.86086,     0.86186,     0.86286,     0.86386,\n",
       "           0.86486,     0.86587,     0.86687,     0.86787,     0.86887,     0.86987,     0.87087,     0.87187,     0.87287,     0.87387,     0.87487,     0.87588,     0.87688,     0.87788,     0.87888,     0.87988,     0.88088,     0.88188,     0.88288,     0.88388,     0.88488,     0.88589,     0.88689,     0.88789,\n",
       "           0.88889,     0.88989,     0.89089,     0.89189,     0.89289,     0.89389,     0.89489,      0.8959,      0.8969,      0.8979,      0.8989,      0.8999,      0.9009,      0.9019,      0.9029,      0.9039,      0.9049,     0.90591,     0.90691,     0.90791,     0.90891,     0.90991,     0.91091,     0.91191,\n",
       "           0.91291,     0.91391,     0.91491,     0.91592,     0.91692,     0.91792,     0.91892,     0.91992,     0.92092,     0.92192,     0.92292,     0.92392,     0.92492,     0.92593,     0.92693,     0.92793,     0.92893,     0.92993,     0.93093,     0.93193,     0.93293,     0.93393,     0.93493,     0.93594,\n",
       "           0.93694,     0.93794,     0.93894,     0.93994,     0.94094,     0.94194,     0.94294,     0.94394,     0.94494,     0.94595,     0.94695,     0.94795,     0.94895,     0.94995,     0.95095,     0.95195,     0.95295,     0.95395,     0.95495,     0.95596,     0.95696,     0.95796,     0.95896,     0.95996,\n",
       "           0.96096,     0.96196,     0.96296,     0.96396,     0.96496,     0.96597,     0.96697,     0.96797,     0.96897,     0.96997,     0.97097,     0.97197,     0.97297,     0.97397,     0.97497,     0.97598,     0.97698,     0.97798,     0.97898,     0.97998,     0.98098,     0.98198,     0.98298,     0.98398,\n",
       "           0.98498,     0.98599,     0.98699,     0.98799,     0.98899,     0.98999,     0.99099,     0.99199,     0.99299,     0.99399,     0.99499,       0.996,       0.997,       0.998,       0.999,           1]), array([[    0.17071,     0.17071,     0.21365,     0.24248,      0.2647,     0.28422,     0.29911,     0.31212,     0.32153,     0.33376,     0.34384,     0.35042,     0.35772,     0.36554,     0.37307,     0.37925,     0.38636,     0.39269,     0.40034,     0.40614,     0.41208,     0.41556,     0.41945,\n",
       "             0.4239,     0.42932,     0.43212,     0.43484,     0.43942,     0.44278,     0.44631,     0.44983,     0.45343,     0.45662,     0.46114,     0.46585,     0.46879,     0.47417,     0.47824,     0.48233,     0.48435,     0.48701,     0.48882,     0.49232,     0.49713,     0.50081,     0.50234,\n",
       "            0.50435,     0.50884,     0.51157,     0.51293,     0.51692,     0.51873,      0.5205,     0.52172,      0.5223,     0.52391,     0.52618,     0.52779,     0.53223,     0.53548,      0.5366,     0.54124,      0.5439,     0.54629,     0.54904,     0.55043,     0.55003,     0.55259,      0.5547,\n",
       "            0.55651,     0.55722,     0.55923,     0.56067,     0.56218,     0.56348,      0.5636,     0.56597,     0.56754,     0.56975,     0.57154,      0.5721,       0.574,     0.57486,      0.5778,     0.57922,     0.58037,     0.58176,     0.58416,     0.58712,     0.58877,     0.59063,      0.5933,\n",
       "            0.59551,     0.59778,     0.59972,     0.60083,     0.60086,     0.60277,     0.60603,     0.60793,     0.60946,     0.61028,     0.61026,      0.6106,      0.6122,     0.61425,     0.61605,     0.61762,     0.62029,     0.62682,     0.62749,     0.63051,     0.63094,      0.6309,     0.63253,\n",
       "            0.63359,     0.63481,     0.63531,     0.63621,     0.63693,     0.63902,      0.6394,     0.64255,      0.6443,     0.64567,      0.6466,     0.64854,     0.65072,     0.65182,     0.65307,     0.65399,      0.6545,     0.65676,      0.6581,     0.65859,     0.66048,     0.66134,     0.66271,\n",
       "            0.66425,     0.66615,     0.66701,     0.66795,     0.67065,     0.66945,     0.67073,     0.67283,     0.67424,     0.67567,     0.67726,     0.67853,     0.68068,     0.68213,     0.68292,      0.6841,     0.68562,     0.68659,     0.68729,     0.68903,     0.68816,     0.68786,     0.68821,\n",
       "            0.68868,     0.68959,      0.6909,     0.69368,     0.69509,     0.69653,     0.69724,     0.69689,     0.69567,     0.69633,     0.69771,     0.69985,      0.7015,     0.70194,     0.70468,     0.70513,     0.70583,     0.70793,      0.7106,     0.71094,     0.71127,     0.71257,     0.71372,\n",
       "            0.71406,      0.7144,     0.71611,     0.71644,     0.71676,     0.71727,     0.71822,     0.71892,     0.72037,     0.72109,      0.7221,     0.72293,     0.72507,     0.72722,     0.72915,     0.72961,     0.73111,      0.7318,     0.73213,     0.73253,     0.73358,     0.73443,     0.73367,\n",
       "            0.73605,     0.73621,     0.73638,     0.73654,     0.73671,     0.73705,        0.74,     0.73904,     0.74032,     0.74087,     0.74131,     0.74274,     0.74443,     0.74485,     0.74539,     0.74604,     0.74668,     0.74604,     0.74533,     0.74491,     0.74621,     0.74833,     0.74962,\n",
       "            0.75089,     0.75217,     0.75307,      0.7536,     0.75381,     0.75403,     0.75424,     0.75452,     0.75548,     0.75589,     0.75643,     0.75837,     0.75891,     0.75824,     0.75756,     0.75936,     0.75998,     0.76152,     0.76324,     0.76457,     0.76213,     0.76145,     0.76076,\n",
       "            0.76254,     0.76317,     0.76362,     0.76415,     0.76457,     0.76328,      0.7636,     0.76403,     0.76455,     0.76514,     0.76534,     0.76562,     0.76776,     0.76819,     0.76863,      0.7727,     0.77377,     0.77418,     0.77365,     0.77313,     0.77346,     0.77262,     0.77017,\n",
       "            0.76947,     0.77012,     0.76898,     0.76753,     0.76778,     0.76803,     0.76828,     0.76888,     0.76847,     0.76938,     0.76866,     0.76756,     0.76649,     0.76608,     0.76567,     0.76527,     0.76581,     0.76654,     0.76719,     0.76819,      0.7686,     0.76901,     0.76998,\n",
       "            0.77068,     0.77153,     0.77333,     0.77392,     0.77472,     0.77434,     0.77395,     0.77357,     0.77436,     0.77306,     0.77239,     0.77298,     0.77398,     0.77273,     0.77475,     0.77535,     0.77625,     0.77743,      0.7763,     0.77715,     0.77628,     0.77532,     0.77437,\n",
       "            0.77574,     0.77625,     0.77655,     0.77685,     0.77637,       0.776,     0.77494,     0.77514,     0.77535,     0.77555,     0.77575,     0.77488,     0.77339,     0.77383,     0.77412,      0.7744,     0.77574,     0.77605,     0.77635,     0.77666,     0.77704,     0.77743,     0.77775,\n",
       "            0.77744,     0.77713,     0.77682,     0.77651,      0.7762,     0.77551,     0.77591,      0.7763,     0.77666,     0.77695,     0.77724,     0.77753,     0.77648,     0.77617,     0.77648,     0.77679,     0.77717,     0.77771,     0.77856,      0.7798,     0.78034,     0.78054,     0.78074,\n",
       "            0.78094,     0.78114,     0.78139,     0.78175,     0.78212,     0.78205,     0.78106,     0.78103,     0.78158,     0.78182,     0.78191,     0.78199,     0.78208,     0.78216,     0.78224,     0.78233,     0.78241,     0.78249,     0.78258,     0.78266,     0.78274,     0.78283,     0.78393,\n",
       "             0.7835,     0.78307,     0.78263,     0.78241,     0.78347,     0.78385,     0.78422,     0.78323,     0.78352,     0.78289,     0.78226,     0.78086,     0.78142,     0.77833,     0.77657,     0.77773,     0.77803,     0.77833,     0.77869,     0.77925,     0.77982,     0.78038,     0.78175,\n",
       "            0.78138,       0.781,     0.78063,     0.78026,     0.78054,      0.7811,      0.7811,      0.7809,     0.78069,     0.78049,     0.78029,     0.78008,     0.77988,     0.77968,     0.77944,     0.77909,     0.77873,     0.77837,     0.77802,     0.77796,     0.77853,     0.77799,     0.77657,\n",
       "            0.77567,     0.77555,     0.77578,     0.77601,     0.77623,     0.77646,     0.77697,     0.77754,     0.77811,     0.77869,     0.77891,      0.7791,     0.77929,     0.77949,     0.77968,     0.78099,     0.78124,     0.78148,     0.78172,     0.78197,     0.78195,     0.78159,     0.78123,\n",
       "            0.78087,     0.78051,     0.77936,     0.77806,     0.77716,     0.77659,     0.77622,     0.77586,     0.77549,     0.77513,      0.7728,     0.77219,     0.77158,     0.77238,     0.77212,     0.77186,     0.77159,     0.77133,     0.77107,     0.77081,     0.77192,       0.771,     0.77115,\n",
       "            0.76938,     0.76845,     0.76587,     0.76616,     0.76645,     0.76674,     0.76705,     0.76744,     0.76783,     0.76753,     0.76666,      0.7673,     0.76698,     0.76667,     0.76636,     0.76605,     0.76574,     0.76511,     0.76417,     0.76271,     0.76224,     0.76282,     0.76186,\n",
       "            0.76095,     0.76057,     0.76019,     0.75981,     0.75943,      0.7591,     0.75878,     0.75846,     0.75815,     0.75783,     0.75751,     0.75855,     0.75899,     0.75932,     0.75961,     0.75991,     0.76006,     0.75814,     0.75639,       0.756,     0.75562,     0.75523,     0.75484,\n",
       "             0.7541,     0.75174,     0.75109,     0.75044,     0.74935,     0.74774,     0.74676,     0.74538,     0.74384,     0.74285,     0.74139,     0.74059,     0.74098,     0.74137,     0.74221,     0.74149,     0.74098,     0.74138,     0.74177,     0.74119,     0.74019,     0.73919,     0.73819,\n",
       "            0.73892,     0.73831,      0.7373,     0.73542,       0.734,     0.73081,      0.7298,     0.72894,     0.72826,     0.72758,     0.72874,     0.72932,     0.72833,     0.72427,     0.71814,     0.71785,     0.71844,     0.71709,     0.71578,     0.71473,     0.71544,     0.71522,      0.7147,\n",
       "            0.71417,     0.71364,     0.71467,      0.7153,     0.71588,     0.71505,     0.71421,     0.71404,     0.71444,     0.71483,     0.71547,      0.7144,     0.71377,     0.71334,     0.71292,     0.71249,     0.71206,     0.71143,     0.71054,     0.70992,     0.70931,     0.70807,     0.70638,\n",
       "             0.7053,     0.70369,     0.70152,     0.69934,     0.69501,     0.69281,      0.6906,     0.68473,     0.68362,     0.68065,     0.67619,     0.67393,     0.67165,      0.6698,     0.66904,     0.66828,     0.66571,     0.66617,     0.66663,     0.66455,     0.65998,     0.65688,      0.6561,\n",
       "            0.65297,     0.64942,     0.64718,     0.64623,     0.64527,     0.64339,     0.63866,     0.63833,     0.63889,     0.63723,     0.63481,     0.62752,     0.62023,     0.61869,     0.61886,     0.61903,     0.61921,     0.61938,     0.61955,     0.61968,     0.61474,     0.60977,     0.60453,\n",
       "            0.59446,      0.5936,     0.59274,     0.58563,     0.58105,     0.57909,     0.57644,     0.56858,     0.56355,     0.56175,     0.55918,     0.55708,     0.55208,     0.54392,      0.5403,     0.53523,     0.53241,     0.53144,     0.53012,     0.51895,      0.5175,     0.50742,     0.50546,\n",
       "            0.50093,     0.49944,     0.49468,     0.47803,      0.4765,     0.47181,     0.46975,     0.46205,     0.46048,     0.44298,     0.42206,     0.42041,     0.41527,     0.40981,     0.40814,     0.40642,     0.40419,     0.39898,     0.39729,     0.38855,     0.38718,     0.38545,     0.38359,\n",
       "            0.38128,     0.36917,      0.3674,     0.35822,     0.35233,     0.34993,     0.34806,     0.34626,     0.33748,     0.31757,     0.30767,     0.30658,     0.30549,      0.3044,     0.29867,     0.28481,     0.28285,       0.281,     0.27969,     0.27838,     0.27302,     0.27104,     0.26884,\n",
       "            0.26617,      0.2635,     0.24953,     0.24679,     0.24469,     0.24263,     0.23585,     0.23308,     0.22621,     0.22341,       0.221,     0.21889,     0.21306,     0.21164,     0.21022,      0.2036,     0.20072,     0.19784,     0.18642,     0.18392,     0.18097,     0.17864,     0.17642,\n",
       "            0.16478,     0.16242,     0.16091,      0.1594,     0.15268,     0.14963,     0.14657,     0.13988,     0.13834,     0.13679,     0.13423,     0.13112,       0.128,     0.12487,     0.11711,     0.11394,     0.11203,     0.11044,     0.10885,     0.10585,    0.097937,    0.094704,    0.088236,\n",
       "           0.086604,    0.084939,    0.081662,    0.079516,    0.078281,    0.077045,    0.075807,    0.073217,    0.070214,    0.068552,    0.066886,    0.060519,    0.059603,    0.058687,     0.05777,    0.056851,    0.055932,    0.055012,    0.054092,     0.05317,    0.052247,    0.051324,    0.050745,\n",
       "            0.05047,    0.050195,     0.04992,    0.049645,    0.049369,    0.049094,    0.048819,    0.048543,    0.048268,    0.047992,    0.047717,    0.047441,    0.047165,    0.046889,    0.046613,    0.046337,    0.046061,    0.044272,    0.040913,    0.040533,    0.040152,    0.039771,     0.03939,\n",
       "           0.039009,    0.038628,    0.038247,    0.037865,    0.037483,    0.037102,     0.03672,    0.036337,    0.035955,    0.034644,    0.033166,    0.031686,    0.030634,    0.030139,    0.029645,     0.02915,    0.028654,    0.028159,    0.027663,    0.027168,    0.026671,    0.026175,    0.025375,\n",
       "           0.023286,    0.021192,    0.020497,    0.020264,     0.02003,    0.019797,    0.019564,    0.019331,    0.019097,    0.018864,    0.018631,    0.018397,    0.018163,     0.01793,    0.017696,    0.017462,    0.017229,    0.016995,    0.016761,    0.016527,    0.016293,    0.016059,    0.015825,\n",
       "           0.015591,    0.015422,    0.015269,    0.015116,    0.014963,     0.01481,    0.014658,    0.014505,    0.014352,    0.014199,    0.014046,    0.013893,     0.01374,    0.013587,    0.013434,    0.013281,    0.013128,    0.012974,    0.012821,    0.012668,    0.012515,    0.012362,    0.012208,\n",
       "           0.012055,    0.011902,    0.011749,    0.011595,    0.011442,    0.011288,    0.011135,    0.010982,    0.010828,    0.010675,    0.010521,    0.010344,    0.010022,   0.0097012,   0.0093799,   0.0090585,    0.008737,   0.0084153,   0.0080936,   0.0077718,   0.0074498,   0.0071278,   0.0068057,\n",
       "          0.0064834,    0.006161,   0.0058386,    0.005516,           0,           0,           0,           0,           0,           0,           0,           0,           0,           0,           0,           0,           0,           0,           0,           0,           0,           0,           0,\n",
       "                  0,           0,           0,           0,           0,           0,           0,           0,           0,           0,           0,           0,           0,           0,           0,           0,           0,           0,           0,           0,           0,           0,           0,\n",
       "                  0,           0,           0,           0,           0,           0,           0,           0,           0,           0,           0,           0,           0,           0,           0,           0,           0,           0,           0,           0,           0,           0,           0,\n",
       "                  0,           0,           0,           0,           0,           0,           0,           0,           0,           0,           0,           0,           0,           0,           0,           0,           0,           0,           0,           0,           0,           0,           0,\n",
       "                  0,           0,           0,           0,           0,           0,           0,           0,           0,           0,           0]]), 'Confidence', 'F1'], [array([          0,    0.001001,    0.002002,    0.003003,    0.004004,    0.005005,    0.006006,    0.007007,    0.008008,    0.009009,     0.01001,    0.011011,    0.012012,    0.013013,    0.014014,    0.015015,    0.016016,    0.017017,    0.018018,    0.019019,     0.02002,    0.021021,    0.022022,    0.023023,\n",
       "          0.024024,    0.025025,    0.026026,    0.027027,    0.028028,    0.029029,     0.03003,    0.031031,    0.032032,    0.033033,    0.034034,    0.035035,    0.036036,    0.037037,    0.038038,    0.039039,     0.04004,    0.041041,    0.042042,    0.043043,    0.044044,    0.045045,    0.046046,    0.047047,\n",
       "          0.048048,    0.049049,     0.05005,    0.051051,    0.052052,    0.053053,    0.054054,    0.055055,    0.056056,    0.057057,    0.058058,    0.059059,     0.06006,    0.061061,    0.062062,    0.063063,    0.064064,    0.065065,    0.066066,    0.067067,    0.068068,    0.069069,     0.07007,    0.071071,\n",
       "          0.072072,    0.073073,    0.074074,    0.075075,    0.076076,    0.077077,    0.078078,    0.079079,     0.08008,    0.081081,    0.082082,    0.083083,    0.084084,    0.085085,    0.086086,    0.087087,    0.088088,    0.089089,     0.09009,    0.091091,    0.092092,    0.093093,    0.094094,    0.095095,\n",
       "          0.096096,    0.097097,    0.098098,    0.099099,      0.1001,      0.1011,      0.1021,      0.1031,      0.1041,     0.10511,     0.10611,     0.10711,     0.10811,     0.10911,     0.11011,     0.11111,     0.11211,     0.11311,     0.11411,     0.11512,     0.11612,     0.11712,     0.11812,     0.11912,\n",
       "           0.12012,     0.12112,     0.12212,     0.12312,     0.12412,     0.12513,     0.12613,     0.12713,     0.12813,     0.12913,     0.13013,     0.13113,     0.13213,     0.13313,     0.13413,     0.13514,     0.13614,     0.13714,     0.13814,     0.13914,     0.14014,     0.14114,     0.14214,     0.14314,\n",
       "           0.14414,     0.14515,     0.14615,     0.14715,     0.14815,     0.14915,     0.15015,     0.15115,     0.15215,     0.15315,     0.15415,     0.15516,     0.15616,     0.15716,     0.15816,     0.15916,     0.16016,     0.16116,     0.16216,     0.16316,     0.16416,     0.16517,     0.16617,     0.16717,\n",
       "           0.16817,     0.16917,     0.17017,     0.17117,     0.17217,     0.17317,     0.17417,     0.17518,     0.17618,     0.17718,     0.17818,     0.17918,     0.18018,     0.18118,     0.18218,     0.18318,     0.18418,     0.18519,     0.18619,     0.18719,     0.18819,     0.18919,     0.19019,     0.19119,\n",
       "           0.19219,     0.19319,     0.19419,      0.1952,      0.1962,      0.1972,      0.1982,      0.1992,      0.2002,      0.2012,      0.2022,      0.2032,      0.2042,     0.20521,     0.20621,     0.20721,     0.20821,     0.20921,     0.21021,     0.21121,     0.21221,     0.21321,     0.21421,     0.21522,\n",
       "           0.21622,     0.21722,     0.21822,     0.21922,     0.22022,     0.22122,     0.22222,     0.22322,     0.22422,     0.22523,     0.22623,     0.22723,     0.22823,     0.22923,     0.23023,     0.23123,     0.23223,     0.23323,     0.23423,     0.23524,     0.23624,     0.23724,     0.23824,     0.23924,\n",
       "           0.24024,     0.24124,     0.24224,     0.24324,     0.24424,     0.24525,     0.24625,     0.24725,     0.24825,     0.24925,     0.25025,     0.25125,     0.25225,     0.25325,     0.25425,     0.25526,     0.25626,     0.25726,     0.25826,     0.25926,     0.26026,     0.26126,     0.26226,     0.26326,\n",
       "           0.26426,     0.26527,     0.26627,     0.26727,     0.26827,     0.26927,     0.27027,     0.27127,     0.27227,     0.27327,     0.27427,     0.27528,     0.27628,     0.27728,     0.27828,     0.27928,     0.28028,     0.28128,     0.28228,     0.28328,     0.28428,     0.28529,     0.28629,     0.28729,\n",
       "           0.28829,     0.28929,     0.29029,     0.29129,     0.29229,     0.29329,     0.29429,      0.2953,      0.2963,      0.2973,      0.2983,      0.2993,      0.3003,      0.3013,      0.3023,      0.3033,      0.3043,     0.30531,     0.30631,     0.30731,     0.30831,     0.30931,     0.31031,     0.31131,\n",
       "           0.31231,     0.31331,     0.31431,     0.31532,     0.31632,     0.31732,     0.31832,     0.31932,     0.32032,     0.32132,     0.32232,     0.32332,     0.32432,     0.32533,     0.32633,     0.32733,     0.32833,     0.32933,     0.33033,     0.33133,     0.33233,     0.33333,     0.33433,     0.33534,\n",
       "           0.33634,     0.33734,     0.33834,     0.33934,     0.34034,     0.34134,     0.34234,     0.34334,     0.34434,     0.34535,     0.34635,     0.34735,     0.34835,     0.34935,     0.35035,     0.35135,     0.35235,     0.35335,     0.35435,     0.35536,     0.35636,     0.35736,     0.35836,     0.35936,\n",
       "           0.36036,     0.36136,     0.36236,     0.36336,     0.36436,     0.36537,     0.36637,     0.36737,     0.36837,     0.36937,     0.37037,     0.37137,     0.37237,     0.37337,     0.37437,     0.37538,     0.37638,     0.37738,     0.37838,     0.37938,     0.38038,     0.38138,     0.38238,     0.38338,\n",
       "           0.38438,     0.38539,     0.38639,     0.38739,     0.38839,     0.38939,     0.39039,     0.39139,     0.39239,     0.39339,     0.39439,      0.3954,      0.3964,      0.3974,      0.3984,      0.3994,      0.4004,      0.4014,      0.4024,      0.4034,      0.4044,     0.40541,     0.40641,     0.40741,\n",
       "           0.40841,     0.40941,     0.41041,     0.41141,     0.41241,     0.41341,     0.41441,     0.41542,     0.41642,     0.41742,     0.41842,     0.41942,     0.42042,     0.42142,     0.42242,     0.42342,     0.42442,     0.42543,     0.42643,     0.42743,     0.42843,     0.42943,     0.43043,     0.43143,\n",
       "           0.43243,     0.43343,     0.43443,     0.43544,     0.43644,     0.43744,     0.43844,     0.43944,     0.44044,     0.44144,     0.44244,     0.44344,     0.44444,     0.44545,     0.44645,     0.44745,     0.44845,     0.44945,     0.45045,     0.45145,     0.45245,     0.45345,     0.45445,     0.45546,\n",
       "           0.45646,     0.45746,     0.45846,     0.45946,     0.46046,     0.46146,     0.46246,     0.46346,     0.46446,     0.46547,     0.46647,     0.46747,     0.46847,     0.46947,     0.47047,     0.47147,     0.47247,     0.47347,     0.47447,     0.47548,     0.47648,     0.47748,     0.47848,     0.47948,\n",
       "           0.48048,     0.48148,     0.48248,     0.48348,     0.48448,     0.48549,     0.48649,     0.48749,     0.48849,     0.48949,     0.49049,     0.49149,     0.49249,     0.49349,     0.49449,      0.4955,      0.4965,      0.4975,      0.4985,      0.4995,      0.5005,      0.5015,      0.5025,      0.5035,\n",
       "            0.5045,     0.50551,     0.50651,     0.50751,     0.50851,     0.50951,     0.51051,     0.51151,     0.51251,     0.51351,     0.51451,     0.51552,     0.51652,     0.51752,     0.51852,     0.51952,     0.52052,     0.52152,     0.52252,     0.52352,     0.52452,     0.52553,     0.52653,     0.52753,\n",
       "           0.52853,     0.52953,     0.53053,     0.53153,     0.53253,     0.53353,     0.53453,     0.53554,     0.53654,     0.53754,     0.53854,     0.53954,     0.54054,     0.54154,     0.54254,     0.54354,     0.54454,     0.54555,     0.54655,     0.54755,     0.54855,     0.54955,     0.55055,     0.55155,\n",
       "           0.55255,     0.55355,     0.55455,     0.55556,     0.55656,     0.55756,     0.55856,     0.55956,     0.56056,     0.56156,     0.56256,     0.56356,     0.56456,     0.56557,     0.56657,     0.56757,     0.56857,     0.56957,     0.57057,     0.57157,     0.57257,     0.57357,     0.57457,     0.57558,\n",
       "           0.57658,     0.57758,     0.57858,     0.57958,     0.58058,     0.58158,     0.58258,     0.58358,     0.58458,     0.58559,     0.58659,     0.58759,     0.58859,     0.58959,     0.59059,     0.59159,     0.59259,     0.59359,     0.59459,      0.5956,      0.5966,      0.5976,      0.5986,      0.5996,\n",
       "            0.6006,      0.6016,      0.6026,      0.6036,      0.6046,     0.60561,     0.60661,     0.60761,     0.60861,     0.60961,     0.61061,     0.61161,     0.61261,     0.61361,     0.61461,     0.61562,     0.61662,     0.61762,     0.61862,     0.61962,     0.62062,     0.62162,     0.62262,     0.62362,\n",
       "           0.62462,     0.62563,     0.62663,     0.62763,     0.62863,     0.62963,     0.63063,     0.63163,     0.63263,     0.63363,     0.63463,     0.63564,     0.63664,     0.63764,     0.63864,     0.63964,     0.64064,     0.64164,     0.64264,     0.64364,     0.64464,     0.64565,     0.64665,     0.64765,\n",
       "           0.64865,     0.64965,     0.65065,     0.65165,     0.65265,     0.65365,     0.65465,     0.65566,     0.65666,     0.65766,     0.65866,     0.65966,     0.66066,     0.66166,     0.66266,     0.66366,     0.66466,     0.66567,     0.66667,     0.66767,     0.66867,     0.66967,     0.67067,     0.67167,\n",
       "           0.67267,     0.67367,     0.67467,     0.67568,     0.67668,     0.67768,     0.67868,     0.67968,     0.68068,     0.68168,     0.68268,     0.68368,     0.68468,     0.68569,     0.68669,     0.68769,     0.68869,     0.68969,     0.69069,     0.69169,     0.69269,     0.69369,     0.69469,      0.6957,\n",
       "            0.6967,      0.6977,      0.6987,      0.6997,      0.7007,      0.7017,      0.7027,      0.7037,      0.7047,     0.70571,     0.70671,     0.70771,     0.70871,     0.70971,     0.71071,     0.71171,     0.71271,     0.71371,     0.71471,     0.71572,     0.71672,     0.71772,     0.71872,     0.71972,\n",
       "           0.72072,     0.72172,     0.72272,     0.72372,     0.72472,     0.72573,     0.72673,     0.72773,     0.72873,     0.72973,     0.73073,     0.73173,     0.73273,     0.73373,     0.73473,     0.73574,     0.73674,     0.73774,     0.73874,     0.73974,     0.74074,     0.74174,     0.74274,     0.74374,\n",
       "           0.74474,     0.74575,     0.74675,     0.74775,     0.74875,     0.74975,     0.75075,     0.75175,     0.75275,     0.75375,     0.75475,     0.75576,     0.75676,     0.75776,     0.75876,     0.75976,     0.76076,     0.76176,     0.76276,     0.76376,     0.76476,     0.76577,     0.76677,     0.76777,\n",
       "           0.76877,     0.76977,     0.77077,     0.77177,     0.77277,     0.77377,     0.77477,     0.77578,     0.77678,     0.77778,     0.77878,     0.77978,     0.78078,     0.78178,     0.78278,     0.78378,     0.78478,     0.78579,     0.78679,     0.78779,     0.78879,     0.78979,     0.79079,     0.79179,\n",
       "           0.79279,     0.79379,     0.79479,      0.7958,      0.7968,      0.7978,      0.7988,      0.7998,      0.8008,      0.8018,      0.8028,      0.8038,      0.8048,     0.80581,     0.80681,     0.80781,     0.80881,     0.80981,     0.81081,     0.81181,     0.81281,     0.81381,     0.81481,     0.81582,\n",
       "           0.81682,     0.81782,     0.81882,     0.81982,     0.82082,     0.82182,     0.82282,     0.82382,     0.82482,     0.82583,     0.82683,     0.82783,     0.82883,     0.82983,     0.83083,     0.83183,     0.83283,     0.83383,     0.83483,     0.83584,     0.83684,     0.83784,     0.83884,     0.83984,\n",
       "           0.84084,     0.84184,     0.84284,     0.84384,     0.84484,     0.84585,     0.84685,     0.84785,     0.84885,     0.84985,     0.85085,     0.85185,     0.85285,     0.85385,     0.85485,     0.85586,     0.85686,     0.85786,     0.85886,     0.85986,     0.86086,     0.86186,     0.86286,     0.86386,\n",
       "           0.86486,     0.86587,     0.86687,     0.86787,     0.86887,     0.86987,     0.87087,     0.87187,     0.87287,     0.87387,     0.87487,     0.87588,     0.87688,     0.87788,     0.87888,     0.87988,     0.88088,     0.88188,     0.88288,     0.88388,     0.88488,     0.88589,     0.88689,     0.88789,\n",
       "           0.88889,     0.88989,     0.89089,     0.89189,     0.89289,     0.89389,     0.89489,      0.8959,      0.8969,      0.8979,      0.8989,      0.8999,      0.9009,      0.9019,      0.9029,      0.9039,      0.9049,     0.90591,     0.90691,     0.90791,     0.90891,     0.90991,     0.91091,     0.91191,\n",
       "           0.91291,     0.91391,     0.91491,     0.91592,     0.91692,     0.91792,     0.91892,     0.91992,     0.92092,     0.92192,     0.92292,     0.92392,     0.92492,     0.92593,     0.92693,     0.92793,     0.92893,     0.92993,     0.93093,     0.93193,     0.93293,     0.93393,     0.93493,     0.93594,\n",
       "           0.93694,     0.93794,     0.93894,     0.93994,     0.94094,     0.94194,     0.94294,     0.94394,     0.94494,     0.94595,     0.94695,     0.94795,     0.94895,     0.94995,     0.95095,     0.95195,     0.95295,     0.95395,     0.95495,     0.95596,     0.95696,     0.95796,     0.95896,     0.95996,\n",
       "           0.96096,     0.96196,     0.96296,     0.96396,     0.96496,     0.96597,     0.96697,     0.96797,     0.96897,     0.96997,     0.97097,     0.97197,     0.97297,     0.97397,     0.97497,     0.97598,     0.97698,     0.97798,     0.97898,     0.97998,     0.98098,     0.98198,     0.98298,     0.98398,\n",
       "           0.98498,     0.98599,     0.98699,     0.98799,     0.98899,     0.98999,     0.99099,     0.99199,     0.99299,     0.99399,     0.99499,       0.996,       0.997,       0.998,       0.999,           1]), array([[   0.094092,    0.094092,     0.12088,     0.13972,     0.15469,     0.16819,     0.17872,     0.18809,     0.19521,      0.2043,      0.2119,     0.21722,     0.22302,     0.22912,     0.23507,        0.24,     0.24572,     0.25087,     0.25715,     0.26195,     0.26691,     0.26992,     0.27361,\n",
       "            0.27741,     0.28208,      0.2845,     0.28686,     0.29086,     0.29409,     0.29721,      0.3006,     0.30387,     0.30704,     0.31115,     0.31545,     0.31816,     0.32313,     0.32692,     0.33076,     0.33266,     0.33517,     0.33689,     0.34023,     0.34523,      0.3492,     0.35068,\n",
       "            0.35265,     0.35705,     0.36018,     0.36153,     0.36551,     0.36731,     0.36955,     0.37078,     0.37137,       0.373,      0.3753,     0.37695,      0.3815,     0.38484,       0.386,     0.39082,      0.3936,     0.39611,     0.39901,     0.40048,     0.40059,     0.40332,     0.40557,\n",
       "            0.40751,     0.40827,     0.41043,     0.41198,     0.41361,     0.41502,     0.41574,     0.41833,     0.42004,     0.42247,     0.42444,     0.42568,     0.42779,     0.42874,     0.43202,     0.43361,      0.4349,     0.43647,     0.43917,     0.44253,      0.4444,     0.44653,     0.44958,\n",
       "            0.45213,     0.45475,       0.457,     0.45829,     0.45905,     0.46129,     0.46511,     0.46735,     0.46916,     0.47057,     0.47166,     0.47206,     0.47397,     0.47644,     0.47861,      0.4805,     0.48374,     0.49174,     0.49256,      0.4963,     0.49683,     0.49764,     0.50026,\n",
       "            0.50188,     0.50342,     0.50405,     0.50518,     0.50609,     0.50874,     0.50921,     0.51323,     0.51546,     0.51722,     0.51841,     0.52091,     0.52373,     0.52516,     0.52679,     0.52797,     0.52865,     0.53159,     0.53335,       0.534,     0.53649,     0.53763,     0.53944,\n",
       "            0.54148,     0.54401,     0.54516,     0.54641,     0.55004,     0.54945,     0.55122,     0.55406,     0.55599,     0.55793,      0.5601,     0.56184,     0.56479,      0.5668,     0.56788,     0.56952,     0.57164,     0.57299,     0.57396,     0.57643,     0.57595,     0.57593,     0.57642,\n",
       "            0.57709,     0.57836,     0.58021,     0.58414,     0.58614,     0.58819,     0.59046,     0.59102,     0.59073,     0.59168,     0.59368,     0.59678,     0.59918,     0.59983,     0.60384,     0.60451,     0.60554,     0.60863,     0.61259,     0.61309,     0.61359,     0.61551,     0.61724,\n",
       "            0.61775,     0.61826,     0.62082,     0.62131,      0.6218,       0.624,     0.62544,     0.62648,      0.6287,     0.62979,     0.63133,      0.6326,     0.63589,     0.63921,      0.6422,      0.6429,     0.64524,     0.64632,     0.64683,     0.64746,      0.6491,     0.65043,     0.65059,\n",
       "            0.65455,     0.65481,     0.65507,     0.65533,     0.65559,     0.65613,     0.66082,     0.66091,     0.66296,     0.66384,     0.66455,     0.66852,     0.67126,     0.67194,     0.67281,     0.67387,     0.67493,     0.67577,     0.67544,     0.67546,     0.67759,      0.6811,     0.68324,\n",
       "            0.68536,     0.68749,     0.68899,     0.68988,     0.69024,      0.6906,     0.69096,     0.69142,     0.69303,     0.69372,     0.69464,     0.69791,     0.69888,     0.69858,     0.69828,     0.70146,     0.70253,     0.70516,     0.70811,     0.71308,     0.71202,     0.71172,     0.71142,\n",
       "             0.7147,     0.71582,     0.71863,     0.71956,     0.72032,     0.71994,     0.72064,      0.7214,     0.72233,     0.72338,     0.72466,     0.72845,     0.73233,     0.73312,     0.73391,     0.74138,     0.74334,     0.74447,     0.74426,     0.74405,     0.74501,     0.74526,     0.74428,\n",
       "              0.744,     0.74713,     0.74804,     0.74763,     0.74811,     0.74858,     0.74906,     0.75021,     0.75087,     0.75421,     0.75393,      0.7535,     0.75308,     0.75292,     0.75276,      0.7526,     0.75394,     0.75534,     0.75662,     0.75857,     0.75936,     0.76015,     0.76207,\n",
       "            0.76343,      0.7651,     0.76865,     0.76981,      0.7719,     0.77176,     0.77162,     0.77148,     0.77326,     0.77327,     0.77455,     0.77574,     0.77777,      0.7779,     0.78201,     0.78323,     0.78507,     0.78748,     0.78769,     0.78967,     0.78944,      0.7891,     0.78877,\n",
       "            0.79236,     0.79343,     0.79407,      0.7947,     0.79485,     0.79578,     0.79644,     0.79687,      0.7973,     0.79773,     0.79816,     0.79802,     0.79902,     0.79997,     0.80058,     0.80119,     0.80406,     0.80472,     0.80538,     0.80604,     0.80685,     0.80769,     0.80844,\n",
       "            0.80834,     0.80824,     0.80814,     0.80804,     0.80794,     0.80967,     0.81053,     0.81139,     0.81217,     0.81281,     0.81344,     0.81407,     0.81392,     0.81423,     0.81491,      0.8156,     0.81643,     0.81763,      0.8195,     0.82226,     0.82346,     0.82391,     0.82436,\n",
       "             0.8248,     0.82525,     0.82579,     0.82661,     0.82743,     0.82789,      0.8276,     0.82826,      0.8295,     0.83004,     0.83023,     0.83042,      0.8306,     0.83079,     0.83098,     0.83117,     0.83136,     0.83155,     0.83174,     0.83193,     0.83212,      0.8323,     0.83481,\n",
       "            0.83468,     0.83456,     0.83443,     0.83468,     0.83711,     0.83797,     0.83882,     0.83996,     0.84123,     0.84106,     0.84088,     0.84139,     0.84269,     0.84201,     0.84152,     0.84467,     0.84537,     0.84608,     0.84693,     0.84827,      0.8496,     0.85095,     0.85446,\n",
       "            0.85436,     0.85426,     0.85416,     0.85407,     0.85498,     0.85635,     0.85666,     0.85661,     0.85655,      0.8565,     0.85645,      0.8564,     0.85634,     0.85629,     0.85623,     0.85614,     0.85605,     0.85595,     0.85586,     0.85625,     0.85763,     0.85826,      0.8579,\n",
       "            0.85767,     0.85798,     0.85854,      0.8591,     0.85966,     0.86021,     0.86146,     0.86287,     0.86428,     0.86569,     0.86625,     0.86672,      0.8672,     0.86767,     0.86814,     0.87142,     0.87203,     0.87263,     0.87324,     0.87385,     0.87416,     0.87407,     0.87399,\n",
       "            0.87391,     0.87382,     0.87356,     0.87326,     0.87304,     0.87291,     0.87283,     0.87274,     0.87266,     0.87257,     0.87202,     0.87188,     0.87174,     0.87454,     0.87448,     0.87442,     0.87436,     0.87429,     0.87423,     0.87417,     0.87707,     0.87686,     0.87957,\n",
       "            0.87918,     0.87897,     0.87848,     0.87924,     0.88001,     0.88077,     0.88159,     0.88262,     0.88364,     0.88423,     0.88498,     0.88696,      0.8869,     0.88683,     0.88676,      0.8867,     0.88663,      0.8865,      0.8863,     0.88599,     0.88672,     0.88829,     0.88864,\n",
       "            0.88845,     0.88837,     0.88829,     0.88821,     0.88813,     0.88806,     0.88799,     0.88793,     0.88786,     0.88779,     0.88772,     0.89065,     0.89668,     0.89759,     0.89841,     0.89923,     0.89998,     0.89961,     0.89927,      0.8992,     0.89912,     0.89905,     0.89897,\n",
       "            0.89883,     0.90143,      0.9013,     0.90118,     0.90098,     0.90067,     0.90048,     0.90022,     0.89992,     0.89973,     0.89945,     0.89983,     0.90098,     0.90213,     0.90462,      0.9058,     0.90639,     0.90756,     0.90873,     0.90897,     0.90879,     0.90861,     0.90843,\n",
       "            0.91123,     0.91174,     0.91156,     0.91123,     0.91099,     0.91043,     0.91025,      0.9101,     0.90998,     0.90986,      0.9144,     0.91625,     0.91679,     0.91612,     0.91509,     0.91626,     0.91817,     0.91845,     0.91824,     0.91807,     0.92111,     0.92174,     0.92166,\n",
       "            0.92158,     0.92149,     0.92508,     0.92717,     0.92915,     0.92905,     0.92892,      0.9296,     0.93094,     0.93227,     0.93662,     0.93649,      0.9364,     0.93635,     0.93629,     0.93624,     0.93618,     0.93996,     0.93985,     0.93978,      0.9397,     0.93955,     0.93934,\n",
       "             0.9392,       0.939,     0.93873,     0.93845,      0.9379,     0.93761,     0.93733,     0.93656,     0.93641,     0.93602,     0.93542,     0.93511,      0.9348,     0.93455,     0.93444,     0.93434,     0.93461,     0.93642,     0.93824,     0.93811,     0.93751,      0.9371,     0.93699,\n",
       "            0.93657,     0.94057,     0.94029,     0.94017,     0.94004,      0.9398,     0.93918,      0.9408,     0.94326,     0.94366,     0.94336,     0.94728,     0.94643,     0.94652,     0.94733,     0.94814,     0.94894,     0.94975,     0.95056,     0.95135,     0.95081,     0.95026,     0.94967,\n",
       "            0.94851,     0.94841,     0.94831,     0.94746,     0.94691,     0.94667,     0.94634,     0.94536,     0.94471,     0.94448,     0.94415,     0.94904,     0.94907,     0.94807,     0.95375,     0.95318,     0.95286,     0.95504,      0.9655,     0.96453,      0.9644,     0.96348,     0.96329,\n",
       "            0.96287,     0.96273,     0.96227,     0.96059,     0.96043,     0.95993,     0.95971,     0.95887,      0.9587,     0.95667,     0.95403,     0.95382,     0.95313,     0.95238,     0.95214,      0.9519,     0.95158,     0.95083,     0.95058,     0.94927,     0.95872,      0.9585,     0.95826,\n",
       "            0.95796,     0.95633,     0.95609,     0.95477,     0.95389,     0.95353,     0.95324,     0.95296,     0.96312,     0.97322,     0.97222,     0.97211,     0.97199,     0.97188,     0.97126,     0.96966,     0.96942,      0.9692,     0.96904,     0.96887,     0.96819,     0.96792,     0.96763,\n",
       "            0.96727,      0.9669,     0.98206,     0.98184,     0.98166,     0.98149,     0.98089,     0.98064,     0.97999,     0.97971,     0.97947,     0.97925,     0.97862,     0.97847,     0.97831,     0.97754,     0.97719,     0.97683,     0.97529,           1,           1,           1,           1,\n",
       "                  1,           1,           1,           1,           1,           1,           1,           1,           1,           1,           1,           1,           1,           1,           1,           1,           1,           1,           1,           1,           1,           1,           1,\n",
       "                  1,           1,           1,           1,           1,           1,           1,           1,           1,           1,           1,           1,           1,           1,           1,           1,           1,           1,           1,           1,           1,           1,           1,\n",
       "                  1,           1,           1,           1,           1,           1,           1,           1,           1,           1,           1,           1,           1,           1,           1,           1,           1,           1,           1,           1,           1,           1,           1,\n",
       "                  1,           1,           1,           1,           1,           1,           1,           1,           1,           1,           1,           1,           1,           1,           1,           1,           1,           1,           1,           1,           1,           1,           1,\n",
       "                  1,           1,           1,           1,           1,           1,           1,           1,           1,           1,           1,           1,           1,           1,           1,           1,           1,           1,           1,           1,           1,           1,           1,\n",
       "                  1,           1,           1,           1,           1,           1,           1,           1,           1,           1,           1,           1,           1,           1,           1,           1,           1,           1,           1,           1,           1,           1,           1,\n",
       "                  1,           1,           1,           1,           1,           1,           1,           1,           1,           1,           1,           1,           1,           1,           1,           1,           1,           1,           1,           1,           1,           1,           1,\n",
       "                  1,           1,           1,           1,           1,           1,           1,           1,           1,           1,           1,           1,           1,           1,           1,           1,           1,           1,           1,           1,           1,           1,           1,\n",
       "                  1,           1,           1,           1,           1,           1,           1,           1,           1,           1,           1,           1,           1,           1,           1,           1,           1,           1,           1,           1,           1,           1,           1,\n",
       "                  1,           1,           1,           1,           1,           1,           1,           1,           1,           1,           1,           1,           1,           1,           1,           1,           1,           1,           1,           1,           1,           1,           1,\n",
       "                  1,           1,           1,           1,           1,           1,           1,           1,           1,           1,           1,           1,           1,           1,           1,           1,           1,           1,           1,           1,           1,           1,           1,\n",
       "                  1,           1,           1,           1,           1,           1,           1,           1,           1,           1,           1]]), 'Confidence', 'Precision'], [array([          0,    0.001001,    0.002002,    0.003003,    0.004004,    0.005005,    0.006006,    0.007007,    0.008008,    0.009009,     0.01001,    0.011011,    0.012012,    0.013013,    0.014014,    0.015015,    0.016016,    0.017017,    0.018018,    0.019019,     0.02002,    0.021021,    0.022022,    0.023023,\n",
       "          0.024024,    0.025025,    0.026026,    0.027027,    0.028028,    0.029029,     0.03003,    0.031031,    0.032032,    0.033033,    0.034034,    0.035035,    0.036036,    0.037037,    0.038038,    0.039039,     0.04004,    0.041041,    0.042042,    0.043043,    0.044044,    0.045045,    0.046046,    0.047047,\n",
       "          0.048048,    0.049049,     0.05005,    0.051051,    0.052052,    0.053053,    0.054054,    0.055055,    0.056056,    0.057057,    0.058058,    0.059059,     0.06006,    0.061061,    0.062062,    0.063063,    0.064064,    0.065065,    0.066066,    0.067067,    0.068068,    0.069069,     0.07007,    0.071071,\n",
       "          0.072072,    0.073073,    0.074074,    0.075075,    0.076076,    0.077077,    0.078078,    0.079079,     0.08008,    0.081081,    0.082082,    0.083083,    0.084084,    0.085085,    0.086086,    0.087087,    0.088088,    0.089089,     0.09009,    0.091091,    0.092092,    0.093093,    0.094094,    0.095095,\n",
       "          0.096096,    0.097097,    0.098098,    0.099099,      0.1001,      0.1011,      0.1021,      0.1031,      0.1041,     0.10511,     0.10611,     0.10711,     0.10811,     0.10911,     0.11011,     0.11111,     0.11211,     0.11311,     0.11411,     0.11512,     0.11612,     0.11712,     0.11812,     0.11912,\n",
       "           0.12012,     0.12112,     0.12212,     0.12312,     0.12412,     0.12513,     0.12613,     0.12713,     0.12813,     0.12913,     0.13013,     0.13113,     0.13213,     0.13313,     0.13413,     0.13514,     0.13614,     0.13714,     0.13814,     0.13914,     0.14014,     0.14114,     0.14214,     0.14314,\n",
       "           0.14414,     0.14515,     0.14615,     0.14715,     0.14815,     0.14915,     0.15015,     0.15115,     0.15215,     0.15315,     0.15415,     0.15516,     0.15616,     0.15716,     0.15816,     0.15916,     0.16016,     0.16116,     0.16216,     0.16316,     0.16416,     0.16517,     0.16617,     0.16717,\n",
       "           0.16817,     0.16917,     0.17017,     0.17117,     0.17217,     0.17317,     0.17417,     0.17518,     0.17618,     0.17718,     0.17818,     0.17918,     0.18018,     0.18118,     0.18218,     0.18318,     0.18418,     0.18519,     0.18619,     0.18719,     0.18819,     0.18919,     0.19019,     0.19119,\n",
       "           0.19219,     0.19319,     0.19419,      0.1952,      0.1962,      0.1972,      0.1982,      0.1992,      0.2002,      0.2012,      0.2022,      0.2032,      0.2042,     0.20521,     0.20621,     0.20721,     0.20821,     0.20921,     0.21021,     0.21121,     0.21221,     0.21321,     0.21421,     0.21522,\n",
       "           0.21622,     0.21722,     0.21822,     0.21922,     0.22022,     0.22122,     0.22222,     0.22322,     0.22422,     0.22523,     0.22623,     0.22723,     0.22823,     0.22923,     0.23023,     0.23123,     0.23223,     0.23323,     0.23423,     0.23524,     0.23624,     0.23724,     0.23824,     0.23924,\n",
       "           0.24024,     0.24124,     0.24224,     0.24324,     0.24424,     0.24525,     0.24625,     0.24725,     0.24825,     0.24925,     0.25025,     0.25125,     0.25225,     0.25325,     0.25425,     0.25526,     0.25626,     0.25726,     0.25826,     0.25926,     0.26026,     0.26126,     0.26226,     0.26326,\n",
       "           0.26426,     0.26527,     0.26627,     0.26727,     0.26827,     0.26927,     0.27027,     0.27127,     0.27227,     0.27327,     0.27427,     0.27528,     0.27628,     0.27728,     0.27828,     0.27928,     0.28028,     0.28128,     0.28228,     0.28328,     0.28428,     0.28529,     0.28629,     0.28729,\n",
       "           0.28829,     0.28929,     0.29029,     0.29129,     0.29229,     0.29329,     0.29429,      0.2953,      0.2963,      0.2973,      0.2983,      0.2993,      0.3003,      0.3013,      0.3023,      0.3033,      0.3043,     0.30531,     0.30631,     0.30731,     0.30831,     0.30931,     0.31031,     0.31131,\n",
       "           0.31231,     0.31331,     0.31431,     0.31532,     0.31632,     0.31732,     0.31832,     0.31932,     0.32032,     0.32132,     0.32232,     0.32332,     0.32432,     0.32533,     0.32633,     0.32733,     0.32833,     0.32933,     0.33033,     0.33133,     0.33233,     0.33333,     0.33433,     0.33534,\n",
       "           0.33634,     0.33734,     0.33834,     0.33934,     0.34034,     0.34134,     0.34234,     0.34334,     0.34434,     0.34535,     0.34635,     0.34735,     0.34835,     0.34935,     0.35035,     0.35135,     0.35235,     0.35335,     0.35435,     0.35536,     0.35636,     0.35736,     0.35836,     0.35936,\n",
       "           0.36036,     0.36136,     0.36236,     0.36336,     0.36436,     0.36537,     0.36637,     0.36737,     0.36837,     0.36937,     0.37037,     0.37137,     0.37237,     0.37337,     0.37437,     0.37538,     0.37638,     0.37738,     0.37838,     0.37938,     0.38038,     0.38138,     0.38238,     0.38338,\n",
       "           0.38438,     0.38539,     0.38639,     0.38739,     0.38839,     0.38939,     0.39039,     0.39139,     0.39239,     0.39339,     0.39439,      0.3954,      0.3964,      0.3974,      0.3984,      0.3994,      0.4004,      0.4014,      0.4024,      0.4034,      0.4044,     0.40541,     0.40641,     0.40741,\n",
       "           0.40841,     0.40941,     0.41041,     0.41141,     0.41241,     0.41341,     0.41441,     0.41542,     0.41642,     0.41742,     0.41842,     0.41942,     0.42042,     0.42142,     0.42242,     0.42342,     0.42442,     0.42543,     0.42643,     0.42743,     0.42843,     0.42943,     0.43043,     0.43143,\n",
       "           0.43243,     0.43343,     0.43443,     0.43544,     0.43644,     0.43744,     0.43844,     0.43944,     0.44044,     0.44144,     0.44244,     0.44344,     0.44444,     0.44545,     0.44645,     0.44745,     0.44845,     0.44945,     0.45045,     0.45145,     0.45245,     0.45345,     0.45445,     0.45546,\n",
       "           0.45646,     0.45746,     0.45846,     0.45946,     0.46046,     0.46146,     0.46246,     0.46346,     0.46446,     0.46547,     0.46647,     0.46747,     0.46847,     0.46947,     0.47047,     0.47147,     0.47247,     0.47347,     0.47447,     0.47548,     0.47648,     0.47748,     0.47848,     0.47948,\n",
       "           0.48048,     0.48148,     0.48248,     0.48348,     0.48448,     0.48549,     0.48649,     0.48749,     0.48849,     0.48949,     0.49049,     0.49149,     0.49249,     0.49349,     0.49449,      0.4955,      0.4965,      0.4975,      0.4985,      0.4995,      0.5005,      0.5015,      0.5025,      0.5035,\n",
       "            0.5045,     0.50551,     0.50651,     0.50751,     0.50851,     0.50951,     0.51051,     0.51151,     0.51251,     0.51351,     0.51451,     0.51552,     0.51652,     0.51752,     0.51852,     0.51952,     0.52052,     0.52152,     0.52252,     0.52352,     0.52452,     0.52553,     0.52653,     0.52753,\n",
       "           0.52853,     0.52953,     0.53053,     0.53153,     0.53253,     0.53353,     0.53453,     0.53554,     0.53654,     0.53754,     0.53854,     0.53954,     0.54054,     0.54154,     0.54254,     0.54354,     0.54454,     0.54555,     0.54655,     0.54755,     0.54855,     0.54955,     0.55055,     0.55155,\n",
       "           0.55255,     0.55355,     0.55455,     0.55556,     0.55656,     0.55756,     0.55856,     0.55956,     0.56056,     0.56156,     0.56256,     0.56356,     0.56456,     0.56557,     0.56657,     0.56757,     0.56857,     0.56957,     0.57057,     0.57157,     0.57257,     0.57357,     0.57457,     0.57558,\n",
       "           0.57658,     0.57758,     0.57858,     0.57958,     0.58058,     0.58158,     0.58258,     0.58358,     0.58458,     0.58559,     0.58659,     0.58759,     0.58859,     0.58959,     0.59059,     0.59159,     0.59259,     0.59359,     0.59459,      0.5956,      0.5966,      0.5976,      0.5986,      0.5996,\n",
       "            0.6006,      0.6016,      0.6026,      0.6036,      0.6046,     0.60561,     0.60661,     0.60761,     0.60861,     0.60961,     0.61061,     0.61161,     0.61261,     0.61361,     0.61461,     0.61562,     0.61662,     0.61762,     0.61862,     0.61962,     0.62062,     0.62162,     0.62262,     0.62362,\n",
       "           0.62462,     0.62563,     0.62663,     0.62763,     0.62863,     0.62963,     0.63063,     0.63163,     0.63263,     0.63363,     0.63463,     0.63564,     0.63664,     0.63764,     0.63864,     0.63964,     0.64064,     0.64164,     0.64264,     0.64364,     0.64464,     0.64565,     0.64665,     0.64765,\n",
       "           0.64865,     0.64965,     0.65065,     0.65165,     0.65265,     0.65365,     0.65465,     0.65566,     0.65666,     0.65766,     0.65866,     0.65966,     0.66066,     0.66166,     0.66266,     0.66366,     0.66466,     0.66567,     0.66667,     0.66767,     0.66867,     0.66967,     0.67067,     0.67167,\n",
       "           0.67267,     0.67367,     0.67467,     0.67568,     0.67668,     0.67768,     0.67868,     0.67968,     0.68068,     0.68168,     0.68268,     0.68368,     0.68468,     0.68569,     0.68669,     0.68769,     0.68869,     0.68969,     0.69069,     0.69169,     0.69269,     0.69369,     0.69469,      0.6957,\n",
       "            0.6967,      0.6977,      0.6987,      0.6997,      0.7007,      0.7017,      0.7027,      0.7037,      0.7047,     0.70571,     0.70671,     0.70771,     0.70871,     0.70971,     0.71071,     0.71171,     0.71271,     0.71371,     0.71471,     0.71572,     0.71672,     0.71772,     0.71872,     0.71972,\n",
       "           0.72072,     0.72172,     0.72272,     0.72372,     0.72472,     0.72573,     0.72673,     0.72773,     0.72873,     0.72973,     0.73073,     0.73173,     0.73273,     0.73373,     0.73473,     0.73574,     0.73674,     0.73774,     0.73874,     0.73974,     0.74074,     0.74174,     0.74274,     0.74374,\n",
       "           0.74474,     0.74575,     0.74675,     0.74775,     0.74875,     0.74975,     0.75075,     0.75175,     0.75275,     0.75375,     0.75475,     0.75576,     0.75676,     0.75776,     0.75876,     0.75976,     0.76076,     0.76176,     0.76276,     0.76376,     0.76476,     0.76577,     0.76677,     0.76777,\n",
       "           0.76877,     0.76977,     0.77077,     0.77177,     0.77277,     0.77377,     0.77477,     0.77578,     0.77678,     0.77778,     0.77878,     0.77978,     0.78078,     0.78178,     0.78278,     0.78378,     0.78478,     0.78579,     0.78679,     0.78779,     0.78879,     0.78979,     0.79079,     0.79179,\n",
       "           0.79279,     0.79379,     0.79479,      0.7958,      0.7968,      0.7978,      0.7988,      0.7998,      0.8008,      0.8018,      0.8028,      0.8038,      0.8048,     0.80581,     0.80681,     0.80781,     0.80881,     0.80981,     0.81081,     0.81181,     0.81281,     0.81381,     0.81481,     0.81582,\n",
       "           0.81682,     0.81782,     0.81882,     0.81982,     0.82082,     0.82182,     0.82282,     0.82382,     0.82482,     0.82583,     0.82683,     0.82783,     0.82883,     0.82983,     0.83083,     0.83183,     0.83283,     0.83383,     0.83483,     0.83584,     0.83684,     0.83784,     0.83884,     0.83984,\n",
       "           0.84084,     0.84184,     0.84284,     0.84384,     0.84484,     0.84585,     0.84685,     0.84785,     0.84885,     0.84985,     0.85085,     0.85185,     0.85285,     0.85385,     0.85485,     0.85586,     0.85686,     0.85786,     0.85886,     0.85986,     0.86086,     0.86186,     0.86286,     0.86386,\n",
       "           0.86486,     0.86587,     0.86687,     0.86787,     0.86887,     0.86987,     0.87087,     0.87187,     0.87287,     0.87387,     0.87487,     0.87588,     0.87688,     0.87788,     0.87888,     0.87988,     0.88088,     0.88188,     0.88288,     0.88388,     0.88488,     0.88589,     0.88689,     0.88789,\n",
       "           0.88889,     0.88989,     0.89089,     0.89189,     0.89289,     0.89389,     0.89489,      0.8959,      0.8969,      0.8979,      0.8989,      0.8999,      0.9009,      0.9019,      0.9029,      0.9039,      0.9049,     0.90591,     0.90691,     0.90791,     0.90891,     0.90991,     0.91091,     0.91191,\n",
       "           0.91291,     0.91391,     0.91491,     0.91592,     0.91692,     0.91792,     0.91892,     0.91992,     0.92092,     0.92192,     0.92292,     0.92392,     0.92492,     0.92593,     0.92693,     0.92793,     0.92893,     0.92993,     0.93093,     0.93193,     0.93293,     0.93393,     0.93493,     0.93594,\n",
       "           0.93694,     0.93794,     0.93894,     0.93994,     0.94094,     0.94194,     0.94294,     0.94394,     0.94494,     0.94595,     0.94695,     0.94795,     0.94895,     0.94995,     0.95095,     0.95195,     0.95295,     0.95395,     0.95495,     0.95596,     0.95696,     0.95796,     0.95896,     0.95996,\n",
       "           0.96096,     0.96196,     0.96296,     0.96396,     0.96496,     0.96597,     0.96697,     0.96797,     0.96897,     0.96997,     0.97097,     0.97197,     0.97297,     0.97397,     0.97497,     0.97598,     0.97698,     0.97798,     0.97898,     0.97998,     0.98098,     0.98198,     0.98298,     0.98398,\n",
       "           0.98498,     0.98599,     0.98699,     0.98799,     0.98899,     0.98999,     0.99099,     0.99199,     0.99299,     0.99399,     0.99499,       0.996,       0.997,       0.998,       0.999,           1]), array([[    0.91906,     0.91906,     0.91906,     0.91645,     0.91645,     0.91645,     0.91645,     0.91645,     0.91123,     0.91123,     0.91123,     0.90601,     0.90339,     0.90339,     0.90339,     0.90339,     0.90339,     0.90339,     0.90339,     0.90339,     0.90339,     0.90257,     0.89817,\n",
       "            0.89817,     0.89817,     0.89817,     0.89817,     0.89817,     0.89556,     0.89556,     0.89326,     0.89295,     0.89034,     0.89034,     0.89034,     0.89034,     0.89034,     0.89034,     0.89034,     0.89034,     0.89034,     0.89034,     0.89034,     0.88773,     0.88512,     0.88512,\n",
       "            0.88512,     0.88512,     0.88251,     0.88251,     0.88251,     0.88251,      0.8799,      0.8799,      0.8799,      0.8799,      0.8799,      0.8799,      0.8799,      0.8799,      0.8799,      0.8799,      0.8799,      0.8799,      0.8799,      0.8799,     0.87728,     0.87728,     0.87728,\n",
       "            0.87728,     0.87728,     0.87728,     0.87728,     0.87728,     0.87728,     0.87467,     0.87467,     0.87467,     0.87467,     0.87467,     0.87206,     0.87206,     0.87206,     0.87206,     0.87206,     0.87206,     0.87206,     0.87206,     0.87206,     0.87206,     0.87206,     0.87206,\n",
       "            0.87206,     0.87206,     0.87206,     0.87206,     0.86945,     0.86945,     0.86945,     0.86945,     0.86945,     0.86795,     0.86423,     0.86423,     0.86423,     0.86423,     0.86423,     0.86423,     0.86423,     0.86423,     0.86423,     0.86423,     0.86423,     0.86162,     0.85989,\n",
       "            0.85901,     0.85901,     0.85901,     0.85901,     0.85901,     0.85901,     0.85901,     0.85901,     0.85901,     0.85901,     0.85901,     0.85901,     0.85901,     0.85901,     0.85901,     0.85901,     0.85901,     0.85901,     0.85901,     0.85901,     0.85901,     0.85901,     0.85901,\n",
       "            0.85901,     0.85901,     0.85901,     0.85901,     0.85901,     0.85652,      0.8564,      0.8564,      0.8564,      0.8564,      0.8564,      0.8564,      0.8564,      0.8564,      0.8564,      0.8564,      0.8564,      0.8564,      0.8564,     0.85631,     0.85466,     0.85379,     0.85379,\n",
       "            0.85379,     0.85379,     0.85379,     0.85379,     0.85379,     0.85379,     0.85117,     0.84896,     0.84595,     0.84595,     0.84595,     0.84595,     0.84595,     0.84595,     0.84595,     0.84595,     0.84595,     0.84595,     0.84595,     0.84595,     0.84595,     0.84595,     0.84595,\n",
       "            0.84595,     0.84595,     0.84595,     0.84595,     0.84595,     0.84334,     0.84334,     0.84334,     0.84334,     0.84334,     0.84334,     0.84334,     0.84334,     0.84334,     0.84334,     0.84334,     0.84334,     0.84334,     0.84334,     0.84334,     0.84334,     0.84334,     0.84106,\n",
       "            0.84073,     0.84073,     0.84073,     0.84073,     0.84073,     0.84073,     0.84073,     0.83812,     0.83812,     0.83812,     0.83812,     0.83551,     0.83551,     0.83551,     0.83551,     0.83551,     0.83551,     0.83261,     0.83136,     0.83029,     0.83029,     0.83029,     0.83029,\n",
       "            0.83029,     0.83029,     0.83029,     0.83029,     0.83029,     0.83029,     0.83029,     0.83029,     0.83029,     0.83029,     0.83029,     0.83029,     0.83022,     0.82903,     0.82784,     0.82768,     0.82768,     0.82768,     0.82768,     0.82409,     0.81984,     0.81865,     0.81746,\n",
       "            0.81723,     0.81723,     0.81462,     0.81462,     0.81462,     0.81216,     0.81201,     0.81201,     0.81201,     0.81201,     0.81086,     0.80679,     0.80679,     0.80679,     0.80679,     0.80679,     0.80679,     0.80635,     0.80546,     0.80456,     0.80418,     0.80206,     0.79793,\n",
       "            0.79674,     0.79456,     0.79112,     0.78851,     0.78851,     0.78851,     0.78851,     0.78851,     0.78693,     0.78517,     0.78398,     0.78216,     0.78038,     0.77971,     0.77904,     0.77837,     0.77807,     0.77807,     0.77807,     0.77807,     0.77807,     0.77807,     0.77807,\n",
       "            0.77807,     0.77807,     0.77807,     0.77807,     0.77756,     0.77693,      0.7763,     0.77567,     0.77546,     0.77285,     0.77023,     0.77023,     0.77023,     0.76762,     0.76762,     0.76762,     0.76762,     0.76762,     0.76525,     0.76501,     0.76355,     0.76202,     0.76049,\n",
       "            0.75979,     0.75979,     0.75979,     0.75979,     0.75873,     0.75718,     0.75457,     0.75457,     0.75457,     0.75457,     0.75457,     0.75305,     0.74935,     0.74935,     0.74935,     0.74935,     0.74935,     0.74935,     0.74935,     0.74935,     0.74935,     0.74935,      0.7493,\n",
       "            0.74881,     0.74832,     0.74784,     0.74735,     0.74686,     0.74413,     0.74413,     0.74413,     0.74413,     0.74413,     0.74413,     0.74413,     0.74234,     0.74151,     0.74151,     0.74151,     0.74151,     0.74151,     0.74151,     0.74151,     0.74151,     0.74151,     0.74151,\n",
       "            0.74151,     0.74151,     0.74151,     0.74151,     0.74151,     0.74102,     0.73949,      0.7389,      0.7389,      0.7389,      0.7389,      0.7389,      0.7389,      0.7389,      0.7389,      0.7389,      0.7389,      0.7389,      0.7389,      0.7389,      0.7389,      0.7389,      0.7389,\n",
       "            0.73823,     0.73756,     0.73689,     0.73629,     0.73629,     0.73629,     0.73629,     0.73368,     0.73322,     0.73225,     0.73127,     0.72846,     0.72846,      0.7236,     0.72093,     0.72063,     0.72063,     0.72063,     0.72063,     0.72063,     0.72063,     0.72063,     0.72044,\n",
       "            0.71988,     0.71932,     0.71875,     0.71819,     0.71802,     0.71802,     0.71779,     0.71748,     0.71718,     0.71687,     0.71657,     0.71626,     0.71595,     0.71565,     0.71529,     0.71476,     0.71422,     0.71369,     0.71315,     0.71279,     0.71279,     0.71145,     0.70932,\n",
       "            0.70798,     0.70757,     0.70757,     0.70757,     0.70757,     0.70757,     0.70757,     0.70757,     0.70757,     0.70757,     0.70757,     0.70757,     0.70757,     0.70757,     0.70757,     0.70757,     0.70757,     0.70757,     0.70757,     0.70757,     0.70734,     0.70681,     0.70627,\n",
       "            0.70574,      0.7052,     0.70349,     0.70158,     0.70025,     0.69941,     0.69887,     0.69834,      0.6978,     0.69727,     0.69385,     0.69296,     0.69207,     0.69159,     0.69121,     0.69083,     0.69045,     0.69006,     0.68968,      0.6893,     0.68928,     0.68794,     0.68652,\n",
       "            0.68396,     0.68262,     0.67885,     0.67885,     0.67885,     0.67885,     0.67885,     0.67885,     0.67885,     0.67804,     0.67624,     0.67608,     0.67564,     0.67519,     0.67474,      0.6743,     0.67385,     0.67296,     0.67162,     0.66955,     0.66841,     0.66841,     0.66674,\n",
       "            0.66545,     0.66492,     0.66438,     0.66384,     0.66331,     0.66284,      0.6624,     0.66195,      0.6615,     0.66106,     0.66061,     0.66057,     0.65796,     0.65796,     0.65796,     0.65796,      0.6578,     0.65512,     0.65268,     0.65215,     0.65161,     0.65108,     0.65054,\n",
       "            0.64951,     0.64468,     0.64379,      0.6429,     0.64141,     0.63921,     0.63787,       0.636,     0.63389,     0.63255,     0.63058,     0.62924,     0.62924,     0.62924,     0.62924,     0.62764,     0.62663,     0.62663,     0.62663,      0.6257,     0.62436,     0.62302,     0.62169,\n",
       "            0.62141,     0.62031,     0.61898,     0.61648,      0.6146,     0.61039,     0.60905,     0.60793,     0.60704,     0.60615,     0.60574,     0.60574,     0.60414,     0.59885,     0.59096,     0.59008,     0.59008,     0.58815,     0.58647,     0.58513,     0.58486,     0.58431,     0.58364,\n",
       "            0.58297,      0.5823,     0.58225,     0.58225,     0.58225,     0.58119,     0.58012,     0.57963,     0.57963,     0.57963,      0.5788,     0.57746,     0.57666,     0.57613,     0.57559,     0.57506,     0.57452,     0.57229,     0.57118,     0.57041,     0.56965,     0.56811,     0.56601,\n",
       "            0.56467,     0.56269,     0.56001,     0.55734,     0.55205,     0.54937,      0.5467,     0.53963,      0.5383,     0.53475,     0.52946,     0.52679,     0.52411,     0.52194,     0.52105,     0.52016,     0.51697,     0.51697,     0.51697,     0.51452,     0.50923,     0.50567,     0.50477,\n",
       "             0.5012,     0.49591,     0.49338,     0.49231,     0.49124,     0.48912,     0.48384,     0.48303,     0.48303,     0.48103,     0.47835,     0.46915,     0.46125,     0.45953,     0.45953,     0.45953,     0.45953,     0.45953,     0.45953,     0.45949,      0.4542,     0.44891,     0.44339,\n",
       "            0.43288,     0.43199,      0.4311,     0.42378,     0.41912,     0.41712,     0.41445,     0.40655,     0.40154,     0.39975,     0.39722,     0.39426,     0.38925,     0.38135,     0.37691,     0.37208,     0.36941,     0.36815,     0.36536,     0.35497,     0.35363,      0.3444,     0.34262,\n",
       "            0.33852,     0.33718,     0.33291,     0.31819,     0.31685,     0.31276,     0.31098,     0.30435,     0.30301,     0.28822,     0.27096,     0.26963,     0.26546,     0.26107,     0.25974,     0.25837,     0.25658,     0.25246,     0.25112,     0.24427,     0.24257,     0.24123,     0.23979,\n",
       "              0.238,     0.22873,     0.22739,     0.22047,     0.21607,     0.21429,      0.2129,     0.21156,     0.20458,     0.18974,     0.18275,     0.18199,     0.18123,     0.18046,     0.17647,     0.16692,     0.16558,     0.16432,     0.16343,     0.16254,     0.15892,     0.15758,      0.1561,\n",
       "            0.15432,     0.15254,     0.14292,     0.14114,     0.13976,     0.13842,     0.13404,     0.13226,     0.12786,     0.12608,     0.12455,     0.12321,     0.11954,     0.11865,     0.11776,     0.11363,     0.11185,     0.11006,     0.10306,     0.10127,    0.099489,    0.098083,    0.096745,\n",
       "           0.089785,    0.088387,    0.087495,    0.086603,    0.082648,    0.080864,     0.07908,    0.075201,    0.074309,    0.073417,    0.071943,    0.070159,    0.068375,    0.066591,    0.062195,    0.060411,     0.05934,    0.058447,    0.057555,    0.055885,     0.05149,    0.049706,    0.046154,\n",
       "           0.045262,    0.044353,    0.042569,    0.041404,    0.040735,    0.040066,    0.039397,       0.038,    0.036385,    0.035492,      0.0346,    0.031204,    0.030717,    0.030231,    0.029744,    0.029257,    0.028771,    0.028284,    0.027798,    0.027311,    0.026824,    0.026338,    0.026033,\n",
       "           0.025888,    0.025743,    0.025599,    0.025454,    0.025309,    0.025165,     0.02502,    0.024875,    0.024731,    0.024586,    0.024441,    0.024297,    0.024152,    0.024007,    0.023863,    0.023718,    0.023573,    0.022637,    0.020884,    0.020686,    0.020487,    0.020289,    0.020091,\n",
       "           0.019893,    0.019694,    0.019496,    0.019298,      0.0191,    0.018901,    0.018703,    0.018505,    0.018307,    0.017627,    0.016863,    0.016098,    0.015555,      0.0153,    0.015045,     0.01479,    0.014535,    0.014281,    0.014026,    0.013771,    0.013516,    0.013261,     0.01285,\n",
       "            0.01178,    0.010709,    0.010354,    0.010235,    0.010117,   0.0099976,   0.0098786,   0.0097597,   0.0096407,   0.0095218,   0.0094028,   0.0092839,    0.009165,    0.009046,   0.0089271,   0.0088081,   0.0086892,   0.0085702,   0.0084513,   0.0083323,   0.0082134,   0.0080944,   0.0079755,\n",
       "          0.0078565,   0.0077707,   0.0076932,   0.0076156,    0.007538,   0.0074604,   0.0073829,   0.0073053,   0.0072277,   0.0071501,   0.0070726,    0.006995,   0.0069174,   0.0068399,   0.0067623,   0.0066847,   0.0066071,   0.0065296,    0.006452,   0.0063744,   0.0062968,   0.0062193,   0.0061417,\n",
       "          0.0060641,   0.0059865,    0.005909,   0.0058314,   0.0057538,   0.0056762,   0.0055987,   0.0055211,   0.0054435,   0.0053659,   0.0052884,   0.0051986,   0.0050364,   0.0048742,    0.004712,   0.0045498,   0.0043876,   0.0042254,   0.0040632,    0.003901,   0.0037388,   0.0035766,   0.0034144,\n",
       "          0.0032522,     0.00309,   0.0029278,   0.0027656,           0,           0,           0,           0,           0,           0,           0,           0,           0,           0,           0,           0,           0,           0,           0,           0,           0,           0,           0,\n",
       "                  0,           0,           0,           0,           0,           0,           0,           0,           0,           0,           0,           0,           0,           0,           0,           0,           0,           0,           0,           0,           0,           0,           0,\n",
       "                  0,           0,           0,           0,           0,           0,           0,           0,           0,           0,           0,           0,           0,           0,           0,           0,           0,           0,           0,           0,           0,           0,           0,\n",
       "                  0,           0,           0,           0,           0,           0,           0,           0,           0,           0,           0,           0,           0,           0,           0,           0,           0,           0,           0,           0,           0,           0,           0,\n",
       "                  0,           0,           0,           0,           0,           0,           0,           0,           0,           0,           0]]), 'Confidence', 'Recall']]\n",
       "fitness: np.float64(0.40233179515355755)\n",
       "keys: ['metrics/precision(B)', 'metrics/recall(B)', 'metrics/mAP50(B)', 'metrics/mAP50-95(B)']\n",
       "maps: array([    0.35676])\n",
       "names: {0: 'item'}\n",
       "plot: True\n",
       "results_dict: {'metrics/precision(B)': np.float64(0.8544572615532084), 'metrics/recall(B)': np.float64(0.7204423057109605), 'metrics/mAP50(B)': np.float64(0.8124368308102538), 'metrics/mAP50-95(B)': np.float64(0.35676456896948017), 'fitness': np.float64(0.40233179515355755)}\n",
       "save_dir: WindowsPath('runs/detect/yolov11-nano-boat-detection')\n",
       "speed: {'preprocess': 0.14073805279815488, 'inference': 3.495745133686877, 'loss': 0.00020176990254394775, 'postprocess': 0.9572252201583995}\n",
       "task: 'detect'"
      ]
     },
     "execution_count": 11,
     "metadata": {},
     "output_type": "execute_result"
    }
   ],
   "source": [
    "YAML_DATA = os.path.join(BASE_DIR, 'data', 'data.yaml')\n",
    "\n",
    "model.train(\n",
    "    data=YAML_DATA,\n",
    "    epochs=60,\n",
    "    imgsz=512,\n",
    "    device=device,\n",
    "    name='yolov11-nano-boat-detection',\n",
    "    augment=True,\n",
    "    single_cls=True\n",
    ")"
   ]
  },
  {
   "cell_type": "code",
   "execution_count": null,
   "id": "4747cb8f",
   "metadata": {},
   "outputs": [],
   "source": [
    "YAML_DATA = os.path.join(BASE_DIR, 'data', 'data.yaml')\n",
    "\n",
    "model.train(\n",
    "    data=YAML_DATA,\n",
    "    epochs=50,\n",
    "    imgsz=512,\n",
    "    device=device,\n",
    "    name='yolov11-nano-upgraded-boat-detection',\n",
    "    single_cls=True,           # solo una clase (barco)\n",
    "    patience=10,         \n",
    "    hsv_h=0.02,            # hue augmentation\n",
    "    hsv_s=0.7,             # saturation augmentation\n",
    "    hsv_v=0.5,             # value augmentation\n",
    "    flipud=0.5,           # 50% flip vertical\n",
    "    fliplr=0.5,           # 50% flip horizontal\n",
    "    translate=0.0,        \n",
    "    scale=0.5,            # 50% scale\n",
    "    shear=0.0,           # no shear\n",
    "    perspective=0.0,      # no perspective\n",
    "    rotate=180,           \n",
    "    mosaic=0.0,                # no mosaic\n",
    "    mixup=0.0,                 # no mixup\n",
    ")"
   ]
  }
 ],
 "metadata": {
  "kernelspec": {
   "display_name": "boat_detection",
   "language": "python",
   "name": "python3"
  },
  "language_info": {
   "codemirror_mode": {
    "name": "ipython",
    "version": 3
   },
   "file_extension": ".py",
   "mimetype": "text/x-python",
   "name": "python",
   "nbconvert_exporter": "python",
   "pygments_lexer": "ipython3",
   "version": "3.12.10"
  }
 },
 "nbformat": 4,
 "nbformat_minor": 5
}
