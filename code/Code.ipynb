{
 "cells": [
  {
   "cell_type": "code",
   "execution_count": 1,
   "id": "e1862075-8add-4685-8688-4dd011706a96",
   "metadata": {},
   "outputs": [],
   "source": [
    "### LIBRERÍAS\n",
    "\n",
    "import os\n",
    "import glob\n",
    "import numpy as np\n",
    "from tqdm import tqdm\n",
    "from PIL import Image\n",
    "from skimage.feature import hog\n",
    "from sklearn.model_selection import train_test_split\n",
    "from sklearn.svm import SVC\n",
    "from sklearn.metrics import classification_report, confusion_matrix\n",
    "import matplotlib.pyplot as plt\n",
    "import seaborn as sns"
   ]
  },
  {
   "cell_type": "code",
   "execution_count": 2,
   "id": "694645d1-02b8-4668-b83d-d2ba0da936bf",
   "metadata": {},
   "outputs": [],
   "source": [
    "# Paths\n",
    "\n",
    "BASE_DIR = os.path.abspath(os.path.join(os.getcwd(), '..'))\n",
    "IMG_TRAIN_DIR = os.path.join(BASE_DIR, 'data', 'output', 'train', 'images')\n",
    "IMG_TEST_DIR = os.path.join(BASE_DIR, 'data', 'output', 'test', 'images')\n",
    "LBL_TRAIN_DIR = os.path.join(BASE_DIR, 'data', 'output', 'train', 'labels')\n",
    "LBL_TEST_DIR = os.path.join(BASE_DIR, 'data', 'output', 'test', 'labels')"
   ]
  },
  {
   "cell_type": "markdown",
   "id": "2a2f35aa-0c2b-4658-89c9-369f611a815e",
   "metadata": {},
   "source": [
    "# MACHINE LEARNING (CLASIFICACIÓN)"
   ]
  },
  {
   "cell_type": "code",
   "execution_count": 3,
   "id": "acfba4b3-11e3-4961-9020-e8bb3ab28863",
   "metadata": {},
   "outputs": [],
   "source": [
    "# Función para saber si hay barco\n",
    "def has_boat(label_path):\n",
    "    return os.path.exists(label_path) and os.path.getsize(label_path) > 0\n",
    "\n",
    "# Extraer características HOG usando Pillow\n",
    "def extract_features(image_path):\n",
    "    image = Image.open(image_path).convert(\"L\")  # Convertir a escala de grises\n",
    "    image = image.resize((128, 128))  # Redimensionar\n",
    "    image_np = np.array(image)\n",
    "\n",
    "    features, _ = hog(image_np,\n",
    "                      pixels_per_cell=(8, 8),\n",
    "                      cells_per_block=(2, 2),\n",
    "                      visualize=True)\n",
    "    return features"
   ]
  },
  {
   "cell_type": "code",
   "execution_count": 4,
   "id": "d8ff9b4a-0da9-4d02-a80b-d6d3346c6f6d",
   "metadata": {},
   "outputs": [
    {
     "name": "stderr",
     "output_type": "stream",
     "text": [
      "Extrayendo características de entrenamiento: 100%|█████████████████████████████████| 3617/3617 [06:48<00:00,  8.85it/s]\n",
      "Extrayendo características de test: 100%|████████████████████████████████████████████| 453/453 [00:48<00:00,  9.31it/s]\n"
     ]
    }
   ],
   "source": [
    "# Cargar imágenes de entrenamiento\n",
    "X_train, y_train = [], []\n",
    "train_image_paths = glob.glob(os.path.join(IMG_TRAIN_DIR, '*.png'))\n",
    "\n",
    "for img_path in tqdm(train_image_paths, desc=\"Extrayendo características de entrenamiento\"):\n",
    "    filename = os.path.splitext(os.path.basename(img_path))[0] + '.txt'\n",
    "    label_path = os.path.join(LBL_TRAIN_DIR, filename)  # Ruta de etiquetas de entrenamiento\n",
    "\n",
    "    label = int(has_boat(label_path))\n",
    "    features = extract_features(img_path)\n",
    "\n",
    "    X_train.append(features)\n",
    "    y_train.append(label)\n",
    "\n",
    "X_train = np.array(X_train)\n",
    "y_train = np.array(y_train)\n",
    "\n",
    "# Cargar imágenes de prueba\n",
    "X_test, y_test = [], []\n",
    "test_image_paths = glob.glob(os.path.join(IMG_TEST_DIR, '*.png'))\n",
    "\n",
    "for img_path in tqdm(test_image_paths, desc=\"Extrayendo características de test\"):\n",
    "    filename = os.path.splitext(os.path.basename(img_path))[0] + '.txt'\n",
    "    label_path = os.path.join(LBL_TEST_DIR, filename)  # Ruta de etiquetas de prueba\n",
    "\n",
    "    label = int(has_boat(label_path))  # Si tienes etiquetas para test (puedes omitir esto si no las tienes)\n",
    "    features = extract_features(img_path)\n",
    "\n",
    "    X_test.append(features)\n",
    "    y_test.append(label)\n",
    "\n",
    "X_test = np.array(X_test)\n",
    "y_test = np.array(y_test)"
   ]
  },
  {
   "cell_type": "code",
   "execution_count": 5,
   "id": "6c3e5d40-d002-4376-be16-c26205028ece",
   "metadata": {},
   "outputs": [
    {
     "name": "stdout",
     "output_type": "stream",
     "text": [
      "\n",
      "Reporte de clasificación:\n",
      "              precision    recall  f1-score   support\n",
      "\n",
      "    No barco       0.58      0.57      0.57       210\n",
      "       Barco       0.63      0.64      0.64       243\n",
      "\n",
      "    accuracy                           0.61       453\n",
      "   macro avg       0.60      0.60      0.60       453\n",
      "weighted avg       0.61      0.61      0.61       453\n",
      "\n"
     ]
    }
   ],
   "source": [
    "# Modelo\n",
    "model = SVC(kernel='linear', probability=True)\n",
    "model.fit(X_train, y_train)\n",
    "\n",
    "# Evaluación en conjunto de prueba\n",
    "y_pred = model.predict(X_test)\n",
    "\n",
    "print(\"\\nReporte de clasificación:\")\n",
    "print(classification_report(y_test, y_pred, target_names=[\"No barco\", \"Barco\"]))"
   ]
  },
  {
   "cell_type": "code",
   "execution_count": 6,
   "id": "4cd0b7c6-471d-4efe-bf2f-903fe292a3ef",
   "metadata": {},
   "outputs": [
    {
     "data": {
      "image/png": "[encoded data removed]",
      "text/plain": [
       "<Figure size 640x480 with 2 Axes>"
      ]
     },
     "metadata": {},
     "output_type": "display_data"
    }
   ],
   "source": [
    "# Matriz de confusión\n",
    "cm = confusion_matrix(y_test, y_pred)\n",
    "sns.heatmap(cm, annot=True, fmt=\"d\", cmap=\"Blues\", xticklabels=[\"No barco\", \"Barco\"], yticklabels=[\"No barco\", \"Barco\"])\n",
    "plt.xlabel(\"Predicción\")\n",
    "plt.ylabel(\"Real\")\n",
    "plt.title(\"Matriz de Confusión\")\n",
    "plt.show()"
   ]
  }
 ],
 "metadata": {
  "kernelspec": {
   "display_name": "Python 3 (ipykernel)",
   "language": "python",
   "name": "python3"
  },
  "language_info": {
   "codemirror_mode": {
    "name": "ipython",
    "version": 3
   },
   "file_extension": ".py",
   "mimetype": "text/x-python",
   "name": "python",
   "nbconvert_exporter": "python",
   "pygments_lexer": "ipython3",
   "version": "3.9.21"
  }
 },
 "nbformat": 4,
 "nbformat_minor": 5
}
